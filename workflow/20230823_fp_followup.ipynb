{
 "cells": [
  {
   "cell_type": "markdown",
   "metadata": {},
   "source": [
    "# Try different strategies to reduce FPs\n",
    "\n",
    "1. Different window sizes"
   ]
  },
  {
   "cell_type": "code",
   "execution_count": 1,
   "metadata": {},
   "outputs": [],
   "source": [
    "from pathlib import Path\n",
    "import pandas as pd\n",
    "import pyranges as pr\n",
    "import numpy as np\n",
    "from joblib import Parallel, delayed\n",
    "from pysam import AlignmentFile\n",
    "from scripts.pyslavseq.sliding_window import SlidingWindow\n",
    "from scripts.pyslavseq.preprocessing import label"
   ]
  },
  {
   "cell_type": "code",
   "execution_count": 2,
   "metadata": {},
   "outputs": [],
   "source": [
    "# get bam files for feature generation\n",
    "with open(\"../resources/bad_cells.txt\", \"r\") as f:\n",
    "    bad_cells = [line.strip() for line in f.readlines()]\n",
    "\n",
    "files = []\n",
    "for f in Path(\"../results/align/CommonBrain/\").rglob(\"*.tagged.sorted.bam\"):\n",
    "    cell_id = f.stem.rstrip(\".tagged.sorted\")\n",
    "    if cell_id not in bad_cells:\n",
    "        files.append(f)"
   ]
  },
  {
   "cell_type": "code",
   "execution_count": 3,
   "metadata": {},
   "outputs": [],
   "source": [
    "# helper function to calculate features for each cell\n",
    "def get_features(bamfile: str, size: int, step: int):\n",
    "    \"Calculate features for a single cell\"\n",
    "    with AlignmentFile(bamfile, \"rb\") as bam:\n",
    "        sw = SlidingWindow(bam, min_mapq=5).make_windows(\n",
    "            size=size,\n",
    "            step=step,\n",
    "            strand_split=False,\n",
    "            merge=False,\n",
    "            features=True,\n",
    "        )\n",
    "        windows = []\n",
    "        for w in sw:\n",
    "            if w[\"n_ref_reads\"] > 0:\n",
    "                continue\n",
    "            if w[\"Chromosome\"] not in [f\"chr{i}\" for i in range(1, 23)]:\n",
    "                continue\n",
    "            windows.append(w)\n",
    "\n",
    "    windows = pd.DataFrame(windows)\n",
    "    windows[\"cell_id\"] = Path(bamfile).stem.rstrip(\".tagged.sorted\")\n",
    "\n",
    "    # keep autosomes\n",
    "    windows = windows.loc[windows[\"Chromosome\"].isin([f\"chr{i}\" for i in range(1, 23)])]\n",
    "\n",
    "    return windows"
   ]
  },
  {
   "cell_type": "code",
   "execution_count": 4,
   "metadata": {},
   "outputs": [],
   "source": [
    "# blacklist regions\n",
    "mhc = pd.read_csv(\n",
    "    \"https://ftp-trace.ncbi.nlm.nih.gov/ReferenceSamples/giab/release/genome-stratifications/v3.0/GRCh38/OtherDifficult/GRCh38_MHC.bed.gz\",\n",
    "    sep=\"\\t\",\n",
    "    header=None,\n",
    "    skiprows=1,\n",
    "    names=[\"Chromosome\", \"Start\", \"End\"],\n",
    ")\n",
    "kir = pd.read_csv(\n",
    "    \"https://ftp-trace.ncbi.nlm.nih.gov/ReferenceSamples/giab/release/genome-stratifications/v3.0/GRCh38/OtherDifficult/GRCh38_KIR.bed.gz\",\n",
    "    sep=\"\\t\",\n",
    "    header=None,\n",
    "    skiprows=1,\n",
    "    names=[\"Chromosome\", \"Start\", \"End\"],\n",
    ")\n",
    "trs = pd.read_csv(\n",
    "    \"https://ftp-trace.ncbi.nlm.nih.gov/ReferenceSamples/giab/release/genome-stratifications/v3.0/GRCh38/LowComplexity/GRCh38_AllTandemRepeats_201to10000bp_slop5.bed.gz\",\n",
    "    sep=\"\\t\",\n",
    "    header=None,\n",
    "    skiprows=1,\n",
    "    names=[\"Chromosome\", \"Start\", \"End\"],\n",
    ")\n",
    "segdups = pd.read_csv(\n",
    "    \"https://ftp-trace.ncbi.nlm.nih.gov/ReferenceSamples/giab/release/genome-stratifications/v3.0/GRCh38/SegmentalDuplications/GRCh38_segdups.bed.gz\",\n",
    "    sep=\"\\t\",\n",
    "    header=None,\n",
    "    skiprows=1,\n",
    "    names=[\"Chromosome\", \"Start\", \"End\"],\n",
    ")\n",
    "gaps = pd.read_csv(\n",
    "    \"https://ftp-trace.ncbi.nlm.nih.gov/ReferenceSamples/giab/release/genome-stratifications/v3.0/GRCh38/OtherDifficult/GRCh38_gaps_slop15kb.bed.gz\",\n",
    "    sep=\"\\t\",\n",
    "    header=None,\n",
    "    skiprows=1,\n",
    "    names=[\"Chromosome\", \"Start\", \"End\"],\n",
    ")\n",
    "false_dup = pd.read_csv(\n",
    "    \"https://ftp-trace.ncbi.nlm.nih.gov/ReferenceSamples/giab/release/genome-stratifications/v3.0/GRCh38/OtherDifficult/GRCh38_false_duplications_correct_copy.bed.gz\",\n",
    "    sep=\"\\t\",\n",
    "    header=None,\n",
    "    skiprows=1,\n",
    "    names=[\"Chromosome\", \"Start\", \"End\"],\n",
    ")\n",
    "blacklist = pd.concat([mhc, trs, segdups, gaps, false_dup, kir])"
   ]
  },
  {
   "cell_type": "code",
   "execution_count": 6,
   "metadata": {},
   "outputs": [],
   "source": [
    "anno = {\n",
    "    \"xtea\": pr.read_bed(\n",
    "        \"/iblm/netapp/data4/mcuoco/sz_slavseq/resources/CommonBrain_insertions.bed\"\n",
    "    ).df,\n",
    "    \"xtea_1kb_3end\": pr.read_bed(\n",
    "        \"/iblm/netapp/data4/mcuoco/sz_slavseq/resources/CommonBrain_insertions_1kb_3end.bed\"\n",
    "    ).df,\n",
    "    \"xtea_20kb\": pr.read_bed(\n",
    "        \"/iblm/netapp/data4/mcuoco/sz_slavseq/resources/CommonBrain_insertions_20kb.bed\"\n",
    "    ).df,\n",
    "}\n",
    "\n",
    "rmsk = pr.read_bed(\"/iblm/netapp/data4/mcuoco/sz_slavseq/resources/rmsk.bed\").df\n",
    "rmsk_1kb_3end = pr.read_bed(\n",
    "    \"/iblm/netapp/data4/mcuoco/sz_slavseq/resources/rmsk_1kb_3end.bed\"\n",
    ").df\n",
    "rmsk_20kb = pr.read_bed(\n",
    "    \"/iblm/netapp/data4/mcuoco/sz_slavseq/resources/rmsk_20kb.bed\"\n",
    ").df\n",
    "\n",
    "for l1 in [\"L1HS\", \"L1PA2\", \"L1PA3\", \"L1PA4\", \"L1PA5\", \"L1PA6\"]:\n",
    "    anno[l1] = rmsk.loc[rmsk[\"Name\"].str.contains(l1), :]\n",
    "    anno[l1 + \"_1kb_3end\"] = rmsk_1kb_3end.loc[\n",
    "        rmsk_1kb_3end[\"Name\"].str.contains(l1), :\n",
    "    ]\n",
    "    anno[l1 + \"_20kb\"] = rmsk_20kb.loc[rmsk_20kb[\"Name\"].str.contains(l1), :]"
   ]
  },
  {
   "cell_type": "code",
   "execution_count": 8,
   "metadata": {},
   "outputs": [
    {
     "name": "stderr",
     "output_type": "stream",
     "text": [
      "[Parallel(n_jobs=32)]: Using backend LokyBackend with 32 concurrent workers.\n"
     ]
    }
   ],
   "source": [
    "for s in [750, 1500, 3000, 6000, 12000, 24000]:\n",
    "    data = Parallel(n_jobs=32, verbose=2)(\n",
    "        delayed(get_features)(str(f), s, 250) for f in files\n",
    "    )\n",
    "    data = pd.concat(data)\n",
    "    data = label(data, blacklist, \"blacklist\")\n",
    "    data = data.loc[data[\"blacklist\"] == False]\n",
    "    data = data.drop(columns=[\"blacklist\"])\n",
    "    for id, df in anno.items():\n",
    "        data = label(data, df, id)\n",
    "\n",
    "    assert (\n",
    "        data.shape[0]\n",
    "        == data[[\"Chromosome\", \"Start\", \"End\", \"cell_id\"]].drop_duplicates().shape[0]\n",
    "    ), \"some rows have been duplicated during labeling!\"\n",
    "\n",
    "    # save to pickle\n",
    "    data.to_pickle(f\"../results/model/experiments/CommonBrain_{s}.pkl\")"
   ]
  }
 ],
 "metadata": {
  "kernelspec": {
   "display_name": "shell",
   "language": "python",
   "name": "python3"
  },
  "language_info": {
   "codemirror_mode": {
    "name": "ipython",
    "version": 3
   },
   "file_extension": ".py",
   "mimetype": "text/x-python",
   "name": "python",
   "nbconvert_exporter": "python",
   "pygments_lexer": "ipython3",
   "version": "3.10.8"
  },
  "orig_nbformat": 4
 },
 "nbformat": 4,
 "nbformat_minor": 2
}
