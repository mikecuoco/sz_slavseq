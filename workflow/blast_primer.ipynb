{
 "cells": [
  {
   "cell_type": "code",
   "execution_count": 63,
   "metadata": {},
   "outputs": [],
   "source": [
    "from subprocess import Popen, PIPE, DEVNULL\n",
    "from tempfile import NamedTemporaryFile\n",
    "from io import StringIO\n",
    "from collections import defaultdict\n",
    "from pathlib import Path\n",
    "\n",
    "import pandas as pd\n",
    "import pyranges as pr\n",
    "import pysam\n",
    "\n",
    "from tqdm import tqdm\n",
    "\n",
    "from scripts.get_labels import read_knrgl\n",
    "from myutils.rmsk import read_rmsk\n",
    "\n",
    "import seaborn as sns\n",
    "import matplotlib.pyplot as plt"
   ]
  },
  {
   "attachments": {},
   "cell_type": "markdown",
   "metadata": {},
   "source": [
    "## Blast the L1 capture sequence"
   ]
  },
  {
   "cell_type": "code",
   "execution_count": 33,
   "metadata": {},
   "outputs": [
    {
     "ename": "KeyboardInterrupt",
     "evalue": "",
     "output_type": "error",
     "traceback": [
      "\u001b[0;31m---------------------------------------------------------------------------\u001b[0m",
      "\u001b[0;31mKeyboardInterrupt\u001b[0m                         Traceback (most recent call last)",
      "Cell \u001b[0;32mIn[33], line 2\u001b[0m\n\u001b[1;32m      1\u001b[0m rmsk_file \u001b[39m=\u001b[39m \u001b[39m\"\u001b[39m\u001b[39m/iblm/netapp/data4/mcuoco/sz_slavseq/resources/hs38d1.fa.out\u001b[39m\u001b[39m\"\u001b[39m\n\u001b[0;32m----> 2\u001b[0m rmsk \u001b[39m=\u001b[39m read_rmsk(rmsk_file)\n\u001b[1;32m      4\u001b[0m rep_names \u001b[39m=\u001b[39m [\n\u001b[1;32m      5\u001b[0m         \u001b[39m\"\u001b[39m\u001b[39mL1HS_3end\u001b[39m\u001b[39m\"\u001b[39m,\n\u001b[1;32m      6\u001b[0m         \u001b[39m\"\u001b[39m\u001b[39mL1PA2_3end\u001b[39m\u001b[39m\"\u001b[39m,\n\u001b[0;32m   (...)\u001b[0m\n\u001b[1;32m     10\u001b[0m         \u001b[39m\"\u001b[39m\u001b[39mL1PA6_3end\u001b[39m\u001b[39m\"\u001b[39m,\n\u001b[1;32m     11\u001b[0m     ]\n\u001b[1;32m     13\u001b[0m rmsk \u001b[39m=\u001b[39m rmsk\u001b[39m.\u001b[39mloc[(rmsk[\u001b[39m\"\u001b[39m\u001b[39mrepName\u001b[39m\u001b[39m\"\u001b[39m]\u001b[39m.\u001b[39misin(rep_names)) \u001b[39m&\u001b[39m (rmsk[\u001b[39m\"\u001b[39m\u001b[39mrepEnd\u001b[39m\u001b[39m\"\u001b[39m] \u001b[39m>\u001b[39m \u001b[39m860\u001b[39m) \u001b[39m&\u001b[39m (rmsk[\u001b[39m\"\u001b[39m\u001b[39mrepStart\u001b[39m\u001b[39m\"\u001b[39m] \u001b[39m<\u001b[39m \u001b[39m765\u001b[39m),:]\n",
      "File \u001b[0;32m/iblm/netapp/data2/mcuoco/conda/envs/shell/lib/python3.10/site-packages/myutils/rmsk.py:57\u001b[0m, in \u001b[0;36mread_rmsk\u001b[0;34m(filename)\u001b[0m\n\u001b[1;32m     46\u001b[0m convs \u001b[39m=\u001b[39m {\n\u001b[1;32m     47\u001b[0m     \u001b[39m\"\u001b[39m\u001b[39mmilliDiv\u001b[39m\u001b[39m\"\u001b[39m: perc_conv,\n\u001b[1;32m     48\u001b[0m     \u001b[39m\"\u001b[39m\u001b[39mmilliDel\u001b[39m\u001b[39m\"\u001b[39m: perc_conv,\n\u001b[0;32m   (...)\u001b[0m\n\u001b[1;32m     53\u001b[0m     \u001b[39m\"\u001b[39m\u001b[39mrepLeft\u001b[39m\u001b[39m\"\u001b[39m: coord_conv,\n\u001b[1;32m     54\u001b[0m }\n\u001b[1;32m     56\u001b[0m \u001b[39m# read the rmsk file\u001b[39;00m\n\u001b[0;32m---> 57\u001b[0m df \u001b[39m=\u001b[39m pd\u001b[39m.\u001b[39;49mread_csv(\n\u001b[1;32m     58\u001b[0m     filename,\n\u001b[1;32m     59\u001b[0m     skiprows\u001b[39m=\u001b[39;49m\u001b[39m3\u001b[39;49m,\n\u001b[1;32m     60\u001b[0m     delim_whitespace\u001b[39m=\u001b[39;49m\u001b[39mTrue\u001b[39;49;00m,\n\u001b[1;32m     61\u001b[0m     names\u001b[39m=\u001b[39;49m[\n\u001b[1;32m     62\u001b[0m         \u001b[39m\"\u001b[39;49m\u001b[39mswScore\u001b[39;49m\u001b[39m\"\u001b[39;49m,\n\u001b[1;32m     63\u001b[0m         \u001b[39m\"\u001b[39;49m\u001b[39mmilliDiv\u001b[39;49m\u001b[39m\"\u001b[39;49m,\n\u001b[1;32m     64\u001b[0m         \u001b[39m\"\u001b[39;49m\u001b[39mmilliDel\u001b[39;49m\u001b[39m\"\u001b[39;49m,\n\u001b[1;32m     65\u001b[0m         \u001b[39m\"\u001b[39;49m\u001b[39mmilliIns\u001b[39;49m\u001b[39m\"\u001b[39;49m,\n\u001b[1;32m     66\u001b[0m         \u001b[39m\"\u001b[39;49m\u001b[39mgenoName\u001b[39;49m\u001b[39m\"\u001b[39;49m,\n\u001b[1;32m     67\u001b[0m         \u001b[39m\"\u001b[39;49m\u001b[39mgenoStart\u001b[39;49m\u001b[39m\"\u001b[39;49m,\n\u001b[1;32m     68\u001b[0m         \u001b[39m\"\u001b[39;49m\u001b[39mgenoEnd\u001b[39;49m\u001b[39m\"\u001b[39;49m,\n\u001b[1;32m     69\u001b[0m         \u001b[39m\"\u001b[39;49m\u001b[39mgenoLeft\u001b[39;49m\u001b[39m\"\u001b[39;49m,\n\u001b[1;32m     70\u001b[0m         \u001b[39m\"\u001b[39;49m\u001b[39mstrand\u001b[39;49m\u001b[39m\"\u001b[39;49m,\n\u001b[1;32m     71\u001b[0m         \u001b[39m\"\u001b[39;49m\u001b[39mrepName\u001b[39;49m\u001b[39m\"\u001b[39;49m,\n\u001b[1;32m     72\u001b[0m         \u001b[39m\"\u001b[39;49m\u001b[39mrepClassFamily\u001b[39;49m\u001b[39m\"\u001b[39;49m,\n\u001b[1;32m     73\u001b[0m         \u001b[39m\"\u001b[39;49m\u001b[39mrepStart\u001b[39;49m\u001b[39m\"\u001b[39;49m,\n\u001b[1;32m     74\u001b[0m         \u001b[39m\"\u001b[39;49m\u001b[39mrepEnd\u001b[39;49m\u001b[39m\"\u001b[39;49m,\n\u001b[1;32m     75\u001b[0m         \u001b[39m\"\u001b[39;49m\u001b[39mrepLeft\u001b[39;49m\u001b[39m\"\u001b[39;49m,\n\u001b[1;32m     76\u001b[0m         \u001b[39m\"\u001b[39;49m\u001b[39mid\u001b[39;49m\u001b[39m\"\u001b[39;49m,\n\u001b[1;32m     77\u001b[0m     ],\n\u001b[1;32m     78\u001b[0m     converters\u001b[39m=\u001b[39;49mconvs,\n\u001b[1;32m     79\u001b[0m     engine\u001b[39m=\u001b[39;49m\u001b[39m\"\u001b[39;49m\u001b[39mpython\u001b[39;49m\u001b[39m\"\u001b[39;49m,\n\u001b[1;32m     80\u001b[0m     on_bad_lines\u001b[39m=\u001b[39;49m\u001b[39mlambda\u001b[39;49;00m x: x[:\u001b[39m-\u001b[39;49m\u001b[39m1\u001b[39;49m],\n\u001b[1;32m     81\u001b[0m )\n\u001b[1;32m     83\u001b[0m \u001b[39m# split repClassFamily into repClass and repFamily on /\u001b[39;00m\n\u001b[1;32m     84\u001b[0m \u001b[39mif\u001b[39;00m \u001b[39many\u001b[39m([\u001b[39mTrue\u001b[39;00m \u001b[39mfor\u001b[39;00m x \u001b[39min\u001b[39;00m df[\u001b[39m\"\u001b[39m\u001b[39mrepClassFamily\u001b[39m\u001b[39m\"\u001b[39m]\u001b[39m.\u001b[39mvalues \u001b[39mif\u001b[39;00m \u001b[39m\"\u001b[39m\u001b[39m/\u001b[39m\u001b[39m\"\u001b[39m \u001b[39min\u001b[39;00m x]):\n",
      "File \u001b[0;32m/iblm/netapp/data2/mcuoco/conda/envs/shell/lib/python3.10/site-packages/pandas/util/_decorators.py:211\u001b[0m, in \u001b[0;36mdeprecate_kwarg.<locals>._deprecate_kwarg.<locals>.wrapper\u001b[0;34m(*args, **kwargs)\u001b[0m\n\u001b[1;32m    209\u001b[0m     \u001b[39melse\u001b[39;00m:\n\u001b[1;32m    210\u001b[0m         kwargs[new_arg_name] \u001b[39m=\u001b[39m new_arg_value\n\u001b[0;32m--> 211\u001b[0m \u001b[39mreturn\u001b[39;00m func(\u001b[39m*\u001b[39;49margs, \u001b[39m*\u001b[39;49m\u001b[39m*\u001b[39;49mkwargs)\n",
      "File \u001b[0;32m/iblm/netapp/data2/mcuoco/conda/envs/shell/lib/python3.10/site-packages/pandas/util/_decorators.py:331\u001b[0m, in \u001b[0;36mdeprecate_nonkeyword_arguments.<locals>.decorate.<locals>.wrapper\u001b[0;34m(*args, **kwargs)\u001b[0m\n\u001b[1;32m    325\u001b[0m \u001b[39mif\u001b[39;00m \u001b[39mlen\u001b[39m(args) \u001b[39m>\u001b[39m num_allow_args:\n\u001b[1;32m    326\u001b[0m     warnings\u001b[39m.\u001b[39mwarn(\n\u001b[1;32m    327\u001b[0m         msg\u001b[39m.\u001b[39mformat(arguments\u001b[39m=\u001b[39m_format_argument_list(allow_args)),\n\u001b[1;32m    328\u001b[0m         \u001b[39mFutureWarning\u001b[39;00m,\n\u001b[1;32m    329\u001b[0m         stacklevel\u001b[39m=\u001b[39mfind_stack_level(),\n\u001b[1;32m    330\u001b[0m     )\n\u001b[0;32m--> 331\u001b[0m \u001b[39mreturn\u001b[39;00m func(\u001b[39m*\u001b[39;49margs, \u001b[39m*\u001b[39;49m\u001b[39m*\u001b[39;49mkwargs)\n",
      "File \u001b[0;32m/iblm/netapp/data2/mcuoco/conda/envs/shell/lib/python3.10/site-packages/pandas/io/parsers/readers.py:950\u001b[0m, in \u001b[0;36mread_csv\u001b[0;34m(filepath_or_buffer, sep, delimiter, header, names, index_col, usecols, squeeze, prefix, mangle_dupe_cols, dtype, engine, converters, true_values, false_values, skipinitialspace, skiprows, skipfooter, nrows, na_values, keep_default_na, na_filter, verbose, skip_blank_lines, parse_dates, infer_datetime_format, keep_date_col, date_parser, dayfirst, cache_dates, iterator, chunksize, compression, thousands, decimal, lineterminator, quotechar, quoting, doublequote, escapechar, comment, encoding, encoding_errors, dialect, error_bad_lines, warn_bad_lines, on_bad_lines, delim_whitespace, low_memory, memory_map, float_precision, storage_options)\u001b[0m\n\u001b[1;32m    935\u001b[0m kwds_defaults \u001b[39m=\u001b[39m _refine_defaults_read(\n\u001b[1;32m    936\u001b[0m     dialect,\n\u001b[1;32m    937\u001b[0m     delimiter,\n\u001b[0;32m   (...)\u001b[0m\n\u001b[1;32m    946\u001b[0m     defaults\u001b[39m=\u001b[39m{\u001b[39m\"\u001b[39m\u001b[39mdelimiter\u001b[39m\u001b[39m\"\u001b[39m: \u001b[39m\"\u001b[39m\u001b[39m,\u001b[39m\u001b[39m\"\u001b[39m},\n\u001b[1;32m    947\u001b[0m )\n\u001b[1;32m    948\u001b[0m kwds\u001b[39m.\u001b[39mupdate(kwds_defaults)\n\u001b[0;32m--> 950\u001b[0m \u001b[39mreturn\u001b[39;00m _read(filepath_or_buffer, kwds)\n",
      "File \u001b[0;32m/iblm/netapp/data2/mcuoco/conda/envs/shell/lib/python3.10/site-packages/pandas/io/parsers/readers.py:611\u001b[0m, in \u001b[0;36m_read\u001b[0;34m(filepath_or_buffer, kwds)\u001b[0m\n\u001b[1;32m    608\u001b[0m     \u001b[39mreturn\u001b[39;00m parser\n\u001b[1;32m    610\u001b[0m \u001b[39mwith\u001b[39;00m parser:\n\u001b[0;32m--> 611\u001b[0m     \u001b[39mreturn\u001b[39;00m parser\u001b[39m.\u001b[39;49mread(nrows)\n",
      "File \u001b[0;32m/iblm/netapp/data2/mcuoco/conda/envs/shell/lib/python3.10/site-packages/pandas/io/parsers/readers.py:1778\u001b[0m, in \u001b[0;36mTextFileReader.read\u001b[0;34m(self, nrows)\u001b[0m\n\u001b[1;32m   1771\u001b[0m nrows \u001b[39m=\u001b[39m validate_integer(\u001b[39m\"\u001b[39m\u001b[39mnrows\u001b[39m\u001b[39m\"\u001b[39m, nrows)\n\u001b[1;32m   1772\u001b[0m \u001b[39mtry\u001b[39;00m:\n\u001b[1;32m   1773\u001b[0m     \u001b[39m# error: \"ParserBase\" has no attribute \"read\"\u001b[39;00m\n\u001b[1;32m   1774\u001b[0m     (\n\u001b[1;32m   1775\u001b[0m         index,\n\u001b[1;32m   1776\u001b[0m         columns,\n\u001b[1;32m   1777\u001b[0m         col_dict,\n\u001b[0;32m-> 1778\u001b[0m     ) \u001b[39m=\u001b[39m \u001b[39mself\u001b[39;49m\u001b[39m.\u001b[39;49m_engine\u001b[39m.\u001b[39;49mread(  \u001b[39m# type: ignore[attr-defined]\u001b[39;49;00m\n\u001b[1;32m   1779\u001b[0m         nrows\n\u001b[1;32m   1780\u001b[0m     )\n\u001b[1;32m   1781\u001b[0m \u001b[39mexcept\u001b[39;00m \u001b[39mException\u001b[39;00m:\n\u001b[1;32m   1782\u001b[0m     \u001b[39mself\u001b[39m\u001b[39m.\u001b[39mclose()\n",
      "File \u001b[0;32m/iblm/netapp/data2/mcuoco/conda/envs/shell/lib/python3.10/site-packages/pandas/io/parsers/python_parser.py:250\u001b[0m, in \u001b[0;36mPythonParser.read\u001b[0;34m(self, rows)\u001b[0m\n\u001b[1;32m    244\u001b[0m \u001b[39mdef\u001b[39;00m \u001b[39mread\u001b[39m(\n\u001b[1;32m    245\u001b[0m     \u001b[39mself\u001b[39m, rows: \u001b[39mint\u001b[39m \u001b[39m|\u001b[39m \u001b[39mNone\u001b[39;00m \u001b[39m=\u001b[39m \u001b[39mNone\u001b[39;00m\n\u001b[1;32m    246\u001b[0m ) \u001b[39m-\u001b[39m\u001b[39m>\u001b[39m \u001b[39mtuple\u001b[39m[\n\u001b[1;32m    247\u001b[0m     Index \u001b[39m|\u001b[39m \u001b[39mNone\u001b[39;00m, Sequence[Hashable] \u001b[39m|\u001b[39m MultiIndex, Mapping[Hashable, ArrayLike]\n\u001b[1;32m    248\u001b[0m ]:\n\u001b[1;32m    249\u001b[0m     \u001b[39mtry\u001b[39;00m:\n\u001b[0;32m--> 250\u001b[0m         content \u001b[39m=\u001b[39m \u001b[39mself\u001b[39;49m\u001b[39m.\u001b[39;49m_get_lines(rows)\n\u001b[1;32m    251\u001b[0m     \u001b[39mexcept\u001b[39;00m \u001b[39mStopIteration\u001b[39;00m:\n\u001b[1;32m    252\u001b[0m         \u001b[39mif\u001b[39;00m \u001b[39mself\u001b[39m\u001b[39m.\u001b[39m_first_chunk:\n",
      "File \u001b[0;32m/iblm/netapp/data2/mcuoco/conda/envs/shell/lib/python3.10/site-packages/pandas/io/parsers/python_parser.py:1123\u001b[0m, in \u001b[0;36mPythonParser._get_lines\u001b[0;34m(self, rows)\u001b[0m\n\u001b[1;32m   1120\u001b[0m rows \u001b[39m=\u001b[39m \u001b[39m0\u001b[39m\n\u001b[1;32m   1122\u001b[0m \u001b[39mwhile\u001b[39;00m \u001b[39mTrue\u001b[39;00m:\n\u001b[0;32m-> 1123\u001b[0m     new_row \u001b[39m=\u001b[39m \u001b[39mself\u001b[39;49m\u001b[39m.\u001b[39;49m_next_iter_line(row_num\u001b[39m=\u001b[39;49m\u001b[39mself\u001b[39;49m\u001b[39m.\u001b[39;49mpos \u001b[39m+\u001b[39;49m rows \u001b[39m+\u001b[39;49m \u001b[39m1\u001b[39;49m)\n\u001b[1;32m   1124\u001b[0m     rows \u001b[39m+\u001b[39m\u001b[39m=\u001b[39m \u001b[39m1\u001b[39m\n\u001b[1;32m   1126\u001b[0m     \u001b[39mif\u001b[39;00m new_row \u001b[39mis\u001b[39;00m \u001b[39mnot\u001b[39;00m \u001b[39mNone\u001b[39;00m:\n",
      "File \u001b[0;32m/iblm/netapp/data2/mcuoco/conda/envs/shell/lib/python3.10/site-packages/pandas/io/parsers/python_parser.py:786\u001b[0m, in \u001b[0;36mPythonParser._next_iter_line\u001b[0;34m(self, row_num)\u001b[0m\n\u001b[1;32m    783\u001b[0m \u001b[39mtry\u001b[39;00m:\n\u001b[1;32m    784\u001b[0m     \u001b[39m# assert for mypy, data is Iterator[str] or None, would error in next\u001b[39;00m\n\u001b[1;32m    785\u001b[0m     \u001b[39massert\u001b[39;00m \u001b[39mself\u001b[39m\u001b[39m.\u001b[39mdata \u001b[39mis\u001b[39;00m \u001b[39mnot\u001b[39;00m \u001b[39mNone\u001b[39;00m\n\u001b[0;32m--> 786\u001b[0m     line \u001b[39m=\u001b[39m \u001b[39mnext\u001b[39;49m(\u001b[39mself\u001b[39;49m\u001b[39m.\u001b[39;49mdata)\n\u001b[1;32m    787\u001b[0m     \u001b[39m# for mypy\u001b[39;00m\n\u001b[1;32m    788\u001b[0m     \u001b[39massert\u001b[39;00m \u001b[39misinstance\u001b[39m(line, \u001b[39mlist\u001b[39m)\n",
      "File \u001b[0;32m/iblm/netapp/data2/mcuoco/conda/envs/shell/lib/python3.10/site-packages/pandas/io/parsers/python_parser.py:235\u001b[0m, in \u001b[0;36mPythonParser._make_reader.<locals>._read\u001b[0;34m()\u001b[0m\n\u001b[1;32m    232\u001b[0m \u001b[39myield\u001b[39;00m pat\u001b[39m.\u001b[39msplit(line\u001b[39m.\u001b[39mstrip())\n\u001b[1;32m    234\u001b[0m \u001b[39mfor\u001b[39;00m line \u001b[39min\u001b[39;00m f:\n\u001b[0;32m--> 235\u001b[0m     \u001b[39myield\u001b[39;00m pat\u001b[39m.\u001b[39;49msplit(line\u001b[39m.\u001b[39;49mstrip())\n",
      "\u001b[0;31mKeyboardInterrupt\u001b[0m: "
     ]
    }
   ],
   "source": [
    "rmsk_file = \"/iblm/netapp/data4/mcuoco/sz_slavseq/resources/hs38d1.fa.out\"\n",
    "rmsk = read_rmsk(rmsk_file)\n",
    "\n",
    "rep_names = [\n",
    "    \"L1HS_3end\",\n",
    "    \"L1PA2_3end\",\n",
    "    \"L1PA3_3end\",\n",
    "    \"L1PA4_3end\",\n",
    "    \"L1PA5_3end\",\n",
    "    \"L1PA6_3end\",\n",
    "]\n",
    "\n",
    "rmsk = rmsk.loc[\n",
    "    (rmsk[\"repName\"].isin(rep_names))\n",
    "    & (rmsk[\"repEnd\"] > 860)\n",
    "    & (rmsk[\"repStart\"] < 765),\n",
    "    :,\n",
    "]\n",
    "rmsk = rmsk.rename(\n",
    "    columns={\n",
    "        \"genoName\": \"Chromosome\",\n",
    "        \"genoStart\": \"Start\",\n",
    "        \"genoEnd\": \"End\",\n",
    "        \"strand\": \"Strand\",\n",
    "    }\n",
    ")"
   ]
  },
  {
   "cell_type": "code",
   "execution_count": null,
   "metadata": {},
   "outputs": [],
   "source": [
    "genome = \"/iblm/netapp/data4/mcuoco/sz_slavseq/resources/hs38d1.fa\"\n",
    "L1_capture = \"/iblm/logglun02/mcuoco/workflows/sz_slavseq/resources/L1_capture.fa\""
   ]
  },
  {
   "cell_type": "code",
   "execution_count": null,
   "metadata": {},
   "outputs": [
    {
     "name": "stdout",
     "output_type": "stream",
     "text": [
      "\n",
      "\n",
      "Building a new DB, current time: 05/23/2023 19:00:49\n",
      "New DB name:   /iblm/netapp/data4/mcuoco/sz_slavseq/resources/hs38d1.fa\n",
      "New DB title:  /iblm/netapp/data4/mcuoco/sz_slavseq/resources/hs38d1.fa\n",
      "Sequence type: Nucleotide\n",
      "Deleted existing Nucleotide BLAST database named /iblm/netapp/data4/mcuoco/sz_slavseq/resources/hs38d1.fa\n",
      "Keep MBits: T\n",
      "Maximum file size: 3000000000B\n",
      "Adding sequences from FASTA; added 2580 sequences in 53.692 seconds.\n",
      "\n",
      "\n"
     ]
    },
    {
     "data": {
      "text/plain": [
       "(None, None)"
      ]
     },
     "execution_count": 4,
     "metadata": {},
     "output_type": "execute_result"
    }
   ],
   "source": [
    "# index the genome\n",
    "cmd = f\"makeblastdb -in {genome} -dbtype 'nucl' -blastdb_version 5 -parse_seqids -out {genome}\"\n",
    "Popen(cmd, shell=True).communicate()"
   ]
  },
  {
   "cell_type": "code",
   "execution_count": null,
   "metadata": {},
   "outputs": [],
   "source": [
    "# define blast function\n",
    "outfmt = \"6 qseqid sseqid pident length mismatch gapopen qstart qend sstart send evalue bitscore sstrand qcov\"\n",
    "\n",
    "\n",
    "def blast(query, db, extra, outfmt=outfmt):\n",
    "    with NamedTemporaryFile() as tmp:\n",
    "        cmd = (\n",
    "            f\"blastn -query {query} {extra} -db {db} -outfmt '{outfmt}' -out {tmp.name}\"\n",
    "        )\n",
    "        Popen(cmd, shell=True).communicate()\n",
    "        df = pd.read_csv(tmp.name, sep=\"\\t\", header=None, names=outfmt.split(\" \")[1:])\n",
    "\n",
    "    df.rename(\n",
    "        {\"sseqid\": \"Chromosome\", \"sstart\": \"Start\", \"send\": \"End\", \"sstrand\": \"Strand\"},\n",
    "        axis=1,\n",
    "        inplace=True,\n",
    "    )\n",
    "    df[\"Strand\"] = df[\"Strand\"].str.replace(\"minus\", \"-\")\n",
    "    df[\"Strand\"] = df[\"Strand\"].str.replace(\"plus\", \"+\")\n",
    "    return df\n",
    "\n",
    "\n",
    "def overlap(a, b):\n",
    "    a = pr.PyRanges(a)\n",
    "    b = pr.PyRanges(b)\n",
    "    return b.overlap(a).df"
   ]
  },
  {
   "cell_type": "code",
   "execution_count": 45,
   "metadata": {},
   "outputs": [
    {
     "name": "stdout",
     "output_type": "stream",
     "text": [
      "hits: 19933\n",
      "blast covered by rmsk: 19536 (98.01%)\n",
      "rmsk covered by blast: 19929/72636 (27.44%)\n"
     ]
    }
   ],
   "source": [
    "blast_df = blast(L1_capture, genome, f\"-task blastn -ungapped -no_greedy\")\n",
    "hits = blast_df.shape[0]\n",
    "ovl = overlap(rmsk, blast_df)\n",
    "blast_covered_by_rmsk = ovl.shape[0]\n",
    "ovl = overlap(blast_df, rmsk)\n",
    "rmsk_covered_by_blast = ovl.shape[0]\n",
    "\n",
    "print(f\"hits: {hits}\")\n",
    "print(\n",
    "    f\"blast covered by rmsk: {blast_covered_by_rmsk} ({blast_covered_by_rmsk/hits:2.2%})\"\n",
    ")\n",
    "print(\n",
    "    f\"rmsk covered by blast: {rmsk_covered_by_blast}/{rmsk.shape[0]} ({rmsk_covered_by_blast/rmsk.shape[0]:2.2%})\"\n",
    ")"
   ]
  }
 ],
 "metadata": {
  "kernelspec": {
   "display_name": "shell",
   "language": "python",
   "name": "python3"
  },
  "language_info": {
   "codemirror_mode": {
    "name": "ipython",
    "version": 3
   },
   "file_extension": ".py",
   "mimetype": "text/x-python",
   "name": "python",
   "nbconvert_exporter": "python",
   "pygments_lexer": "ipython3",
   "version": "3.10.8"
  },
  "orig_nbformat": 4
 },
 "nbformat": 4,
 "nbformat_minor": 2
}
