{
 "cells": [
  {
   "cell_type": "code",
   "execution_count": 2,
   "metadata": {
    "execution": {
     "iopub.execute_input": "2024-07-15T23:17:13.824867Z",
     "iopub.status.busy": "2024-07-15T23:17:13.824336Z",
     "iopub.status.idle": "2024-07-15T23:17:27.393208Z",
     "shell.execute_reply": "2024-07-15T23:17:27.391788Z"
    }
   },
   "outputs": [],
   "source": [
    "from pathlib import Path\n",
    "import warnings, math\n",
    "\n",
    "warnings.filterwarnings(\"ignore\", category=FutureWarning)\n",
    "\n",
    "from tqdm.notebook import tqdm\n",
    "import pandas as pd\n",
    "\n",
    "tqdm.pandas()\n",
    "\n",
    "import matplotlib.pyplot as plt\n",
    "import seaborn as sns\n",
    "import pyranges as pr\n",
    "from pyslavseq.preprocessing import collate_labels, df2tabix\n",
    "from pyslavseq.plotting import datashader_plot\n",
    "\n",
    "HUE_ORDER = [\"KNRGL\", \"OTHER\", \"KRGL\"]"
   ]
  },
  {
   "cell_type": "code",
   "execution_count": 3,
   "metadata": {
    "execution": {
     "iopub.execute_input": "2024-07-15T23:17:27.398928Z",
     "iopub.status.busy": "2024-07-15T23:17:27.397712Z",
     "iopub.status.idle": "2024-07-16T00:15:50.993510Z",
     "shell.execute_reply": "2024-07-16T00:15:50.992123Z"
    }
   },
   "outputs": [
    {
     "data": {
      "application/vnd.jupyter.widget-view+json": {
       "model_id": "f2b58c64086d4aa0801795685a1fd1c5",
       "version_major": 2,
       "version_minor": 0
      },
      "text/plain": [
       "  0%|          | 0/4176 [00:00<?, ?it/s]"
      ]
     },
     "metadata": {},
     "output_type": "display_data"
    }
   ],
   "source": [
    "# meta data\n",
    "meta = pd.read_csv(snakemake.config[\"samples\"], sep=\"\\t\", dtype={\"sample_id\": str, \"tissue_id\": str, \"donor_id\": str})  # type: ignore\n",
    "donors = pd.read_csv(snakemake.config[\"donors\"], sep=\"\\t\", dtype={\"donor_id\": str})  # type: ignore\n",
    "meta = meta.merge(donors, on=[\"donor_id\"]).rename(columns={\"sample_id\": \"cell_id\"})\n",
    "\n",
    "# bulk peaks\n",
    "bulk = pd.read_csv(snakemake.input.bulk, sep=\"\\t\")  # type: ignore\n",
    "bulk.columns = bulk.columns.str.replace(\"#\", \"\")\n",
    "bulk[\"donor_id\"] = bulk[\"donor_id\"].astype(str)\n",
    "\n",
    "# single-cell peaks\n",
    "data = []\n",
    "min_reads, max_mapq = 10, 60\n",
    "for f in tqdm(snakemake.input.cells):  # type: ignore\n",
    "    df = pd.read_csv(f, sep=\"\\t\").query(\n",
    "        \"max_mapq >= @max_mapq and n_reads >= @min_reads\"\n",
    "    )\n",
    "    df.columns = df.columns.str.replace(\"#\", \"\")\n",
    "    cell_id = Path(f).name.rstrip(\".labelled.bed.gz\")\n",
    "    df[\"cell_id\"] = cell_id\n",
    "    df[\"tissue\"] = \"DLPFC\" if \"usd\" in cell_id.lower() else \"HIP\"\n",
    "    data.append(df)\n",
    "\n",
    "data = pd.concat(data).reset_index(drop=True).merge(meta, on=\"cell_id\")\n",
    "ndonors = data[\"donor_id\"].nunique()\n",
    "ncells = data[\"cell_id\"].nunique()\n",
    "print(f\"Loaded {len(data)} windows from {ncells} cells from {ndonors} donors.\")\n",
    "\n",
    "data.drop(columns=[\"bulk\", \"bulk_id\"], inplace=True)\n",
    "data = pr.PyRanges(data).count_overlaps(pr.PyRanges(bulk), overlap_col=\"bulk\").df"
   ]
  },
  {
   "cell_type": "code",
   "execution_count": null,
   "metadata": {},
   "outputs": [],
   "source": [
    "g, (ax1, ax2) = plt.subplots(1, 2, figsize=(16, 8))\n",
    "\n",
    "# peaks per cell\n",
    "df = (\n",
    "    data.groupby([\"cell_id\", \"libd_id\", \"donor_id\", \"race\"])\n",
    "    .size()\n",
    "    .reset_index(name=\"n_windows\")\n",
    ")\n",
    "df.sort_values(\"race\", ascending=False, inplace=True)\n",
    "sns.boxplot(df, x=\"n_windows\", y=\"libd_id\", hue=\"race\", ax=ax1)\n",
    "ax1.set_xlabel(\"# single-cell windows\")\n",
    "ax1.set_ylabel(None)\n",
    "\n",
    "\n",
    "colors = sns.color_palette(\"tab10\", n_colors=2)\n",
    "opts = {\n",
    "    \"hue_order\": [\"CAUC\", \"AA\"],\n",
    "    \"hue\": \"race\",\n",
    "    \"palette\": {\"CAUC\": colors[0], \"AA\": colors[1]},\n",
    "}\n",
    "\n",
    "for d, df in data.groupby(\"donor_id\"):\n",
    "    sns.ecdfplot(df, x=\"bulk\", stat=\"count\", ax=ax2, **opts)\n",
    "ax2.set_xlabel(\"Number of bulk peak overlaps\")\n",
    "ax2.set_ylabel(\"# single-cell windows\")\n",
    "ax2.set_title(\"Single-cell windows vs bulk peaks overlaps\")"
   ]
  },
  {
   "cell_type": "code",
   "execution_count": null,
   "metadata": {},
   "outputs": [],
   "source": [
    "data[\"label\"] = data.progress_apply(collate_labels, axis=1)\n",
    "\n",
    "\n",
    "def collate_labels_with_bulk(row):\n",
    "    assert hasattr(row, \"label\"), \"No label column found.\"\n",
    "\n",
    "    if row.bulk and row.label == \"KRGL\":\n",
    "        return \"KRGL\"\n",
    "    elif row.bulk and row.label == \"KNRGL\":\n",
    "        return \"KNRGL\"\n",
    "    else:\n",
    "        return \"OTHER\"\n",
    "\n",
    "\n",
    "data[\"label\"] = data.progress_apply(collate_labels_with_bulk, axis=1)\n",
    "\n",
    "data = data.sort_values([\"Chromosome\", \"Start\"]).reset_index(drop=True)\n",
    "data = data.query(\"label != 'KRGL'\").reset_index(drop=True)"
   ]
  },
  {
   "cell_type": "code",
   "execution_count": null,
   "metadata": {},
   "outputs": [],
   "source": [
    "def germline_distance(donor_df: pd.DataFrame) -> pd.DataFrame:\n",
    "    assert len(donor_df[\"donor_id\"].unique()) == 1, \"Expected only one donor\"\n",
    "    d = donor_df[\"donor_id\"].unique()[0]\n",
    "    gdf = pr.PyRanges(bulk.query(\"donor_id == @d\")).merge()\n",
    "    donor_df = pr.PyRanges(donor_df).df\n",
    "    donor_df[\"germline_distance\"] = (\n",
    "        pr.PyRanges(donor_df).nearest(gdf, overlap=False).df[\"Distance\"].abs()\n",
    "    )\n",
    "    return donor_df\n",
    "\n",
    "\n",
    "data = (\n",
    "    data.groupby([\"donor_id\"])\n",
    "    .progress_apply(germline_distance)\n",
    "    .reset_index(drop=True)\n",
    "    .sort_values([\"Chromosome\", \"Start\"])\n",
    ")"
   ]
  },
  {
   "cell_type": "code",
   "execution_count": null,
   "metadata": {},
   "outputs": [],
   "source": [
    "sns.ecdfplot(data, x=\"germline_distance\", stat=\"count\", hue=\"label\", log_scale=True)"
   ]
  },
  {
   "cell_type": "code",
   "execution_count": null,
   "metadata": {},
   "outputs": [],
   "source": [
    "g, (ax1, ax2) = plt.subplots(1, 2, figsize=(16, 8))\n",
    "\n",
    "# peaks per cell\n",
    "df = (\n",
    "    data.groupby([\"cell_id\", \"libd_id\", \"donor_id\", \"race\"])\n",
    "    .size()\n",
    "    .reset_index(name=\"n_windows\")\n",
    ")\n",
    "df.sort_values(\"race\", ascending=False, inplace=True)\n",
    "sns.boxplot(df, x=\"n_windows\", y=\"libd_id\", hue=\"race\", ax=ax1)\n",
    "ax1.set_xlabel(\"# single-cell windows\")\n",
    "ax1.set_ylabel(None)\n",
    "\n",
    "\n",
    "colors = sns.color_palette(\"tab10\", n_colors=2)\n",
    "opts = {\n",
    "    \"hue_order\": [\"CAUC\", \"AA\"],\n",
    "    \"hue\": \"race\",\n",
    "    \"palette\": {\"CAUC\": colors[0], \"AA\": colors[1]},\n",
    "}\n",
    "\n",
    "for d, df in data.groupby(\"donor_id\"):\n",
    "    sns.ecdfplot(df, x=\"bulk\", stat=\"count\", ax=ax2, **opts)\n",
    "ax2.set_xlabel(\"Number of bulk peak overlaps\")\n",
    "ax2.set_ylabel(\"# single-cell windows\")\n",
    "ax2.set_title(\"Single-cell windows vs bulk peaks overlaps\")"
   ]
  },
  {
   "cell_type": "code",
   "execution_count": null,
   "metadata": {},
   "outputs": [],
   "source": [
    "plots = [\n",
    "    (\"germline_distance\", \"n_reads\", (True, True)),\n",
    "    (\"germline_distance\", \"three_end_clippedA_mean\", (True, False)),\n",
    "    (\"germline_distance\", \"three_end_clippedA_q0\", (True, False)),\n",
    "    (\"germline_distance\", \"three_end_clippedA_q1\", (True, False)),\n",
    "    (\"germline_distance\", \"alignment_score_mean\", (True, False)),\n",
    "    (\"germline_distance\", \"alignment_score_normed_mean\", (True, False)),\n",
    "    (\"germline_distance\", \"n_proper_pairs\", (True, False)),\n",
    "    (\"germline_distance\", \"n_unique_5end\", (True, False)),\n",
    "    (\"germline_distance\", \"n_unique_clipped_3end\", (True, False)),\n",
    "    (\"germline_distance\", \"5end_gini\", (True, False)),\n",
    "]\n",
    "\n",
    "for i, (x, y, s) in enumerate(plots):\n",
    "    datashader_plot(data, x, y, s, plot_width=100, plot_height=100)"
   ]
  },
  {
   "cell_type": "code",
   "execution_count": 4,
   "metadata": {
    "execution": {
     "iopub.execute_input": "2024-07-16T00:15:50.999129Z",
     "iopub.status.busy": "2024-07-16T00:15:50.998860Z",
     "iopub.status.idle": "2024-07-16T00:51:02.629205Z",
     "shell.execute_reply": "2024-07-16T00:51:02.628389Z"
    }
   },
   "outputs": [
    {
     "name": "stdout",
     "output_type": "stream",
     "text": [
      "Renaming Chromosome to #Chromosome\n"
     ]
    },
    {
     "data": {
      "text/plain": [
       "'/iblm/netapp/data3/mcuoco/sz_slavseq/results/chm13v2.0.XY/filtered/windows/data.bed.gz'"
      ]
     },
     "execution_count": 4,
     "metadata": {},
     "output_type": "execute_result"
    }
   ],
   "source": [
    "data.sort_values([\"Chromosome\", \"Start\"], inplace=True)\n",
    "df2tabix(data, snakemake.output[0])"
   ]
  }
 ],
 "metadata": {
  "kernelspec": {
   "display_name": "Python 3",
   "language": "python",
   "name": "python3"
  },
  "language_info": {
   "codemirror_mode": {
    "name": "ipython",
    "version": 3
   },
   "file_extension": ".py",
   "mimetype": "text/x-python",
   "name": "python",
   "nbconvert_exporter": "python",
   "pygments_lexer": "ipython3",
   "version": "3.11.9"
  },
  "widgets": {
   "application/vnd.jupyter.widget-state+json": {
    "state": {
     "158cc195c9674cf08a518ca30a03489c": {
      "model_module": "@jupyter-widgets/controls",
      "model_module_version": "2.0.0",
      "model_name": "HBoxModel",
      "state": {
       "_dom_classes": [],
       "_model_module": "@jupyter-widgets/controls",
       "_model_module_version": "2.0.0",
       "_model_name": "HBoxModel",
       "_view_count": null,
       "_view_module": "@jupyter-widgets/controls",
       "_view_module_version": "2.0.0",
       "_view_name": "HBoxView",
       "box_style": "",
       "children": [
        "IPY_MODEL_2da90c9bbfaf447db411744cc3d54fde",
        "IPY_MODEL_a55fcfca6d5a412ab51d2367b3afcb7b",
        "IPY_MODEL_331f22bfe382443594c4771fbf94aa88"
       ],
       "layout": "IPY_MODEL_5ca8c0530a4646e68a9d7b3f055c351f",
       "tabbable": null,
       "tooltip": null
      }
     },
     "1d63505ae1c2453390743c251ed09136": {
      "model_module": "@jupyter-widgets/base",
      "model_module_version": "2.0.0",
      "model_name": "LayoutModel",
      "state": {
       "_model_module": "@jupyter-widgets/base",
       "_model_module_version": "2.0.0",
       "_model_name": "LayoutModel",
       "_view_count": null,
       "_view_module": "@jupyter-widgets/base",
       "_view_module_version": "2.0.0",
       "_view_name": "LayoutView",
       "align_content": null,
       "align_items": null,
       "align_self": null,
       "border_bottom": null,
       "border_left": null,
       "border_right": null,
       "border_top": null,
       "bottom": null,
       "display": null,
       "flex": null,
       "flex_flow": null,
       "grid_area": null,
       "grid_auto_columns": null,
       "grid_auto_flow": null,
       "grid_auto_rows": null,
       "grid_column": null,
       "grid_gap": null,
       "grid_row": null,
       "grid_template_areas": null,
       "grid_template_columns": null,
       "grid_template_rows": null,
       "height": null,
       "justify_content": null,
       "justify_items": null,
       "left": null,
       "margin": null,
       "max_height": null,
       "max_width": null,
       "min_height": null,
       "min_width": null,
       "object_fit": null,
       "object_position": null,
       "order": null,
       "overflow": null,
       "padding": null,
       "right": null,
       "top": null,
       "visibility": null,
       "width": null
      }
     },
     "2019ed09567249beb464e31c0b1e09c4": {
      "model_module": "@jupyter-widgets/controls",
      "model_module_version": "2.0.0",
      "model_name": "HTMLStyleModel",
      "state": {
       "_model_module": "@jupyter-widgets/controls",
       "_model_module_version": "2.0.0",
       "_model_name": "HTMLStyleModel",
       "_view_count": null,
       "_view_module": "@jupyter-widgets/base",
       "_view_module_version": "2.0.0",
       "_view_name": "StyleView",
       "background": null,
       "description_width": "",
       "font_size": null,
       "text_color": null
      }
     },
     "253a95bdd4d2478bb9dad870d323e10b": {
      "model_module": "@jupyter-widgets/controls",
      "model_module_version": "2.0.0",
      "model_name": "HTMLStyleModel",
      "state": {
       "_model_module": "@jupyter-widgets/controls",
       "_model_module_version": "2.0.0",
       "_model_name": "HTMLStyleModel",
       "_view_count": null,
       "_view_module": "@jupyter-widgets/base",
       "_view_module_version": "2.0.0",
       "_view_name": "StyleView",
       "background": null,
       "description_width": "",
       "font_size": null,
       "text_color": null
      }
     },
     "2da90c9bbfaf447db411744cc3d54fde": {
      "model_module": "@jupyter-widgets/controls",
      "model_module_version": "2.0.0",
      "model_name": "HTMLModel",
      "state": {
       "_dom_classes": [],
       "_model_module": "@jupyter-widgets/controls",
       "_model_module_version": "2.0.0",
       "_model_name": "HTMLModel",
       "_view_count": null,
       "_view_module": "@jupyter-widgets/controls",
       "_view_module_version": "2.0.0",
       "_view_name": "HTMLView",
       "description": "",
       "description_allow_html": false,
       "layout": "IPY_MODEL_b78c2e7c8ba24b63aeb905887dcc2832",
       "placeholder": "​",
       "style": "IPY_MODEL_253a95bdd4d2478bb9dad870d323e10b",
       "tabbable": null,
       "tooltip": null,
       "value": "100%"
      }
     },
     "331f22bfe382443594c4771fbf94aa88": {
      "model_module": "@jupyter-widgets/controls",
      "model_module_version": "2.0.0",
      "model_name": "HTMLModel",
      "state": {
       "_dom_classes": [],
       "_model_module": "@jupyter-widgets/controls",
       "_model_module_version": "2.0.0",
       "_model_name": "HTMLModel",
       "_view_count": null,
       "_view_module": "@jupyter-widgets/controls",
       "_view_module_version": "2.0.0",
       "_view_name": "HTMLView",
       "description": "",
       "description_allow_html": false,
       "layout": "IPY_MODEL_1d63505ae1c2453390743c251ed09136",
       "placeholder": "​",
       "style": "IPY_MODEL_2019ed09567249beb464e31c0b1e09c4",
       "tabbable": null,
       "tooltip": null,
       "value": " 4176/4176 [52:36&lt;00:00,  1.07s/it]"
      }
     },
     "5ca8c0530a4646e68a9d7b3f055c351f": {
      "model_module": "@jupyter-widgets/base",
      "model_module_version": "2.0.0",
      "model_name": "LayoutModel",
      "state": {
       "_model_module": "@jupyter-widgets/base",
       "_model_module_version": "2.0.0",
       "_model_name": "LayoutModel",
       "_view_count": null,
       "_view_module": "@jupyter-widgets/base",
       "_view_module_version": "2.0.0",
       "_view_name": "LayoutView",
       "align_content": null,
       "align_items": null,
       "align_self": null,
       "border_bottom": null,
       "border_left": null,
       "border_right": null,
       "border_top": null,
       "bottom": null,
       "display": null,
       "flex": null,
       "flex_flow": null,
       "grid_area": null,
       "grid_auto_columns": null,
       "grid_auto_flow": null,
       "grid_auto_rows": null,
       "grid_column": null,
       "grid_gap": null,
       "grid_row": null,
       "grid_template_areas": null,
       "grid_template_columns": null,
       "grid_template_rows": null,
       "height": null,
       "justify_content": null,
       "justify_items": null,
       "left": null,
       "margin": null,
       "max_height": null,
       "max_width": null,
       "min_height": null,
       "min_width": null,
       "object_fit": null,
       "object_position": null,
       "order": null,
       "overflow": null,
       "padding": null,
       "right": null,
       "top": null,
       "visibility": null,
       "width": null
      }
     },
     "6281825276b4486593e835357ab1ddcc": {
      "model_module": "@jupyter-widgets/base",
      "model_module_version": "2.0.0",
      "model_name": "LayoutModel",
      "state": {
       "_model_module": "@jupyter-widgets/base",
       "_model_module_version": "2.0.0",
       "_model_name": "LayoutModel",
       "_view_count": null,
       "_view_module": "@jupyter-widgets/base",
       "_view_module_version": "2.0.0",
       "_view_name": "LayoutView",
       "align_content": null,
       "align_items": null,
       "align_self": null,
       "border_bottom": null,
       "border_left": null,
       "border_right": null,
       "border_top": null,
       "bottom": null,
       "display": null,
       "flex": null,
       "flex_flow": null,
       "grid_area": null,
       "grid_auto_columns": null,
       "grid_auto_flow": null,
       "grid_auto_rows": null,
       "grid_column": null,
       "grid_gap": null,
       "grid_row": null,
       "grid_template_areas": null,
       "grid_template_columns": null,
       "grid_template_rows": null,
       "height": null,
       "justify_content": null,
       "justify_items": null,
       "left": null,
       "margin": null,
       "max_height": null,
       "max_width": null,
       "min_height": null,
       "min_width": null,
       "object_fit": null,
       "object_position": null,
       "order": null,
       "overflow": null,
       "padding": null,
       "right": null,
       "top": null,
       "visibility": null,
       "width": null
      }
     },
     "a55fcfca6d5a412ab51d2367b3afcb7b": {
      "model_module": "@jupyter-widgets/controls",
      "model_module_version": "2.0.0",
      "model_name": "FloatProgressModel",
      "state": {
       "_dom_classes": [],
       "_model_module": "@jupyter-widgets/controls",
       "_model_module_version": "2.0.0",
       "_model_name": "FloatProgressModel",
       "_view_count": null,
       "_view_module": "@jupyter-widgets/controls",
       "_view_module_version": "2.0.0",
       "_view_name": "ProgressView",
       "bar_style": "success",
       "description": "",
       "description_allow_html": false,
       "layout": "IPY_MODEL_6281825276b4486593e835357ab1ddcc",
       "max": 4176,
       "min": 0,
       "orientation": "horizontal",
       "style": "IPY_MODEL_d725a9219e8c498185acf996bb50921a",
       "tabbable": null,
       "tooltip": null,
       "value": 4176
      }
     },
     "b78c2e7c8ba24b63aeb905887dcc2832": {
      "model_module": "@jupyter-widgets/base",
      "model_module_version": "2.0.0",
      "model_name": "LayoutModel",
      "state": {
       "_model_module": "@jupyter-widgets/base",
       "_model_module_version": "2.0.0",
       "_model_name": "LayoutModel",
       "_view_count": null,
       "_view_module": "@jupyter-widgets/base",
       "_view_module_version": "2.0.0",
       "_view_name": "LayoutView",
       "align_content": null,
       "align_items": null,
       "align_self": null,
       "border_bottom": null,
       "border_left": null,
       "border_right": null,
       "border_top": null,
       "bottom": null,
       "display": null,
       "flex": null,
       "flex_flow": null,
       "grid_area": null,
       "grid_auto_columns": null,
       "grid_auto_flow": null,
       "grid_auto_rows": null,
       "grid_column": null,
       "grid_gap": null,
       "grid_row": null,
       "grid_template_areas": null,
       "grid_template_columns": null,
       "grid_template_rows": null,
       "height": null,
       "justify_content": null,
       "justify_items": null,
       "left": null,
       "margin": null,
       "max_height": null,
       "max_width": null,
       "min_height": null,
       "min_width": null,
       "object_fit": null,
       "object_position": null,
       "order": null,
       "overflow": null,
       "padding": null,
       "right": null,
       "top": null,
       "visibility": null,
       "width": null
      }
     },
     "d725a9219e8c498185acf996bb50921a": {
      "model_module": "@jupyter-widgets/controls",
      "model_module_version": "2.0.0",
      "model_name": "ProgressStyleModel",
      "state": {
       "_model_module": "@jupyter-widgets/controls",
       "_model_module_version": "2.0.0",
       "_model_name": "ProgressStyleModel",
       "_view_count": null,
       "_view_module": "@jupyter-widgets/base",
       "_view_module_version": "2.0.0",
       "_view_name": "StyleView",
       "bar_color": null,
       "description_width": ""
      }
     }
    },
    "version_major": 2,
    "version_minor": 0
   }
  }
 },
 "nbformat": 4,
 "nbformat_minor": 2
}
