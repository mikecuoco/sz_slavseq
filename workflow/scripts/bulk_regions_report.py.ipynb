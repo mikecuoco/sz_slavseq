{
 "cells": [
  {
   "cell_type": "code",
   "execution_count": null,
   "id": "f156ee2d",
   "metadata": {},
   "outputs": [],
   "source": [
    "from pathlib import Path\n",
    "import warnings\n",
    "\n",
    "warnings.filterwarnings(\"ignore\", category=FutureWarning)\n",
    "\n",
    "import pandas as pd\n",
    "import seaborn as sns\n",
    "import matplotlib.pyplot as plt\n",
    "from matplotlib import colors\n",
    "import pyranges as pr\n",
    "from pyslavseq.preprocessing import collate_labels, df2tabix\n",
    "from upsetplot import UpSet\n",
    "\n",
    "HUE_ORDER = [\"KNRGL\", \"OTHER\", \"KRGL\"]"
   ]
  },
  {
   "cell_type": "code",
   "execution_count": null,
   "id": "76adb2cd",
   "metadata": {},
   "outputs": [],
   "source": [
    "nrlabels = [\"megane\"]\n",
    "rlabels = [\n",
    "    \"primer_sites\",\n",
    "    \"l1hs\",\n",
    "    \"l1pa2\",\n",
    "    \"l1pa3\",\n",
    "    \"l1pa4\",\n",
    "    \"l1pa5\",\n",
    "    \"l1pa6\",\n",
    "]\n",
    "\n",
    "labels = [\n",
    "    *rlabels,\n",
    "    \"polyA\",\n",
    "    \"polyT\",\n",
    "    *nrlabels,\n",
    "]"
   ]
  },
  {
   "cell_type": "markdown",
   "id": "75b55e2d",
   "metadata": {},
   "source": [
    "## 1. Read data"
   ]
  },
  {
   "cell_type": "code",
   "execution_count": null,
   "id": "82d38fe2",
   "metadata": {},
   "outputs": [],
   "source": [
    "# load metadata\n",
    "meta = pd.read_csv(snakemake.config[\"donors\"], sep=\"\\t\", dtype={\"donor_id\": str})  # type: ignore\n",
    "\n",
    "# load bulk data\n",
    "bdata = pd.read_csv(snakemake.input.bulk[0], sep=\"\\t\").query(\"n_reads >= 5\")\n",
    "bdata[\"donor_id\"] = bdata[\"donor_id\"].astype(str)\n",
    "bdata.columns = bdata.columns.str.replace(\"#\", \"\")\n",
    "bdata = bdata.merge(meta, on=\"donor_id\")\n",
    "bdata[\"Width\"] = bdata[\"End\"] - bdata[\"Start\"]\n",
    "bdata[labels] = bdata[labels].astype(bool)\n",
    "print(f\"Loaded {len(bdata)} peaks from {bdata['donor_id'].nunique()} donors\")\n",
    "\n",
    "# load l1hs annotations\n",
    "l1hs = pr.read_bed(snakemake.input.l1hs_rmsk)  # type: ignore\n",
    "print(f\"Loaded {len(l1hs)} l1hs annotations\")\n",
    "\n",
    "# load megane annotations\n",
    "meg = pr.read_bed(snakemake.input.megane[0])  # type: ignore\n",
    "print(f\"Loaded {len(meg)} megane variants\")\n",
    "\n",
    "bdata[\"locus\"] = (\n",
    "    bdata[\"Chromosome\"]\n",
    "    + \":\"\n",
    "    + bdata[\"Start\"].astype(str)\n",
    "    + \"-\"\n",
    "    + bdata[\"End\"].astype(str)\n",
    ")"
   ]
  },
  {
   "cell_type": "code",
   "execution_count": null,
   "id": "812daa78",
   "metadata": {},
   "outputs": [],
   "source": [
    "g, ax = plt.subplots(1, 1, figsize=(10, 10))\n",
    "sns.ecdfplot(\n",
    "    data=bdata[bdata[\"megane\"]],\n",
    "    x=\"n_reads\",\n",
    "    hue=\"donor_id\",\n",
    "    ax=ax,\n",
    "    alpha=0.5,\n",
    "    log_scale=True,\n",
    "    complementary=True,\n",
    ")"
   ]
  },
  {
   "cell_type": "code",
   "execution_count": null,
   "id": "67067bed",
   "metadata": {},
   "outputs": [],
   "source": [
    "g, axs = plt.subplots(1, 3, figsize=(21, 7), sharey=True)\n",
    "# remove hspace\n",
    "g.subplots_adjust(wspace=0.1)\n",
    "for ax, n in zip(axs, [0, 100, 200]):\n",
    "    df = bdata.query(\"n_reads > @n\").groupby(\"cell_id\")[\"megane\"].sum().reset_index()\n",
    "    df = df.join(\n",
    "        bdata[[\"cell_id\", \"donor_id\"]].drop_duplicates().set_index(\"cell_id\"),\n",
    "        on=\"cell_id\",\n",
    "    )\n",
    "    sns.barplot(data=df, x=\"megane\", y=\"donor_id\", ax=ax)\n",
    "    ax.set_title(f\"peaks overlapping megane with n_reads > {n}\")"
   ]
  },
  {
   "cell_type": "code",
   "execution_count": null,
   "id": "fcc9ffb9",
   "metadata": {},
   "outputs": [],
   "source": [
    "ldata, mdata = [], []\n",
    "\n",
    "for m in snakemake.input.megane:  # type: ignore\n",
    "    d = Path(m).parent.name\n",
    "    bdf = bdata.query(\"donor_id == @d\")[\n",
    "        [\"Chromosome\", \"Start\", \"End\", \"n_reads\", \"n_proper_pairs\"]\n",
    "    ]\n",
    "    bdf = pr.PyRanges(bdf)\n",
    "\n",
    "    # megane\n",
    "    meg = pr.read_bed(m).df\n",
    "    meg[\"AC\"] = meg[\"Strand\"].astype(int)\n",
    "    meg = pr.PyRanges(meg[meg[\"Score\"].str.contains(\"L1HS\")])\n",
    "    mdf = meg.join(bdf, how=\"left\").df\n",
    "    mdf[\"n_reads\"] = mdf[\"n_reads\"].apply(lambda x: 0 if x < 0 else x)\n",
    "    mdf[\"n_proper_pairs\"] = mdf[\"n_proper_pairs\"].apply(lambda x: 0 if x < 0 else x)\n",
    "    mdf[\"donor_id\"] = d\n",
    "    mdata.append(mdf)\n",
    "\n",
    "    # l1hs\n",
    "    ldf = l1hs.join(bdf, how=\"left\").df\n",
    "    ldf[\"n_reads\"] = ldf[\"n_reads\"].apply(lambda x: 0 if x < 0 else x)\n",
    "    ldf[\"n_proper_pairs\"] = ldf[\"n_proper_pairs\"].apply(lambda x: 0 if x < 0 else x)\n",
    "    ldf[\"donor_id\"] = d\n",
    "    ldata.append(ldf)\n",
    "\n",
    "ldata = pd.concat(ldata).merge(meta, on=\"donor_id\")\n",
    "ldata[\"locus\"] = tuple(zip(ldata[\"Chromosome\"], ldata[\"Start\"], ldata[\"End\"]))\n",
    "ldata = ldata.groupby([\"donor_id\", \"race\", \"locus\"])[\"n_reads\"].max().reset_index()\n",
    "ldata[\"locus\"] = ldata[\"locus\"].astype(str)\n",
    "mdata = pd.concat(mdata).merge(meta, on=\"donor_id\")\n",
    "mdata[\"locus\"] = tuple(zip(mdata[\"Chromosome\"], mdata[\"Start\"], mdata[\"End\"]))\n",
    "mdata = (\n",
    "    mdata.groupby([\"donor_id\", \"race\", \"locus\", \"AC\"])[\"n_reads\"].max().reset_index()\n",
    ")\n",
    "mdata[\"locus\"] = mdata[\"locus\"].astype(str)"
   ]
  },
  {
   "cell_type": "markdown",
   "id": "3ba86ac7",
   "metadata": {},
   "source": [
    "## Known germline coverage"
   ]
  },
  {
   "cell_type": "code",
   "execution_count": null,
   "id": "787e1911",
   "metadata": {},
   "outputs": [],
   "source": [
    "# cdf plots\n",
    "g, axs = plt.subplots(1, 2, figsize=(16, 8))\n",
    "cols = sns.color_palette(\"tab10\", n_colors=2)\n",
    "\n",
    "opts = {\n",
    "    \"hue_order\": [\"CAUC\", \"AA\"],\n",
    "    \"hue\": \"race\",\n",
    "    \"palette\": {\"CAUC\": cols[0], \"AA\": cols[1]},\n",
    "    \"alpha\": 0.5,\n",
    "    \"stat\": \"count\",\n",
    "    \"log_scale\": True,\n",
    "}\n",
    "\n",
    "\n",
    "for d in bdata[\"donor_id\"].unique():\n",
    "    for ax, data in zip(axs, [ldata, mdata]):\n",
    "        df = data.query(\"donor_id == @d\")\n",
    "        df = df.loc[df.groupby(\"locus\")[\"n_reads\"].idxmax()]\n",
    "        # add one for log scale\n",
    "        df[\"n_reads\"] = df[\"n_reads\"] + 1\n",
    "        sns.ecdfplot(df, x=\"n_reads\", ax=ax, **opts)\n",
    "\n",
    "axs[0].set_title(\"# Reference L1HS\")\n",
    "axs[1].set_title(\"# Non-Reference L1HS (detected from WGS)\")"
   ]
  },
  {
   "cell_type": "code",
   "execution_count": null,
   "id": "5f1ebdac",
   "metadata": {},
   "outputs": [],
   "source": [
    "# KRGL heatmap\n",
    "df = (\n",
    "    ldata.groupby([\"locus\", \"donor_id\"])[\"n_reads\"]\n",
    "    .max()\n",
    "    .reset_index()\n",
    "    .pivot_table(index=\"locus\", columns=\"donor_id\", values=\"n_reads\")\n",
    "    .fillna(0)\n",
    ")\n",
    "\n",
    "log_norm = colors.LogNorm(vmin=df.min().min() + 1, vmax=df.max().max())\n",
    "sns.clustermap(df, cmap=\"viridis\", norm=log_norm, yticklabels=False, method=\"ward\")"
   ]
  },
  {
   "cell_type": "code",
   "execution_count": null,
   "id": "3ec1ff8e",
   "metadata": {},
   "outputs": [],
   "source": [
    "# KNRGL heatmap\n",
    "assert len(mdata[[\"locus\", \"donor_id\"]]) == len(\n",
    "    mdata[[\"locus\", \"donor_id\"]].drop_duplicates()\n",
    "), \"duplicate locus-donor pairs found!\"\n",
    "locus_order = mdata.groupby([\"locus\"])[\"AC\"].sum().sort_values().index\n",
    "\n",
    "df = (\n",
    "    mdata.groupby([\"locus\", \"donor_id\"])[\"n_reads\"]\n",
    "    .max()\n",
    "    .reset_index()\n",
    "    .pivot_table(index=\"locus\", columns=\"donor_id\", values=\"n_reads\")\n",
    "    .fillna(0)\n",
    ")\n",
    "\n",
    "log_norm = colors.LogNorm(vmin=df.min().min() + 1, vmax=df.max().max())\n",
    "sns.clustermap(\n",
    "    df.loc[locus_order],\n",
    "    cmap=\"viridis\",\n",
    "    norm=log_norm,\n",
    "    yticklabels=False,\n",
    "    row_cluster=False,\n",
    "    col_cluster=False,\n",
    ")"
   ]
  },
  {
   "cell_type": "markdown",
   "id": "2914be05",
   "metadata": {},
   "source": [
    "## 2. Peak summary stats - unlabelled"
   ]
  },
  {
   "cell_type": "code",
   "execution_count": null,
   "id": "ece39f8b",
   "metadata": {},
   "outputs": [],
   "source": [
    "data = (\n",
    "    bdata.groupby([\"libd_id\", \"race\", \"diagnosis\", \"donor_id\", \"age\"])\n",
    "    .size()\n",
    "    .reset_index(name=\"n_peaks\")\n",
    ")"
   ]
  },
  {
   "cell_type": "code",
   "execution_count": null,
   "id": "9233b0ae",
   "metadata": {},
   "outputs": [],
   "source": [
    "features_scale = [\n",
    "    (\"Width\", False),\n",
    "    (\"n_reads\", True),\n",
    "    (\"n_ref_reads\", True),\n",
    "    (\"n_unique_5end\", True),\n",
    "    (\"n_unique_3end\", True),\n",
    "    (\"n_unique_clipped_3end\", True),\n",
    "    (\"n_duplicates\", True),\n",
    "    (\"three_end_clipped_length_mean\", False),\n",
    "    (\"three_end_clipped_length_q0\", False),\n",
    "    (\"three_end_clipped_length_q1\", False),\n",
    "    (\"three_end_clippedA_mean\", False),\n",
    "    (\"three_end_clippedA_q0\", False),\n",
    "    (\"three_end_clippedA_q1\", False),\n",
    "    (\"alignment_score_normed_mean\", False),\n",
    "    (\"alignment_score_normed_q0\", False),\n",
    "    (\"alignment_score_normed_q1\", False),\n",
    "    (\"L1_alignment_score_mean\", False),\n",
    "    (\"L1_alignment_score_q0\", False),\n",
    "    (\"L1_alignment_score_q1\", False),\n",
    "]\n",
    "\n",
    "# subplots\n",
    "g, axs = plt.subplots(5, 4, figsize=(24, 30))\n",
    "axs = axs.flatten()\n",
    "\n",
    "# setup colors\n",
    "cols = sns.color_palette(\"tab10\", n_colors=2)\n",
    "opts = {\n",
    "    \"hue_order\": [\"CAUC\", \"AA\"],\n",
    "    \"hue\": \"race\",\n",
    "    \"palette\": {\"CAUC\": cols[0], \"AA\": cols[1]},\n",
    "    \"alpha\": 0.5,\n",
    "}\n",
    "\n",
    "for i, (f, s) in enumerate(features_scale):\n",
    "    for g, df in bdata.groupby(\"libd_id\"):\n",
    "        sns.ecdfplot(data=df, x=f, log_scale=s, ax=axs[i], **opts)"
   ]
  },
  {
   "cell_type": "markdown",
   "id": "c4f395da",
   "metadata": {},
   "source": [
    "## 3. Peak summary stats - labelled by annotation"
   ]
  },
  {
   "cell_type": "code",
   "execution_count": null,
   "id": "ede282b5",
   "metadata": {},
   "outputs": [],
   "source": [
    "def plot_ecdf(data, features_scale, labels):\n",
    "\n",
    "    _, axs = plt.subplots(\n",
    "        len(features_scale),\n",
    "        len(labels),\n",
    "        figsize=(len(labels) * 6, len(features_scale) * 6),\n",
    "        sharex=\"row\",\n",
    "    )\n",
    "\n",
    "    cols = sns.color_palette(\"tab10\", n_colors=2)\n",
    "    opts = {\n",
    "        \"hue_order\": [\"CAUC\", \"AA\"],\n",
    "        \"hue\": \"race\",\n",
    "        \"palette\": {\"CAUC\": cols[0], \"AA\": cols[1]},\n",
    "        \"alpha\": 0.5,\n",
    "    }\n",
    "\n",
    "    for i, (f, s) in enumerate(features_scale):\n",
    "        for j, l in enumerate(labels):\n",
    "            for g, df in data.groupby(\"libd_id\"):\n",
    "                sns.ecdfplot(data=df[df[l]], x=f, log_scale=s, ax=axs[i, j], **opts)\n",
    "                axs[i, j].set_title(l)\n",
    "\n",
    "    plt.show()\n",
    "\n",
    "\n",
    "def plot_2dhist(data, features_scale, labels):\n",
    "    _, axs = plt.subplots(\n",
    "        len(features_scale),\n",
    "        len(labels),\n",
    "        figsize=(len(labels) * 6, len(features_scale) * 6),\n",
    "        sharex=\"row\",\n",
    "        sharey=\"row\",\n",
    "    )\n",
    "\n",
    "    for i, (f, s) in enumerate(features_scale):\n",
    "        if f == \"n_reads\":\n",
    "            continue\n",
    "        for j, l in enumerate(labels):\n",
    "            df = data[data[l]]\n",
    "            if s == True:\n",
    "                df = df[df[f] > 0]\n",
    "            sns.histplot(\n",
    "                data=df, x=\"n_reads\", y=f, log_scale=(True, s), bins=50, ax=axs[i, j]\n",
    "            )\n",
    "            axs[i, j].set_title(l)"
   ]
  },
  {
   "cell_type": "code",
   "execution_count": null,
   "id": "4665e23f",
   "metadata": {},
   "outputs": [],
   "source": [
    "ax_dict = UpSet(\n",
    "    bdata[labels].value_counts(),\n",
    "    sort_categories_by=\"input\",\n",
    "    min_subset_size=100,\n",
    "    show_counts=True,\n",
    ").plot()"
   ]
  },
  {
   "cell_type": "code",
   "execution_count": null,
   "id": "bd69ba12",
   "metadata": {},
   "outputs": [],
   "source": [
    "bdata[\"other\"] = bdata[labels].sum(axis=1) == 0\n",
    "labels.append(\"other\")"
   ]
  },
  {
   "cell_type": "code",
   "execution_count": null,
   "id": "1933af50",
   "metadata": {},
   "outputs": [],
   "source": [
    "plot_ecdf(bdata, features_scale, labels)"
   ]
  },
  {
   "cell_type": "code",
   "execution_count": null,
   "id": "4fa518bf",
   "metadata": {},
   "outputs": [],
   "source": [
    "plot_2dhist(bdata, features_scale, labels)"
   ]
  },
  {
   "cell_type": "markdown",
   "id": "f45cde5f",
   "metadata": {},
   "source": [
    "## Remove reference insertions"
   ]
  },
  {
   "cell_type": "code",
   "execution_count": null,
   "id": "5a636759",
   "metadata": {},
   "outputs": [],
   "source": [
    "# make booleans of all\n",
    "nrdata = bdata[\n",
    "    ~bdata.primer_sites\n",
    "    & ~bdata.l1hs\n",
    "    & ~bdata.l1pa2\n",
    "    & ~bdata.l1pa3\n",
    "    & ~bdata.l1pa4\n",
    "    & ~bdata.l1pa5\n",
    "    & ~bdata.l1pa6\n",
    "    & ~bdata.primer_sites\n",
    "    & ~bdata.polyA\n",
    "    & ~bdata.polyT\n",
    "].copy()\n",
    "nrdata = nrdata[nrdata.n_ref_reads == 0].copy()"
   ]
  },
  {
   "cell_type": "code",
   "execution_count": null,
   "id": "1a69cd7b",
   "metadata": {},
   "outputs": [],
   "source": [
    "ax_dict = UpSet(nrdata[nrlabels].value_counts()).plot()"
   ]
  },
  {
   "cell_type": "code",
   "execution_count": null,
   "id": "c7a1a39f",
   "metadata": {},
   "outputs": [],
   "source": [
    "nrdata[\"other\"] = nrdata[nrlabels].sum(axis=1) == 0\n",
    "nrlabels.append(\"other\")"
   ]
  },
  {
   "cell_type": "code",
   "execution_count": null,
   "id": "44f5b6da",
   "metadata": {},
   "outputs": [],
   "source": [
    "plot_ecdf(nrdata, features_scale, nrlabels)"
   ]
  },
  {
   "cell_type": "code",
   "execution_count": null,
   "id": "833905ad",
   "metadata": {},
   "outputs": [],
   "source": [
    "plot_2dhist(nrdata, features_scale, nrlabels)"
   ]
  },
  {
   "cell_type": "markdown",
   "id": "d7ab1317",
   "metadata": {},
   "source": [
    "## Apply final filter"
   ]
  },
  {
   "cell_type": "code",
   "execution_count": null,
   "id": "dbfb9426",
   "metadata": {},
   "outputs": [],
   "source": [
    "bdata = bdata.query(\n",
    "    \"max_mapq == 60 and n_reads > 10 and alignment_score_q1 > 60 and three_end_clipped_length_q1 > 50 and three_end_clippedA_q1 > 0 and n_unique_5end > 0\"\n",
    ").sort_values([\"Chromosome\", \"Start\"])\n",
    "nrdata = nrdata.query(\n",
    "    \"max_mapq == 60 and n_reads > 10 and alignment_score_q1 > 60 and three_end_clipped_length_q1 > 50 and three_end_clippedA_q1 > 0 and n_unique_5end > 0\"\n",
    ").sort_values([\"Chromosome\", \"Start\"])\n",
    "plot_2dhist(nrdata, features_scale, nrlabels)"
   ]
  },
  {
   "cell_type": "code",
   "execution_count": null,
   "id": "532d76d4",
   "metadata": {},
   "outputs": [],
   "source": [
    "labels.remove(\"other\")\n",
    "ax_dict = UpSet(\n",
    "    bdata[labels].value_counts(),\n",
    "    sort_categories_by=\"input\",\n",
    "    min_subset_size=100,\n",
    "    show_counts=True,\n",
    ").plot()"
   ]
  },
  {
   "cell_type": "markdown",
   "id": "e92eed84",
   "metadata": {},
   "source": [
    "## Examine sharing across individuals"
   ]
  },
  {
   "cell_type": "code",
   "execution_count": null,
   "id": "d4de87e1",
   "metadata": {},
   "outputs": [],
   "source": [
    "nrdata = pr.PyRanges(nrdata).cluster().df\n",
    "donors_per_peak = nrdata.groupby(\"Cluster\", observed=True)[\"donor_id\"].nunique()\n",
    "nrdata[\"n_donors\"] = nrdata[\"Cluster\"].map(donors_per_peak)"
   ]
  },
  {
   "cell_type": "code",
   "execution_count": null,
   "id": "8491b15b",
   "metadata": {},
   "outputs": [],
   "source": [
    "g, (ax1, ax2) = plt.subplots(1, 2, figsize=(12, 6), sharey=True)\n",
    "sns.ecdfplot(nrdata, x=\"n_donors\", ax=ax1)\n",
    "ax1.set_xlabel(\"n_donors (all peaks)\")\n",
    "sns.ecdfplot(donors_per_peak, ax=ax2)\n",
    "ax2.set_xlabel(\"n_donors (unique peaks)\")"
   ]
  }
 ],
 "metadata": {
  "kernelspec": {
   "display_name": "Python 3 (ipykernel)",
   "language": "python",
   "name": "python3"
  },
  "language_info": {
   "codemirror_mode": {
    "name": "ipython",
    "version": 3
   },
   "file_extension": ".py",
   "mimetype": "text/x-python",
   "name": "python",
   "nbconvert_exporter": "python",
   "pygments_lexer": "ipython3",
   "version": "3.11.9"
  }
 },
 "nbformat": 4,
 "nbformat_minor": 5
}
