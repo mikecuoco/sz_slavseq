{
 "cells": [
  {
   "cell_type": "code",
   "execution_count": null,
   "id": "b47ead2a",
   "metadata": {},
   "outputs": [],
   "source": [
    "from pathlib import Path\n",
    "import pyarrow.parquet as pq\n",
    "import warnings\n",
    "\n",
    "warnings.filterwarnings(\"ignore\", category=FutureWarning)\n",
    "\n",
    "from tqdm.notebook import tqdm\n",
    "import pandas as pd\n",
    "\n",
    "tqdm.pandas()\n",
    "\n",
    "import pyranges as pr\n",
    "import seaborn as sns\n",
    "from pyslavseq.preprocessing import collate_labels\n",
    "from pyslavseq.plotting import joint_ecdfplot\n",
    "\n",
    "HUE_ORDER = [\"KNRGL\", \"OTHER\", \"KRGL\"]"
   ]
  },
  {
   "cell_type": "code",
   "execution_count": null,
   "id": "8a9599ee",
   "metadata": {},
   "outputs": [],
   "source": [
    "def npeaks_per_cell(df: pd.DataFrame, meta: pd.DataFrame, hue=None):\n",
    "\n",
    "    plot_df = (\n",
    "        df.groupby([\"donor_id\", \"cell_id\", \"label\"]).size().reset_index(name=\"n_peaks\")\n",
    "    )\n",
    "    plot_df = plot_df.merge(meta, on=\"donor_id\")\n",
    "\n",
    "    # sns.boxplot(data=plot_df, y=\"donor_id\", x=\"n_peaks\", hue=\"KNRGL\",ax=ax)\n",
    "    g = sns.catplot(\n",
    "        data=plot_df,\n",
    "        y=\"n_peaks\",\n",
    "        x=\"donor_id\",\n",
    "        hue=hue,\n",
    "        kind=\"box\",\n",
    "        col=\"diagnosis\",\n",
    "        hue_order=HUE_ORDER if hue else None,\n",
    "        fliersize=3,\n",
    "        sharex=False,\n",
    "    )\n",
    "\n",
    "    # set xlabel\n",
    "    g.set_axis_labels(\"Donor ID\", \"Number of peaks\")"
   ]
  },
  {
   "cell_type": "markdown",
   "id": "1411ed93",
   "metadata": {},
   "source": [
    "## Read meta data"
   ]
  },
  {
   "cell_type": "code",
   "execution_count": null,
   "id": "0c5fb262",
   "metadata": {},
   "outputs": [],
   "source": [
    "meta = pd.read_csv(snakemake.config[\"samples\"], sep=\"\\t\", dtype={\"sample_id\": str, \"tissue_id\": str, \"donor_id\": str})  # type: ignore\n",
    "donors = pd.read_csv(snakemake.config[\"donors\"], sep=\"\\t\", dtype={\"donor_id\": str})  # type: ignore\n",
    "meta = meta.merge(donors, on=[\"donor_id\"]).rename(columns={\"sample_id\": \"cell_id\"})"
   ]
  },
  {
   "cell_type": "markdown",
   "id": "1a9a3e8a",
   "metadata": {},
   "source": [
    "## Read bulk SLAVseq peaks"
   ]
  },
  {
   "cell_type": "code",
   "execution_count": null,
   "id": "645c5f2d",
   "metadata": {},
   "outputs": [],
   "source": [
    "bulk = pd.read_parquet(snakemake.input.bulk)  # type: ignore"
   ]
  },
  {
   "cell_type": "markdown",
   "id": "d01f06b3",
   "metadata": {},
   "source": [
    "## Read single-cell SLAVseq peaks"
   ]
  },
  {
   "cell_type": "code",
   "execution_count": null,
   "id": "db37f4c8",
   "metadata": {},
   "outputs": [],
   "source": [
    "data = []\n",
    "for f in tqdm(snakemake.input.cells):  # type: ignore\n",
    "    df = pq.read_table(f).to_pandas()\n",
    "    df[\"cell_id\"] = Path(f).name.rstrip(\"_labelled.pqt\")\n",
    "    data.append(df)\n",
    "\n",
    "data = pd.concat(data).reset_index(drop=True)\n",
    "data[\"KNRGL\"] = data[snakemake.params.pos_label]  # type: ignore\n",
    "data = data.merge(meta, on=\"cell_id\")\n",
    "data[\"tissue\"] = data[\"cell_id\"].apply(\n",
    "    lambda x: \"HIP\" if \"ush\" in x.lower() else \"DLPFC\"\n",
    ")\n",
    "\n",
    "ndonors = data[\"donor_id\"].nunique()\n",
    "ncells = data[\"cell_id\"].nunique()\n",
    "print(f\"Loaded {len(data)} peaks from {ncells} cells from {ndonors} donors.\")"
   ]
  },
  {
   "cell_type": "markdown",
   "id": "fc2030ea",
   "metadata": {},
   "source": [
    "## Label"
   ]
  },
  {
   "cell_type": "code",
   "execution_count": null,
   "id": "13d3bd38",
   "metadata": {},
   "outputs": [],
   "source": [
    "print(\"Collating Labels\")\n",
    "data[\"label\"] = data.progress_apply(collate_labels, axis=1)"
   ]
  },
  {
   "cell_type": "code",
   "execution_count": null,
   "id": "ba86cb6e",
   "metadata": {},
   "outputs": [],
   "source": [
    "# label ref peaks\n",
    "# initialize these columns as boolean\n",
    "def add_KRGL(d, df):\n",
    "    rdf = pr.PyRanges(df.query(\"label == 'KRGL'\"))\n",
    "    df = pr.PyRanges(df).count_overlaps(rdf, overlap_col=\"ref\").df\n",
    "    df[\"ref\"] = df[\"ref\"] > 0\n",
    "\n",
    "    brdf = pr.PyRanges(bulk.query(\"donor_id == @d and label == 'KRGL'\"))\n",
    "    df = pr.PyRanges(df).count_overlaps(brdf, overlap_col=\"bulk_ref\").df\n",
    "    df[\"bulk_ref\"] = df[\"bulk_ref\"] > 0\n",
    "    share = df[df[\"bulk_ref\"] | df[\"ref\"]].index.isin(df[df[\"label\"] == \"KRGL\"].index)\n",
    "    print(f\"Added {sum(~share)} KRGL labels to donor {d}\")\n",
    "    return df\n",
    "\n",
    "\n",
    "data = (\n",
    "    data.groupby(\"donor_id\")\n",
    "    .progress_apply(lambda x: add_KRGL(x.name, x))\n",
    "    .reset_index(drop=True)\n",
    ")"
   ]
  },
  {
   "cell_type": "code",
   "execution_count": null,
   "id": "6d94b442",
   "metadata": {},
   "outputs": [],
   "source": [
    "print(\"Collating Labels again\")\n",
    "data[\"label\"] = data.progress_apply(collate_labels, axis=1)"
   ]
  },
  {
   "cell_type": "markdown",
   "id": "a368b91b",
   "metadata": {},
   "source": [
    "## First filter"
   ]
  },
  {
   "cell_type": "code",
   "execution_count": null,
   "id": "23f2ac7e",
   "metadata": {},
   "outputs": [],
   "source": [
    "n_peaks = len(data)\n",
    "data = data.query(\"max_mapq >= 30\").reset_index(drop=True)\n",
    "print(f\"Removed {n_peaks - len(data)}/{n_peaks} peaks with MAX MAPQ < 30\")\n",
    "\n",
    "n_cells = data[\"cell_id\"].nunique()\n",
    "data = data.groupby(\"cell_id\").filter(lambda d: (d[\"label\"] == \"KNRGL\").sum() >= 20)\n",
    "print(\n",
    "    f\"Removed {n_cells - data['cell_id'].nunique()}/{n_cells} cells with less than 20 KNRGL peaks\"\n",
    ")"
   ]
  },
  {
   "cell_type": "markdown",
   "id": "caaa647b",
   "metadata": {},
   "source": [
    "## Compute distance nearest germline peak"
   ]
  },
  {
   "cell_type": "code",
   "execution_count": null,
   "id": "7726b812",
   "metadata": {},
   "outputs": [],
   "source": [
    "print(\"Computing distance to nearest germline peak\")\n",
    "\n",
    "\n",
    "def germline_distance(cell_df: pd.DataFrame) -> pd.DataFrame:\n",
    "    gdf = pr.PyRanges(cell_df[cell_df[\"label\"] != \"OTHER\"])\n",
    "    cell_df = pr.PyRanges(cell_df).df\n",
    "    cell_df[\"germline_dist\"] = (\n",
    "        pr.PyRanges(cell_df).nearest(gdf, overlap=False).df[\"Distance\"].abs()\n",
    "    )\n",
    "    return cell_df\n",
    "\n",
    "\n",
    "data = (\n",
    "    data.groupby(\"cell_id\")\n",
    "    .progress_apply(germline_distance)\n",
    "    .reset_index(drop=True)\n",
    "    .sort_values([\"Chromosome\", \"Start\"])\n",
    ")"
   ]
  },
  {
   "cell_type": "markdown",
   "id": "5a3ff326",
   "metadata": {},
   "source": [
    "## Find peaks shared across cells/donors"
   ]
  },
  {
   "cell_type": "code",
   "execution_count": null,
   "id": "9a1d7c46",
   "metadata": {},
   "outputs": [],
   "source": [
    "data = pr.PyRanges(data).cluster().df\n",
    "data[\"Cluster\"] = data[\"Cluster\"].astype(\"category\")\n",
    "cells_per_peak = data.groupby(\"Cluster\", observed=True)[\"cell_id\"].nunique()\n",
    "donors_per_peak = data.groupby(\"Cluster\", observed=True)[\"donor_id\"].nunique()\n",
    "data[\"n_cells\"] = data[\"Cluster\"].map(cells_per_peak)\n",
    "data[\"n_donors\"] = data[\"Cluster\"].map(donors_per_peak)\n",
    "data[\"cells_per_donor\"] = data[\"n_cells\"] / data[\"n_donors\"]\n",
    "\n",
    "data = (\n",
    "    pr.PyRanges(data).count_overlaps(pr.PyRanges(bulk), overlap_col=\"n_bulk_donors\").df\n",
    ")"
   ]
  },
  {
   "cell_type": "markdown",
   "id": "77069c6a",
   "metadata": {},
   "source": [
    "## Visualize"
   ]
  },
  {
   "cell_type": "code",
   "execution_count": null,
   "id": "b56bcb22",
   "metadata": {},
   "outputs": [],
   "source": [
    "npeaks_per_cell(data, meta)"
   ]
  },
  {
   "cell_type": "code",
   "execution_count": null,
   "id": "9479539e",
   "metadata": {},
   "outputs": [],
   "source": [
    "npeaks_per_cell(data, meta, hue=\"label\")\n",
    "mean_knrgls = data.groupby(\"cell_id\", observed=True)[\"KNRGL\"].sum().mean()\n",
    "print(f\"Mean KRNGL peaks per cell: {mean_knrgls:.2f}\")"
   ]
  },
  {
   "cell_type": "code",
   "execution_count": null,
   "id": "66ffb6ff",
   "metadata": {},
   "outputs": [],
   "source": [
    "g = sns.ecdfplot(data=data, x=\"germline_dist\", hue=\"label\", hue_order=HUE_ORDER)\n",
    "g.set(xscale=\"log\", xlabel=\"Distance to nearest germline peak (bp)\")"
   ]
  },
  {
   "cell_type": "code",
   "execution_count": null,
   "id": "9ebe590f",
   "metadata": {},
   "outputs": [],
   "source": [
    "g = joint_ecdfplot(data, x=\"n_cells\", y=\"n_donors\", hue=\"label\", hue_order=HUE_ORDER)"
   ]
  },
  {
   "cell_type": "markdown",
   "id": "dbf54c00",
   "metadata": {},
   "source": [
    "## Label additional KNRGLs using the bulk SLAVseq data"
   ]
  },
  {
   "cell_type": "code",
   "execution_count": null,
   "id": "10df9064",
   "metadata": {},
   "outputs": [],
   "source": [
    "g = sns.ecdfplot(data=data, x=\"n_bulk_donors\", hue=\"label\", hue_order=HUE_ORDER)\n",
    "g.set_xlabel(\"Number of overlaps with donor bulk peaks\")\n",
    "\n",
    "n_knrgl = sum(data[\"label\"] == \"KNRGL\")\n",
    "data.loc[(data[\"n_bulk_donors\"] > 1) & (data[\"label\"] == \"OTHER\"), \"KNRGL\"] = True\n",
    "data.loc[(data[\"n_bulk_donors\"] > 1) & (data[\"label\"] == \"OTHER\"), \"label\"] = \"KNRGL\"\n",
    "n_knrgl_filtered = sum(data[\"label\"] == \"KNRGL\")\n",
    "\n",
    "print(\n",
    "    f\"Labeled {n_knrgl_filtered - n_knrgl} additional KNRGL peaks from bulk SLAVseq data\"\n",
    ")"
   ]
  },
  {
   "cell_type": "markdown",
   "id": "75eaafcf",
   "metadata": {},
   "source": [
    "## Recompute germline distance"
   ]
  },
  {
   "cell_type": "code",
   "execution_count": null,
   "id": "10c4c139",
   "metadata": {},
   "outputs": [],
   "source": [
    "print(\"Computing distance to nearest germline peak\")\n",
    "data = (\n",
    "    data.groupby(\"cell_id\")\n",
    "    .progress_apply(germline_distance)\n",
    "    .reset_index(drop=True)\n",
    "    .sort_values([\"Chromosome\", \"Start\"])\n",
    ")"
   ]
  },
  {
   "cell_type": "markdown",
   "id": "8814dc96",
   "metadata": {},
   "source": [
    "## Remove peaks at reference L1 insertions"
   ]
  },
  {
   "cell_type": "code",
   "execution_count": null,
   "id": "c0cb1d2a",
   "metadata": {},
   "outputs": [],
   "source": [
    "# remove reference insertions and peaks with low mapping quality\n",
    "print(\"Filtering peaks\")\n",
    "print(\"Found {} peaks with reference reads.\".format(len(data[data[\"n_ref_reads\"] > 0])))\n",
    "print(\"Found {} peaks with reference clusters.\".format(data[\"ref\"].sum()))\n",
    "print(\n",
    "    \"Found {} peaks with bulk SLAVseq reference clusters.\".format(\n",
    "        data[\"bulk_ref\"].sum()\n",
    "    )\n",
    ")\n",
    "print(\"Found {} peaks at primer sites.\".format(data[\"primer_sites\"].sum()))\n",
    "for l in [\"l1hs\", \"l1pa2\", \"l1pa3\", \"l1pa4\", \"l1pa5\", \"l1pa6\"]:\n",
    "    print(\"Found {} peaks at {} sites.\".format(data[l].sum(), l))\n",
    "\n",
    "data = data.query(\"label != 'KRGL'\").reset_index(drop=True)\n",
    "print(\"{} peaks remain after filtering\".format(len(data)))"
   ]
  },
  {
   "cell_type": "code",
   "execution_count": null,
   "id": "ffa9fc87",
   "metadata": {},
   "outputs": [],
   "source": [
    "npeaks_per_cell(data, meta, hue=\"label\")\n",
    "mean_knrgls = data.groupby(\"cell_id\", observed=True)[\"KNRGL\"].sum().mean()\n",
    "print(f\"Mean KRNGL peaks per cell: {mean_knrgls:.2f}\")"
   ]
  },
  {
   "cell_type": "code",
   "execution_count": null,
   "id": "8ce5ae08",
   "metadata": {},
   "outputs": [],
   "source": [
    "g = joint_ecdfplot(data, x=\"n_cells\", y=\"n_donors\", hue=\"label\", hue_order=HUE_ORDER)"
   ]
  },
  {
   "cell_type": "markdown",
   "id": "918d18df",
   "metadata": {},
   "source": [
    "## Visualize"
   ]
  },
  {
   "cell_type": "code",
   "execution_count": null,
   "id": "f38f5ed6",
   "metadata": {},
   "outputs": [],
   "source": [
    "npeaks_per_cell(data, meta)"
   ]
  },
  {
   "cell_type": "code",
   "execution_count": null,
   "id": "c55bd24a",
   "metadata": {},
   "outputs": [],
   "source": [
    "npeaks_per_cell(data, meta, hue=\"label\")\n",
    "mean_knrgls = data.groupby(\"cell_id\", observed=True)[\"KNRGL\"].sum().mean()\n",
    "print(f\"Mean KRNGL peaks per cell: {mean_knrgls:.2f}\")"
   ]
  },
  {
   "cell_type": "code",
   "execution_count": null,
   "id": "2a3aa4af",
   "metadata": {},
   "outputs": [],
   "source": [
    "g = sns.ecdfplot(data=data, x=\"germline_dist\", hue=\"label\", hue_order=HUE_ORDER)\n",
    "g.set_xscale(\"log\")\n",
    "g.set_xlabel(\"Distance to nearest germline peak (bp)\")"
   ]
  },
  {
   "cell_type": "code",
   "execution_count": null,
   "id": "a8d5c142",
   "metadata": {},
   "outputs": [],
   "source": [
    "g = joint_ecdfplot(data, x=\"n_cells\", y=\"n_donors\", hue=\"label\", hue_order=HUE_ORDER)\n",
    "g = joint_ecdfplot(\n",
    "    data, x=\"n_cells\", y=\"n_bulk_donors\", hue=\"label\", hue_order=HUE_ORDER\n",
    ")"
   ]
  },
  {
   "cell_type": "markdown",
   "id": "59c77482",
   "metadata": {},
   "source": [
    "## Save"
   ]
  },
  {
   "cell_type": "code",
   "execution_count": null,
   "id": "b4ef5ef1",
   "metadata": {},
   "outputs": [],
   "source": [
    "data.to_parquet(snakemake.output[0], index=False)  # type: ignore"
   ]
  }
 ],
 "metadata": {
  "kernelspec": {
   "display_name": "Python 3 (ipykernel)",
   "language": "python",
   "name": "python3"
  },
  "language_info": {
   "codemirror_mode": {
    "name": "ipython",
    "version": 3
   },
   "file_extension": ".py",
   "mimetype": "text/x-python",
   "name": "python",
   "nbconvert_exporter": "python",
   "pygments_lexer": "ipython3",
   "version": "3.10.14"
  }
 },
 "nbformat": 4,
 "nbformat_minor": 5
}
