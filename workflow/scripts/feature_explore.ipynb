{
 "cells": [
  {
   "attachments": {},
   "cell_type": "markdown",
   "metadata": {},
   "source": [
    "# Explore feature distributions among labels"
   ]
  },
  {
   "cell_type": "code",
   "execution_count": null,
   "metadata": {},
   "outputs": [],
   "source": [
    "# setup environment\n",
    "import pandas as pd\n",
    "import datashader as ds\n",
    "import holoviews as hv\n",
    "import holoviews.operation.datashader as hd\n",
    "\n",
    "\n",
    "hd.shade.cmap = [\"lightblue\", \"darkblue\"]\n",
    "hv.extension(\"matplotlib\")\n",
    "hv.output(backend=\"matplotlib\")\n",
    "renderer = hv.renderer(\"matplotlib\")\n",
    "renderer.dpi = 150"
   ]
  },
  {
   "cell_type": "code",
   "execution_count": null,
   "metadata": {},
   "outputs": [],
   "source": [
    "df = pd.read_parquet(\"../../results/model/get_labels/CommonBrain.pqt\")\n",
    "\n",
    "# remove the low quality cell\n",
    "df = df.loc[df[\"cell_id\"] != \"plate2_E7_S101\"].reset_index(drop=True)\n",
    "\n",
    "# add additional feature\n",
    "df[\"YA_YG_ratio\"] = df[\"YA_mean\"] / (df[\"YG_mean\"] + 0.01)\n",
    "df[\"YA_YG_ratio_bg\"] = df[\"YA_mean_bg\"] / (df[\"YG_mean_bg\"] + 0.01)\n",
    "df[\"frac_r1_fwd\"] = df[\"r1_fwd\"] / (df[\"r1_fwd\"] + df[\"r1_rev\"])\n",
    "df[\"frac_r1_rev\"] = df[\"r1_rev\"] / (df[\"r1_fwd\"] + df[\"r1_rev\"])"
   ]
  },
  {
   "cell_type": "code",
   "execution_count": null,
   "metadata": {},
   "outputs": [],
   "source": [
    "df.columns"
   ]
  },
  {
   "cell_type": "code",
   "execution_count": null,
   "metadata": {},
   "outputs": [],
   "source": [
    "plots = []\n",
    "for l in df[\"label\"].unique():\n",
    "    plot_df = df.loc[df[\"label\"] == l]\n",
    "    agg = ds.Canvas().points(plot_df, x=\"YG_mean\", y=\"YA_mean\")\n",
    "    img = hd.shade(hv.Image(agg, label=l))\n",
    "    plots.append(img)"
   ]
  },
  {
   "cell_type": "code",
   "execution_count": null,
   "metadata": {},
   "outputs": [],
   "source": [
    "plots[0] + plots[1] + plots[2] + plots[3]"
   ]
  },
  {
   "cell_type": "code",
   "execution_count": null,
   "metadata": {},
   "outputs": [],
   "source": [
    "plots = []\n",
    "for l in df[\"label\"].unique():\n",
    "    plot_df = df.loc[df[\"label\"] == l]\n",
    "    agg = ds.Canvas().points(plot_df, x=\"frac_r1_fwd\", y=\"frac_r1_rev\")\n",
    "    img = hd.shade(hv.Image(agg, label=l))\n",
    "    plots.append(img)"
   ]
  }
 ],
 "metadata": {
  "kernelspec": {
   "display_name": "Python [conda env:shell] *",
   "language": "python",
   "name": "conda-env-shell-py"
  },
  "language_info": {
   "codemirror_mode": {
    "name": "ipython",
    "version": 3
   },
   "file_extension": ".py",
   "mimetype": "text/x-python",
   "name": "python",
   "nbconvert_exporter": "python",
   "pygments_lexer": "ipython3",
   "version": "3.10.8"
  },
  "orig_nbformat": 4
 },
 "nbformat": 4,
 "nbformat_minor": 2
}
