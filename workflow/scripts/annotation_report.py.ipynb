{
 "cells": [
  {
   "cell_type": "markdown",
   "metadata": {},
   "source": [
    "# Annotation report\n",
    "\n",
    "1. Allele frequency and zygosity of WGS calls\n",
    "2. Overlap of all annotations\n",
    " - primer sites\n",
    " - repeatmasker sites\n",
    " - graffite\n",
    " - xtea\n",
    " - megane calls"
   ]
  },
  {
   "cell_type": "code",
   "execution_count": null,
   "metadata": {},
   "outputs": [],
   "source": [
    "from tempfile import NamedTemporaryFile\n",
    "import pandas as pd"
   ]
  },
  {
   "cell_type": "code",
   "execution_count": null,
   "metadata": {},
   "outputs": [],
   "source": [
    "def read_megane_vcf(vcf_file):\n",
    "    with NamedTemporaryFile() as tmp:\n",
    "        !bcftools query -f '%CHROM\\t%0START\\t%0END\\t%FILTER\\t%MEI\\t%AC\\n' {vcf_file} | grep \"L1HS\" > {tmp.name}\n",
    "        return pd.read_csv(\n",
    "            tmp.name,\n",
    "            sep=\"\\t\",\n",
    "            header=None,\n",
    "            names=[\"Chromosome\", \"Start\", \"End\", \"FILTER\", \"MEI\", \"AC\"],\n",
    "        )"
   ]
  }
 ],
 "metadata": {
  "language_info": {
   "name": "python"
  }
 },
 "nbformat": 4,
 "nbformat_minor": 2
}
