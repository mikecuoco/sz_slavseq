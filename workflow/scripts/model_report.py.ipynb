{
 "cells": [
  {
   "cell_type": "markdown",
   "id": "72a862bd",
   "metadata": {},
   "source": [
    "# SLAVseq model report"
   ]
  },
  {
   "cell_type": "code",
   "execution_count": null,
   "id": "df1ebf24",
   "metadata": {},
   "outputs": [],
   "source": [
    "import pickle, json\n",
    "import numpy as np\n",
    "import pandas as pd\n",
    "import seaborn as sns\n",
    "import matplotlib.pyplot as plt\n",
    "from sklearn.metrics import (\n",
    "    confusion_matrix,\n",
    "    ConfusionMatrixDisplay,\n",
    "    precision_score,\n",
    "    recall_score,\n",
    "    precision_recall_curve,\n",
    "    average_precision_score,\n",
    ")\n",
    "from flaml.automl.data import get_output_from_log\n",
    "from sklearn.model_selection import StratifiedGroupKFold"
   ]
  },
  {
   "cell_type": "markdown",
   "id": "9ccd87fa",
   "metadata": {},
   "source": [
    "## Read Data"
   ]
  },
  {
   "cell_type": "code",
   "execution_count": null,
   "id": "ff143396",
   "metadata": {},
   "outputs": [],
   "source": [
    "data = pd.read_parquet(snakemake.input.data)  # type: ignore\n",
    "data[\"KNRGL\"] = data[\"KNRGL\"].astype(bool)\n",
    "\n",
    "# load model from pickle\n",
    "with open(snakemake.input.model, \"rb\") as f:  # type: ignore\n",
    "    clf = pickle.load(f)\n",
    "features = clf.feature_names_in_.tolist()\n",
    "\n",
    "# load hyperparameters from json\n",
    "with open(snakemake.input.best_hp, \"r\") as f:  # type: ignore\n",
    "    config = json.load(f)"
   ]
  },
  {
   "cell_type": "markdown",
   "id": "959407de",
   "metadata": {},
   "source": [
    "## Hyperparameter tuning"
   ]
  },
  {
   "cell_type": "code",
   "execution_count": null,
   "id": "2dca2dd7",
   "metadata": {},
   "outputs": [],
   "source": [
    "# plot tuning curve\n",
    "(\n",
    "    time_history,\n",
    "    best_valid_loss_history,\n",
    "    valid_loss_history,\n",
    "    config_history,\n",
    "    metric_history,\n",
    ") = get_output_from_log(\n",
    "    filename=snakemake.input.history, time_budget=1e6  # type: ignore\n",
    ")\n",
    "\n",
    "fig, ax = plt.subplots(1, 1, figsize=(5, 5))\n",
    "ax.plot(time_history, 1 - np.array(best_valid_loss_history))\n",
    "ax.set_xlabel(\"hyperparameter iteration\")\n",
    "ax.set_ylabel(\"average precision\")\n",
    "ax.set_title(\"Hyperparameter tuning\")\n",
    "\n",
    "print(\"Best model: \", config[\"class\"])\n",
    "print(\"Best hyperparameters: \", config[\"hyperparameters\"])"
   ]
  },
  {
   "cell_type": "markdown",
   "id": "8cb8545f",
   "metadata": {},
   "source": [
    "## Setup CV for model evaluation"
   ]
  },
  {
   "cell_type": "code",
   "execution_count": null,
   "id": "8c6671f8-6050-4fc8-8c2f-264c8aea331b",
   "metadata": {},
   "outputs": [],
   "source": [
    "sgkf = StratifiedGroupKFold(n_splits=5, shuffle=True, random_state=snakemake.params.random_state)  # type: ignore\n",
    "splitter = sgkf.split(data[features], data[\"KNRGL\"], groups=data[\"Chromosome\"])"
   ]
  },
  {
   "cell_type": "code",
   "execution_count": null,
   "id": "d70a8964",
   "metadata": {},
   "outputs": [],
   "source": [
    "# get CV chromosomes\n",
    "sgkf = StratifiedGroupKFold(n_splits=5, shuffle=True, random_state=snakemake.params.random_state)  # type: ignore\n",
    "splitter = sgkf.split(data[features], data[\"KNRGL\"], groups=data[\"Chromosome\"])\n",
    "folds = {}\n",
    "\n",
    "fig, ax1 = plt.subplots(1, 1, figsize=(5, 5))\n",
    "for i, (train_idx, test_idx) in enumerate(splitter):\n",
    "\n",
    "    # get chromosomes, add to folds dictionary\n",
    "    train_chroms = data.iloc[train_idx][\"Chromosome\"].unique().tolist()\n",
    "    test_chroms = data.iloc[test_idx][\"Chromosome\"].unique().tolist()\n",
    "    folds[i + 1] = (train_chroms, test_chroms)\n",
    "\n",
    "    # fit classifier, plot feature importances\n",
    "    print(f\"Training in fold {i+1}/{sgkf.n_splits} on chromosomes: {train_chroms}\")\n",
    "    clf.fit(data.loc[train_idx, features], data.loc[train_idx, \"KNRGL\"])\n",
    "    sns.stripplot(x=clf.feature_importances_, y=features, ax=ax1, alpha=0.5, c=\"blue\")\n",
    "\n",
    "    # make predictions\n",
    "    for s, idx in [(\"train\", train_idx), (\"test\", test_idx)]:\n",
    "        print(\n",
    "            f\"Making predictions on {s} chromosomes: {data.loc[idx, 'Chromosome'].unique().tolist()}\"\n",
    "        )\n",
    "        data.loc[idx, f\"{s}_proba\"] = clf.predict_proba(data.loc[idx, features])[:, 1]\n",
    "\n",
    "ax1.set_xlabel(\"Feature importance\")\n",
    "ax1.set_xlim(0, None)"
   ]
  },
  {
   "cell_type": "code",
   "execution_count": null,
   "id": "1c2747a2",
   "metadata": {},
   "outputs": [],
   "source": [
    "# define functions to evaluate performance\n",
    "def prc_cv_plot(data, features, clf, retrain=False):\n",
    "    \"\"\"\n",
    "    Plot precision-recall curve and precision-recall vs. threshold for each fold\n",
    "    :param data: pd.DataFrame\n",
    "    :param features: list\n",
    "    :param clf: sklearn classifier\n",
    "    :param retrain: bool, whether to retrain the classifier\n",
    "    \"\"\"\n",
    "    # setup figure\n",
    "    g, (ax1, ax2) = plt.subplots(1, 2, figsize=(10, 5))\n",
    "\n",
    "    # iterate over folds\n",
    "    for i, (train_chroms, test_chroms) in folds.items():\n",
    "        test_idx = data[data[\"Chromosome\"].isin(test_chroms)].index\n",
    "        train_idx = data[data[\"Chromosome\"].isin(train_chroms)].index\n",
    "\n",
    "        if retrain:  # retrain classifier\n",
    "            clf.fit(data.loc[train_idx, features], data.loc[train_idx, \"KNRGL\"])\n",
    "\n",
    "        # make predictions on train and test set\n",
    "        for s, idx in [(\"train\", train_idx), (\"test\", test_idx)]:\n",
    "            if retrain:\n",
    "                y_score = clf.predict_proba(data.loc[idx, features])[:, 1]\n",
    "            else:\n",
    "                y_score = data.loc[idx, f\"{s}_proba\"]\n",
    "\n",
    "            prec, rec, thresh = precision_recall_curve(data.loc[idx, \"KNRGL\"], y_score)\n",
    "            if i == 1:\n",
    "                label, color = (\"train\", \"blue\") if s == \"train\" else (\"test\", \"orange\")\n",
    "            else:\n",
    "                label, color = (None, \"blue\") if s == \"train\" else (None, \"orange\")\n",
    "\n",
    "            ax1.plot(rec, prec, color=color, label=label)\n",
    "            ax2.plot(thresh, prec[:-1], color=color, label=label)\n",
    "            ax2.plot(thresh, rec[:-1], color=color, label=label, linestyle=\"--\")\n",
    "\n",
    "    ap = average_precision_score(data[\"KNRGL\"], data[\"test_proba\"])\n",
    "    ax1.set(\n",
    "        xlabel=\"Recall\",\n",
    "        ylabel=\"Precision\",\n",
    "        title=f\"Precision-Recall curve: AP={ap:.3f}\",\n",
    "        xlim=(0, 1),\n",
    "        ylim=(0, 1),\n",
    "    )\n",
    "\n",
    "    # add chance line\n",
    "    ax1.plot(\n",
    "        [0, 1], [data[\"KNRGL\"].mean()] * 2, linestyle=\"--\", color=\"gray\", label=\"chance\"\n",
    "    )\n",
    "    ax1.legend()\n",
    "    ax2.set(\n",
    "        xlabel=\"Threshold\",\n",
    "        ylabel=\"Score\",\n",
    "        title=\"Precision-Recall vs. threshold\",\n",
    "        xlim=(0, 1),\n",
    "        ylim=(0, 1),\n",
    "    )\n",
    "\n",
    "    return g\n",
    "\n",
    "\n",
    "def cm_plot(data: pd.DataFrame):\n",
    "    \"\"\"\n",
    "    Plot confusion matrices for different thresholds\n",
    "    :param data: pd.DataFrame\n",
    "    \"\"\"\n",
    "\n",
    "    # setup figure\n",
    "    g, axes = plt.subplots(1, 5, figsize=(25, 5), sharey=True, sharex=True)\n",
    "\n",
    "    # iterate over thresholds\n",
    "    for i, p in enumerate([0.5, 0.6, 0.7, 0.8, 0.9]):\n",
    "        y_true = data[\"KNRGL\"]\n",
    "        y_pred = data[\"test_proba\"] > p\n",
    "        cm = confusion_matrix(y_true, y_pred)\n",
    "\n",
    "        # plot\n",
    "        ConfusionMatrixDisplay(cm, display_labels=[\"OTHER\", \"KNRGL\"]).plot(ax=axes[i])\n",
    "        axes[i].images[-1].colorbar.remove()  # remove colorbar\n",
    "        precision = precision_score(data[\"KNRGL\"], data[\"test_proba\"] > p)\n",
    "        recall = recall_score(data[\"KNRGL\"], data[\"test_proba\"] > p)\n",
    "        axes[i].set_title(f\"{p}: precision = {precision:.3f}, recall = {recall:.3f}\")\n",
    "    return g"
   ]
  },
  {
   "cell_type": "markdown",
   "id": "ff197f98",
   "metadata": {},
   "source": [
    "## Precision/Recall"
   ]
  },
  {
   "cell_type": "code",
   "execution_count": null,
   "id": "ec6d070d",
   "metadata": {},
   "outputs": [],
   "source": [
    "# setup plot\n",
    "g = prc_cv_plot(data, features, clf, retrain=False)\n",
    "g = cm_plot(data)"
   ]
  },
  {
   "cell_type": "markdown",
   "id": "180946d6",
   "metadata": {},
   "source": [
    "## Precision/Recall, removing within germline dist"
   ]
  },
  {
   "cell_type": "code",
   "execution_count": null,
   "id": "785d9e5a",
   "metadata": {},
   "outputs": [],
   "source": [
    "# TODO: add recall penalty for removing these\n",
    "# TODO: test with and without retraining\n",
    "for gd in [5000, 10000, 20000]:\n",
    "    nrm = data.query(\"germline_dist <= @gd and label == 'KNRGL'\").shape[0]\n",
    "    total = data.query(\"label == 'KNRGL'\").shape[0]\n",
    "    print(\n",
    "        f\"Removing {nrm}/{total} ({((nrm/total)*100):.2f}%) germline variants with distance <= {gd}bp\"\n",
    "    )\n",
    "    df = data.query(\"germline_dist > @gd\").reset_index(drop=True)\n",
    "    g = prc_cv_plot(df, features, clf, retrain=False)\n",
    "    g.suptitle(\n",
    "        f\"Performance after removing {nrm}/{total} ({((nrm/total)*100):.2f}%) germline variants with distance <= {gd}bp\"\n",
    "    )\n",
    "    g = cm_plot(df)"
   ]
  },
  {
   "cell_type": "code",
   "execution_count": null,
   "id": "2228a657",
   "metadata": {},
   "outputs": [],
   "source": [
    "data.to_parquet(snakemake.output[0])  # type: ignore"
   ]
  }
 ],
 "metadata": {
  "kernelspec": {
   "display_name": "Python 3 (ipykernel)",
   "language": "python",
   "name": "python3"
  },
  "language_info": {
   "codemirror_mode": {
    "name": "ipython",
    "version": 3
   },
   "file_extension": ".py",
   "mimetype": "text/x-python",
   "name": "python",
   "nbconvert_exporter": "python",
   "pygments_lexer": "ipython3",
   "version": "3.10.14"
  }
 },
 "nbformat": 4,
 "nbformat_minor": 5
}
