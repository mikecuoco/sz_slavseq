{
 "cells": [
  {
   "cell_type": "markdown",
   "id": "72a862bd",
   "metadata": {},
   "source": [
    "# SLAVseq model report"
   ]
  },
  {
   "cell_type": "code",
   "execution_count": null,
   "id": "62c0dbce",
   "metadata": {},
   "outputs": [],
   "source": [
    "import warnings\n",
    "\n",
    "warnings.filterwarnings(\"ignore\", category=FutureWarning)\n",
    "\n",
    "import numpy as np\n",
    "import pandas as pd\n",
    "import seaborn as sns\n",
    "import matplotlib.pyplot as plt\n",
    "from sklearn.metrics import precision_score, recall_score\n",
    "from pyslavseq.plotting import germline_dist\n",
    "from scipy.stats import ttest_ind"
   ]
  },
  {
   "cell_type": "markdown",
   "id": "9ccd87fa",
   "metadata": {},
   "source": [
    "## Read Data"
   ]
  },
  {
   "cell_type": "code",
   "execution_count": null,
   "id": "113ffb22",
   "metadata": {},
   "outputs": [],
   "source": [
    "data = pd.read_parquet(snakemake.input.data)  # type: ignore\n",
    "meta = pd.read_csv(snakemake.config[\"donors\"], sep=\"\\t\")  # type: ignore\n",
    "meta[\"donor_id\"] = meta[\"donor_id\"].astype(str)\n",
    "data = data.merge(meta, on=\"donor_id\")\n",
    "data[\"Cluster\"] = data[\"Cluster\"].astype(\"category\")"
   ]
  },
  {
   "cell_type": "markdown",
   "id": "1a15a41c",
   "metadata": {},
   "source": [
    "## Distance to germline"
   ]
  },
  {
   "cell_type": "code",
   "execution_count": null,
   "id": "106f79de",
   "metadata": {},
   "outputs": [],
   "source": [
    "g = germline_dist(data, y=\"test_proba\")"
   ]
  },
  {
   "cell_type": "markdown",
   "id": "22e797dc",
   "metadata": {},
   "source": [
    "## Inspect Potential Clonal insertions"
   ]
  },
  {
   "cell_type": "code",
   "execution_count": null,
   "id": "e1cc028d",
   "metadata": {},
   "outputs": [],
   "source": [
    "# find putative clonal insertions\n",
    "calls = []\n",
    "for p in [0.5, 0.6, 0.7, 0.8, 0.9]:\n",
    "\n",
    "    df = (\n",
    "        data.query(\"not KNRGL and test_proba > @p\")\n",
    "        .drop(columns=[\"n_cells\", \"n_donors\"])\n",
    "        .reset_index(drop=True)\n",
    "    )\n",
    "\n",
    "    cells_per_call = df.groupby(\"Cluster\", observed=True).size()\n",
    "    cells_per_call.name = \"n_cells\"\n",
    "    regions_per_call = df.groupby(\"Cluster\", observed=True)[\"tissue_id\"].nunique()\n",
    "    regions_per_call.name = \"n_regions\"\n",
    "    donors_per_call = df.groupby(\"Cluster\", observed=True)[\"donor_id\"].nunique()\n",
    "    donors_per_call.name = \"n_donors\"\n",
    "    df = df.join(cells_per_call, on=\"Cluster\")\n",
    "    df = df.join(donors_per_call, on=\"Cluster\")\n",
    "    df = df.join(regions_per_call, on=\"Cluster\")\n",
    "    df[\"threshold\"] = p\n",
    "\n",
    "    calls.append(df)\n",
    "\n",
    "calls = pd.concat(calls)\n",
    "\n",
    "g = sns.displot(\n",
    "    calls, x=\"n_cells\", y=\"n_donors\", col=\"n_regions\", row=\"threshold\", kind=\"hist\"\n",
    ")\n",
    "\n",
    "# set x to log\n",
    "g.set(xscale=\"log\")"
   ]
  },
  {
   "cell_type": "markdown",
   "id": "f3be48d4",
   "metadata": {},
   "source": [
    "## Putative calls\n"
   ]
  },
  {
   "cell_type": "code",
   "execution_count": null,
   "id": "2c4f24b5",
   "metadata": {},
   "outputs": [],
   "source": [
    "calls = []\n",
    "for p in [0.5, 0.6, 0.7, 0.8, 0.9]:\n",
    "\n",
    "    precision_per_cell = data.groupby([\"donor_id\", \"cell_id\"]).apply(\n",
    "        lambda x: precision_score(\n",
    "            x[\"KNRGL\"], x[\"test_proba\"] > p, zero_division=np.nan\n",
    "        ),\n",
    "    )\n",
    "    recall_per_cell = data.groupby([\"donor_id\", \"cell_id\"]).apply(\n",
    "        lambda x: recall_score(x[\"KNRGL\"], x[\"test_proba\"] > p, zero_division=np.nan),\n",
    "    )\n",
    "    calls_per_cell = (\n",
    "        data.query(\"not KNRGL\")\n",
    "        .groupby([\"donor_id\", \"cell_id\"])\n",
    "        .apply(lambda x: (x[\"test_proba\"] > p).sum())\n",
    "    )\n",
    "    reads_per_cell = data.groupby([\"donor_id\", \"cell_id\"])[\"n_reads\"].sum()\n",
    "\n",
    "    # join\n",
    "    df = pd.concat(\n",
    "        [precision_per_cell, recall_per_cell, calls_per_cell, reads_per_cell], axis=1\n",
    "    )\n",
    "    df.columns = [\"precision\", \"recall\", \"n_calls\", \"n_reads\"]\n",
    "    df.reset_index(inplace=True)\n",
    "    df[\"threshold\"] = p\n",
    "    calls.append(df)\n",
    "\n",
    "calls = pd.concat(calls).reset_index(drop=True)\n",
    "calls[\"expected\"] = (calls[\"n_calls\"] * calls[\"precision\"]) / calls[\"recall\"]"
   ]
  },
  {
   "cell_type": "code",
   "execution_count": null,
   "id": "59495b8e",
   "metadata": {},
   "outputs": [],
   "source": [
    "# insertions per cell\n",
    "fig, axes = plt.subplots(3, 5, figsize=(30, 30), sharex=\"col\", sharey=\"row\")\n",
    "fig.subplots_adjust(wspace=0, hspace=0)\n",
    "for i, p in enumerate([0.5, 0.6, 0.7, 0.8, 0.9]):\n",
    "    precision = precision_score(data[\"KNRGL\"], data[\"test_proba\"] > p)\n",
    "    recall = recall_score(data[\"KNRGL\"], data[\"test_proba\"] > p)\n",
    "\n",
    "    calls_per_cell = calls.query(\"threshold == @p\")[[\"n_calls\", \"donor_id\", \"cell_id\"]]\n",
    "    calls_per_cell = calls_per_cell.merge(meta, on=\"donor_id\")\n",
    "\n",
    "    for j, cat in enumerate([\"diagnosis\", \"race\", \"age\"]):\n",
    "        calls_per_cell = calls_per_cell.sort_values(cat)\n",
    "        sns.boxplot(\n",
    "            data=calls_per_cell, y=\"donor_id\", x=\"n_calls\", hue=cat, ax=axes[j, i]\n",
    "        )\n",
    "        axes[0, i].set_title(f\"{p}: precision = {precision:.2f}, recall = {recall:.2f}\")"
   ]
  },
  {
   "cell_type": "markdown",
   "id": "bb016983",
   "metadata": {},
   "source": [
    "$$\n",
    "E(\\text{somatic insertions}) = \\frac{\\text{ncalls} * (1 - \\text{FDR})}{1-\\text{FNR}} \\\\\n",
    "$$\n",
    "\n",
    "$$\n",
    "E(\\text{somatic insertions}) = \\frac{\\text{ncalls} * \\text{precision}}{\\text{recall}}\n",
    "$$"
   ]
  },
  {
   "cell_type": "code",
   "execution_count": null,
   "id": "dd98a832",
   "metadata": {},
   "outputs": [],
   "source": [
    "# compute expected insertions per cell\n",
    "fig, axes = plt.subplots(3, 5, figsize=(30, 30), sharex=True, sharey=\"row\")\n",
    "fig.subplots_adjust(wspace=0, hspace=0)\n",
    "for i, p in enumerate([0.5, 0.6, 0.7, 0.8, 0.9]):\n",
    "    precision = precision_score(data[\"KNRGL\"], data[\"test_proba\"] > p)\n",
    "    recall = recall_score(data[\"KNRGL\"], data[\"test_proba\"] > p)\n",
    "\n",
    "    expected_per_cell = calls.query(\"threshold == @p\")[\n",
    "        [\"expected\", \"donor_id\", \"cell_id\"]\n",
    "    ]\n",
    "    expected_per_cell = expected_per_cell.merge(meta, on=\"donor_id\")\n",
    "\n",
    "    for j, cat in enumerate([\"diagnosis\", \"race\", \"age\"]):\n",
    "        expected_per_cell = expected_per_cell.sort_values(cat)\n",
    "        sns.boxplot(\n",
    "            data=expected_per_cell, y=\"donor_id\", x=\"expected\", hue=cat, ax=axes[j, i]\n",
    "        )\n",
    "        axes[0, i].set_title(f\"{p}: precision = {precision:.2f}, recall = {recall:.2f}\")"
   ]
  },
  {
   "cell_type": "code",
   "execution_count": null,
   "id": "6de2041a",
   "metadata": {},
   "outputs": [],
   "source": [
    "donor_calls = (\n",
    "    calls.groupby([\"donor_id\", \"threshold\"])[[\"n_calls\", \"expected\"]]\n",
    "    .mean()\n",
    "    .reset_index()\n",
    "    .merge(meta, on=\"donor_id\")\n",
    ")"
   ]
  },
  {
   "cell_type": "code",
   "execution_count": null,
   "id": "5f6d4d65",
   "metadata": {},
   "outputs": [],
   "source": [
    "sns.catplot(\n",
    "    data=donor_calls,\n",
    "    x=\"diagnosis\",\n",
    "    y=\"n_calls\",\n",
    "    hue=\"race\",\n",
    "    col=\"threshold\",\n",
    "    kind=\"strip\",\n",
    "    alpha=0.5,\n",
    "    jitter=0.1,\n",
    "    dodge=True,\n",
    ")"
   ]
  },
  {
   "cell_type": "code",
   "execution_count": null,
   "id": "a0a24e3f",
   "metadata": {},
   "outputs": [],
   "source": [
    "sns.catplot(\n",
    "    data=donor_calls,\n",
    "    x=\"diagnosis\",\n",
    "    y=\"expected\",\n",
    "    hue=\"race\",\n",
    "    col=\"threshold\",\n",
    "    kind=\"strip\",\n",
    "    alpha=0.5,\n",
    "    jitter=0.1,\n",
    "    dodge=True,\n",
    ")"
   ]
  },
  {
   "cell_type": "code",
   "execution_count": null,
   "id": "8aea9c6c",
   "metadata": {},
   "outputs": [],
   "source": [
    "for t, df in donor_calls.groupby(\"threshold\"):\n",
    "    res = ttest_ind(\n",
    "        df[df[\"diagnosis\"] == \"CONTROL\"][\"n_calls\"],\n",
    "        df[df[\"diagnosis\"] == \"SCZD\"][\"n_calls\"],\n",
    "    )\n",
    "    print(f\"ncalls diagnosis test at threshold {t}: {res}\")\n",
    "    res = ttest_ind(\n",
    "        df[df[\"diagnosis\"] == \"CONTROL\"][\"expected\"],\n",
    "        df[df[\"diagnosis\"] == \"SCZD\"][\"expected\"],\n",
    "    )\n",
    "    print(f\"expected calls diagnosis test at threshold {t}: {res}\")\n",
    "    res = ttest_ind(\n",
    "        df[df[\"race\"] == \"CAUC\"][\"n_calls\"], df[df[\"race\"] == \"AA\"][\"n_calls\"]\n",
    "    )\n",
    "    print(f\"ncalls race test at threshold {t}: {res}\")\n",
    "    res = ttest_ind(\n",
    "        df[df[\"race\"] == \"CAUC\"][\"expected\"], df[df[\"race\"] == \"AA\"][\"expected\"]\n",
    "    )\n",
    "    print(f\"expected calls race test at threshold {t}: {res}\")"
   ]
  },
  {
   "cell_type": "markdown",
   "id": "1ea7bb38",
   "metadata": {},
   "source": [
    "## Save"
   ]
  },
  {
   "cell_type": "code",
   "execution_count": null,
   "id": "8fa10a5a",
   "metadata": {},
   "outputs": [],
   "source": [
    "import pyranges as pr\n",
    "from pathlib import Path\n",
    "\n",
    "for d, df in data.query(\"test_proba > 0.9\").groupby(\"donor_id\"):\n",
    "    my_df = df.rename(columns={\"test_proba\": \"Score\", \"cell_id\": \"Name\"})\n",
    "    for s in snakemake.output:\n",
    "        if d == Path(s).parent.name:\n",
    "            pr.PyRanges(my_df[[\"Chromosome\", \"Start\", \"End\", \"Score\", \"Name\"]]).to_bed(\n",
    "                s\n",
    "            )\n",
    "            break"
   ]
  }
 ],
 "metadata": {
  "kernelspec": {
   "display_name": "Python 3",
   "language": "python",
   "name": "python3"
  },
  "language_info": {
   "codemirror_mode": {
    "name": "ipython",
    "version": 3
   },
   "file_extension": ".py",
   "mimetype": "text/x-python",
   "name": "python",
   "nbconvert_exporter": "python",
   "pygments_lexer": "ipython3",
   "version": "3.10.13"
  }
 },
 "nbformat": 4,
 "nbformat_minor": 5
}
