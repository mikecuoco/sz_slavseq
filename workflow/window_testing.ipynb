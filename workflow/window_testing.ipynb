{
 "cells": [
  {
   "cell_type": "markdown",
   "metadata": {},
   "source": [
    "# Test a new strategies to bin the alignments"
   ]
  },
  {
   "cell_type": "code",
   "execution_count": 1,
   "metadata": {
    "tags": []
   },
   "outputs": [],
   "source": [
    "from glob import glob\n",
    "from pathlib import Path\n",
    "from scripts.get_features import BamWindows\n",
    "from scripts.get_labels import read_knrgl, read_rmsk, label_windows\n",
    "from collections import defaultdict\n",
    "import pandas as pd\n",
    "import pyranges as pr\n",
    "import matplotlib.pyplot as plt\n",
    "import seaborn as sns\n",
    "from joblib import Parallel, delayed"
   ]
  },
  {
   "cell_type": "code",
   "execution_count": 2,
   "metadata": {
    "tags": []
   },
   "outputs": [],
   "source": [
    "# read in the annotations\n",
    "knrgl = read_knrgl(\n",
    "    \"/iblm/netapp/data4/mcuoco/sz_slavseq/resources/CommonBrain_insertions.bed\"\n",
    ")\n",
    "rmsk = read_rmsk(\"/iblm/netapp/data4/mcuoco/sz_slavseq/resources/hs38d1.fa.out\")"
   ]
  },
  {
   "cell_type": "code",
   "execution_count": 3,
   "metadata": {
    "tags": []
   },
   "outputs": [],
   "source": [
    "# set up various filters\n",
    "read_filters = {\n",
    "    \"dup_unmapped\": lambda r: not r.is_duplicate or r.is_unmapped,\n",
    "    \"dup_unmapped_lowmapq\": lambda r: not r.is_duplicate\n",
    "    or r.is_unmapped\n",
    "    or r.mapping_quality < 10,\n",
    "    \"dup_unmapped_unique\": lambda r: not r.is_duplicate\n",
    "    or r.is_unmapped\n",
    "    or r.mapping_quality < 60,\n",
    "    \"dup_unmapped_lowmapq_sec_sup\": lambda r: not r.is_duplicate\n",
    "    or r.is_unmapped\n",
    "    or r.mapping_quality < 10\n",
    "    or r.is_secondary\n",
    "    or r.is_supplementary,\n",
    "    \"dup_unmapped_lowmapq_sec_sup_highya\": lambda r: (\n",
    "        not r.is_duplicate\n",
    "        or r.is_unmapped\n",
    "        or r.mapping_quality < 10\n",
    "        or r.is_secondary\n",
    "        or r.is_supplementary\n",
    "    )\n",
    "    and (r.has_tag(\"YA\") and r.get_tag(\"YA\") > 20),\n",
    "    \"dup_unmapped_lowmapq_sec_sup_highya_lowyg\": lambda r: (\n",
    "        not r.is_duplicate\n",
    "        or r.is_unmapped\n",
    "        or r.mapping_quality < 10\n",
    "        or r.is_secondary\n",
    "        or r.is_supplementary\n",
    "    )\n",
    "    and (\n",
    "        r.has_tag(\"YA\")\n",
    "        and r.get_tag(\"YA\") > 20\n",
    "        and r.has_tag(\"YG\")\n",
    "        and r.get_tag(\"YG\") < 10\n",
    "    ),\n",
    "    \"dup_unmapped_unique_sec_sup\": lambda r: not r.is_duplicate\n",
    "    or r.is_unmapped\n",
    "    or r.mapping_quality < 60\n",
    "    or r.is_secondary\n",
    "    or r.is_supplementary,\n",
    "    \"dup_unmapped_unique_sec_sup_highya\": lambda r: (\n",
    "        not r.is_duplicate\n",
    "        or r.is_unmapped\n",
    "        or r.mapping_quality < 60\n",
    "        or r.is_secondary\n",
    "        or r.is_supplementary\n",
    "    )\n",
    "    and (r.has_tag(\"YA\") and r.get_tag(\"YA\") > 20),\n",
    "    \"dup_unmapped_unique_sec_sup_highya_lowyg\": lambda r: (\n",
    "        not r.is_duplicate\n",
    "        or r.is_unmapped\n",
    "        or r.mapping_quality < 60\n",
    "        or r.is_secondary\n",
    "        or r.is_supplementary\n",
    "    )\n",
    "    and (\n",
    "        r.has_tag(\"YA\")\n",
    "        and r.get_tag(\"YA\") > 20\n",
    "        and r.has_tag(\"YG\")\n",
    "        and r.get_tag(\"YG\") < 10\n",
    "    ),\n",
    "}\n",
    "\n",
    "window_filters = {\n",
    "    \"1read\": lambda w: w[\"total_reads\"] >= 1,\n",
    "    \"3read\": lambda w: w[\"total_reads\"] >= 3,\n",
    "    \"3read_highya\": lambda w: w[\"total_reads\"] >= 3\n",
    "    and w[\"YA_mean\"] > 20\n",
    "    and w[\"YG_mean\"] < 10,\n",
    "    \"r1_3read\": lambda w: w[\"r1_fwd\"] >= 3 or w[\"r1_rev\"] >= 3,\n",
    "    \"r1_3read_highya\": lambda w: (w[\"r1_fwd\"] >= 3 or w[\"r1_rev\"] >= 3)\n",
    "    and w[\"YA_mean\"] > 20\n",
    "    and w[\"YG_mean\"] < 10,\n",
    "}"
   ]
  },
  {
   "cell_type": "code",
   "execution_count": 4,
   "metadata": {},
   "outputs": [],
   "source": [
    "f = \"/iblm/logglun02/mcuoco/workflows/sz_slavseq/results/align/CommonBrain/plate1_A4_S22.aln.tagged.sorted.bam\"\n",
    "res = {k: BamWindows(f, 750, 250, rf).bam_windows() for k, rf in read_filters.items()}"
   ]
  },
  {
   "cell_type": "code",
   "execution_count": 7,
   "metadata": {},
   "outputs": [],
   "source": [
    "def covered(windows, annotation):\n",
    "\n",
    "    windows = pr.PyRanges(windows)\n",
    "    annotation = pr.PyRanges(annotation)\n",
    "\n",
    "    return len(windows.overlap(annotation)), len(annotation.overlap(windows))"
   ]
  },
  {
   "cell_type": "code",
   "execution_count": 8,
   "metadata": {},
   "outputs": [
    {
     "ename": "AttributeError",
     "evalue": "'list' object has no attribute 'items'",
     "output_type": "error",
     "traceback": [
      "\u001b[0;31m---------------------------------------------------------------------------\u001b[0m",
      "\u001b[0;31mAttributeError\u001b[0m                            Traceback (most recent call last)",
      "Cell \u001b[0;32mIn[8], line 2\u001b[0m\n\u001b[1;32m      1\u001b[0m plot \u001b[39m=\u001b[39m defaultdict(\u001b[39mlist\u001b[39m)\n\u001b[0;32m----> 2\u001b[0m \u001b[39mfor\u001b[39;00m rf_name, r \u001b[39min\u001b[39;00m res\u001b[39m.\u001b[39;49mitems():\n\u001b[1;32m      3\u001b[0m     plot[\u001b[39m\"\u001b[39m\u001b[39mrf\u001b[39m\u001b[39m\"\u001b[39m]\u001b[39m.\u001b[39mappend(rf_name)\n\u001b[1;32m      4\u001b[0m     plot[\u001b[39m\"\u001b[39m\u001b[39mtotal_windows\u001b[39m\u001b[39m\"\u001b[39m]\u001b[39m.\u001b[39mappend(\u001b[39mlen\u001b[39m(r))\n",
      "\u001b[0;31mAttributeError\u001b[0m: 'list' object has no attribute 'items'"
     ]
    }
   ],
   "source": [
    "plot = defaultdict(list)\n",
    "for rf_name, r in res.items():\n",
    "    plot[\"rf\"].append(rf_name)\n",
    "    plot[\"total_windows\"].append(len(r))\n",
    "    knrgl_windows, knrgl_cov = covered(r, knrgl)\n",
    "    rmsk_windows, rmsk_cov = covered(r, rmsk)\n",
    "    plot[\"knrgl_windows\"].append(knrgl_windows)\n",
    "    plot[\"knrgl_cov\"].append(knrgl_cov)\n",
    "    plot[\"rmsk_windows\"].append(rmsk_windows)\n",
    "    plot[\"rmsk_cov\"].append(rmsk_cov)\n",
    "\n",
    "plot = pd.DataFrame(plot)"
   ]
  },
  {
   "cell_type": "code",
   "execution_count": null,
   "metadata": {},
   "outputs": [],
   "source": []
  }
 ],
 "metadata": {
  "kernelspec": {
   "display_name": "shell",
   "language": "python",
   "name": "python3"
  },
  "language_info": {
   "codemirror_mode": {
    "name": "ipython",
    "version": 3
   },
   "file_extension": ".py",
   "mimetype": "text/x-python",
   "name": "python",
   "nbconvert_exporter": "python",
   "pygments_lexer": "ipython3",
   "version": "3.10.8"
  }
 },
 "nbformat": 4,
 "nbformat_minor": 4
}
