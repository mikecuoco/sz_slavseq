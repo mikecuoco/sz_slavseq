{
 "cells": [
  {
   "attachments": {},
   "cell_type": "markdown",
   "metadata": {},
   "source": [
    "# Test variants of SLAV-seq L1 insertion classification model \n",
    "\n",
    "3/22/23\n",
    "\n",
    "TODO: \n",
    "1. Try new features \n",
    "   - [ ] removing effect of sequencing depth (normalize by total reads)\n",
    "   - [ ] add standard deviation of certain features?\n",
    "   - [ ] try different window sizes\n",
    "   - [ ] try removing flanking regionss"
   ]
  },
  {
   "cell_type": "code",
   "execution_count": 7,
   "metadata": {
    "tags": [],
    "vscode": {
     "languageId": "python"
    }
   },
   "outputs": [],
   "source": [
    "import numpy as np\n",
    "import pandas as pd\n",
    "import seaborn as sns\n",
    "import matplotlib.pyplot as plt\n",
    "import pyranges as pr\n",
    "from sklearn.ensemble import RandomForestClassifier\n",
    "from sklearn.metrics import precision_recall_curve, roc_curve, auc\n",
    "from sklearn.model_selection import StratifiedGroupKFold"
   ]
  },
  {
   "cell_type": "markdown",
   "metadata": {
    "tags": []
   },
   "source": [
    "## Define data reading functions"
   ]
  },
  {
   "cell_type": "code",
   "execution_count": 8,
   "metadata": {
    "tags": [],
    "vscode": {
     "languageId": "python"
    }
   },
   "outputs": [],
   "source": [
    "def read_rmsk(rmsk_outfile):\n",
    "    \"\"\"\n",
    "    Read the repeatmasker output table and return locations of L1HS and L1PA2-6\n",
    "    \"\"\"\n",
    "    # read the rmsk file\n",
    "    df = pd.read_csv(\n",
    "        rmsk_outfile,\n",
    "        skiprows=3,\n",
    "        delim_whitespace=True,\n",
    "        names=[\"Chromosome\", \"Start\", \"End\", \"Strand\", \"repeat\"],\n",
    "        dtype={\"Chromosome\": str, \"Start\": int, \"End\": int},\n",
    "        usecols=[4, 5, 6, 8, 9],\n",
    "    )\n",
    "\n",
    "    # filter for rep_names\n",
    "    rep_names = [\n",
    "        \"L1HS_3end\",\n",
    "        \"L1PA2_3end\",\n",
    "        \"L1PA3_3end\",\n",
    "        \"L1PA4_3end\",\n",
    "        \"L1PA5_3end\",\n",
    "        \"L1PA6_3end\",\n",
    "    ]\n",
    "\n",
    "    df = df[df[\"repeat\"].isin(rep_names)]\n",
    "\n",
    "    # save to new dataframe\n",
    "    df[\"Strand\"] = df[\"Strand\"].str.replace(\"C\", \"-\")\n",
    "    df[\"Start\"] -= 1  # make zero-based\n",
    "\n",
    "    # extend the repeats by 1000 bp\n",
    "    df[\"Start\"] = df.apply(\n",
    "        lambda x: x[\"Start\"] - 1000 if x[\"Strand\"] == \"-\" else x[\"Start\"], axis=1\n",
    "    )\n",
    "    df[\"End\"] = df.apply(\n",
    "        lambda x: x[\"End\"] + 1000 if x[\"Strand\"] == \"+\" else x[\"End\"], axis=1\n",
    "    )\n",
    "\n",
    "    return df\n",
    "\n",
    "\n",
    "def read_knrgl(knrgl_bedfile):\n",
    "    df = pd.read_csv(\n",
    "        knrgl_bedfile,\n",
    "        sep=\"\\t\",\n",
    "        header=None,\n",
    "        names=[\"Chromosome\", \"Start\", \"End\", \"Strand\"],\n",
    "        dtype={\"Chromosome\": str, \"Start\": int, \"End\": int},\n",
    "    )\n",
    "\n",
    "    df[\"Start\"] = df.apply(\n",
    "        lambda x: x[\"Start\"] - 1000 if x[\"Strand\"] == \"-\" else x[\"Start\"], axis=1\n",
    "    )\n",
    "    df[\"End\"] = df.apply(\n",
    "        lambda x: x[\"End\"] + 1000 if x[\"Strand\"] == \"+\" else x[\"End\"], axis=1\n",
    "    )\n",
    "\n",
    "    return df"
   ]
  },
  {
   "attachments": {},
   "cell_type": "markdown",
   "metadata": {},
   "source": [
    "## Read in data\n",
    "\n",
    "TODO: \n",
    " - how many windows in the genome have reads? \n",
    " - what fraction?"
   ]
  },
  {
   "cell_type": "code",
   "execution_count": 27,
   "metadata": {
    "tags": [],
    "vscode": {
     "languageId": "python"
    }
   },
   "outputs": [],
   "source": [
    "df = pd.read_parquet(\n",
    "    \"/iblm/netapp/data4/mcuoco/sz_slavseq/results/model/get_labels/CommonBrain.pqt\"\n",
    ")\n",
    "# remove the low quality cell\n",
    "df = df.loc[df[\"cell_id\"] != \"plate2_E7_S101\"].reset_index(drop=True)"
   ]
  },
  {
   "cell_type": "code",
   "execution_count": 29,
   "metadata": {
    "vscode": {
     "languageId": "python"
    }
   },
   "outputs": [],
   "source": [
    "sv_blacklist = pr.read_bed(\"../../resources/sv_blacklist.bed\").df\n",
    "segdups = pr.read_bed(\"../../resources/segdups.bedpe\").df"
   ]
  },
  {
   "cell_type": "code",
   "execution_count": 31,
   "metadata": {
    "vscode": {
     "languageId": "python"
    }
   },
   "outputs": [],
   "source": [
    "def label_windows(df: pd.DataFrame, other_df: pd.DataFrame, label: str):\n",
    "    assert type(df) == pd.DataFrame, \"df must be a pandas DataFrame\"\n",
    "    assert type(other_df) == pd.DataFrame, \"other_df must be a pandas DataFrame\"\n",
    "    assert label not in df.columns, f\"{label} already in df.columns\"\n",
    "\n",
    "    # convert to pyranges\n",
    "    pr_df = pr.PyRanges(df)\n",
    "    pr_other_df = pr.PyRanges(other_df)\n",
    "\n",
    "    # get the windows that overlap with the other_df\n",
    "    overlapping = pr_df.overlap(pr_other_df).df\n",
    "\n",
    "    # set the index to the chromosome, start, and end\n",
    "    # TODO: check if reads are in same orientation as repeats\n",
    "    df.set_index([\"Chromosome\", \"Start\", \"End\"], inplace=True)\n",
    "    overlapping.set_index([\"Chromosome\", \"Start\", \"End\"], inplace=True)\n",
    "\n",
    "    # label the windows that overlap\n",
    "    df[label] = df.index.isin(overlapping.index)\n",
    "\n",
    "    # reset the index\n",
    "    df.reset_index(inplace=True)\n",
    "\n",
    "    return df"
   ]
  },
  {
   "cell_type": "code",
   "execution_count": 32,
   "metadata": {
    "vscode": {
     "languageId": "python"
    }
   },
   "outputs": [],
   "source": [
    "df = label_windows(df, sv_blacklist, \"sv_blacklist\")\n",
    "df = label_windows(df, segdups, \"segdups\")"
   ]
  },
  {
   "cell_type": "code",
   "execution_count": 35,
   "metadata": {
    "vscode": {
     "languageId": "python"
    }
   },
   "outputs": [
    {
     "data": {
      "text/plain": [
       "False    59359434\n",
       "True      1550034\n",
       "Name: sv_blacklist, dtype: int64"
      ]
     },
     "execution_count": 35,
     "metadata": {},
     "output_type": "execute_result"
    }
   ],
   "source": [
    "df[\"sv_blacklist\"].value_counts()"
   ]
  },
  {
   "cell_type": "code",
   "execution_count": 40,
   "metadata": {
    "vscode": {
     "languageId": "python"
    }
   },
   "outputs": [
    {
     "data": {
      "text/plain": [
       "False    57114238\n",
       "True      3795230\n",
       "Name: segdups, dtype: int64"
      ]
     },
     "execution_count": 40,
     "metadata": {},
     "output_type": "execute_result"
    }
   ],
   "source": [
    "df[\"segdups\"].value_counts()"
   ]
  },
  {
   "cell_type": "code",
   "execution_count": 36,
   "metadata": {
    "vscode": {
     "languageId": "python"
    }
   },
   "outputs": [
    {
     "data": {
      "text/plain": [
       "FLANK    28877825\n",
       "RMSK     24274985\n",
       "OTHER     7698208\n",
       "KNRGL       58450\n",
       "Name: label, dtype: int64"
      ]
     },
     "execution_count": 36,
     "metadata": {},
     "output_type": "execute_result"
    }
   ],
   "source": [
    "df[\"label\"].value_counts()"
   ]
  },
  {
   "cell_type": "code",
   "execution_count": 41,
   "metadata": {
    "vscode": {
     "languageId": "python"
    }
   },
   "outputs": [
    {
     "data": {
      "text/plain": [
       "KNRGL    3323\n",
       "Name: label, dtype: int64"
      ]
     },
     "execution_count": 41,
     "metadata": {},
     "output_type": "execute_result"
    }
   ],
   "source": [
    "df.loc[(df[\"label\"] == \"KNRGL\") & (df[\"segdups\"] == True), \"label\"].value_counts()"
   ]
  },
  {
   "cell_type": "code",
   "execution_count": 42,
   "metadata": {
    "vscode": {
     "languageId": "python"
    }
   },
   "outputs": [
    {
     "data": {
      "text/plain": [
       "OTHER    537174\n",
       "Name: label, dtype: int64"
      ]
     },
     "execution_count": 42,
     "metadata": {},
     "output_type": "execute_result"
    }
   ],
   "source": [
    "df.loc[(df[\"label\"] == \"OTHER\") & (df[\"segdups\"] == True), \"label\"].value_counts()"
   ]
  },
  {
   "cell_type": "code",
   "execution_count": 43,
   "metadata": {
    "vscode": {
     "languageId": "python"
    }
   },
   "outputs": [
    {
     "data": {
      "text/plain": [
       "RMSK    1377018\n",
       "Name: label, dtype: int64"
      ]
     },
     "execution_count": 43,
     "metadata": {},
     "output_type": "execute_result"
    }
   ],
   "source": [
    "df.loc[(df[\"label\"] == \"RMSK\") & (df[\"segdups\"] == True), \"label\"].value_counts()"
   ]
  },
  {
   "cell_type": "code",
   "execution_count": 33,
   "metadata": {
    "vscode": {
     "languageId": "python"
    }
   },
   "outputs": [],
   "source": [
    "knrgl = read_knrgl(\n",
    "    \"/iblm/netapp/data4/mcuoco/sz_slavseq/resources/CommonBrain_insertions.bed\"\n",
    ")\n",
    "rmsk = read_rmsk(\"/iblm/netapp/data4/mcuoco/sz_slavseq/resources/hs38d1.fa.out\")"
   ]
  },
  {
   "cell_type": "code",
   "execution_count": 34,
   "metadata": {
    "tags": [],
    "vscode": {
     "languageId": "python"
    }
   },
   "outputs": [
    {
     "data": {
      "text/plain": [
       "[None, Text(0, 0.5, 'Number of bins'), Text(0.5, 0, 'Label')]"
      ]
     },
     "execution_count": 34,
     "metadata": {},
     "output_type": "execute_result"
    },
    {
     "data": {
      "image/png": "[encoded data removed]",
      "text/plain": [
       "<Figure size 1100x500 with 2 Axes>"
      ]
     },
     "metadata": {},
     "output_type": "display_data"
    }
   ],
   "source": [
    "def knrgl_covered(df, knrgl):\n",
    "    \"compute number of knrgl covered by windows\"\n",
    "\n",
    "    # convert to pyranges\n",
    "    pr_knrgl = pr.PyRanges(knrgl)\n",
    "    pr_df = pr.PyRanges(df)\n",
    "\n",
    "    # get the windows that overlap with the other_df\n",
    "    overlapping = pr_knrgl.overlap(pr_df).df\n",
    "\n",
    "    return len(overlapping)\n",
    "\n",
    "\n",
    "# setup subplots\n",
    "fig, axes = plt.subplots(1, 2, figsize=(11, 5))\n",
    "\n",
    "# 165 total germline\n",
    "df.groupby([\"cell_id\"]).apply(lambda x: knrgl_covered(x, knrgl)).hist(ax=axes[0])\n",
    "axes[0].set(xlabel=\"Number of KNRGL covered\", ylabel=\"Number of cells\")\n",
    "axes[0].grid(False)\n",
    "\n",
    "plot_df = (\n",
    "    df.groupby([\"cell_id\", \"label\"]).size().reset_index().rename({0: \"count\"}, axis=1)\n",
    ")\n",
    "sns.stripplot(plot_df, x=\"label\", y=\"count\", alpha=0.5, ax=axes[1])\n",
    "axes[1].set(yscale=\"log\", ylabel=\"Number of bins\", xlabel=\"Label\")"
   ]
  },
  {
   "cell_type": "code",
   "execution_count": 44,
   "metadata": {
    "vscode": {
     "languageId": "python"
    }
   },
   "outputs": [
    {
     "data": {
      "text/plain": [
       "Index(['Chromosome', 'Start', 'End', 'r2_fwd', 'r1_rev', 'YG_reads',\n",
       "       'YA_reads', 'YS_reads', 'r1_fwd', 'r1_reads', 'r2_rev', 'r2_reads',\n",
       "       'total_reads', 'frac_r1_fwd', 'r1_orientation_entropy', 'r1_mean_mapq',\n",
       "       'r1_sd_mapq', 'r1_starts_gini', 'mean_template_length',\n",
       "       'sd_template_length', 'YG_mean', 'YA_mean', 'YS_mean', 'YA_YG_ratio',\n",
       "       'frac_r2_fwd', 'r2_orientation_entropy', 'r2_mean_mapq', 'r2_sd_mapq',\n",
       "       'r2_starts_gini', 'r2_fwd_bg', 'r1_rev_bg', 'YG_reads_bg',\n",
       "       'YA_reads_bg', 'YS_reads_bg', 'r1_fwd_bg', 'r1_reads_bg', 'r2_rev_bg',\n",
       "       'r2_reads_bg', 'total_reads_bg', 'frac_r1_fwd_bg',\n",
       "       'r1_orientation_entropy_bg', 'r1_mean_mapq_bg', 'r1_sd_mapq_bg',\n",
       "       'r1_starts_gini_bg', 'mean_template_length_bg', 'sd_template_length_bg',\n",
       "       'YG_mean_bg', 'YA_mean_bg', 'YS_mean_bg', 'YA_YG_ratio_bg',\n",
       "       'frac_r2_fwd_bg', 'r2_orientation_entropy_bg', 'r2_mean_mapq_bg',\n",
       "       'r2_sd_mapq_bg', 'r2_starts_gini_bg', 'cell_id', 'donor_id', 'label',\n",
       "       'sv_blacklist', 'segdups'],\n",
       "      dtype='object')"
      ]
     },
     "execution_count": 44,
     "metadata": {},
     "output_type": "execute_result"
    }
   ],
   "source": [
    "# TODO: exclude window in background?\n",
    "df.columns"
   ]
  },
  {
   "cell_type": "code",
   "execution_count": 46,
   "metadata": {
    "vscode": {
     "languageId": "python"
    }
   },
   "outputs": [
    {
     "data": {
      "text/plain": [
       "['r1_mean_mapq',\n",
       " 'r1_sd_mapq',\n",
       " 'r1_starts_gini',\n",
       " 'mean_template_length',\n",
       " 'sd_template_length',\n",
       " 'YG_mean',\n",
       " 'YA_mean',\n",
       " 'YS_mean',\n",
       " 'YA_YG_ratio',\n",
       " 'r2_mean_mapq',\n",
       " 'r2_sd_mapq',\n",
       " 'r2_starts_gini',\n",
       " 'r1_mean_mapq_bg',\n",
       " 'r1_sd_mapq_bg',\n",
       " 'r1_starts_gini_bg',\n",
       " 'mean_template_length_bg',\n",
       " 'sd_template_length_bg',\n",
       " 'YG_mean_bg',\n",
       " 'YA_mean_bg',\n",
       " 'YS_mean_bg',\n",
       " 'YA_YG_ratio_bg',\n",
       " 'r2_mean_mapq_bg',\n",
       " 'r2_sd_mapq_bg',\n",
       " 'r2_starts_gini_bg',\n",
       " 'frac_r1_fwd',\n",
       " 'frac_r2_fwd',\n",
       " 'frac_r1_fwd_bg',\n",
       " 'frac_r2_fwd_bg']"
      ]
     },
     "execution_count": 46,
     "metadata": {},
     "output_type": "execute_result"
    }
   ],
   "source": [
    "# save all features for model to list\n",
    "features = [\n",
    "    x\n",
    "    for x in df.columns\n",
    "    if not any(\n",
    "        x.endswith(y)\n",
    "        for y in [\n",
    "            \"Chromosome\",\n",
    "            \"Start\",\n",
    "            \"End\",\n",
    "            \"cell_id\",\n",
    "            \"donor_id\",\n",
    "            \"label\",\n",
    "            \"index\",\n",
    "            \"reads\",\n",
    "            \"entropy\",\n",
    "            \"fwd\",\n",
    "            \"rev\",\n",
    "            \"reads_bg\",\n",
    "            \"entropy_bg\",\n",
    "            \"fwd_bg\",\n",
    "            \"rev_bg\",\n",
    "            \"sv_blacklist\",\n",
    "            \"segdups\",\n",
    "        ]\n",
    "    )\n",
    "]\n",
    "# add back fractions\n",
    "features.extend([\"frac_r1_fwd\", \"frac_r2_fwd\", \"frac_r1_fwd_bg\", \"frac_r2_fwd_bg\"])\n",
    "assert all(x in df.columns for x in features), \"some feature are not in the dataframe\"\n",
    "features"
   ]
  },
  {
   "attachments": {},
   "cell_type": "markdown",
   "metadata": {},
   "source": [
    "## Define functions for data filtering, model training and testing"
   ]
  },
  {
   "cell_type": "code",
   "execution_count": 47,
   "metadata": {
    "tags": [],
    "vscode": {
     "languageId": "python"
    }
   },
   "outputs": [],
   "source": [
    "# define useful functions\n",
    "def filter_data(df, bool_filter):\n",
    "    label_counts = df[\"label\"].value_counts().to_dict()\n",
    "    knrgl_cov = df.groupby([\"cell_id\"]).apply(lambda x: knrgl_covered(x, knrgl))\n",
    "\n",
    "    # remove other unwanted data\n",
    "    df = df.loc[bool_filter, :].reset_index(drop=True)\n",
    "    new_counts = df[\"label\"].value_counts().to_dict()\n",
    "    new_knrgl_cov = df.groupby([\"cell_id\"]).apply(lambda x: knrgl_covered(x, knrgl))\n",
    "\n",
    "    for k in label_counts.keys():\n",
    "        orig = label_counts[k]\n",
    "        diff = label_counts[k] - new_counts[k]\n",
    "        perc = diff / orig * 100\n",
    "        print(f\"removed {diff}/{orig} ({perc:.2f}%) {k} bins\")\n",
    "\n",
    "    knrgl_lost = sum(knrgl_cov - new_knrgl_cov)\n",
    "    perc = knrgl_lost / sum(knrgl_cov) * 100\n",
    "    print(f\"lost {knrgl_lost}/{sum(knrgl_cov)} ({perc:.2f}%) covered knrgl\")\n",
    "\n",
    "    return df\n",
    "\n",
    "\n",
    "def fit_evaluate(train, test, clf):\n",
    "\n",
    "    # fit model on training set\n",
    "    clf = clf.fit(train[features], train[\"label\"])\n",
    "    KNRGL_ind = np.where(clf.classes_ == \"KNRGL\")[0][0]\n",
    "\n",
    "    # predict on test set\n",
    "    proba = clf.predict_proba(test[features])\n",
    "\n",
    "    # compute metrics\n",
    "    # preicion-recall curve\n",
    "    prc = pd.DataFrame()\n",
    "    prc[\"precision\"], prc[\"recall\"], _ = precision_recall_curve(\n",
    "        test[\"label\"], proba[:, KNRGL_ind], pos_label=\"KNRGL\"\n",
    "    )\n",
    "    prc[\"auc\"] = auc(prc[\"recall\"], prc[\"precision\"])\n",
    "\n",
    "    # receiver-operator characteristic curve\n",
    "    roc = pd.DataFrame()\n",
    "    roc[\"fpr\"], roc[\"tpr\"], _ = roc_curve(\n",
    "        test[\"label\"], proba[:, KNRGL_ind], pos_label=\"KNRGL\"\n",
    "    )\n",
    "    roc[\"auc\"] = auc(roc[\"fpr\"], roc[\"tpr\"])\n",
    "\n",
    "    # feature importance\n",
    "    fi = pd.DataFrame()\n",
    "    fi[\"feature\"] = clf.feature_names_in_\n",
    "    fi[\"importance\"] = clf.feature_importances_\n",
    "\n",
    "    return prc, roc, fi\n",
    "\n",
    "\n",
    "def plot_roc_prc(prc, roc, label, ax):\n",
    "    ax[0].plot(\n",
    "        prc[\"recall\"],\n",
    "        prc[\"precision\"],\n",
    "        label=f\"{label}: AUC = {prc['auc'].values[0]:.3f}\",\n",
    "    )\n",
    "    ax[0].set(\n",
    "        xlim=(0, 1), ylim=(0, 1), xlabel=\"Recall\", ylabel=\"Precision\", title=\"PRC\"\n",
    "    )\n",
    "    ax[0].axes.axline(xy1=(1, 0), slope=-1, linestyle=\"--\", color=\"gray\", linewidth=1)\n",
    "    ax[0].set_aspect(\"equal\", adjustable=\"box\")\n",
    "    ax[0].legend()\n",
    "    ax[1].plot(\n",
    "        roc[\"fpr\"], roc[\"tpr\"], label=f\"{label}: AUC = {roc['auc'].values[0]:.3f}\"\n",
    "    )\n",
    "    ax[1].set(\n",
    "        xlim=(0, 1),\n",
    "        ylim=(0, 1),\n",
    "        xlabel=\"False Positive Rate\",\n",
    "        ylabel=\"True Positive Rate\",\n",
    "        title=\"ROC\",\n",
    "    )\n",
    "    ax[1].axes.axline(xy1=(0, 0), slope=1, linestyle=\"--\", color=\"gray\", linewidth=1)\n",
    "    ax[1].legend()\n",
    "    ax[1].set_aspect(\"equal\", adjustable=\"box\")\n",
    "    return ax"
   ]
  },
  {
   "attachments": {},
   "cell_type": "markdown",
   "metadata": {},
   "source": [
    "## Evaluate various pre-filtering strategies\n",
    "\n",
    "Use basic RF model to evaluate the effect of different pre-filtering strategies"
   ]
  },
  {
   "cell_type": "code",
   "execution_count": 49,
   "metadata": {
    "tags": [],
    "vscode": {
     "languageId": "python"
    }
   },
   "outputs": [],
   "source": [
    "# create various filters\n",
    "datas = dict()\n",
    "min_r1_3 = (df[\"r1_fwd\"] >= 3) | (df[\"r1_rev\"] >= 3)\n",
    "min_r1_5 = (df[\"r1_fwd\"] >= 5) | (df[\"r1_rev\"] >= 5)\n",
    "high_ya_low_yg = (df[\"YA_mean\"] > 20) & (df[\"YG_mean\"] < 10)\n",
    "noblacklist = ~df[\"sv_blacklist\"] & ~df[\"segdups\"]\n",
    "# datas[\"high_ya_low_yg\"] = high_ya_low_yg\n",
    "datas[\"min_r1_3\"] = high_ya_low_yg & min_r1_3\n",
    "datas[\"min_r1_3_noblacklist\"] = high_ya_low_yg & min_r1_3 & noblacklist\n",
    "datas[\"min_r1_5\"] = high_ya_low_yg & min_r1_5\n",
    "datas[\"min_r1_5_noblacklist\"] = high_ya_low_yg & min_r1_5 & noblacklist"
   ]
  },
  {
   "cell_type": "code",
   "execution_count": 50,
   "metadata": {
    "vscode": {
     "languageId": "python"
    }
   },
   "outputs": [
    {
     "name": "stdout",
     "output_type": "stream",
     "text": [
      "\n",
      "processesing min_r1_3...\n",
      "filtering data...\n",
      "removed 26867408/28877825 (93.04%) FLANK bins\n",
      "removed 23235494/24274985 (95.72%) RMSK bins\n",
      "removed 7516221/7698208 (97.64%) OTHER bins\n",
      "removed 15068/58450 (25.78%) KNRGL bins\n",
      "lost 2231/14584 (15.30%) covered knrgl\n",
      "label counts: \n",
      "FLANK    2010417\n",
      "OTHER    1221478\n",
      "KNRGL      43382\n",
      "Name: label, dtype: int64\n",
      "splitting data into train and test sets...\n",
      "fitting and evaluating model...\n"
     ]
    },
    {
     "name": "stderr",
     "output_type": "stream",
     "text": [
      "/iblm/logglun02/mcuoco/workflows/sz_slavseq/.snakemake/conda/28e8aa3bf254bde41c459c6b02222082_/lib/python3.8/site-packages/sklearn/ensemble/_forest.py:560: UserWarning: Some inputs do not have OOB scores. This probably means too few trees were used to compute any reliable OOB estimates.\n",
      "  warn(\n"
     ]
    },
    {
     "name": "stdout",
     "output_type": "stream",
     "text": [
      "plotting...\n",
      "label counts: \n",
      "OTHER    3231895\n",
      "KNRGL      43382\n",
      "Name: label, dtype: int64\n",
      "splitting data into train and test sets...\n",
      "fitting and evaluating model...\n"
     ]
    },
    {
     "name": "stderr",
     "output_type": "stream",
     "text": [
      "/iblm/logglun02/mcuoco/workflows/sz_slavseq/.snakemake/conda/28e8aa3bf254bde41c459c6b02222082_/lib/python3.8/site-packages/sklearn/ensemble/_forest.py:560: UserWarning: Some inputs do not have OOB scores. This probably means too few trees were used to compute any reliable OOB estimates.\n",
      "  warn(\n"
     ]
    },
    {
     "name": "stdout",
     "output_type": "stream",
     "text": [
      "plotting...\n",
      "\n",
      "processesing min_r1_3_nobackground...\n",
      "filtering data...\n",
      "removed 26975814/28877825 (93.41%) FLANK bins\n",
      "removed 23290805/24274985 (95.95%) RMSK bins\n",
      "removed 7551696/7698208 (98.10%) OTHER bins\n",
      "removed 17491/58450 (29.92%) KNRGL bins\n",
      "lost 2957/14584 (20.28%) covered knrgl\n",
      "label counts: \n",
      "FLANK    1902011\n",
      "OTHER    1130692\n",
      "KNRGL      40959\n",
      "Name: label, dtype: int64\n",
      "splitting data into train and test sets...\n",
      "fitting and evaluating model...\n"
     ]
    },
    {
     "name": "stderr",
     "output_type": "stream",
     "text": [
      "/iblm/logglun02/mcuoco/workflows/sz_slavseq/.snakemake/conda/28e8aa3bf254bde41c459c6b02222082_/lib/python3.8/site-packages/sklearn/ensemble/_forest.py:560: UserWarning: Some inputs do not have OOB scores. This probably means too few trees were used to compute any reliable OOB estimates.\n",
      "  warn(\n"
     ]
    },
    {
     "name": "stdout",
     "output_type": "stream",
     "text": [
      "plotting...\n",
      "label counts: \n",
      "OTHER    3032703\n",
      "KNRGL      40959\n",
      "Name: label, dtype: int64\n",
      "splitting data into train and test sets...\n",
      "fitting and evaluating model...\n"
     ]
    },
    {
     "name": "stderr",
     "output_type": "stream",
     "text": [
      "/iblm/logglun02/mcuoco/workflows/sz_slavseq/.snakemake/conda/28e8aa3bf254bde41c459c6b02222082_/lib/python3.8/site-packages/sklearn/ensemble/_forest.py:560: UserWarning: Some inputs do not have OOB scores. This probably means too few trees were used to compute any reliable OOB estimates.\n",
      "  warn(\n"
     ]
    },
    {
     "name": "stdout",
     "output_type": "stream",
     "text": [
      "plotting...\n",
      "\n",
      "processesing min_r1_5...\n",
      "filtering data...\n",
      "removed 27876727/28877825 (96.53%) FLANK bins\n",
      "removed 23744408/24274985 (97.81%) RMSK bins\n",
      "removed 7611198/7698208 (98.87%) OTHER bins\n",
      "removed 19725/58450 (33.75%) KNRGL bins\n",
      "lost 3053/14584 (20.93%) covered knrgl\n",
      "label counts: \n",
      "FLANK    1001098\n",
      "OTHER     617587\n",
      "KNRGL      38725\n",
      "Name: label, dtype: int64\n",
      "splitting data into train and test sets...\n",
      "fitting and evaluating model...\n"
     ]
    },
    {
     "name": "stderr",
     "output_type": "stream",
     "text": [
      "/iblm/logglun02/mcuoco/workflows/sz_slavseq/.snakemake/conda/28e8aa3bf254bde41c459c6b02222082_/lib/python3.8/site-packages/sklearn/ensemble/_forest.py:560: UserWarning: Some inputs do not have OOB scores. This probably means too few trees were used to compute any reliable OOB estimates.\n",
      "  warn(\n"
     ]
    },
    {
     "name": "stdout",
     "output_type": "stream",
     "text": [
      "plotting...\n",
      "label counts: \n",
      "OTHER    1618685\n",
      "KNRGL      38725\n",
      "Name: label, dtype: int64\n",
      "splitting data into train and test sets...\n",
      "fitting and evaluating model...\n"
     ]
    },
    {
     "name": "stderr",
     "output_type": "stream",
     "text": [
      "/iblm/logglun02/mcuoco/workflows/sz_slavseq/.snakemake/conda/28e8aa3bf254bde41c459c6b02222082_/lib/python3.8/site-packages/sklearn/ensemble/_forest.py:560: UserWarning: Some inputs do not have OOB scores. This probably means too few trees were used to compute any reliable OOB estimates.\n",
      "  warn(\n"
     ]
    },
    {
     "name": "stdout",
     "output_type": "stream",
     "text": [
      "plotting...\n",
      "\n",
      "processesing min_r1_5_nobackground...\n",
      "filtering data...\n",
      "removed 27932181/28877825 (96.73%) FLANK bins\n",
      "removed 23772961/24274985 (97.93%) RMSK bins\n",
      "removed 7632589/7698208 (99.15%) OTHER bins\n",
      "removed 21808/58450 (37.31%) KNRGL bins\n",
      "lost 3716/14584 (25.48%) covered knrgl\n",
      "label counts: \n",
      "FLANK    945644\n",
      "OTHER    567643\n",
      "KNRGL     36642\n",
      "Name: label, dtype: int64\n",
      "splitting data into train and test sets...\n",
      "fitting and evaluating model...\n"
     ]
    },
    {
     "name": "stderr",
     "output_type": "stream",
     "text": [
      "/iblm/logglun02/mcuoco/workflows/sz_slavseq/.snakemake/conda/28e8aa3bf254bde41c459c6b02222082_/lib/python3.8/site-packages/sklearn/ensemble/_forest.py:560: UserWarning: Some inputs do not have OOB scores. This probably means too few trees were used to compute any reliable OOB estimates.\n",
      "  warn(\n"
     ]
    },
    {
     "name": "stdout",
     "output_type": "stream",
     "text": [
      "plotting...\n",
      "label counts: \n",
      "OTHER    1513287\n",
      "KNRGL      36642\n",
      "Name: label, dtype: int64\n",
      "splitting data into train and test sets...\n",
      "fitting and evaluating model...\n"
     ]
    },
    {
     "name": "stderr",
     "output_type": "stream",
     "text": [
      "/iblm/logglun02/mcuoco/workflows/sz_slavseq/.snakemake/conda/28e8aa3bf254bde41c459c6b02222082_/lib/python3.8/site-packages/sklearn/ensemble/_forest.py:560: UserWarning: Some inputs do not have OOB scores. This probably means too few trees were used to compute any reliable OOB estimates.\n",
      "  warn(\n"
     ]
    },
    {
     "name": "stdout",
     "output_type": "stream",
     "text": [
      "plotting...\n"
     ]
    },
    {
     "data": {
      "image/png": "[encoded data removed]",
      "text/plain": [
       "<Figure size 1000x500 with 2 Axes>"
      ]
     },
     "metadata": {},
     "output_type": "display_data"
    }
   ],
   "source": [
    "# plot for prc and roc\n",
    "_, ax = plt.subplots(1, 2, figsize=(10, 5))\n",
    "\n",
    "n_estimators = 10\n",
    "\n",
    "for k, v in datas.items():\n",
    "    print(f\"\\nprocessesing {k}...\")\n",
    "\n",
    "    # filter the data based on dictionary of boolean filters\n",
    "    print(\"filtering data...\")\n",
    "    clf_df = filter_data(df, v)\n",
    "\n",
    "    clf_df.loc[clf_df[\"label\"] == \"RMSK\", \"label\"] = \"OTHER\"\n",
    "    clf_df.loc[clf_df[\"label\"] == \"FLANK\", \"label\"] = \"OTHER\"\n",
    "\n",
    "    print(\"label counts: \")\n",
    "    print(clf_df[\"label\"].value_counts())\n",
    "\n",
    "    # split into train and test sets\n",
    "    print(\"splitting data into train and test sets...\")\n",
    "    sgkf = StratifiedGroupKFold(\n",
    "        n_splits=4, shuffle=True, random_state=1\n",
    "    )  # take first fold\n",
    "    sgkf = sgkf.split(clf_df[features], clf_df[\"label\"], groups=clf_df[\"cell_id\"])\n",
    "    train_inds, test_inds = next(sgkf)\n",
    "    train = clf_df.iloc[train_inds]\n",
    "    test = clf_df.iloc[test_inds]\n",
    "\n",
    "    # define classifier\n",
    "    clf = RandomForestClassifier(\n",
    "        n_estimators=n_estimators, oob_score=True, n_jobs=10, random_state=1\n",
    "    )\n",
    "\n",
    "    # fit and evaluate model\n",
    "    print(\"fitting and evaluating model...\")\n",
    "    prc, roc, fi = fit_evaluate(train, test, clf)\n",
    "\n",
    "    # update plot\n",
    "    print(\"plotting...\")\n",
    "    ax = plot_roc_prc(prc, roc, f\"{k}_{i}\", ax)\n",
    "\n",
    "plt.show()"
   ]
  },
  {
   "cell_type": "code",
   "execution_count": null,
   "metadata": {
    "tags": [],
    "vscode": {
     "languageId": "python"
    }
   },
   "outputs": [],
   "source": [
    "# Feature Importance\n",
    "sns.set(font_scale=1)\n",
    "fig = sns.FacetGrid(fi, col=\"data\", col_wrap=4, sharex=False, height=6, aspect=0.6)\n",
    "fig.map_dataframe(\n",
    "    sns.barplot,\n",
    "    x=\"importance\",\n",
    "    y=\"feature\",\n",
    ")\n",
    "sns.despine()"
   ]
  },
  {
   "attachments": {},
   "cell_type": "markdown",
   "metadata": {},
   "source": [
    "# Pick best prefiltering strategy and write output to file"
   ]
  },
  {
   "cell_type": "code",
   "execution_count": 24,
   "metadata": {
    "vscode": {
     "languageId": "python"
    }
   },
   "outputs": [
    {
     "name": "stdout",
     "output_type": "stream",
     "text": [
      "filtering...\n",
      "removed 27876727/28877825 (96.53%) FLANK bins\n",
      "removed 23744408/24274985 (97.81%) RMSK bins\n",
      "removed 7611198/7698208 (98.87%) OTHER bins\n",
      "removed 19725/58450 (33.75%) KNRGL bins\n",
      "lost 3053/14584 (20.93%) covered knrgl\n",
      "saving...\n"
     ]
    }
   ],
   "source": [
    "print(\"filtering...\")\n",
    "clf_df = filter_data(df, datas[\"min_r1_5\"])\n",
    "clf_df.loc[clf_df[\"label\"] == \"RMSK\", \"label\"] = \"OTHER\"\n",
    "clf_df.loc[clf_df[\"label\"] == \"FLANK\", \"label\"] = \"OTHER\"\n",
    "clf_df[\"label_encoded\"] = clf_df[\"label\"].map({\"KNRGL\": 1, \"OTHER\": 0})\n",
    "print(\"saving...\")\n",
    "clf_df.to_parquet(\"CommonBrain_prefiltered.pqt\")"
   ]
  },
  {
   "cell_type": "code",
   "execution_count": 26,
   "metadata": {
    "vscode": {
     "languageId": "python"
    }
   },
   "outputs": [],
   "source": [
    "with open(\"CommonBrain_prefiltered_features.txt\", \"w\") as file:\n",
    "    for f in features:\n",
    "        file.write(f + \"\\n\")"
   ]
  }
 ],
 "metadata": {
  "kernelspec": {
   "display_name": "Python [conda env:28e8aa3bf254bde41c459c6b02222082_]",
   "language": "python",
   "name": "conda-env-28e8aa3bf254bde41c459c6b02222082_-py"
  }
 },
 "nbformat": 4,
 "nbformat_minor": 4
}
