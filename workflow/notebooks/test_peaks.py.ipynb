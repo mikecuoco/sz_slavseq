{
 "cells": [
  {
   "cell_type": "code",
   "execution_count": 1,
   "metadata": {},
   "outputs": [],
   "source": [
    "import pysam, sys, os\n",
    "import cProfile, pstats\n",
    "import matplotlib.pyplot as plt\n",
    "import seaborn as sns\n",
    "import pandas as pd\n",
    "import pyranges as pr\n",
    "from time import time\n",
    "\n",
    "sys.path.append((os.path.abspath(\"..\")))\n",
    "from src.peaks import SlidingPeakCaller, OverlapPeakCaller\n",
    "from src.util.read_l1 import read_rmsk, read_knrgl"
   ]
  },
  {
   "attachments": {},
   "cell_type": "markdown",
   "id": "08ab9415",
   "metadata": {},
   "source": [
    "## Read in ref and non-ref insertions"
   ]
  },
  {
   "cell_type": "code",
   "execution_count": 2,
   "metadata": {},
   "outputs": [],
   "source": [
    "# read annotations of reference and non-reference insertions \n",
    "rmsk = read_rmsk(\"/raidixshare_logg01/mcuoco/internal/BSMN/resources/hs38DH/hs38DH.fa.out\")\n",
    "knrgl = read_knrgl(\"/raidixshare_logg01/mcuoco/internal/BSMN/resources/LIBD74/hs38DH_insertions.bed\").df"
   ]
  },
  {
   "attachments": {},
   "cell_type": "markdown",
   "id": "c274adee",
   "metadata": {},
   "source": [
    "## Label knrgl in bulk that have coverage"
   ]
  },
  {
   "cell_type": "code",
   "execution_count": 3,
   "id": "5290bc3e",
   "metadata": {},
   "outputs": [],
   "source": [
    "bulk_fn = \"/home/mcuoco/workflows/sz_slavseq/results/align/tags/hs38DH/LIBD74/bulk/gDNA_usd2.bam\"\n",
    "\n",
    "with pysam.AlignmentFile(bulk_fn) as bam:\n",
    "\tres = [bam.count(i.Chromosome, i.Start, i.End) for i in knrgl.itertuples()]\n",
    "\n",
    "knrgl[\"coverage\"] = res\n",
    "knrgl = knrgl.loc[knrgl[\"coverage\"] > 0,:]"
   ]
  },
  {
   "attachments": {},
   "cell_type": "markdown",
   "id": "e072b628",
   "metadata": {},
   "source": [
    "## Define function for testing peaks"
   ]
  },
  {
   "cell_type": "code",
   "execution_count": 4,
   "id": "a76fd291",
   "metadata": {},
   "outputs": [],
   "source": [
    "def label_peaks(df, knrgl, contigs):\n",
    "\n",
    "\tif \"width\" not in df.columns:\n",
    "\t\tdf[\"width\"] = df[\"Start\"] - df[\"End\"]\n",
    "\tdf = pr.PyRanges(df.loc[df[\"Chromosome\"].isin(contigs), :])\n",
    "\tknrgl = pr.PyRanges(knrgl.loc[knrgl[\"Chromosome\"].isin(contigs), :])\n",
    "\n",
    "\t# add rmsk and knrgl labels\n",
    "\tdf_knrgl = df.overlap(knrgl)\n",
    "\n",
    "\tif len(df_knrgl) == 0:\n",
    "\t\tdf = df.df.set_index([\"Chromosome\", \"Start\", \"End\"])\n",
    "\t\tdf[\"knrgl\"] = False\n",
    "\t\tdf[\"label\"] = \"other\"\n",
    "\t\tprint(f\"0/{len(df)} peaks covering 0/{len(knrgl)} knrgl L1 annotations\")\n",
    "\t\treturn df\n",
    "\t\n",
    "\tdf_knrgl = df_knrgl.df.set_index([\"Chromosome\", \"Start\", \"End\"])\n",
    "\tknrgl_covered = len(knrgl.overlap(df))\n",
    "\n",
    "\tdf = df.df.set_index([\"Chromosome\", \"Start\", \"End\"])\n",
    "\tdf[\"knrgl\"] = df.index.isin(df_knrgl.index)\n",
    "\tdf[\"label\"] = df.apply(lambda x: \"knrgl\" if x.knrgl else \"other\", axis=1)\n",
    "\n",
    "\tknrgl_peaks = sum(df[\"label\"] == \"knrgl\")\n",
    "\t\n",
    "\tprint(f\"{knrgl_peaks}/{len(df)} peaks covering {knrgl_covered}/{len(knrgl)} knrgl L1 annotations\")\n",
    "\n",
    "\treturn df"
   ]
  },
  {
   "attachments": {},
   "cell_type": "markdown",
   "id": "8060c299",
   "metadata": {},
   "source": [
    "## Test different peak calling methods"
   ]
  },
  {
   "cell_type": "code",
   "execution_count": 5,
   "id": "2a066da9",
   "metadata": {},
   "outputs": [],
   "source": [
    "def test_peaks(bam_fn, fxn, kwargs, contigs=None):\n",
    "\twith pysam.AlignmentFile(bam_fn) as bam:\n",
    "\t\tpc = fxn(bam, **kwargs)\n",
    "\t\tpeaks = pc.run_peak_caller(contigs)\n",
    "\t\tpeaks.rename(columns={\"chr\":\"Chromosome\", \"start\":\"Start\", \"end\":\"End\"}, inplace=True)\n",
    "\t\treturn label_peaks(peaks, knrgl, contigs)"
   ]
  },
  {
   "cell_type": "code",
   "execution_count": 8,
   "id": "4e870966",
   "metadata": {},
   "outputs": [],
   "source": [
    "fn = {\n",
    "\t\"bulk\": \"/home/mcuoco/workflows/sz_slavseq/results/align/tags/hs38DH/LIBD74/bulk/gDNA_usd2.bam\",\n",
    "\t\"mda\": \"/home/mcuoco/workflows/sz_slavseq/results/align/tags/hs38DH/LIBD74/mda/usd02_A2_S128.bam\"\n",
    "}\n",
    "\n",
    "tests = {\n",
    "\t\"Sliding 750x250 NoFilter NoMerge NoBG\": {\"fxn\": SlidingPeakCaller, \"kwargs\": {\"read_filter\": False, \"merge\": False, \"window_size\": 750, \"step_size\": 250, \"bg_sizes\": None}},\n",
    "\t\"Sliding 750x250 NoMerge NoBG\": {\"fxn\": SlidingPeakCaller, \"kwargs\": {\"read_filter\": True, \"merge\": False, \"window_size\": 750, \"step_size\": 250, \"bg_sizes\": None}},\n",
    "\t\"Sliding 750x250 NoBG\": {\"fxn\": SlidingPeakCaller, \"kwargs\": {\"read_filter\": True, \"merge\": True, \"window_size\": 750, \"step_size\": 250, \"bg_sizes\": None}},\n",
    "\t\"OverlappingReads\": {\"fxn\": OverlapPeakCaller, \"kwargs\": {\"read_filter\": True}},\n",
    "\t\"Sliding 750x250\": {\"fxn\": SlidingPeakCaller, \"kwargs\": {\"read_filter\": True, \"merge\": True, \"window_size\": 750, \"step_size\": 250, \"bg_sizes\": [5000, 10000, 20000]}},\n",
    "    \"Sliding 750x1\": {\"fxn\": SlidingPeakCaller, \"kwargs\": {\"read_filter\": True, \"merge\": True, \"window_size\": 750, \"step_size\": 1, \"bg_sizes\": [5000, 10000, 20000]}},\n",
    "    \"Sliding 500x1\": {\"fxn\": SlidingPeakCaller, \"kwargs\": {\"read_filter\": True, \"merge\": True, \"window_size\": 500, \"step_size\": 1, \"bg_sizes\": [5000, 10000, 20000]}},\n",
    "    \"Sliding 400x1\": {\"fxn\": SlidingPeakCaller, \"kwargs\": {\"read_filter\": True, \"merge\": True, \"window_size\": 400, \"step_size\": 1, \"bg_sizes\": [5000, 10000, 20000]}},\n",
    "    \"Sliding 300x1\": {\"fxn\": SlidingPeakCaller, \"kwargs\": {\"read_filter\": True, \"merge\": True, \"window_size\": 300, \"step_size\": 1, \"bg_sizes\": [5000, 10000, 20000]}},\n",
    "}"
   ]
  },
  {
   "cell_type": "code",
   "execution_count": 9,
   "id": "adf96a46",
   "metadata": {},
   "outputs": [
    {
     "name": "stdout",
     "output_type": "stream",
     "text": [
      "Running Sliding 750x250 NoFilter NoMerge NoBG on bulk...\n",
      "72/25436 peaks covering 17/18 knrgl L1 annotations\n",
      "Running Sliding 750x250 NoMerge NoBG on bulk...\n",
      "68/864 peaks covering 16/18 knrgl L1 annotations\n",
      "Running Sliding 750x250 NoBG on bulk...\n",
      "16/304 peaks covering 16/18 knrgl L1 annotations\n",
      "Running OverlappingReads on bulk...\n",
      "17/4401 peaks covering 17/18 knrgl L1 annotations\n",
      "Running Sliding 750x250 on bulk...\n",
      "9/216 peaks covering 9/18 knrgl L1 annotations\n",
      "Running Sliding 750x1 on bulk...\n",
      "15/100 peaks covering 15/18 knrgl L1 annotations\n",
      "Running Sliding 500x1 on bulk...\n",
      "15/213 peaks covering 15/18 knrgl L1 annotations\n",
      "Running Sliding 400x1 on bulk...\n",
      "15/237 peaks covering 15/18 knrgl L1 annotations\n",
      "Running Sliding 300x1 on bulk...\n",
      "14/222 peaks covering 14/18 knrgl L1 annotations\n",
      "Running Sliding 750x250 NoFilter NoMerge NoBG on mda...\n",
      "49/25786 peaks covering 13/18 knrgl L1 annotations\n",
      "Running Sliding 750x250 NoMerge NoBG on mda...\n",
      "39/3681 peaks covering 11/18 knrgl L1 annotations\n",
      "Running Sliding 750x250 NoBG on mda...\n",
      "11/824 peaks covering 11/18 knrgl L1 annotations\n",
      "Running OverlappingReads on mda...\n",
      "14/4777 peaks covering 12/18 knrgl L1 annotations\n",
      "Running Sliding 750x250 on mda...\n"
     ]
    },
    {
     "ename": "AssertionError",
     "evalue": "peak chr5:100640750-100646250 width must be less than background window chr5:100641000-100646000 width",
     "output_type": "error",
     "traceback": [
      "\u001b[0;31m---------------------------------------------------------------------------\u001b[0m",
      "\u001b[0;31mAssertionError\u001b[0m                            Traceback (most recent call last)",
      "Cell \u001b[0;32mIn[9], line 5\u001b[0m\n\u001b[1;32m      3\u001b[0m \u001b[39mfor\u001b[39;00m k, v \u001b[39min\u001b[39;00m tests\u001b[39m.\u001b[39mitems():\n\u001b[1;32m      4\u001b[0m \t\u001b[39mprint\u001b[39m(\u001b[39mf\u001b[39m\u001b[39m\"\u001b[39m\u001b[39mRunning \u001b[39m\u001b[39m{\u001b[39;00mk\u001b[39m}\u001b[39;00m\u001b[39m on \u001b[39m\u001b[39m{\u001b[39;00mn\u001b[39m}\u001b[39;00m\u001b[39m...\u001b[39m\u001b[39m\"\u001b[39m)\n\u001b[0;32m----> 5\u001b[0m \tdf \u001b[39m=\u001b[39m test_peaks(f, contigs \u001b[39m=\u001b[39;49m [\u001b[39m\"\u001b[39;49m\u001b[39mchr5\u001b[39;49m\u001b[39m\"\u001b[39;49m], \u001b[39m*\u001b[39;49m\u001b[39m*\u001b[39;49mv)\n\u001b[1;32m      6\u001b[0m \tdf[\u001b[39m\"\u001b[39m\u001b[39mfile\u001b[39m\u001b[39m\"\u001b[39m] \u001b[39m=\u001b[39m n\n\u001b[1;32m      7\u001b[0m \tdf[\u001b[39m\"\u001b[39m\u001b[39mname\u001b[39m\u001b[39m\"\u001b[39m] \u001b[39m=\u001b[39m k\n",
      "Cell \u001b[0;32mIn[5], line 4\u001b[0m, in \u001b[0;36mtest_peaks\u001b[0;34m(bam_fn, fxn, kwargs, contigs)\u001b[0m\n\u001b[1;32m      2\u001b[0m \u001b[39mwith\u001b[39;00m pysam\u001b[39m.\u001b[39mAlignmentFile(bam_fn) \u001b[39mas\u001b[39;00m bam:\n\u001b[1;32m      3\u001b[0m \tpc \u001b[39m=\u001b[39m fxn(bam, \u001b[39m*\u001b[39m\u001b[39m*\u001b[39mkwargs)\n\u001b[0;32m----> 4\u001b[0m \tpeaks \u001b[39m=\u001b[39m pc\u001b[39m.\u001b[39;49mrun_peak_caller(contigs)\n\u001b[1;32m      5\u001b[0m \tpeaks\u001b[39m.\u001b[39mrename(columns\u001b[39m=\u001b[39m{\u001b[39m\"\u001b[39m\u001b[39mchr\u001b[39m\u001b[39m\"\u001b[39m:\u001b[39m\"\u001b[39m\u001b[39mChromosome\u001b[39m\u001b[39m\"\u001b[39m, \u001b[39m\"\u001b[39m\u001b[39mstart\u001b[39m\u001b[39m\"\u001b[39m:\u001b[39m\"\u001b[39m\u001b[39mStart\u001b[39m\u001b[39m\"\u001b[39m, \u001b[39m\"\u001b[39m\u001b[39mend\u001b[39m\u001b[39m\"\u001b[39m:\u001b[39m\"\u001b[39m\u001b[39mEnd\u001b[39m\u001b[39m\"\u001b[39m}, inplace\u001b[39m=\u001b[39m\u001b[39mTrue\u001b[39;00m)\n\u001b[1;32m      6\u001b[0m \t\u001b[39mreturn\u001b[39;00m label_peaks(peaks, knrgl, contigs)\n",
      "File \u001b[0;32m/raidixshare_log-g/mcuoco/workflows/sz_slavseq/workflow/src/peaks.py:51\u001b[0m, in \u001b[0;36mBasePeakCaller.run_peak_caller\u001b[0;34m(self, contigs)\u001b[0m\n\u001b[1;32m     48\u001b[0m \t\t\u001b[39massert\u001b[39;00m c \u001b[39min\u001b[39;00m \u001b[39mself\u001b[39m\u001b[39m.\u001b[39mbam\u001b[39m.\u001b[39mreferences, \u001b[39mf\u001b[39m\u001b[39m\"\u001b[39m\u001b[39m{\u001b[39;00mc\u001b[39m}\u001b[39;00m\u001b[39m not in bam file.\u001b[39m\u001b[39m\"\u001b[39m\n\u001b[1;32m     50\u001b[0m \u001b[39m# run peak caller on each contig\u001b[39;00m\n\u001b[0;32m---> 51\u001b[0m result \u001b[39m=\u001b[39m [p \u001b[39mfor\u001b[39;00m c \u001b[39min\u001b[39;00m contigs \u001b[39mfor\u001b[39;00m p \u001b[39min\u001b[39;00m \u001b[39mself\u001b[39m\u001b[39m.\u001b[39mcall_peaks(c)]\n\u001b[1;32m     53\u001b[0m \u001b[39mreturn\u001b[39;00m pd\u001b[39m.\u001b[39mDataFrame(result)\n",
      "File \u001b[0;32m/raidixshare_log-g/mcuoco/workflows/sz_slavseq/workflow/src/peaks.py:51\u001b[0m, in \u001b[0;36m<listcomp>\u001b[0;34m(.0)\u001b[0m\n\u001b[1;32m     48\u001b[0m \t\t\u001b[39massert\u001b[39;00m c \u001b[39min\u001b[39;00m \u001b[39mself\u001b[39m\u001b[39m.\u001b[39mbam\u001b[39m.\u001b[39mreferences, \u001b[39mf\u001b[39m\u001b[39m\"\u001b[39m\u001b[39m{\u001b[39;00mc\u001b[39m}\u001b[39;00m\u001b[39m not in bam file.\u001b[39m\u001b[39m\"\u001b[39m\n\u001b[1;32m     50\u001b[0m \u001b[39m# run peak caller on each contig\u001b[39;00m\n\u001b[0;32m---> 51\u001b[0m result \u001b[39m=\u001b[39m [p \u001b[39mfor\u001b[39;00m c \u001b[39min\u001b[39;00m contigs \u001b[39mfor\u001b[39;00m p \u001b[39min\u001b[39;00m \u001b[39mself\u001b[39m\u001b[39m.\u001b[39mcall_peaks(c)]\n\u001b[1;32m     53\u001b[0m \u001b[39mreturn\u001b[39;00m pd\u001b[39m.\u001b[39mDataFrame(result)\n",
      "File \u001b[0;32m/raidixshare_log-g/mcuoco/workflows/sz_slavseq/workflow/src/peaks.py:191\u001b[0m, in \u001b[0;36mSlidingPeakCaller.find_peaks\u001b[0;34m(self, peak_windows, bg_windows, pval_cutoff)\u001b[0m\n\u001b[1;32m    189\u001b[0m \t\u001b[39mexcept\u001b[39;00m \u001b[39mStopIteration\u001b[39;00m:\n\u001b[1;32m    190\u001b[0m \t\t\u001b[39mbreak\u001b[39;00m\n\u001b[0;32m--> 191\u001b[0m \u001b[39massert\u001b[39;00m (\n\u001b[1;32m    192\u001b[0m \tp[\u001b[39m\"\u001b[39m\u001b[39mwidth\u001b[39m\u001b[39m\"\u001b[39m] \u001b[39m<\u001b[39m bg[ws][\u001b[39m\"\u001b[39m\u001b[39mwidth\u001b[39m\u001b[39m\"\u001b[39m]\n\u001b[1;32m    193\u001b[0m ), \u001b[39m\"\u001b[39m\u001b[39mpeak \u001b[39m\u001b[39m{}\u001b[39;00m\u001b[39m:\u001b[39m\u001b[39m{}\u001b[39;00m\u001b[39m-\u001b[39m\u001b[39m{}\u001b[39;00m\u001b[39m width must be less than background window \u001b[39m\u001b[39m{}\u001b[39;00m\u001b[39m:\u001b[39m\u001b[39m{}\u001b[39;00m\u001b[39m-\u001b[39m\u001b[39m{}\u001b[39;00m\u001b[39m width\u001b[39m\u001b[39m\"\u001b[39m\u001b[39m.\u001b[39mformat(\n\u001b[1;32m    194\u001b[0m \t\t\t\tp[\u001b[39m\"\u001b[39m\u001b[39mchr\u001b[39m\u001b[39m\"\u001b[39m],\n\u001b[1;32m    195\u001b[0m \tp[\u001b[39m\"\u001b[39m\u001b[39mstart\u001b[39m\u001b[39m\"\u001b[39m],\n\u001b[1;32m    196\u001b[0m \tp[\u001b[39m\"\u001b[39m\u001b[39mend\u001b[39m\u001b[39m\"\u001b[39m],\n\u001b[1;32m    197\u001b[0m \tbg[ws][\u001b[39m\"\u001b[39m\u001b[39mchr\u001b[39m\u001b[39m\"\u001b[39m],\n\u001b[1;32m    198\u001b[0m \tbg[ws][\u001b[39m\"\u001b[39m\u001b[39mstart\u001b[39m\u001b[39m\"\u001b[39m],\n\u001b[1;32m    199\u001b[0m \tbg[ws][\u001b[39m\"\u001b[39m\u001b[39mend\u001b[39m\u001b[39m\"\u001b[39m],\n\u001b[1;32m    200\u001b[0m )\n\u001b[1;32m    201\u001b[0m \u001b[39massert\u001b[39;00m (\n\u001b[1;32m    202\u001b[0m \tp[\u001b[39m\"\u001b[39m\u001b[39mstart\u001b[39m\u001b[39m\"\u001b[39m] \u001b[39m>\u001b[39m\u001b[39m=\u001b[39m bg[ws][\u001b[39m\"\u001b[39m\u001b[39mstart\u001b[39m\u001b[39m\"\u001b[39m]\n\u001b[1;32m    203\u001b[0m ), \u001b[39m\"\u001b[39m\u001b[39mpeak \u001b[39m\u001b[39m{}\u001b[39;00m\u001b[39m:\u001b[39m\u001b[39m{}\u001b[39;00m\u001b[39m-\u001b[39m\u001b[39m{}\u001b[39;00m\u001b[39m start must be greater than or equal to background window \u001b[39m\u001b[39m{}\u001b[39;00m\u001b[39m:\u001b[39m\u001b[39m{}\u001b[39;00m\u001b[39m-\u001b[39m\u001b[39m{}\u001b[39;00m\u001b[39m start\u001b[39m\u001b[39m\"\u001b[39m\u001b[39m.\u001b[39mformat(\n\u001b[0;32m   (...)\u001b[0m\n\u001b[1;32m    209\u001b[0m \tbg[ws][\u001b[39m\"\u001b[39m\u001b[39mend\u001b[39m\u001b[39m\"\u001b[39m],\n\u001b[1;32m    210\u001b[0m )\n\u001b[1;32m    211\u001b[0m \u001b[39massert\u001b[39;00m (\n\u001b[1;32m    212\u001b[0m \tp[\u001b[39m\"\u001b[39m\u001b[39mend\u001b[39m\u001b[39m\"\u001b[39m] \u001b[39m<\u001b[39m\u001b[39m=\u001b[39m bg[ws][\u001b[39m\"\u001b[39m\u001b[39mend\u001b[39m\u001b[39m\"\u001b[39m]\n\u001b[1;32m    213\u001b[0m ), \u001b[39m\"\u001b[39m\u001b[39mpeak \u001b[39m\u001b[39m{}\u001b[39;00m\u001b[39m:\u001b[39m\u001b[39m{}\u001b[39;00m\u001b[39m-\u001b[39m\u001b[39m{}\u001b[39;00m\u001b[39m end must be less than or equal to background window \u001b[39m\u001b[39m{}\u001b[39;00m\u001b[39m:\u001b[39m\u001b[39m{}\u001b[39;00m\u001b[39m-\u001b[39m\u001b[39m{}\u001b[39;00m\u001b[39m end\u001b[39m\u001b[39m\"\u001b[39m\u001b[39m.\u001b[39mformat(\n\u001b[0;32m   (...)\u001b[0m\n\u001b[1;32m    219\u001b[0m \tbg[ws][\u001b[39m\"\u001b[39m\u001b[39mend\u001b[39m\u001b[39m\"\u001b[39m],\n\u001b[1;32m    220\u001b[0m )\n",
      "\u001b[0;31mAssertionError\u001b[0m: peak chr5:100640750-100646250 width must be less than background window chr5:100641000-100646000 width"
     ]
    }
   ],
   "source": [
    "df_list = []\n",
    "for n, f in fn.items():\n",
    "\tfor k, v in tests.items():\n",
    "\t\tprint(f\"Running {k} on {n}...\")\n",
    "\t\tdf = test_peaks(f, contigs = [\"chr5\"], **v)\n",
    "\t\tdf[\"file\"] = n\n",
    "\t\tdf[\"name\"] = k\n",
    "\t\tdf_list.append(df.copy())\n",
    "\t\t\n",
    "df = pd.concat(df_list)"
   ]
  },
  {
   "cell_type": "code",
   "execution_count": null,
   "id": "488aa3c9",
   "metadata": {},
   "outputs": [],
   "source": [
    "plt.clf()\n",
    "fig, axes = plt.subplots(2, 1)\n",
    "fig1 = sns.boxplot(ax = axes[0], data = df, y = \"name\", x = \"count\", hue=\"label\", dodge=True)\n",
    "fig1.set(xscale = \"log\", xlabel = \"# reads\", ylabel = \"Peak caller\")\n",
    "axes[0].legend_.remove()\n",
    "fig2 = sns.boxplot(ax = axes[1], data=df, y = \"name\", x = \"width\", hue=\"label\", dodge=True)\n",
    "fig2.set(xlabel = \"width (bp)\", ylabel = \"Peak caller\")\n",
    "plt.tight_layout()\n",
    "sns.move_legend(axes[1],loc=\"center right\", bbox_to_anchor=(1.3, 1.2),title=None,frameon=False,)\n",
    "plt.show()"
   ]
  },
  {
   "cell_type": "code",
   "execution_count": null,
   "id": "5d540213",
   "metadata": {},
   "outputs": [],
   "source": [
    "# plot\n",
    "fig = sns.JointGrid(data=df.reset_index(), x=\"width\", y=\"nreads\", hue=\"label\", marginal_ticks=True)\n",
    "fig.plot_joint(sns.scatterplot, alpha = 0.5)\n",
    "fig.ax_joint.set(yscale = \"log\")\n",
    "\n",
    "fig.plot_marginals(sns.histplot, bins=100, element=\"step\", fill=False)\n",
    "fig.ax_marg_x.set(yscale = \"log\")\n",
    "fig.ax_marg_y.set(xscale = \"log\")\n",
    "fig.ax_joint.set(xlabel = \"Peak width (bp)\", ylabel = \"Number of reads\")\n",
    "plt.show()"
   ]
  }
 ],
 "metadata": {
  "kernelspec": {
   "display_name": "Python 3",
   "language": "python",
   "name": "python3"
  },
  "language_info": {
   "codemirror_mode": {
    "name": "ipython",
    "version": 3
   },
   "file_extension": ".py",
   "mimetype": "text/x-python",
   "name": "python",
   "nbconvert_exporter": "python",
   "pygments_lexer": "ipython3",
   "version": "3.8.15"
  },
  "orig_nbformat": 4,
  "vscode": {
   "interpreter": {
    "hash": "e7d8bb627d49c274a858f099d942f5a4b4c51101d97339792ecfe48144eb7fc6"
   }
  }
 },
 "nbformat": 4,
 "nbformat_minor": 5
}
