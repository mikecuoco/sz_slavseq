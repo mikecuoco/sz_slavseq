{
 "cells": [
  {
   "attachments": {},
   "cell_type": "markdown",
   "metadata": {},
   "source": [
    "# Feature Report"
   ]
  },
  {
   "attachments": {},
   "cell_type": "markdown",
   "metadata": {},
   "source": [
    "## Read in data"
   ]
  },
  {
   "cell_type": "code",
   "execution_count": null,
   "metadata": {},
   "outputs": [],
   "source": [
    "import numpy as np\n",
    "import pandas as pd\n",
    "\n",
    "df = pd.concat([pd.read_parquet(fn) for fn in snakemake.input]).set_index(\n",
    "\t[\n",
    "\t\t\"chrom\",\n",
    "\t\t\"start\",\n",
    "\t\t\"end\",\n",
    "\t\t\"cell_id\",\n",
    "\t\t\"donor_id\",\n",
    "\t]\n",
    ")\n",
    "\n",
    "# make features\n",
    "features = [\n",
    "\tx\n",
    "\tfor x in df.columns\n",
    "\tif not any(\n",
    "\t\tx.endswith(y)\n",
    "\t\tfor y in [\n",
    "\t\t\t\"chrom\",\n",
    "\t\t\t\"start\",\n",
    "\t\t\t\"end\",\n",
    "\t\t\t\"cell_id\",\n",
    "\t\t\t\"donor_id\",\n",
    "\t\t\t\"label\",\n",
    "\t\t\t\"build\",\n",
    "\t\t\t\"db\",\n",
    "\t\t]\n",
    "\t)\n",
    "]\n",
    "\n",
    "# replace NA values with 0\n",
    "df[features] = df[features].fillna(0)\n",
    "\n",
    "# take minimum of features and 4e9 to avoid overflow error\n",
    "df[features] = np.minimum(df[features], 4e9)\n",
    "print(df.shape)\n",
    "print(df.columns)\n",
    "\n",
    "labels = df['label'].unique()\n",
    "print(labels)"
   ]
  },
  {
   "attachments": {},
   "cell_type": "markdown",
   "id": "2c4d1fbe",
   "metadata": {},
   "source": [
    "## Downsample majority class for easier comparison"
   ]
  },
  {
   "cell_type": "code",
   "execution_count": null,
   "id": "2510220a",
   "metadata": {},
   "outputs": [],
   "source": [
    "# downsample to smallest class\n",
    "from imblearn.under_sampling import RandomUnderSampler\n",
    "\n",
    "down_to = (\n",
    "    df[\"label\"].value_counts().min()\n",
    "    if df[\"label\"].value_counts().min() < 10000\n",
    "    else 10000\n",
    ")\n",
    "sample_dict = {label: down_to for label in labels}\n",
    "df, _ = RandomUnderSampler(sampling_strategy=sample_dict, random_state=42).fit_resample(\n",
    "    df, df[\"label\"]\n",
    ")"
   ]
  },
  {
   "attachments": {},
   "cell_type": "markdown",
   "id": "ba306ac7",
   "metadata": {},
   "source": [
    "## PCA\n",
    "\n",
    "TODO: try PCA with different min_read thresholds"
   ]
  },
  {
   "cell_type": "code",
   "execution_count": null,
   "id": "711b0af3",
   "metadata": {},
   "outputs": [],
   "source": [
    "from sklearn.preprocessing import StandardScaler\n",
    "from sklearn.decomposition import PCA\n",
    "\n",
    "# make input data\n",
    "pca_df = StandardScaler().fit_transform(df[features])\n",
    "\n",
    "# fit PCA\n",
    "pca = PCA(n_components=50, svd_solver=\"arpack\").fit_transform(pca_df)\n",
    "\n",
    "# preprare for plotting\n",
    "plot_df = pd.DataFrame(pca[:, :50])\n",
    "plot_df.columns = [\"PC{}\".format(i) for i in range(1, len(plot_df.columns) + 1)]\n",
    "plot_df[\"label\"] = df[\"label\"].to_numpy()"
   ]
  },
  {
   "cell_type": "code",
   "execution_count": null,
   "id": "d6cf6acc",
   "metadata": {},
   "outputs": [],
   "source": [
    "import seaborn as sns\n",
    "\n",
    "sns.pairplot(\n",
    "    plot_df[[\"PC1\", \"PC2\", \"PC3\", \"PC4\", \"PC5\", \"label\"]],  # first 5 PCs\n",
    "    hue=\"label\",\n",
    "    hue_order=labels,\n",
    "    plot_kws={\"alpha\": 0.5, \"size\": 2},\n",
    ")"
   ]
  },
  {
   "attachments": {},
   "cell_type": "markdown",
   "id": "a89f5597",
   "metadata": {},
   "source": [
    "## tSNE"
   ]
  },
  {
   "cell_type": "code",
   "execution_count": null,
   "id": "ddbc4348",
   "metadata": {},
   "outputs": [],
   "source": [
    "# tSNE\n",
    "# TODO: color by donor, other covariates\n",
    "# TODO: try different resolutions\n",
    "from sklearn.manifold import TSNE\n",
    "\n",
    "tsne = TSNE(random_state=42, init=\"random\").fit_transform(plot_df.drop(\"label\", axis=1))\n",
    "\n",
    "tsne_df = pd.DataFrame(tsne)\n",
    "tsne_df.columns = [\"tSNE1\", \"tSNE2\"]\n",
    "tsne_df[\"label\"] = plot_df[\"label\"]"
   ]
  },
  {
   "cell_type": "code",
   "execution_count": null,
   "id": "f9086ef6",
   "metadata": {},
   "outputs": [],
   "source": [
    "sns.scatterplot(\n",
    "    tsne_df, x=\"tSNE1\", y=\"tSNE2\", hue=\"label\", hue_order=labels, alpha=0.5, s=3\n",
    ")"
   ]
  }
 ],
 "metadata": {
  "kernelspec": {
   "display_name": "Python 3",
   "language": "python",
   "name": "python3"
  },
  "language_info": {
   "name": "python",
   "version": "3.6.8 (default, Nov 16 2020, 16:55:22) \n[GCC 4.8.5 20150623 (Red Hat 4.8.5-44)]"
  },
  "orig_nbformat": 4,
  "vscode": {
   "interpreter": {
    "hash": "31f2aee4e71d21fbe5cf8b01ff0e069b9275f58929596ceb00d14d90e3e16cd6"
   }
  }
 },
 "nbformat": 4,
 "nbformat_minor": 5
}
