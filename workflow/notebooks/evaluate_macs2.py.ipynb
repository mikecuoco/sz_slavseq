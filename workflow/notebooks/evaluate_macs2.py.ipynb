{
 "cells": [
  {
   "attachments": {},
   "cell_type": "markdown",
   "id": "b062db65",
   "metadata": {},
   "source": [
    "# Peak evaluation"
   ]
  },
  {
   "cell_type": "code",
   "execution_count": null,
   "metadata": {},
   "outputs": [],
   "source": [
    "import pandas as pd\n",
    "import seaborn as sns\n",
    "import pyranges as pr\n",
    "import pysam"
   ]
  },
  {
   "attachments": {},
   "cell_type": "markdown",
   "id": "51675c70",
   "metadata": {},
   "source": [
    "## Read in data"
   ]
  },
  {
   "cell_type": "code",
   "execution_count": null,
   "metadata": {},
   "outputs": [],
   "source": [
    "peaks = pd.read_csv(\n",
    "    snakemake.input.peaks,\n",
    "    sep=\"\\t\",\n",
    "    header=None,\n",
    "    names=[\n",
    "        \"chrom\",\n",
    "        \"start\",\n",
    "        \"end\",\n",
    "        \"name\",\n",
    "        \"score\",\n",
    "        \"strand\",\n",
    "        \"signalValue\",\n",
    "        \"pValue\",\n",
    "        \"qValue\",\n",
    "        \"peak\",\n",
    "    ],\n",
    ")\n",
    "peaks[\"size\"] = peaks[\"end\"] - peaks[\"start\"]\n",
    "\n",
    "# get read counts\n",
    "tbx = pysam.TabixFile(snakemake.input.reads)\n",
    "peaks[\"num_reads\"] = peaks.apply(lambda x: sum(1 for _ in tbx.fetch(x[\"chrom\"], x[\"start\"], x[\"end\"])), axis=1)\n",
    "\n",
    "# # calculate Fraction of Reads in Peaks (FRiP) \n",
    "peak_reads = peaks[\"num_reads\"].sum()\n",
    "tbx = pysam.TabixFile(snakemake.input.reads)\n",
    "total_reads = sum(1 for _ in tbx.fetch())\n",
    "frip = peak_reads / total_reads\n",
    "print(f\"Fraction of Reads in Peaks (FRiP): {frip:.4f}\")\n",
    "print(f\"Total peaks: {len(peaks)}\")\n",
    "\n",
    "min_reads = peaks['num_reads'].min()\n",
    "max_reads = peaks['num_reads'].max()\n",
    "print(f\"Peaks have from {min_reads}-{max_reads} reads\")\n",
    "print(f\"{len(peaks[peaks['num_reads'] == min_reads])} peaks have {min_reads} reads, {len(peaks[peaks['num_reads'] == max_reads])} peaks have {max_reads} reads\")"
   ]
  },
  {
   "cell_type": "code",
   "execution_count": null,
   "id": "f890585c",
   "metadata": {},
   "outputs": [],
   "source": [
    "# visualize peak width and signal value\n",
    "fig = sns.jointplot(data=peaks, x=\"size\", y=\"num_reads\", joint_kws=dict(alpha=0.2, size=1, legend=False), marginal_kws=dict(bins=50, fill=False), marginal_ticks=True)\n",
    "fig.ax_joint.set_yscale(\"log\")\n",
    "fig.ax_joint.set_xlabel(\"Peak width (bp)\")\n",
    "fig.ax_joint.set_ylabel(\"Number of reads\")"
   ]
  },
  {
   "cell_type": "code",
   "execution_count": null,
   "id": "6b2228ad",
   "metadata": {},
   "outputs": [],
   "source": [
    "# functions to read in germline insertions\n",
    "def read_non_ref_db():\n",
    "\tdf = pd.read_csv(\n",
    "\t\tsnakemake.input.non_ref_l1,\n",
    "\t\tsep=\"\\t\",\n",
    "\t\theader=None,\n",
    "\t\tnames=[\"chrom\", \"start\", \"end\"],\n",
    "\t\tdtype={\"chrom\": str, \"start\": int, \"end\": int},\n",
    "\t)\n",
    "\treturn df\n",
    "\n",
    "def read_rmsk():\n",
    "    \"\"\"\n",
    "    Read the repeatmasker output table and return locations of L1HS and L1PA2-6\n",
    "    \"\"\"\n",
    "    # read the rmsk file\n",
    "    df0 = pd.read_csv(\n",
    "        snakemake.input.ref_l1,\n",
    "        skiprows=3,\n",
    "        delim_whitespace=True,\n",
    "        names=[\"chrom\", \"start\", \"end\", \"strand\", \"repeat\"],\n",
    "        usecols=[4, 5, 6, 8, 9],\n",
    "    )\n",
    "\n",
    "    # filter for rep_names\n",
    "    rep_names = [\n",
    "        \"L1HS_3end\",\n",
    "        \"L1PA2_3end\",\n",
    "        \"L1PA3_3end\",\n",
    "        \"L1PA4_3end\",\n",
    "        \"L1PA5_3end\",\n",
    "        \"L1PA6_3end\",\n",
    "    ]\n",
    "    df0 = df0[df0[\"repeat\"].isin(rep_names)]\n",
    "\n",
    "    # save to new dataframe\n",
    "    df1 = pd.DataFrame()\n",
    "    df1[\"chrom\"] = df0[\"chrom\"].astype(str)\n",
    "    # set start positions depending on strand\n",
    "    df1[\"start\"] = df0.apply(\n",
    "        lambda x: x[\"end\"] if x[\"strand\"] != \"+\" else x[\"start\"], axis=1\n",
    "    )\n",
    "    df1[\"end\"] = df1[\"start\"]\n",
    "    df1[\"start\"] -= 1  # make zero-based\n",
    "\n",
    "    return df1\n",
    "\n",
    "def read_germline():\n",
    "\tnon_ref = read_non_ref_db()\n",
    "\tref = read_rmsk()\n",
    "\tgermline = pd.concat([non_ref, ref])\n",
    "\treturn germline"
   ]
  },
  {
   "cell_type": "code",
   "execution_count": null,
   "id": "47a62004",
   "metadata": {},
   "outputs": [],
   "source": [
    "def rmsk_in_calls(rmsk_df, calls_df):\n",
    "\t\"\"\"\n",
    "\tFind the number of rmsk insertions that are called by the peak caller\n",
    "\t\"\"\"\n",
    "\t# convert to pyranges\n",
    "\trmsk_df = pr.PyRanges(rmsk_df)\n",
    "\tcalls_df = pr.PyRanges(calls_df)\n",
    "\n",
    "\t# find overlaps\n",
    "\toverlaps = rmsk_df.overlap(calls_df)\n",
    "\toverlaps = overlaps.df.drop_duplicates(subset=[\"Chromosome\", \"Start\", \"End\"])\n",
    "\n",
    "\t# count overlaps\n",
    "\toverlaps = overlaps.groupby(\"Chromosome\").size().reset_index()\n",
    "\trmsk_df = rmsk_df.df.groupby(\"Chromosome\").size().reset_index()\n",
    "\toverlaps = overlaps.merge(rmsk_df, on=\"Chromosome\", suffixes=(\"_called\", \"_total\"))\n",
    "\toverlaps = overlaps.rename(columns={\"0_called\": \"num_called\", \"0_total\": \"num_total\"})\n",
    "\treturn overlaps"
   ]
  },
  {
   "cell_type": "code",
   "execution_count": null,
   "id": "ef74caa7",
   "metadata": {},
   "outputs": [],
   "source": [
    "peaks = peaks.rename(columns={\"chrom\": \"Chromosome\", \"start\": \"Start\", \"end\": \"End\"})\n",
    "rmsk = read_rmsk().rename(columns={\"chrom\": \"Chromosome\", \"start\": \"Start\", \"end\": \"End\"})\n",
    "peak_calls = rmsk_in_calls(rmsk, peaks)\n",
    "peak_calls[\"calls\"] = \"peaks\"\n",
    "print(f\"{peak_calls.num_called.sum()} / {len(peaks)} peaks overlapping rmsk L1 insertions\")\n",
    "\n",
    "# windows = pd.read_pickle(snakemake.input.labels[0]).reset_index()\n",
    "# windows = windows[[\"chrom\", \"start\", \"end\"]]\n",
    "# windows = windows.rename(columns={\"chrom\": \"Chromosome\", \"start\": \"Start\", \"end\": \"End\"})\n",
    "# window_calls = rmsk_in_calls(rmsk, windows)\n",
    "# window_calls[\"calls\"] = \"windows\"\n",
    "\n",
    "# calls = pd.concat([peak_calls, window_calls])"
   ]
  },
  {
   "cell_type": "code",
   "execution_count": null,
   "id": "8779e842",
   "metadata": {},
   "outputs": [],
   "source": [
    "fig = sns.scatterplot(data=peak_calls, x=\"num_total\", y=\"num_called\")\n",
    "fig.set(xlabel=\"# rmsk insertions / chr\", ylabel=\"# calls overlapping rmsk insertions / chr\")\n",
    "sns.despine()"
   ]
  },
  {
   "attachments": {},
   "cell_type": "markdown",
   "id": "c64fdbe5",
   "metadata": {},
   "source": [
    "# TODO: \n",
    "\n",
    "1. Compute rmsk insertions covered by windowing strategy\n",
    "2. Examine reads/peak for those that are/aren't overlapping rmsk insertions\n",
    "3. Examine windows/peaks overlapping non-reference insertions called by xTea\n",
    "\n",
    "## Try different parameters for the peak calls and repeat the above"
   ]
  }
 ],
 "metadata": {
  "kernelspec": {
   "display_name": "Python 3",
   "language": "python",
   "name": "python3"
  },
  "language_info": {
   "codemirror_mode": {
    "name": "ipython",
    "version": 3
   },
   "file_extension": ".py",
   "mimetype": "text/x-python",
   "name": "python",
   "nbconvert_exporter": "python",
   "pygments_lexer": "ipython3",
   "version": "3.10.8 | packaged by conda-forge | (main, Nov 22 2022, 08:23:14) [GCC 10.4.0]"
  },
  "orig_nbformat": 4,
  "vscode": {
   "interpreter": {
    "hash": "003571c3c3b3164cb06f165f0a36b79929438a6b2f76e2edb4226e01b9b93838"
   }
  }
 },
 "nbformat": 4,
 "nbformat_minor": 5
}
