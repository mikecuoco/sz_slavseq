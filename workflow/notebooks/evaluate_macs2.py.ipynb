{
 "cells": [
  {
   "cell_type": "code",
   "execution_count": 1,
   "metadata": {},
   "outputs": [
    {
     "ename": "ModuleNotFoundError",
     "evalue": "No module named 'pandas'",
     "output_type": "error",
     "traceback": [
      "\u001b[1;31m---------------------------------------------------------------------------\u001b[0m",
      "\u001b[1;31mModuleNotFoundError\u001b[0m                       Traceback (most recent call last)",
      "Cell \u001b[1;32mIn[1], line 1\u001b[0m\n\u001b[1;32m----> 1\u001b[0m \u001b[39mimport\u001b[39;00m \u001b[39mpandas\u001b[39;00m \u001b[39mas\u001b[39;00m \u001b[39mpd\u001b[39;00m\n\u001b[0;32m      2\u001b[0m \u001b[39mimport\u001b[39;00m \u001b[39mseaborn\u001b[39;00m \u001b[39mas\u001b[39;00m \u001b[39msns\u001b[39;00m\n\u001b[0;32m      3\u001b[0m \u001b[39mimport\u001b[39;00m \u001b[39mpyranges\u001b[39;00m \u001b[39mas\u001b[39;00m \u001b[39mpr\u001b[39;00m\n",
      "\u001b[1;31mModuleNotFoundError\u001b[0m: No module named 'pandas'"
     ]
    }
   ],
   "source": [
    "import pandas as pd\n",
    "import seaborn as sns\n",
    "import pyranges as pr\n",
    "import pysam"
   ]
  },
  {
   "cell_type": "code",
   "execution_count": 6,
   "metadata": {},
   "outputs": [
    {
     "data": {
      "text/html": [
       "<div>\n",
       "<style scoped>\n",
       "    .dataframe tbody tr th:only-of-type {\n",
       "        vertical-align: middle;\n",
       "    }\n",
       "\n",
       "    .dataframe tbody tr th {\n",
       "        vertical-align: top;\n",
       "    }\n",
       "\n",
       "    .dataframe thead th {\n",
       "        text-align: right;\n",
       "    }\n",
       "</style>\n",
       "<table border=\"1\" class=\"dataframe\">\n",
       "  <thead>\n",
       "    <tr style=\"text-align: right;\">\n",
       "      <th></th>\n",
       "      <th>chrom</th>\n",
       "      <th>start</th>\n",
       "      <th>end</th>\n",
       "      <th>name</th>\n",
       "      <th>score</th>\n",
       "      <th>strand</th>\n",
       "      <th>signalValue</th>\n",
       "      <th>pValue</th>\n",
       "      <th>qValue</th>\n",
       "      <th>peak</th>\n",
       "    </tr>\n",
       "  </thead>\n",
       "  <tbody>\n",
       "    <tr>\n",
       "      <th>0</th>\n",
       "      <td>chr21</td>\n",
       "      <td>6510757</td>\n",
       "      <td>6511507</td>\n",
       "      <td>B_peak_1</td>\n",
       "      <td>58</td>\n",
       "      <td>.</td>\n",
       "      <td>5.97015</td>\n",
       "      <td>8.53252</td>\n",
       "      <td>5.87856</td>\n",
       "      <td>233</td>\n",
       "    </tr>\n",
       "    <tr>\n",
       "      <th>1</th>\n",
       "      <td>chr21</td>\n",
       "      <td>8606391</td>\n",
       "      <td>8607245</td>\n",
       "      <td>B_peak_2</td>\n",
       "      <td>434</td>\n",
       "      <td>.</td>\n",
       "      <td>11.12110</td>\n",
       "      <td>46.50780</td>\n",
       "      <td>43.47590</td>\n",
       "      <td>568</td>\n",
       "    </tr>\n",
       "    <tr>\n",
       "      <th>2</th>\n",
       "      <td>chr21</td>\n",
       "      <td>8666242</td>\n",
       "      <td>8667082</td>\n",
       "      <td>B_peak_3</td>\n",
       "      <td>227</td>\n",
       "      <td>.</td>\n",
       "      <td>9.27152</td>\n",
       "      <td>25.67040</td>\n",
       "      <td>22.79400</td>\n",
       "      <td>561</td>\n",
       "    </tr>\n",
       "    <tr>\n",
       "      <th>3</th>\n",
       "      <td>chr21</td>\n",
       "      <td>8676252</td>\n",
       "      <td>8677256</td>\n",
       "      <td>B_peak_4</td>\n",
       "      <td>846</td>\n",
       "      <td>.</td>\n",
       "      <td>12.08120</td>\n",
       "      <td>87.87020</td>\n",
       "      <td>84.64040</td>\n",
       "      <td>375</td>\n",
       "    </tr>\n",
       "    <tr>\n",
       "      <th>4</th>\n",
       "      <td>chr21</td>\n",
       "      <td>8767232</td>\n",
       "      <td>8768071</td>\n",
       "      <td>B_peak_5</td>\n",
       "      <td>160</td>\n",
       "      <td>.</td>\n",
       "      <td>8.80734</td>\n",
       "      <td>18.82800</td>\n",
       "      <td>16.02010</td>\n",
       "      <td>390</td>\n",
       "    </tr>\n",
       "  </tbody>\n",
       "</table>\n",
       "</div>"
      ],
      "text/plain": [
       "   chrom    start      end      name  score strand  signalValue    pValue  \\\n",
       "0  chr21  6510757  6511507  B_peak_1     58      .      5.97015   8.53252   \n",
       "1  chr21  8606391  8607245  B_peak_2    434      .     11.12110  46.50780   \n",
       "2  chr21  8666242  8667082  B_peak_3    227      .      9.27152  25.67040   \n",
       "3  chr21  8676252  8677256  B_peak_4    846      .     12.08120  87.87020   \n",
       "4  chr21  8767232  8768071  B_peak_5    160      .      8.80734  18.82800   \n",
       "\n",
       "     qValue  peak  \n",
       "0   5.87856   233  \n",
       "1  43.47590   568  \n",
       "2  22.79400   561  \n",
       "3  84.64040   375  \n",
       "4  16.02010   390  "
      ]
     },
     "execution_count": 6,
     "metadata": {},
     "output_type": "execute_result"
    }
   ],
   "source": [
    "peaks = pd.read_csv(\n",
    "    snakemake.input.peaks[0],\n",
    "    sep=\"\\t\",\n",
    "    header=None,\n",
    "    names=[\n",
    "        \"chrom\",\n",
    "        \"start\",\n",
    "        \"end\",\n",
    "        \"name\",\n",
    "        \"score\",\n",
    "        \"strand\",\n",
    "        \"signalValue\",\n",
    "        \"pValue\",\n",
    "        \"qValue\",\n",
    "        \"peak\",\n",
    "    ],\n",
    ")\n",
    "peaks[\"size\"] = peaks[\"end\"] - peaks[\"start\"]"
   ]
  },
  {
   "cell_type": "code",
   "execution_count": null,
   "id": "3058662a",
   "metadata": {},
   "outputs": [],
   "source": [
    "sns.histplot(data=peaks, x=\"size\")"
   ]
  },
  {
   "cell_type": "code",
   "execution_count": null,
   "id": "1d8a6d3a",
   "metadata": {},
   "outputs": [],
   "source": [
    "peaks[\"num_reads\"] = None\n",
    "samfile = pysam.AlignmentFile(snakemake.input.bam[0], \"rb\")\n",
    "\n",
    "# Get number of reads in each peak\n",
    "for ind in peaks.index:\n",
    "    chr = peaks[\"chrom\"][ind]\n",
    "    start = peaks[\"start\"][ind]\n",
    "    end = peaks[\"end\"][ind]\n",
    "    num_reads = samfile.count(chr, start, end, read_callback='all')\n",
    "    peaks[\"num_reads\"][ind] = num_reads"
   ]
  },
  {
   "cell_type": "code",
   "execution_count": null,
   "id": "f890585c",
   "metadata": {},
   "outputs": [],
   "source": [
    "sns.scatterplot(data=peaks, x=\"size\", y=\"num_reads\")"
   ]
  },
  {
   "cell_type": "code",
   "execution_count": null,
   "id": "90a81980",
   "metadata": {},
   "outputs": [],
   "source": [
    "# calculate FRiP score\n",
    "peak_reads = peaks[\"num_reads\"].sum()\n",
    "total_reads = samfile.count(\"chr21\", read_callback='all') + samfile.count(\"chr22\", read_callback='all')\n",
    "\n",
    "frip = peak_reads / total_reads"
   ]
  },
  {
   "attachments": {},
   "cell_type": "markdown",
   "metadata": {},
   "source": [
    "# TODO:\n",
    "\n",
    "## Evaluate peak calls by themselves\n",
    "\n",
    "1. Generate histogram of peak size\n",
    "2. Generate scatter plot of peak size vs reads in peak\n",
    "3. Compute fraction of reads in peaks\n",
    "\n",
    "## Evaluate peak calls' ability to capture germline insertinos\n",
    "\n",
    "1. Read in the germline insertion calls\n",
    "2. Compute the fraction of germline insertions that are captured by the peak calls (use pyranges for intersection)\n",
    "3. Compute the fraction of germline insertions that are captured by the windows (use pyranges for intersection)\n",
    "\n",
    "## Try different parameters for the peak calls and repeat the above"
   ]
  },
  {
   "cell_type": "code",
   "execution_count": null,
   "id": "6b2228ad",
   "metadata": {},
   "outputs": [],
   "source": [
    "# functions to read in germline insertions\n",
    "def read_non_ref_db():\n",
    "\tdf = pd.read_csv(\n",
    "\t\tsnakemake.input.non_ref_l1,\n",
    "\t\tsep=\"\\t\",\n",
    "\t\theader=None,\n",
    "\t\tnames=[\"chrom\", \"start\", \"end\"],\n",
    "\t\tdtype={\"chrom\": str, \"start\": int, \"end\": int},\n",
    "\t)\n",
    "\treturn df\n",
    "\n",
    "def read_rmsk():\n",
    "    \"\"\"\n",
    "    Read the repeatmasker output table and return locations of L1HS and L1PA2-6\n",
    "    \"\"\"\n",
    "    # read the rmsk file\n",
    "    df0 = pd.read_csv(\n",
    "        snakemake.input.ref_l1,\n",
    "        skiprows=3,\n",
    "        delim_whitespace=True,\n",
    "        names=[\"chrom\", \"start\", \"end\", \"strand\", \"repeat\"],\n",
    "        usecols=[4, 5, 6, 8, 9],\n",
    "    )\n",
    "\n",
    "    # filter for rep_names\n",
    "    rep_names = [\n",
    "        \"L1HS_3end\",\n",
    "        \"L1PA2_3end\",\n",
    "        \"L1PA3_3end\",\n",
    "        \"L1PA4_3end\",\n",
    "        \"L1PA5_3end\",\n",
    "        \"L1PA6_3end\",\n",
    "    ]\n",
    "    # logging.info(f\"Filtering for rep_names: {rep_names}\")\n",
    "    df0 = df0[df0[\"repeat\"].isin(rep_names)]\n",
    "\n",
    "    # save to new dataframe\n",
    "    df1 = pd.DataFrame()\n",
    "    df1[\"chrom\"] = df0[\"chrom\"].astype(str)\n",
    "    # set start positions depending on strand\n",
    "    df1[\"start\"] = df0.apply(\n",
    "        lambda x: x[\"end\"] if x[\"strand\"] != \"+\" else x[\"start\"], axis=1\n",
    "    )\n",
    "    df1[\"end\"] = df1[\"start\"]\n",
    "    df1[\"start\"] -= 1  # make zero-based\n",
    "\n",
    "    return df1\n",
    "\n",
    "def read_germline():\n",
    "\tnon_ref = read_non_ref_db()\n",
    "\tref = read_rmsk()\n",
    "\tgermline = pd.concat([non_ref, ref])\n",
    "\treturn germline"
   ]
  },
  {
   "cell_type": "code",
   "execution_count": null,
   "id": "6547407c",
   "metadata": {},
   "outputs": [],
   "source": [
    "germline_df = read_germline()\n",
    "germline_df = germline_df.rename(columns={\"chrom\": \"Chromosome\", \"start\": \"Start\", \"end\": \"End\"})\n",
    "print(len(germline_df.index))"
   ]
  },
  {
   "cell_type": "code",
   "execution_count": null,
   "id": "47a62004",
   "metadata": {},
   "outputs": [],
   "source": [
    "peak_regions = peaks[[\"chrom\", \"start\", \"end\"]]\n",
    "peak_regions = peak_regions.rename(columns={\"chrom\": \"Chromosome\", \"start\": \"Start\", \"end\": \"End\"})\n",
    "\n",
    "# compute the fraction of germline insertions that are captured by the peak calls\n",
    "gr = pr.PyRanges(germline_df)\n",
    "gr_peak = pr.pyRanges(peak_regions)\n",
    "\n",
    "gl_peak = gr.intersect(gr_peak) \n",
    "print(gl_peak) # number of rows = number of insertions captured by peak calls"
   ]
  },
  {
   "cell_type": "code",
   "execution_count": null,
   "id": "8946feaf",
   "metadata": {},
   "outputs": [],
   "source": [
    "windows = pd.read_pickle(snakemake.input.labels[0]).reset_index()\n",
    "windows = windows[[\"chrom\", \"start\", \"end\"]]\n",
    "windows = windows.rename(columns={\"chrom\": \"Chromosome\", \"start\": \"Start\", \"end\": \"End\"})\n",
    "\n",
    "gr_window = pr.pyRanges(windows)\n",
    "gl_window = gr.intersect(gr_window)\n",
    "print(gl_window)\n"
   ]
  },
  {
   "cell_type": "code",
   "execution_count": null,
   "id": "b42f7b05",
   "metadata": {},
   "outputs": [],
   "source": [
    "# how many insertions are shared between windows and peaks?\n",
    "shared = gl_peak.intersect(gl_window)\n",
    "print(shared)"
   ]
  }
 ],
 "metadata": {
  "kernelspec": {
   "display_name": "Python 3",
   "language": "python",
   "name": "python3"
  },
  "language_info": {
   "codemirror_mode": {
    "name": "ipython",
    "version": 3
   },
   "file_extension": ".py",
   "mimetype": "text/x-python",
   "name": "python",
   "nbconvert_exporter": "python",
   "pygments_lexer": "ipython3",
   "version": "3.11.1"
  },
  "orig_nbformat": 4,
  "vscode": {
   "interpreter": {
    "hash": "ceed31ee510560ebaf718e85dd460fc869f012114ff526053f162e53788dca59"
   }
  }
 },
 "nbformat": 4,
 "nbformat_minor": 5
}
