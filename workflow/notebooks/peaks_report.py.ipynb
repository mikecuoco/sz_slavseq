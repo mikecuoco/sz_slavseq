{
 "cells": [
  {
   "attachments": {},
   "cell_type": "markdown",
   "id": "a39d7730",
   "metadata": {},
   "source": [
    "# Investigate custom peak calling method"
   ]
  },
  {
   "cell_type": "code",
   "execution_count": 1,
   "id": "40f620f2",
   "metadata": {},
   "outputs": [],
   "source": [
    "import pandas as pd\n",
    "import pyranges as pr\n",
    "import seaborn as sns\n",
    "import pysam\n",
    "import numpy as np"
   ]
  },
  {
   "attachments": {},
   "cell_type": "markdown",
   "id": "765dcdd3",
   "metadata": {},
   "source": [
    "## Read in reference and non-reference insertions"
   ]
  },
  {
   "cell_type": "code",
   "execution_count": null,
   "id": "ad44a506",
   "metadata": {},
   "outputs": [],
   "source": [
    "# read the rmsk file\n",
    "rmsk = pd.read_csv(\n",
    "    snakemake.input.rl1[0],\n",
    "    skiprows=3,\n",
    "    delim_whitespace=True,\n",
    "    names=[\"Chromosome\", \"Start\", \"End\", \"Strand\", \"repeat\"],\n",
    "    usecols=[4, 5, 6, 8, 9],\n",
    ")\n",
    "# filter for rep_names\n",
    "rep_names = [\n",
    "    \"L1HS_3end\",\n",
    "    \"L1PA2_3end\",\n",
    "    \"L1PA3_3end\",\n",
    "    \"L1PA4_3end\",\n",
    "    \"L1PA5_3end\",\n",
    "    \"L1PA6_3end\",\n",
    "]\n",
    "rmsk = rmsk[rmsk[\"repeat\"].isin(rep_names)]\n",
    "rmsk[\"Strand\"] = rmsk.apply(lambda x: \"+\" if x.Strand == \"+\" else \"-\", axis=1)\n",
    "rmsk = pr.PyRanges(rmsk)"
   ]
  },
  {
   "cell_type": "code",
   "execution_count": null,
   "id": "49fb9d67",
   "metadata": {},
   "outputs": [],
   "source": [
    "knrgl = pd.read_csv(\n",
    "    snakemake.input.knrgl[0],\n",
    "    sep=\"\\t\",\n",
    "    header=None,\n",
    "    names=[\"Chromosome\", \"Start\", \"End\", \"Strand\", \"SVLEN\", \"SVTYPE\"],\n",
    "    dtype={\"Chromosome\": str, \"Start\": int, \"End\": int},\n",
    ")\n",
    "knrgl[\"Start\"] = knrgl.apply(\n",
    "    lambda x: x.Start - 750 if x.Strand == \"-\" else x.Start, axis=1\n",
    ")\n",
    "knrgl[\"End\"] = knrgl.apply(lambda x: x.End + 750 if x.Strand == \"+\" else x.End, axis=1)\n",
    "knrgl = pr.PyRanges(knrgl)"
   ]
  },
  {
   "attachments": {},
   "cell_type": "markdown",
   "id": "981aa166",
   "metadata": {},
   "source": [
    "## Read in the peaks and report metrics"
   ]
  },
  {
   "cell_type": "code",
   "execution_count": null,
   "id": "d1f52f36",
   "metadata": {},
   "outputs": [],
   "source": [
    "cells = pd.DataFrame(\n",
    "    {\n",
    "        \"pfn\": snakemake.input.cell_peaks,\n",
    "        \"bfn\": snakemake.input.cell_bam,\n",
    "        \"dna_type\": \"mda\",\n",
    "    }\n",
    ")\n",
    "bulks = pd.DataFrame(\n",
    "    {\n",
    "        \"pfn\": snakemake.input.bulk_peaks,\n",
    "        \"bfn\": snakemake.input.bulk_bam,\n",
    "        \"dna_type\": \"bulk\",\n",
    "    }\n",
    ")\n",
    "samples = pd.concat([cells, bulks])\n",
    "\n",
    "metrics = []\n",
    "all_peaks = []\n",
    "knrgl_peaks = []\n",
    "rmsk_peaks = []\n",
    "for s in samples.itertuples():\n",
    "    sample = s.pfn.split(\"/\")[-1].split(\".\")[0]\n",
    "    peaks = pd.read_csv(\n",
    "        s.pfn,\n",
    "        sep=\"\\t\",\n",
    "        header=None,\n",
    "        usecols=[0, 1, 2, 3, 4],\n",
    "        names=[\"chr\", \"start\", \"end\", \"width\", \"total_reads\"],\n",
    "    )\n",
    "    peaks = peaks.rename(\n",
    "        columns={\n",
    "            \"chr\": \"Chromosome\",\n",
    "            \"start\": \"Start\",\n",
    "            \"end\": \"End\",\n",
    "            \"total_reads\": \"num_reads\",\n",
    "        }\n",
    "    )\n",
    "    peaks[\"sample_id\"] = sample\n",
    "    peaks[\"dna_type\"] = s.dna_type\n",
    "    all_peaks.append(peaks)\n",
    "    peaks = pr.PyRanges(peaks)\n",
    "    knrgl_peaks.append(peaks.overlap(knrgl).df)\n",
    "    rmsk_peaks.append(peaks.overlap(rmsk).df)\n",
    "    data = {\n",
    "        \"sample_id\": sample,\n",
    "        \"dna_type\": s.dna_type,\n",
    "        \"total_peaks\": len(peaks),\n",
    "        \"total_reads\": int(pysam.view(\"-c\", s.bfn).rstrip(\"\\n\")),\n",
    "        \"min_reads / peak\": peaks.num_reads.min(),\n",
    "        \"mean_reads / peak\": int(peaks.num_reads.mean()),\n",
    "        \"max_reads / peak\": peaks.num_reads.max(),\n",
    "        \"min_width / peak\": peaks.width.min(),\n",
    "        \"mean_width / peak\": int(peaks.width.mean()),\n",
    "        \"max_width / peak\": peaks.width.max(),\n",
    "        \"knrgl_covered\": len(knrgl.overlap(peaks)),\n",
    "        \"peaks_in_knrgl\": len(knrgl_peaks[-1]),\n",
    "        \"total_knrgl\": len(knrgl),\n",
    "        \"rmsk_covered\": len(rmsk.overlap(peaks)),\n",
    "        \"peaks_in_rmsk\": len(rmsk_peaks[-1]),\n",
    "        \"total_rmsk\": len(rmsk),\n",
    "    }\n",
    "    metrics.append(data)\n",
    "\n",
    "\n",
    "metrics = pd.DataFrame.from_records(metrics)\n",
    "all_peaks = pd.concat(all_peaks)\n",
    "knrgl_peaks = pd.concat(knrgl_peaks)\n",
    "rmsk_peaks = pd.concat(rmsk_peaks)\n",
    "\n",
    "all_peaks = pd.merge(\n",
    "    all_peaks,\n",
    "    knrgl_peaks,\n",
    "    how=\"left\",\n",
    "    on=[\"Chromosome\", \"Start\", \"End\", \"num_reads\", \"width\", \"dna_type\", \"sample_id\"],\n",
    "    indicator=\"KNRGL\",\n",
    ")\n",
    "all_peaks[\"KNRGL\"] = np.where(all_peaks[\"KNRGL\"] == \"both\", True, False)\n",
    "all_peaks = pd.merge(\n",
    "    all_peaks,\n",
    "    rmsk_peaks,\n",
    "    how=\"left\",\n",
    "    on=[\"Chromosome\", \"Start\", \"End\", \"num_reads\", \"width\", \"dna_type\", \"sample_id\"],\n",
    "    indicator=\"RMSK\",\n",
    ")\n",
    "all_peaks[\"RMSK\"] = np.where(all_peaks[\"RMSK\"] == \"both\", True, False)\n",
    "all_peaks[\"label\"] = all_peaks.apply(\n",
    "    lambda x: \"KNRGL\" if x.KNRGL else \"RMSK\" if x.RMSK else \"OTHER\", axis=1\n",
    ").drop(columns=[\"KNRGL\", \"RMSK\"])"
   ]
  },
  {
   "cell_type": "code",
   "execution_count": 1,
   "id": "dac594e9",
   "metadata": {},
   "outputs": [
    {
     "ename": "SyntaxError",
     "evalue": "unterminated string literal (detected at line 2) (3702127098.py, line 2)",
     "output_type": "error",
     "traceback": [
      "\u001b[0;36m  Cell \u001b[0;32mIn[1], line 2\u001b[0;36m\u001b[0m\n\u001b[0;31m    print(\"Total KNRGL calls from WGSstr(metrics.loc[metrics['dna_type'] == 'bulk', 'total_knrgl'])\u001b[0m\n\u001b[0m          ^\u001b[0m\n\u001b[0;31mSyntaxError\u001b[0m\u001b[0;31m:\u001b[0m unterminated string literal (detected at line 2)\n"
     ]
    }
   ],
   "source": [
    "print(\n",
    "    \"Total bulk peaks: \"\n",
    "    + str(int(metrics.loc[metrics[\"dna_type\"] == \"bulk\", \"total_peaks\"]))\n",
    ")\n",
    "print(\n",
    "    \"Total KNRGL from WGS: \"\n",
    "    + str(int(metrics.loc[metrics[\"dna_type\"] == \"bulk\", \"total_knrgl\"]))\n",
    ")\n",
    "print(\n",
    "    \"Total bulk peaks overlapping KNRGL: \"\n",
    "    + str(int(metrics.loc[metrics[\"dna_type\"] == \"bulk\", \"peaks_in_knrgl\"]))\n",
    ")\n",
    "print(\n",
    "    \"Total KNRGL overlapped by bulk peaks: \"\n",
    "    + str(int(metrics.loc[metrics[\"dna_type\"] == \"bulk\", \"knrgl_covered\"]))\n",
    ")"
   ]
  },
  {
   "cell_type": "code",
   "execution_count": null,
   "id": "5454ccbe",
   "metadata": {},
   "outputs": [],
   "source": [
    "bulk_peaks = pr.PyRanges(all_peaks.loc[all_peaks[\"dna_type\"] == \"bulk\"])\n",
    "missed = knrgl.overlap(bulk_peaks, invert=True).df\n",
    "missed[\"detected\"] = False\n",
    "covered = knrgl.overlap(bulk_peaks).df\n",
    "covered[\"detected\"] = True\n",
    "df = pd.concat([covered, missed]).sort_values(by=[\"Chromosome\", \"Start\", \"End\"])\n",
    "with pysam.AlignmentFile(snakemake.input.bulk_bam[0], \"rb\") as f:\n",
    "    coverage = []\n",
    "    max_mapq = []\n",
    "    max_ya = []\n",
    "    max_yg = []\n",
    "    for x in df.itertuples():\n",
    "        c = 0\n",
    "        mq = 0\n",
    "        ya = 0\n",
    "        yg = 0\n",
    "        for r in f.fetch(x.Chromosome, x.Start, x.End):\n",
    "            c += 1\n",
    "            if r.is_read1 and r.has_tag(\"YA\") and r.has_tag(\"YG\"):\n",
    "                mq = max(mq, r.mapping_quality)\n",
    "                ya = max(ya, r.get_tag(\"YA\"))\n",
    "                yg = max(yg, r.get_tag(\"YG\"))\n",
    "        coverage.append(c)\n",
    "        max_mapq.append(mq)\n",
    "    df[\"coverage\"] = coverage\n",
    "    df[\"max_mapq\"] = max_mapq\n",
    "print(df.loc[(df[\"detected\"] == False) & (df[\"coverage\"] > 0), :])\n",
    "df.loc[(df[\"detected\"] == False) & (df[\"coverage\"] > 0), :].to_csv(\n",
    "    snakemake.output.bulk_insertions, sep=\"\\t\", index=False\n",
    ")"
   ]
  },
  {
   "cell_type": "code",
   "execution_count": null,
   "id": "cbef7c46",
   "metadata": {},
   "outputs": [],
   "source": [
    "knrgl_peaks.loc[knrgl_peaks[\"dna_type\"] == \"bulk\", :].head()"
   ]
  },
  {
   "cell_type": "code",
   "execution_count": null,
   "id": "990b3904",
   "metadata": {},
   "outputs": [],
   "source": [
    "knrgl_peaks.sort_values(\"width\", ascending=False)"
   ]
  },
  {
   "cell_type": "code",
   "execution_count": null,
   "id": "60408882",
   "metadata": {},
   "outputs": [],
   "source": [
    "sns.stripplot(y=\"total_peaks\", x=\"dna_type\", hue=\"dna_type\", data=metrics)"
   ]
  },
  {
   "cell_type": "code",
   "execution_count": null,
   "id": "31677743",
   "metadata": {},
   "outputs": [],
   "source": [
    "fig = sns.jointplot(\n",
    "    data=metrics, x=\"total_reads\", y=\"total_peaks\", hue=\"dna_type\", alpha=0.5\n",
    ")"
   ]
  },
  {
   "cell_type": "code",
   "execution_count": null,
   "id": "6e8b47f7",
   "metadata": {},
   "outputs": [],
   "source": [
    "fig = sns.jointplot(\n",
    "    data=metrics, x=\"knrgl_covered\", y=\"peaks_in_knrgl\", hue=\"dna_type\", alpha=0.5\n",
    ")\n",
    "x0, x1 = fig.ax_joint.get_xlim()\n",
    "y0, y1 = fig.ax_joint.get_ylim()\n",
    "lims = [max(x0, y0), min(x1, y1)]\n",
    "fig.ax_joint.plot(lims, lims, linestyle=\"dashed\", color=\"black\", alpha=0.5)"
   ]
  },
  {
   "cell_type": "code",
   "execution_count": null,
   "id": "3f0d52a5",
   "metadata": {},
   "outputs": [],
   "source": [
    "my_samples = (\n",
    "    all_peaks.loc[all_peaks.dna_type == \"mda\", \"sample_id\"]\n",
    "    .drop_duplicates()\n",
    "    .values.tolist()[0:11]\n",
    ")\n",
    "my_samples.append(\n",
    "    *all_peaks.loc[all_peaks.dna_type == \"bulk\", \"sample_id\"]\n",
    "    .drop_duplicates()\n",
    "    .values.flatten()\n",
    ")"
   ]
  },
  {
   "cell_type": "code",
   "execution_count": null,
   "id": "4707147e",
   "metadata": {},
   "outputs": [],
   "source": [
    "# boxplot of number of reads per peak\n",
    "fig = sns.boxplot(\n",
    "    data=all_peaks.loc[all_peaks.sample_id.isin(my_samples), :],\n",
    "    y=\"sample_id\",\n",
    "    x=\"num_reads\",\n",
    "    hue=\"dna_type\",\n",
    "    dodge=False,\n",
    ")\n",
    "fig.set_xscale(\"log\")\n",
    "fig.set_xlabel(\"Number of reads / peak\")"
   ]
  },
  {
   "cell_type": "code",
   "execution_count": null,
   "id": "7a2a7ca7",
   "metadata": {},
   "outputs": [],
   "source": [
    "# boxplot of peak width\n",
    "fig = sns.boxplot(\n",
    "    data=all_peaks.loc[all_peaks.sample_id.isin(my_samples), :],\n",
    "    y=\"sample_id\",\n",
    "    x=\"width\",\n",
    "    hue=\"dna_type\",\n",
    "    dodge=False,\n",
    ")\n",
    "fig.set_xscale(\"log\")\n",
    "fig.set_xlabel(\"Peak width (bp)\")"
   ]
  },
  {
   "cell_type": "code",
   "execution_count": null,
   "id": "2cde2b4a",
   "metadata": {},
   "outputs": [],
   "source": [
    "# scatter\n",
    "fig = sns.relplot(\n",
    "    data=all_peaks.loc[all_peaks.sample_id.isin(my_samples), :],\n",
    "    y=\"num_reads\",\n",
    "    x=\"width\",\n",
    "    hue=\"label\",\n",
    "    col=\"sample_id\",\n",
    "    col_wrap=4,\n",
    "    kind=\"scatter\",\n",
    "    alpha=0.5,\n",
    ")\n",
    "fig.set(\n",
    "    yscale=\"log\",\n",
    "    xscale=\"log\",\n",
    "    ylabel=\"Number of reads / peak\",\n",
    "    xlabel=\"Peak width (bp)\",\n",
    ")"
   ]
  },
  {
   "attachments": {},
   "cell_type": "markdown",
   "id": "ee199124",
   "metadata": {},
   "source": [
    "## Investigate # of peaks in bulk found in cells"
   ]
  },
  {
   "cell_type": "code",
   "execution_count": null,
   "id": "4a6e3f81",
   "metadata": {},
   "outputs": [],
   "source": [
    "for pfn, bfn in zip(snakemake.input.bulk_peaks, snakemake.input.bulk_bam):\n",
    "    bulk_peaks = pd.read_csv(\n",
    "        pfn,\n",
    "        sep=\"\\t\",\n",
    "        header=None,\n",
    "        usecols=[0, 1, 2, 3, 4],\n",
    "        names=[\"chr\", \"start\", \"end\", \"width\", \"total_reads\"],\n",
    "    )\n",
    "    bulk_peaks = bulk_peaks.rename(\n",
    "        columns={\n",
    "            \"chr\": \"Chromosome\",\n",
    "            \"start\": \"Start\",\n",
    "            \"end\": \"End\",\n",
    "            \"total_reads\": \"num_reads\",\n",
    "        }\n",
    "    )\n",
    "    bulk_peaks[\"width\"] = bulk_peaks.End - bulk_peaks.Start\n",
    "    bulk_peaks = pr.PyRanges(bulk_peaks)\n",
    "\n",
    "bulk_in_cells = []\n",
    "\n",
    "for pfn, bfn in zip(snakemake.input.cell_peaks, snakemake.input.cell_bam):\n",
    "    cell_peaks = pd.read_csv(\n",
    "        pfn,\n",
    "        sep=\"\\t\",\n",
    "        header=None,\n",
    "        usecols=[0, 1, 2, 3, 4],\n",
    "        names=[\"chr\", \"start\", \"end\", \"width\", \"total_reads\"],\n",
    "    )\n",
    "    cell_peaks = cell_peaks.rename(\n",
    "        columns={\n",
    "            \"chr\": \"Chromosome\",\n",
    "            \"start\": \"Start\",\n",
    "            \"end\": \"End\",\n",
    "            \"total_reads\": \"num_reads\",\n",
    "        }\n",
    "    )\n",
    "    cell_peaks[\"width\"] = cell_peaks.End - cell_peaks.Start\n",
    "    cell_peaks = pr.PyRanges(cell_peaks)\n",
    "    bulk_peaks.overlap(cell_peaks)\n",
    "    bulk_in_cells.append(bulk_peaks.overlap(cell_peaks).df)\n",
    "\n",
    "bulk_in_cells = pd.concat(bulk_in_cells)"
   ]
  },
  {
   "cell_type": "code",
   "execution_count": null,
   "id": "4ee23823",
   "metadata": {},
   "outputs": [],
   "source": [
    "plot_df = (\n",
    "    bulk_in_cells.value_counts([\"Chromosome\", \"Start\", \"End\", \"num_reads\", \"width\"])\n",
    "    .to_frame(\"num_cells\")\n",
    "    .reset_index()\n",
    ")\n",
    "print(f\"{len(plot_df)} bulk peaks found in cells\")\n",
    "\n",
    "fig = sns.jointplot(\n",
    "    data=plot_df,\n",
    "    x=\"num_cells\",\n",
    "    y=\"num_reads\",\n",
    "    alpha=0.5,\n",
    "    marginal_kws={\"bins\": 100},\n",
    "    marginal_ticks=True,\n",
    "    ratio=2,\n",
    ")\n",
    "fig.ax_joint.set_yscale(\"log\")"
   ]
  },
  {
   "cell_type": "code",
   "execution_count": null,
   "id": "d438e436",
   "metadata": {},
   "outputs": [],
   "source": [
    "fig = sns.scatterplot(\n",
    "    data=plot_df, x=\"width\", y=\"num_reads\", hue=\"num_cells\", alpha=0.5\n",
    ")\n",
    "fig.set(\n",
    "    yscale=\"log\",\n",
    "    xscale=\"log\",\n",
    "    ylabel=\"Number of reads / peak\",\n",
    "    xlabel=\"Peak width (bp)\",\n",
    ")"
   ]
  }
 ],
 "metadata": {
  "kernelspec": {
   "display_name": "Python 3",
   "language": "python",
   "name": "python3"
  },
  "language_info": {
   "codemirror_mode": {
    "name": "ipython",
    "version": 3
   },
   "file_extension": ".py",
   "mimetype": "text/x-python",
   "name": "python",
   "nbconvert_exporter": "python",
   "pygments_lexer": "ipython3",
   "version": "3.10.8"
  },
  "orig_nbformat": 4,
  "vscode": {
   "interpreter": {
    "hash": "ecf22f20c4ecd4cd24c24fd56ff04fb2e82046bae060c891b9b95ece720aba93"
   }
  }
 },
 "nbformat": 4,
 "nbformat_minor": 5
}
