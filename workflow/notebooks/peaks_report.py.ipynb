{
 "cells": [
  {
   "attachments": {},
   "cell_type": "markdown",
   "id": "a39d7730",
   "metadata": {},
   "source": [
    "# Investigate custom peak calling method"
   ]
  },
  {
   "cell_type": "code",
   "execution_count": 1,
   "id": "40f620f2",
   "metadata": {},
   "outputs": [],
   "source": [
    "import pandas as pd\n",
    "import pyranges as pr\n",
    "import seaborn as sns\n",
    "import pysam\n",
    "import numpy as np"
   ]
  },
  {
   "attachments": {},
   "cell_type": "markdown",
   "id": "765dcdd3",
   "metadata": {},
   "source": [
    "## Read in reference and non-reference insertions"
   ]
  },
  {
   "cell_type": "code",
   "execution_count": null,
   "id": "ad44a506",
   "metadata": {},
   "outputs": [],
   "source": [
    "# read the rmsk file\n",
    "rmsk = pd.read_csv(\n",
    "    snakemake.input.rl1[0],\n",
    "    skiprows=3,\n",
    "    delim_whitespace=True,\n",
    "    names=[\"Chromosome\", \"Start\", \"End\", \"Strand\", \"repeat\"],\n",
    "    usecols=[4, 5, 6, 8, 9],\n",
    ")\n",
    "# filter for rep_names\n",
    "rep_names = [\n",
    "    \"L1HS_3end\",\n",
    "    \"L1PA2_3end\",\n",
    "    \"L1PA3_3end\",\n",
    "    \"L1PA4_3end\",\n",
    "    \"L1PA5_3end\",\n",
    "    \"L1PA6_3end\",\n",
    "]\n",
    "rmsk = rmsk[rmsk[\"repeat\"].isin(rep_names)]\n",
    "rmsk[\"Strand\"] = rmsk.apply(lambda x: \"+\" if x.Strand == \"+\" else \"-\", axis=1)\n",
    "rmsk = pr.PyRanges(rmsk)"
   ]
  },
  {
   "cell_type": "code",
   "execution_count": null,
   "id": "49fb9d67",
   "metadata": {},
   "outputs": [],
   "source": [
    "knrgl = pd.read_csv(\n",
    "    snakemake.input.knrgl[0],\n",
    "    sep=\"\\t\",\n",
    "    header=None,\n",
    "    names=[\"Chromosome\", \"Start\", \"End\",\"SVLEN\",\"SVTYPE\"],\n",
    "    dtype={\"Chromosome\": str, \"Start\": int, \"End\": int},\n",
    ")\n",
    "knrgl = pr.PyRanges(knrgl)"
   ]
  },
  {
   "attachments": {},
   "cell_type": "markdown",
   "id": "981aa166",
   "metadata": {},
   "source": [
    "## Read in the peaks and report metrics"
   ]
  },
  {
   "cell_type": "code",
   "execution_count": null,
   "id": "d1f52f36",
   "metadata": {},
   "outputs": [],
   "source": [
    "cells = pd.DataFrame({\"pfn\": snakemake.input.cell_peaks, \"bfn\": snakemake.input.cell_bam, \"dna_type\": \"mda\"})\n",
    "bulks = pd.DataFrame({\"pfn\": snakemake.input.bulk_peaks, \"bfn\": snakemake.input.bulk_bam, \"dna_type\": \"bulk\"})\n",
    "samples = pd.concat([cells, bulks])\n",
    "\n",
    "metrics = []; all_peaks = []; knrgl_peaks = []; rmsk_peaks = []\n",
    "for s in samples.itertuples():\n",
    "    sample = s.pfn.split(\"/\")[-1].split(\".\")[0]\n",
    "    peaks = pd.read_csv(\n",
    "        s.pfn,\n",
    "        sep=\"\\t\",\n",
    "        header=None,\n",
    "        usecols=[0,1,2,3,4],\n",
    "        names=[\"chr\", \"start\", \"end\", \"width\", \"total_reads\"],\n",
    "    )\n",
    "    peaks = peaks.rename(columns={\"chr\": \"Chromosome\", \"start\": \"Start\", \"end\": \"End\", \"total_reads\": \"num_reads\"})\n",
    "    peaks['sample_id'] = sample\n",
    "    peaks['dna_type'] = s.dna_type\n",
    "    all_peaks.append(peaks)\n",
    "    peaks = pr.PyRanges(peaks)\n",
    "    knrgl_peaks.append(peaks.overlap(knrgl).df)\n",
    "    rmsk_peaks.append(peaks.overlap(rmsk).df)\n",
    "    data = {\n",
    "        \"sample_id\": sample,\n",
    "        \"dna_type\": s.dna_type,\n",
    "        \"total_peaks\": len(peaks),\n",
    "        \"total_reads\": int(pysam.view(\"-c\", s.bfn).rstrip(\"\\n\")),\n",
    "        \"min_reads / peak\": peaks.num_reads.min(),\n",
    "        \"mean_reads / peak\": int(peaks.num_reads.mean()),\n",
    "        \"max_reads / peak\": peaks.num_reads.max(),\n",
    "        \"min_width / peak\": peaks.width.min(),\n",
    "        \"mean_width / peak\": int(peaks.width.mean()),\n",
    "        \"max_width / peak\": peaks.width.max(),\n",
    "        \"knrgl_covered\": len(knrgl.overlap(peaks)),\n",
    "        \"peaks_in_knrgl\": len(knrgl_peaks[-1]),\n",
    "        \"total_knrgl\": len(knrgl),\n",
    "        \"rmsk_covered\": len(rmsk.overlap(peaks)),\n",
    "        \"peaks_in_rmsk\": len(rmsk_peaks[-1]),\n",
    "        \"total_rmsk\": len(rmsk),\n",
    "    }\n",
    "    metrics.append(data)\n",
    "    \n",
    "\n",
    "metrics = pd.DataFrame.from_records(metrics)\n",
    "all_peaks = pd.concat(all_peaks)\n",
    "knrgl_peaks = pd.concat(knrgl_peaks)\n",
    "rmsk_peaks = pd.concat(rmsk_peaks)\n",
    "\n",
    "all_peaks = pd.merge(all_peaks, knrgl_peaks, how=\"left\", on=['Chromosome', 'Start', 'End', 'num_reads', 'width','dna_type','sample_id'], indicator=\"KNRGL\")\n",
    "all_peaks['KNRGL'] = np.where(all_peaks['KNRGL'] == 'both', True, False)\n",
    "all_peaks = pd.merge(all_peaks, rmsk_peaks, how=\"left\", on=['Chromosome', 'Start', 'End', 'num_reads', 'width','dna_type','sample_id'], indicator=\"RMSK\")\n",
    "all_peaks['RMSK'] = np.where(all_peaks['RMSK'] == 'both', True, False)\n",
    "all_peaks[\"label\"] = all_peaks.apply(lambda x: \"KNRGL\" if x.KNRGL else \"RMSK\" if x.RMSK else \"OTHER\", axis=1).drop(columns=[\"KNRGL\", \"RMSK\"])"
   ]
  },
  {
   "cell_type": "code",
   "execution_count": null,
   "id": "990b3904",
   "metadata": {},
   "outputs": [],
   "source": [
    "knrgl_peaks.sort_values(\"width\", ascending=False)"
   ]
  },
  {
   "cell_type": "code",
   "execution_count": null,
   "id": "60408882",
   "metadata": {},
   "outputs": [],
   "source": [
    "sns.stripplot(y=\"total_peaks\", x=\"dna_type\", hue=\"dna_type\", data=metrics)"
   ]
  },
  {
   "cell_type": "code",
   "execution_count": null,
   "id": "31677743",
   "metadata": {},
   "outputs": [],
   "source": [
    "fig = sns.jointplot(data=metrics, x=\"total_reads\", y=\"total_peaks\", hue=\"dna_type\", alpha = 0.5)"
   ]
  },
  {
   "cell_type": "code",
   "execution_count": null,
   "id": "6e8b47f7",
   "metadata": {},
   "outputs": [],
   "source": [
    "fig = sns.jointplot(data=metrics, x=\"knrgl_covered\", y=\"peaks_in_knrgl\", hue=\"dna_type\", alpha = 0.5)\n",
    "x0, x1 = fig.ax_joint.get_xlim()\n",
    "y0, y1 = fig.ax_joint.get_ylim()\n",
    "lims = [max(x0, y0), min(x1, y1)]\n",
    "fig.ax_joint.plot(lims, lims, linestyle='dashed', color=\"black\", alpha=0.5)"
   ]
  },
  {
   "cell_type": "code",
   "execution_count": null,
   "id": "3f0d52a5",
   "metadata": {},
   "outputs": [],
   "source": [
    "my_samples = all_peaks.loc[all_peaks.dna_type == \"mda\", \"sample_id\"].drop_duplicates().values.tolist()[0:11]\n",
    "my_samples.append(*all_peaks.loc[all_peaks.dna_type == \"bulk\", \"sample_id\"].drop_duplicates().values.flatten())"
   ]
  },
  {
   "cell_type": "code",
   "execution_count": null,
   "id": "4707147e",
   "metadata": {},
   "outputs": [],
   "source": [
    "# boxplot of number of reads per peak\n",
    "fig = sns.boxplot(data=all_peaks.loc[all_peaks.sample_id.isin(my_samples),:], y=\"sample_id\", x=\"num_reads\", hue=\"dna_type\", dodge=False)\n",
    "fig.set_xscale(\"log\")\n",
    "fig.set_xlabel(\"Number of reads / peak\")"
   ]
  },
  {
   "cell_type": "code",
   "execution_count": null,
   "id": "7a2a7ca7",
   "metadata": {},
   "outputs": [],
   "source": [
    "# boxplot of peak width\n",
    "fig = sns.boxplot(data=all_peaks.loc[all_peaks.sample_id.isin(my_samples),:], y=\"sample_id\", x=\"width\", hue=\"dna_type\", dodge=False)\n",
    "fig.set_xscale(\"log\")\n",
    "fig.set_xlabel(\"Peak width (bp)\")"
   ]
  },
  {
   "cell_type": "code",
   "execution_count": null,
   "id": "2cde2b4a",
   "metadata": {},
   "outputs": [],
   "source": [
    "# scatter\n",
    "fig = sns.relplot(data=all_peaks.loc[all_peaks.sample_id.isin(my_samples),:], y=\"num_reads\", x=\"width\", hue=\"label\", col=\"sample_id\", col_wrap=4, kind=\"scatter\", alpha=0.5)\n",
    "fig.set(yscale = 'log', xscale = 'log', ylabel = 'Number of reads / peak', xlabel = 'Peak width (bp)')"
   ]
  },
  {
   "attachments": {},
   "cell_type": "markdown",
   "id": "ee199124",
   "metadata": {},
   "source": [
    "## Investigate # of peaks in bulk found in cells"
   ]
  },
  {
   "cell_type": "code",
   "execution_count": null,
   "id": "4a6e3f81",
   "metadata": {},
   "outputs": [],
   "source": [
    "for pfn, bfn in zip(snakemake.input.bulk_peaks, snakemake.input.bulk_bam):\n",
    "\tbulk_peaks = pd.read_csv(\n",
    "\t\tpfn,\n",
    "        sep=\"\\t\",\n",
    "        header=None,\n",
    "        usecols=[0,1,2,3,4],\n",
    "        names=[\"chr\", \"start\", \"end\", \"width\", \"total_reads\"],\n",
    "\t)\n",
    "\tbulk_peaks = bulk_peaks.rename(columns={\"chr\": \"Chromosome\", \"start\": \"Start\", \"end\": \"End\", \"total_reads\": \"num_reads\"})\n",
    "\tbulk_peaks[\"width\"] = bulk_peaks.End - bulk_peaks.Start\n",
    "\tbulk_peaks = pr.PyRanges(bulk_peaks)\n",
    "\n",
    "bulk_in_cells = []\n",
    "\n",
    "for pfn, bfn in zip(snakemake.input.cell_peaks, snakemake.input.cell_bam):\n",
    "\tcell_peaks = pd.read_csv(\n",
    "\t\tpfn,\n",
    "\t\tsep=\"\\t\",\n",
    "        header=None,\n",
    "        usecols=[0,1,2,3,4],\n",
    "        names=[\"chr\", \"start\", \"end\", \"width\", \"total_reads\"],\n",
    "\t)\n",
    "\tcell_peaks = cell_peaks.rename(columns={\"chr\": \"Chromosome\", \"start\": \"Start\", \"end\": \"End\", \"total_reads\": \"num_reads\"})\n",
    "\tcell_peaks[\"width\"] = cell_peaks.End - cell_peaks.Start\n",
    "\tcell_peaks = pr.PyRanges(cell_peaks)\n",
    "\tbulk_peaks.overlap(cell_peaks)\n",
    "\tbulk_in_cells.append(bulk_peaks.overlap(cell_peaks).df)\n",
    "\n",
    "bulk_in_cells = pd.concat(bulk_in_cells)"
   ]
  },
  {
   "cell_type": "code",
   "execution_count": null,
   "id": "4ee23823",
   "metadata": {},
   "outputs": [],
   "source": [
    "plot_df = bulk_in_cells.value_counts([\"Chromosome\", \"Start\", \"End\", \"num_reads\", \"width\"]).to_frame(\"num_cells\").reset_index()\n",
    "print(f\"{len(plot_df)} bulk peaks found in cells\")\n",
    "\n",
    "fig = sns.jointplot(data=plot_df, x = \"num_cells\", y=\"num_reads\", alpha = 0.5, marginal_kws={\"bins\":100}, marginal_ticks=True, ratio = 2)\n",
    "fig.ax_joint.set_yscale(\"log\")"
   ]
  },
  {
   "cell_type": "code",
   "execution_count": null,
   "id": "d438e436",
   "metadata": {},
   "outputs": [],
   "source": [
    "fig = sns.scatterplot(data=plot_df, x = \"width\", y=\"num_reads\", hue=\"num_cells\", alpha = 0.5)\n",
    "fig.set(yscale = 'log', xscale = 'log', ylabel = 'Number of reads / peak', xlabel = 'Peak width (bp)')"
   ]
  }
 ],
 "metadata": {
  "kernelspec": {
   "display_name": "Python 3",
   "language": "python",
   "name": "python3"
  },
  "language_info": {
   "codemirror_mode": {
    "name": "ipython",
    "version": 3
   },
   "file_extension": ".py",
   "mimetype": "text/x-python",
   "name": "python",
   "nbconvert_exporter": "python",
   "pygments_lexer": "ipython3",
   "version": "3.10.8"
  },
  "orig_nbformat": 4,
  "vscode": {
   "interpreter": {
    "hash": "ecf22f20c4ecd4cd24c24fd56ff04fb2e82046bae060c891b9b95ece720aba93"
   }
  }
 },
 "nbformat": 4,
 "nbformat_minor": 5
}
