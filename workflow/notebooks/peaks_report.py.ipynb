{
 "cells": [
  {
   "attachments": {},
   "cell_type": "markdown",
   "id": "a39d7730",
   "metadata": {},
   "source": [
    "# Investigate custom peak calling method"
   ]
  },
  {
   "cell_type": "code",
   "execution_count": null,
   "id": "40f620f2",
   "metadata": {},
   "outputs": [],
   "source": [
    "import pandas as pd\n",
    "import pyranges as pr\n",
    "import seaborn as sns"
   ]
  },
  {
   "attachments": {},
   "cell_type": "markdown",
   "id": "90300b14",
   "metadata": {},
   "source": [
    "## Distribution of peaks"
   ]
  },
  {
   "cell_type": "code",
   "execution_count": null,
   "metadata": {},
   "outputs": [],
   "source": [
    "peaks = pd.read_csv(\n",
    "    snakemake.input.peaks[0],\n",
    "    sep=\"\\t\",\n",
    "    header=None,\n",
    "    usecols=[0, 1, 2, 3],\n",
    "    names=[\"chr\", \"start\", \"end\", \"num_reads\"],\n",
    "    dtype={\"chr\": str, \"start\": int, \"end\": int, \"num_reads\": int},\n",
    ")\n",
    "\n",
    "fig = peaks.num_reads.plot(\n",
    "    kind=\"hist\", bins=100, log=True, title=f\"Total calls: {len(peaks)}\"\n",
    ")\n",
    "fig.set_xlabel(\"Number of reads / call\")"
   ]
  },
  {
   "attachments": {},
   "cell_type": "markdown",
   "id": "d9d4b1cf",
   "metadata": {},
   "source": [
    "## Rmsk L1 insertions covering peaks"
   ]
  },
  {
   "cell_type": "code",
   "execution_count": null,
   "id": "ad44a506",
   "metadata": {},
   "outputs": [],
   "source": [
    "# read the rmsk file\n",
    "rmsk = pd.read_csv(\n",
    "    snakemake.input.rl1[0],\n",
    "    skiprows=3,\n",
    "    delim_whitespace=True,\n",
    "    names=[\"chrom\", \"start\", \"end\", \"strand\", \"repeat\"],\n",
    "    usecols=[4, 5, 6, 8, 9],\n",
    ")\n",
    "\n",
    "# filter for rep_names\n",
    "rep_names = [\n",
    "    \"L1HS_3end\",\n",
    "    \"L1PA2_3end\",\n",
    "    \"L1PA3_3end\",\n",
    "    \"L1PA4_3end\",\n",
    "    \"L1PA5_3end\",\n",
    "    \"L1PA6_3end\",\n",
    "]\n",
    "rmsk = rmsk[rmsk[\"repeat\"].isin(rep_names)]\n",
    "\n",
    "rmsk[\"strand\"] = rmsk.apply(lambda x: \"+\" if x.strand == \"+\" else \"-\", axis=1)"
   ]
  },
  {
   "cell_type": "code",
   "execution_count": null,
   "id": "4f6096df",
   "metadata": {},
   "outputs": [],
   "source": [
    "# convert to pyranges\n",
    "peaks = peaks.rename(columns={\"chr\": \"Chromosome\", \"start\": \"Start\", \"end\": \"End\"})\n",
    "rmsk = rmsk.rename(columns={\"chrom\": \"Chromosome\", \"start\": \"Start\", \"end\": \"End\"})\n",
    "rmsk_df = pr.PyRanges(rmsk)\n",
    "peaks_df = pr.PyRanges(peaks)\n",
    "\n",
    "# find overlaps\n",
    "overlaps = rmsk_df.overlap(peaks_df)\n",
    "overlaps = overlaps.df.drop_duplicates(subset=[\"Chromosome\", \"Start\", \"End\"])\n",
    "\n",
    "# count overlaps\n",
    "o_counts = overlaps.groupby([\"Chromosome\", \"repeat\"]).size().reset_index()\n",
    "rmsk_counts = rmsk_df.df.groupby([\"Chromosome\", \"repeat\"]).size().reset_index()\n",
    "plot_df = o_counts.merge(\n",
    "    rmsk_counts, on=[\"Chromosome\", \"repeat\"], suffixes=(\"_called\", \"_total\")\n",
    ").rename(columns={\"0_called\": \"num_called\", \"0_total\": \"num_total\"})"
   ]
  },
  {
   "cell_type": "code",
   "execution_count": null,
   "id": "51fe3586",
   "metadata": {},
   "outputs": [],
   "source": [
    "print(\n",
    "    f\"{len(peaks_df.intersect(rmsk_df))} / {len(peaks)} peaks overlapping {plot_df.num_called.sum()} / {plot_df.num_total.sum()} rmsk L1 insertions\"\n",
    ")\n",
    "fig = sns.relplot(\n",
    "    data=plot_df,\n",
    "    x=\"num_total\",\n",
    "    y=\"num_called\",\n",
    "    kind=\"scatter\",\n",
    "    facet_kws=dict(sharex=False, sharey=False),\n",
    ")\n",
    "fig.set(\n",
    "    xlabel=\"# rmsk insertions / chr\", ylabel=\"# calls overlapping rmsk insertions / chr\"\n",
    ")\n",
    "\n",
    "for g in fig.axes:\n",
    "    for ax in g:\n",
    "        ax.set_ylim(ax.get_xlim())\n",
    "        ax.axline((0, 0), slope=1, color=\"gray\", linestyle=\"--\")\n",
    "\n",
    "sns.despine()"
   ]
  },
  {
   "cell_type": "code",
   "execution_count": null,
   "id": "57a547d4",
   "metadata": {},
   "outputs": [],
   "source": [
    "plot_df = peaks_df.intersect(rmsk_df)\n",
    "fig = plot_df.num_reads.plot(\n",
    "    kind=\"hist\", bins=100, log=True, title=f\"Total calls: {len(plot_df)}\"\n",
    ")\n",
    "fig.set_xlabel(\"Number of reads / call\")"
   ]
  },
  {
   "cell_type": "code",
   "execution_count": null,
   "id": "f60d4be8",
   "metadata": {},
   "outputs": [],
   "source": [
    "plot_df.df.sort_values(\"num_reads\", ascending=False).head(10)"
   ]
  },
  {
   "attachments": {},
   "cell_type": "markdown",
   "id": "aa0654f1",
   "metadata": {},
   "source": [
    "## KNRGL covering peaks"
   ]
  },
  {
   "cell_type": "code",
   "execution_count": null,
   "id": "49fb9d67",
   "metadata": {},
   "outputs": [],
   "source": [
    "knrgl = pd.read_csv(\n",
    "    snakemake.input.knrgl[0],\n",
    "    sep=\"\\t\",\n",
    "    header=None,\n",
    "    names=[\"Chromosome\", \"Start\", \"End\"],\n",
    "    dtype={\"Chromosome\": str, \"Start\": int, \"End\": int},\n",
    ")\n",
    "knrgl_df = pr.PyRanges(knrgl)"
   ]
  },
  {
   "cell_type": "code",
   "execution_count": null,
   "id": "40050a36",
   "metadata": {},
   "outputs": [],
   "source": [
    "# find overlaps\n",
    "overlaps = knrgl_df.overlap(peaks_df)\n",
    "overlaps = overlaps.df.drop_duplicates(subset=[\"Chromosome\", \"Start\", \"End\"])\n",
    "\n",
    "# count overlaps\n",
    "o_counts = overlaps.groupby(\"Chromosome\").size().reset_index()\n",
    "knrgl_counts = knrgl_df.df.groupby(\"Chromosome\").size().reset_index()\n",
    "plot_df = o_counts.merge(\n",
    "    knrgl_counts, on=\"Chromosome\", suffixes=(\"_called\", \"_total\")\n",
    ").rename(columns={\"0_called\": \"num_called\", \"0_total\": \"num_total\"})"
   ]
  },
  {
   "cell_type": "code",
   "execution_count": null,
   "id": "6e92ecf1",
   "metadata": {},
   "outputs": [],
   "source": [
    "print(\n",
    "    f\"{len(peaks_df.intersect(knrgl_df))} / {len(peaks)} peaks overlapping {plot_df.num_called.sum()} / {plot_df.num_total.sum()} non-reference L1 insertions\"\n",
    ")\n",
    "fig = sns.scatterplot(data=plot_df, x=\"num_total\", y=\"num_called\")\n",
    "fig.set_ylim(0, fig.get_xlim()[1])\n",
    "fig.set_xlim(0, fig.get_xlim()[1])\n",
    "fig.axline((0, 0), slope=1, color=\"gray\", linestyle=\"--\")\n",
    "fig.set(\n",
    "    xlabel=\"# KNRGL insertions / chr\",\n",
    "    ylabel=\"# calls overlapping KNRGL insertions / chr\",\n",
    ")\n",
    "sns.despine()"
   ]
  },
  {
   "cell_type": "code",
   "execution_count": null,
   "id": "b3aa03b1",
   "metadata": {},
   "outputs": [],
   "source": [
    "plot_df = peaks_df.intersect(knrgl_df)\n",
    "fig = plot_df.num_reads.plot(\n",
    "    kind=\"hist\", bins=100, log=True, title=f\"Total calls: {len(plot_df)}\"\n",
    ")\n",
    "fig.set_xlabel(\"Number of reads / call\")"
   ]
  },
  {
   "cell_type": "code",
   "execution_count": null,
   "id": "205b3c2e",
   "metadata": {},
   "outputs": [],
   "source": [
    "plot_df.df.sort_values(\"num_reads\", ascending=True).head(10)"
   ]
  }
 ],
 "metadata": {
  "kernelspec": {
   "display_name": "Python 3",
   "language": "python",
   "name": "python3"
  },
  "language_info": {
   "codemirror_mode": {
    "name": "ipython",
    "version": 3
   },
   "file_extension": ".py",
   "mimetype": "text/x-python",
   "name": "python",
   "nbconvert_exporter": "python",
   "pygments_lexer": "ipython3",
   "version": "3.8.15 | packaged by conda-forge | (default, Nov 22 2022, 08:49:35) \n[GCC 10.4.0]"
  },
  "orig_nbformat": 4,
  "vscode": {
   "interpreter": {
    "hash": "1c30a117ffe5159199ca114ea53bd2e2f03e3adc4e4321070ec981dc450f683e"
   }
  }
 },
 "nbformat": 4,
 "nbformat_minor": 5
}
