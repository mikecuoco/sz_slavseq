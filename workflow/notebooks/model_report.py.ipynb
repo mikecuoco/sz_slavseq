{
 "cells": [
  {
   "cell_type": "code",
   "execution_count": 1,
   "id": "5eac268d",
   "metadata": {},
   "outputs": [],
   "source": [
    "import sys, pickle\n",
    "import pandas as pd\n",
    "import numpy as np\n",
    "import seaborn as sns\n",
    "import matplotlib.pyplot as plt"
   ]
  },
  {
   "attachments": {},
   "cell_type": "markdown",
   "id": "259b9fa3",
   "metadata": {},
   "source": [
    "## Read in data"
   ]
  },
  {
   "cell_type": "code",
   "execution_count": null,
   "id": "6eb1d37d",
   "metadata": {},
   "outputs": [],
   "source": [
    "df = pd.read_pickle(snakemake.input.folds)\n",
    "nlabels = df[\"label\"].nunique()\n",
    "sns.set_palette(sns.husl_palette(nlabels))"
   ]
  },
  {
   "attachments": {},
   "cell_type": "markdown",
   "id": "06f62990",
   "metadata": {},
   "source": [
    "## Label Distributions"
   ]
  },
  {
   "attachments": {},
   "cell_type": "markdown",
   "id": "04ac37dc",
   "metadata": {},
   "source": [
    "### Per donor"
   ]
  },
  {
   "cell_type": "code",
   "execution_count": null,
   "id": "1fc964d8",
   "metadata": {},
   "outputs": [],
   "source": [
    "plot_df = df.value_counts([\"label\", \"donor_id\"]).to_frame(\"count\").reset_index()\n",
    "fig = sns.barplot(plot_df, x=\"count\", y=\"donor_id\", hue=\"label\")\n",
    "fig.set_xscale(\"log\")\n",
    "sns.move_legend(fig, \"upper left\", bbox_to_anchor=(1, 1))\n",
    "sns.despine()"
   ]
  },
  {
   "attachments": {},
   "cell_type": "markdown",
   "id": "0cab61bd",
   "metadata": {},
   "source": [
    "### Per cell"
   ]
  },
  {
   "cell_type": "code",
   "execution_count": null,
   "id": "30c35a3a",
   "metadata": {},
   "outputs": [],
   "source": [
    "plot_df = (\n",
    "    df.value_counts([\"label\", \"donor_id\", \"cell_id\"]).to_frame(\"count\").reset_index()\n",
    ")\n",
    "fig = sns.boxplot(\n",
    "    plot_df,\n",
    "    x=\"count\",\n",
    "    y=\"donor_id\",\n",
    "    hue=\"label\",\n",
    "    hue_order=[\"KNRGL\", \"RL1\", \"OTHER\"],\n",
    "    palette=sns.husl_palette(nlabels),\n",
    ")\n",
    "fig.set_xscale(\"log\")\n",
    "sns.move_legend(fig, \"upper left\", bbox_to_anchor=(1, 1))\n",
    "sns.despine()"
   ]
  },
  {
   "attachments": {},
   "cell_type": "markdown",
   "id": "8f813768",
   "metadata": {},
   "source": [
    "### Per fold"
   ]
  },
  {
   "cell_type": "code",
   "execution_count": null,
   "id": "4d858ba2",
   "metadata": {},
   "outputs": [],
   "source": [
    "def logplot(**kwargs):\n",
    "    data = kwargs.pop(\"data\")\n",
    "    ax = sns.barplot(data, **kwargs)\n",
    "    ax.set_xscale(\"log\")\n",
    "\n",
    "\n",
    "plot_df = (\n",
    "    df.value_counts([\"label\", \"donor_id\", \"fold\", \"stage\"])\n",
    "    .to_frame(\"count\")\n",
    "    .reset_index()\n",
    ")\n",
    "\n",
    "fig = sns.FacetGrid(plot_df, col=\"fold\", row=\"stage\", sharey=False)\n",
    "fig.map_dataframe(\n",
    "    logplot,\n",
    "    x=\"count\",\n",
    "    y=\"donor_id\",\n",
    "    hue=\"label\",\n",
    "    hue_order=[\"KNRGL\", \"RL1\", \"OTHER\"],\n",
    "    palette=sns.husl_palette(nlabels),\n",
    ")\n",
    "fig.add_legend()\n",
    "sns.despine()"
   ]
  },
  {
   "attachments": {},
   "cell_type": "markdown",
   "id": "866cc9fe",
   "metadata": {},
   "source": [
    "## Feature Distributions"
   ]
  },
  {
   "cell_type": "code",
   "execution_count": 6,
   "id": "e6ead8ee",
   "metadata": {},
   "outputs": [],
   "source": [
    "plot_df = df.reset_index().melt(\n",
    "    id_vars=[\n",
    "        \"chrom\",\n",
    "        \"start\",\n",
    "        \"end\",\n",
    "        \"donor_id\",\n",
    "        \"cell_id\",\n",
    "        \"label\",\n",
    "        \"build\",\n",
    "        \"db\",\n",
    "        \"fold\",\n",
    "        \"stage\",\n",
    "    ],\n",
    "    var_name=\"feature\",\n",
    ")\n",
    "\n",
    "fig = sns.FacetGrid(plot_df, col=\"feature\", col_wrap=5, sharex=False)\n",
    "fig.map_dataframe(\n",
    "    sns.boxplot,\n",
    "    x=\"value\",\n",
    "    y=\"label\",\n",
    "    hue_order=[\"KNRGL\", \"RL1\", \"OTHER\"],\n",
    "    fliersize=0,\n",
    "    palette=sns.husl_palette(nlabels),\n",
    ")\n",
    "sns.despine()"
   ]
  },
  {
   "attachments": {},
   "cell_type": "markdown",
   "id": "a9532fee",
   "metadata": {},
   "source": [
    "## Precision/Recall"
   ]
  },
  {
   "cell_type": "code",
   "execution_count": null,
   "id": "c4c0f338",
   "metadata": {},
   "outputs": [],
   "source": [
    "df = pd.concat([pd.read_pickle(f) for f in snakemake.input.prcurve])\n",
    "df[\"label_fold\"] = df[\"label\"] + \"; fold \" + df[\"fold\"].astype(str)\n",
    "nfolds = df[\"fold\"].nunique()"
   ]
  },
  {
   "cell_type": "code",
   "execution_count": null,
   "id": "2a341291",
   "metadata": {},
   "outputs": [],
   "source": [
    "# Plot PR curves\n",
    "colors = []\n",
    "for fold in range(nfolds):\n",
    "    colors.extend(sns.husl_palette(nlabels, l=0.3 + (fold / nfolds) * 0.4))\n",
    "sns.set_palette(colors)\n",
    "\n",
    "sns.set_style(\"ticks\")\n",
    "fig = sns.relplot(\n",
    "    data=df,\n",
    "    x=\"recall\",\n",
    "    y=\"precision\",\n",
    "    hue=\"label_fold\",\n",
    "    col=\"stage\",\n",
    "    row=\"model_id\",\n",
    "    kind=\"line\",\n",
    "    errorbar=None,\n",
    ")\n",
    "sns.despine()"
   ]
  },
  {
   "cell_type": "code",
   "execution_count": null,
   "id": "1587db24",
   "metadata": {},
   "outputs": [],
   "source": [
    "# Plot Area Under PR Curve\n",
    "\n",
    "fig = sns.FacetGrid(\n",
    "    df[[\"label\", \"stage\", \"model_id\", \"fold\", \"auprc\"]].drop_duplicates(),\n",
    "    col=\"model_id\",\n",
    "    col_wrap=3,\n",
    ")\n",
    "fig.map_dataframe(\n",
    "    sns.boxplot,\n",
    "    x=\"stage\",\n",
    "    y=\"auprc\",\n",
    "    hue=\"label\",\n",
    "    hue_order=[\"KNRGL\", \"RL1\", \"OTHER\"],\n",
    "    palette=sns.husl_palette(nlabels),\n",
    ")\n",
    "fig.add_legend()\n",
    "sns.despine()"
   ]
  },
  {
   "attachments": {},
   "cell_type": "markdown",
   "id": "42bbdfa2",
   "metadata": {},
   "source": [
    "## Confusion Matrix"
   ]
  },
  {
   "cell_type": "code",
   "execution_count": null,
   "id": "1b283acd",
   "metadata": {},
   "outputs": [],
   "source": [
    "from sklearn.metrics import ConfusionMatrixDisplay\n",
    "\n",
    "with open(snakemake.input.label_encoder, \"rb\") as f:\n",
    "    le = pickle.load(f)\n",
    "\n",
    "for i, model_id in enumerate(snakemake.params.model_ids):\n",
    "    with open(snakemake.input.confusion[i], \"rb\") as f:\n",
    "        cm_dict = pickle.load(f)\n",
    "\n",
    "    # TODO: make 3-panel plot for each model\n",
    "    for stage in cm_dict.keys():\n",
    "        cm_list = [cm_dict[stage][fold] for fold in cm_dict[stage].keys()]\n",
    "        cm = np.mean(cm_list, axis=0).astype(\n",
    "            int\n",
    "        )  # average confusion matrix across folds\n",
    "        plt.title(f\"Confusion Matrix for {model_id} model in {stage} stage\")\n",
    "        ConfusionMatrixDisplay(cm, display_labels=le.classes_).plot()\n",
    "        plt.clf()"
   ]
  },
  {
   "attachments": {},
   "cell_type": "markdown",
   "id": "203924ad",
   "metadata": {},
   "source": [
    "# TODO: add feature importance"
   ]
  }
 ],
 "metadata": {
  "kernelspec": {
   "display_name": "Python 3",
   "language": "python",
   "name": "python3"
  },
  "language_info": {
   "codemirror_mode": {
    "name": "ipython",
    "version": 3
   },
   "file_extension": ".py",
   "mimetype": "text/x-python",
   "name": "python",
   "nbconvert_exporter": "python",
   "pygments_lexer": "ipython3",
   "version": "3.8.15 | packaged by conda-forge | (default, Nov 22 2022, 08:49:35) \n[GCC 10.4.0]"
  },
  "orig_nbformat": 4,
  "vscode": {
   "interpreter": {
    "hash": "1c30a117ffe5159199ca114ea53bd2e2f03e3adc4e4321070ec981dc450f683e"
   }
  }
 },
 "nbformat": 4,
 "nbformat_minor": 5
}
