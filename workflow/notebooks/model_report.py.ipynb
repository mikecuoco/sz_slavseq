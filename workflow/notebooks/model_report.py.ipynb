{
 "cells": [
  {
   "attachments": {},
   "cell_type": "markdown",
   "id": "30e5190c",
   "metadata": {},
   "source": [
    "# Model Report"
   ]
  },
  {
   "cell_type": "code",
   "execution_count": null,
   "id": "0a2d2c3e",
   "metadata": {},
   "outputs": [],
   "source": [
    "import sys, os\n",
    "import pandas as pd\n",
    "import seaborn as sns\n",
    "\n",
    "# get access to the src directory\n",
    "sys.path.append((os.path.abspath(\"workflow\")))"
   ]
  },
  {
   "attachments": {},
   "cell_type": "markdown",
   "id": "259b9fa3",
   "metadata": {},
   "source": [
    "## Read in data"
   ]
  },
  {
   "cell_type": "code",
   "execution_count": null,
   "id": "6eb1d37d",
   "metadata": {},
   "outputs": [],
   "source": [
    "import pickle\n",
    "from gzip import GzipFile\n",
    "\n",
    "models = {}\n",
    "for fn in snakemake.input:\n",
    "    with GzipFile(fn, \"rb\") as f:\n",
    "        m = pickle.load(f)\n",
    "    models[m.id_] = m"
   ]
  },
  {
   "attachments": {},
   "cell_type": "markdown",
   "id": "efc3f615",
   "metadata": {},
   "source": [
    "## ROC"
   ]
  },
  {
   "cell_type": "code",
   "execution_count": null,
   "id": "afc8a709",
   "metadata": {},
   "outputs": [],
   "source": [
    "from sklearn.metrics import roc_curve, auc\n",
    "\n",
    "# Wrangle\n",
    "plot_df = []\n",
    "for id, m in models.items():\n",
    "    for fold in m.res_:\n",
    "        roc = pd.DataFrame()\n",
    "        roc[\"fpr\"], roc[\"tpr\"], roc[\"threshold\"] = roc_curve(\n",
    "            m.res_[fold][\"test\"][\"label\"],\n",
    "            m.res_[fold][\"test\"][\"proba_KNRGL\"],\n",
    "            pos_label=\"KNRGL\",\n",
    "        )\n",
    "        roc[\"fold\"] = fold\n",
    "        roc[\"model\"] = id\n",
    "        roc[\"auc\"] = auc(roc[\"fpr\"], roc[\"tpr\"])\n",
    "        plot_df.append(roc)\n",
    "\n",
    "# Average over folds\n",
    "plot_df = (\n",
    "    pd.concat(plot_df)\n",
    "    .groupby([\"model\", \"threshold\"])\n",
    "    .mean([\"fpr\", \"fpr\", \"auc\"])\n",
    "    .reset_index()\n",
    ")\n",
    "\n",
    "# Plot\n",
    "sns.set_style(\"ticks\")\n",
    "fig = sns.lineplot(\n",
    "    data=plot_df,\n",
    "    x=\"fpr\",\n",
    "    y=\"tpr\",\n",
    "    hue=\"model\",\n",
    ")\n",
    "\n",
    "fig.axes.axline(\n",
    "    xy1=(0, 0), slope=1, linestyle=\"--\", color=\"gray\", linewidth=1\n",
    ")  # Draw a line of x=y\n",
    "fig.set(\n",
    "    xlim=(0, 1), ylim=(0, 1), xlabel=\"False Positive Rate\", ylabel=\"True Positive Rate\"\n",
    ")  # set axis limits and labels\n",
    "sns.despine()"
   ]
  },
  {
   "attachments": {},
   "cell_type": "markdown",
   "id": "2512b20f",
   "metadata": {},
   "source": [
    "## Theoretical PPV"
   ]
  },
  {
   "cell_type": "code",
   "execution_count": null,
   "id": "f879b6cb",
   "metadata": {},
   "outputs": [],
   "source": [
    "from sklearn.metrics import confusion_matrix\n",
    "\n",
    "bal = [1, 10, 100, 1000, 10000, 100000]\n",
    "\n",
    "# Wrangle\n",
    "plot_df = []\n",
    "for id, m in models.items():\n",
    "    for fold in m.res_:\n",
    "        for b in bal:\n",
    "            cm = confusion_matrix(\n",
    "                m.res_[fold][\"test\"][\"label\"],\n",
    "                m.res_[fold][\"test\"][\"pred\"],\n",
    "                normalize=\"true\",\n",
    "                labels=[\"KNRGL\", \"OTHER\"],\n",
    "            )\n",
    "            ppv = {}\n",
    "            ppv[\"tpr\"] = cm[0, 0]\n",
    "            ppv[\"fpr\"] = cm[1, 0]\n",
    "            ppv[\"nKNRGL\"] = 1\n",
    "            ppv[\"nOTHER\"] = b\n",
    "            ppv[\"tp\"] = ppv[\"nKNRGL\"] * ppv[\"tpr\"]\n",
    "            ppv[\"fp\"] = ppv[\"nOTHER\"] * ppv[\"fpr\"]\n",
    "            ppv[\"ppv\"] = ppv[\"tp\"] / (ppv[\"tp\"] + ppv[\"fp\"])\n",
    "            ppv[\"fold\"] = fold\n",
    "            ppv[\"model\"] = id\n",
    "            plot_df.append(ppv)\n",
    "\n",
    "plot_df = (\n",
    "    pd.DataFrame.from_records(plot_df)\n",
    "    .groupby([\"model\", \"nOTHER\"])\n",
    "    .mean([\"tp\", \"fp\", \"ppv\", \"tpr\", \"fpr\"])\n",
    "    .reset_index()\n",
    ")\n",
    "\n",
    "fig = sns.lineplot(data=plot_df, x=\"nOTHER\", y=\"ppv\", hue=\"model\", markers=True)\n",
    "fig.set(xscale=\"log\")\n",
    "fig.set(ylabel=\"Positive Predictive Value (TP/TP+FP)\", xlabel=\"OTHER:KNRGL class ratio\")\n",
    "sns.despine()"
   ]
  },
  {
   "attachments": {},
   "cell_type": "markdown",
   "id": "203924ad",
   "metadata": {},
   "source": [
    "## Feature Importances"
   ]
  },
  {
   "cell_type": "code",
   "execution_count": null,
   "id": "3836f256",
   "metadata": {},
   "outputs": [],
   "source": [
    "from functools import reduce\n",
    "\n",
    "\n",
    "def get_fi(estimator):\n",
    "    df = pd.DataFrame()\n",
    "    df[\"feature\"] = estimator.feature_names_in_\n",
    "    df[\"importance\"] = estimator.feature_importances_\n",
    "    return df\n",
    "\n",
    "\n",
    "fi_list = []\n",
    "for id, m in models.items():\n",
    "    if \"feature_importances_\" not in dir(m.res_[0][\"clf\"]._final_estimator):\n",
    "        print(f\"{id} does not have feature importances\")\n",
    "        continue\n",
    "    fi = [get_fi(m.res_[fold][\"clf\"]._final_estimator) for fold in m.res_]\n",
    "    df = reduce(lambda x, y: pd.merge(x, y, on=\"feature\"), fi).set_index(\"feature\")\n",
    "    df[\"mean_importance\"] = df.mean(axis=1)\n",
    "    df[\"model_id\"] = id\n",
    "    df.sort_values(\"mean_importance\", ascending=False, inplace=True)\n",
    "    df.reset_index(inplace=True)\n",
    "    fi_list.append(df)\n",
    "\n",
    "fi_df = pd.concat(fi_list)\n",
    "fig = sns.FacetGrid(\n",
    "    fi_df, col=\"model_id\", sharey=False, sharex=False, height=12, aspect=0.6\n",
    ")\n",
    "fig.map_dataframe(\n",
    "    sns.pointplot,\n",
    "    x=\"mean_importance\",\n",
    "    y=\"feature\",\n",
    "    join=False,\n",
    ")\n",
    "sns.despine()"
   ]
  }
 ],
 "metadata": {
  "kernelspec": {
   "display_name": "Python 3",
   "language": "python",
   "name": "python3"
  },
  "language_info": {
   "codemirror_mode": {
    "name": "ipython",
    "version": 3
   },
   "file_extension": ".py",
   "mimetype": "text/x-python",
   "name": "python",
   "nbconvert_exporter": "python",
   "pygments_lexer": "ipython3",
   "version": "3.8.15 | packaged by conda-forge | (default, Nov 22 2022, 08:49:35) \n[GCC 10.4.0]"
  },
  "orig_nbformat": 4,
  "vscode": {
   "interpreter": {
    "hash": "1c30a117ffe5159199ca114ea53bd2e2f03e3adc4e4321070ec981dc450f683e"
   }
  }
 },
 "nbformat": 4,
 "nbformat_minor": 5
}
