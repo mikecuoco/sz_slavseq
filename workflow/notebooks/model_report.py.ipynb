{
 "cells": [
  {
   "attachments": {},
   "cell_type": "markdown",
   "id": "30e5190c",
   "metadata": {},
   "source": [
    "# Model Report"
   ]
  },
  {
   "cell_type": "code",
   "execution_count": null,
   "id": "0a2d2c3e",
   "metadata": {},
   "outputs": [],
   "source": [
    "import sys, os\n",
    "import pandas as pd\n",
    "import seaborn as sns\n",
    "\n",
    "# get access to the src directory\n",
    "sys.path.append((os.path.abspath(\"workflow\")))"
   ]
  },
  {
   "attachments": {},
   "cell_type": "markdown",
   "id": "259b9fa3",
   "metadata": {},
   "source": [
    "## Read in data"
   ]
  },
  {
   "cell_type": "code",
   "execution_count": null,
   "id": "6eb1d37d",
   "metadata": {},
   "outputs": [],
   "source": [
    "import pickle\n",
    "from gzip import GzipFile\n",
    "\n",
    "models = {}\n",
    "for fn in snakemake.input:\n",
    "\twith GzipFile(fn, \"rb\") as f:\n",
    "\t\tm = pickle.load(f)\n",
    "\tmodels[m.id_] = m"
   ]
  },
  {
   "attachments": {},
   "cell_type": "markdown",
   "id": "efc3f615",
   "metadata": {},
   "source": [
    "## ROC"
   ]
  },
  {
   "cell_type": "code",
   "execution_count": null,
   "id": "afc8a709",
   "metadata": {},
   "outputs": [],
   "source": [
    "from sklearn.metrics import roc_curve, auc\n",
    "\n",
    "# Wrangle\n",
    "plot_df = []\n",
    "for id, m in models.items():\n",
    "\tfor fold in m.folds_:\n",
    "\t\troc = pd.DataFrame()\n",
    "\t\troc[\"fpr\"], roc[\"tpr\"], roc[\"threshold\"] = roc_curve(m.folds_[fold][\"test\"][\"label\"], m.folds_[fold][\"test\"][\"proba_KNRGL\"], pos_label=\"KNRGL\")\n",
    "\t\troc[\"fold\"] = fold; roc[\"model\"] = id; roc[\"auc\"] = auc(roc[\"fpr\"], roc[\"tpr\"])\n",
    "\t\tplot_df.append(roc)\n",
    "\n",
    "plot_df = pd.concat(plot_df).groupby([\"model\",\"threshold\"]).mean([\"fpr\",\"fpr\",\"auc\"]).reset_index()\n",
    "\n",
    "# Plot \n",
    "sns.set_style(\"ticks\")\n",
    "fig = sns.relplot(\n",
    "    data=plot_df,\n",
    "    x=\"fpr\",\n",
    "    y=\"tpr\",\n",
    "    hue=\"model\",\n",
    "    kind=\"line\",\n",
    ")\n",
    "fig.set(xlim=(0, 1), ylim=(0, 1))\n",
    "sns.despine()"
   ]
  },
  {
   "attachments": {},
   "cell_type": "markdown",
   "id": "2512b20f",
   "metadata": {},
   "source": [
    "## Theoretical PPV"
   ]
  },
  {
   "cell_type": "code",
   "execution_count": null,
   "id": "f879b6cb",
   "metadata": {},
   "outputs": [],
   "source": [
    "# from sklearn.metrics import confusion_matrix\n",
    "# bal = [1, 0.1, 0.01, 0.001, 0.0001, 0.00001]\n",
    "\n",
    "# # Wrangle\n",
    "# plot_df = []\n",
    "# for id, m in models.items():\n",
    "# \tfor fold in m.folds_:\n",
    "# \t\tfor b in bal:\n",
    "# \t\t\tcm = confusion_matrix(m.folds_[fold][\"test\"][\"label\"], m.folds_[fold][\"test\"][\"pred\"], normalize=\"true\")"
   ]
  },
  {
   "attachments": {},
   "cell_type": "markdown",
   "id": "203924ad",
   "metadata": {},
   "source": [
    "## Feature Importances"
   ]
  },
  {
   "cell_type": "code",
   "execution_count": null,
   "id": "3836f256",
   "metadata": {},
   "outputs": [],
   "source": [
    "from functools import reduce\n",
    "\n",
    "def get_fi(estimator):\n",
    "\tdf = pd.DataFrame()\n",
    "\tdf[\"feature\"] = estimator.feature_names_in_\n",
    "\tdf[\"importance\"] = estimator.feature_importances_\n",
    "\treturn df\n",
    "\n",
    "fi_list = []\n",
    "for id, m in models.items():\n",
    "\tif \"feature_importances_\" not in dir(m.folds_[0][\"clf\"]._final_estimator):\n",
    "\t\tprint(f\"{id} does not have feature importances\")\n",
    "\t\tcontinue\n",
    "\tfi = [get_fi(m.folds_[fold][\"clf\"]._final_estimator) for fold in m.folds_]\n",
    "\tdf = reduce(lambda x, y: pd.merge(x, y, on=\"feature\"), fi).set_index(\"feature\")\n",
    "\tdf[\"mean_importance\"] = df.mean(axis=1)\n",
    "\tdf[\"model_id\"] = id\n",
    "\tdf.sort_values(\"mean_importance\", ascending=False, inplace=True)\n",
    "\tdf.reset_index(inplace=True)\n",
    "\tfi_list.append(df)\n",
    "\n",
    "fi_df = pd.concat(fi_list)\n",
    "fig = sns.FacetGrid(\n",
    "\tfi_df, col=\"model_id\", sharey=False, sharex=False, height=12, aspect=0.6\n",
    ")\n",
    "fig.map_dataframe(\n",
    "\tsns.pointplot,\n",
    "\tx=\"mean_importance\",\n",
    "\ty=\"feature\",\n",
    "\tjoin=False,\n",
    ")\n",
    "sns.despine()"
   ]
  }
 ],
 "metadata": {
  "kernelspec": {
   "display_name": "Python 3",
   "language": "python",
   "name": "python3"
  },
  "language_info": {
   "codemirror_mode": {
    "name": "ipython",
    "version": 3
   },
   "file_extension": ".py",
   "mimetype": "text/x-python",
   "name": "python",
   "nbconvert_exporter": "python",
   "pygments_lexer": "ipython3",
   "version": "3.8.15 | packaged by conda-forge | (default, Nov 22 2022, 08:49:35) \n[GCC 10.4.0]"
  },
  "orig_nbformat": 4,
  "vscode": {
   "interpreter": {
    "hash": "1c30a117ffe5159199ca114ea53bd2e2f03e3adc4e4321070ec981dc450f683e"
   }
  }
 },
 "nbformat": 4,
 "nbformat_minor": 5
}
