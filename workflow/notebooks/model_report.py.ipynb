{
 "cells": [
  {
   "cell_type": "code",
   "execution_count": 1,
   "id": "5eac268d",
   "metadata": {},
   "outputs": [],
   "source": [
    "import sys, pickle\n",
    "import pandas as pd\n",
    "import numpy as np\n",
    "import seaborn as sns\n",
    "import matplotlib.pyplot as plt"
   ]
  },
  {
   "attachments": {},
   "cell_type": "markdown",
   "id": "259b9fa3",
   "metadata": {},
   "source": [
    "## Read in data"
   ]
  },
  {
   "cell_type": "code",
   "execution_count": null,
   "id": "6eb1d37d",
   "metadata": {},
   "outputs": [],
   "source": [
    "folds_df = pd.read_pickle(snakemake.input.folds)\n",
    "nlabels = folds_df[\"label\"].nunique()\n",
    "labels = folds_df[\"label\"].unique()\n",
    "sns.set_palette(sns.husl_palette(nlabels))\n",
    "test_df = folds_df[(folds_df[\"stage\"] == \"test\")]"
   ]
  },
  {
   "attachments": {},
   "cell_type": "markdown",
   "id": "06f62990",
   "metadata": {},
   "source": [
    "## Label Distributions in test data"
   ]
  },
  {
   "attachments": {},
   "cell_type": "markdown",
   "id": "04ac37dc",
   "metadata": {},
   "source": [
    "### Per donor"
   ]
  },
  {
   "cell_type": "code",
   "execution_count": null,
   "id": "1fc964d8",
   "metadata": {},
   "outputs": [],
   "source": [
    "plot_df = test_df.value_counts([\"label\", \"donor_id\"]).to_frame(\"count\").reset_index()\n",
    "fig = sns.barplot(\n",
    "    plot_df,\n",
    "    x=\"count\",\n",
    "    y=\"donor_id\",\n",
    "    hue=\"label\",\n",
    "    palette=sns.color_palette(sns.husl_palette(nlabels)),\n",
    "    hue_order=labels,\n",
    ")\n",
    "sns.move_legend(fig, \"upper left\", bbox_to_anchor=(1, 1))\n",
    "sns.despine()"
   ]
  },
  {
   "attachments": {},
   "cell_type": "markdown",
   "id": "0cab61bd",
   "metadata": {},
   "source": [
    "### Per cell"
   ]
  },
  {
   "cell_type": "code",
   "execution_count": null,
   "id": "30c35a3a",
   "metadata": {},
   "outputs": [],
   "source": [
    "plot_df = (\n",
    "    test_df.value_counts([\"label\", \"donor_id\", \"cell_id\"])\n",
    "    .to_frame(\"count\")\n",
    "    .reset_index()\n",
    ")\n",
    "fig = sns.boxplot(\n",
    "    plot_df,\n",
    "    x=\"count\",\n",
    "    y=\"donor_id\",\n",
    "    hue=\"label\",\n",
    "    hue_order=labels,\n",
    "    palette=sns.husl_palette(nlabels),\n",
    ")\n",
    "fig.set_xscale(\"log\")\n",
    "sns.move_legend(fig, \"upper left\", bbox_to_anchor=(1, 1))\n",
    "sns.despine()"
   ]
  },
  {
   "attachments": {},
   "cell_type": "markdown",
   "id": "8f813768",
   "metadata": {},
   "source": [
    "## Per donor per fold"
   ]
  },
  {
   "cell_type": "code",
   "execution_count": null,
   "id": "4d858ba2",
   "metadata": {},
   "outputs": [],
   "source": [
    "plot_df = (\n",
    "    folds_df.value_counts([\"label\", \"donor_id\", \"fold\", \"stage\"])\n",
    "    .to_frame(\"count\")\n",
    "    .reset_index()\n",
    ")\n",
    "\n",
    "fig = sns.FacetGrid(plot_df, col=\"fold\", row=\"stage\", sharey=False, sharex=False)\n",
    "fig.map_dataframe(\n",
    "    sns.barplot,\n",
    "    x=\"count\",\n",
    "    y=\"donor_id\",\n",
    "    hue=\"label\",\n",
    "    hue_order=labels,\n",
    "    palette=sns.husl_palette(nlabels),\n",
    ")\n",
    "fig.add_legend()\n",
    "sns.despine()"
   ]
  },
  {
   "attachments": {},
   "cell_type": "markdown",
   "id": "5053beb1",
   "metadata": {},
   "source": [
    "## Per donor per fold per cell"
   ]
  },
  {
   "cell_type": "code",
   "execution_count": null,
   "id": "4d858ba2",
   "metadata": {},
   "outputs": [],
   "source": [
    "def logplot(**kwargs):\n",
    "    data = kwargs.pop(\"data\")\n",
    "    ax = sns.boxplot(data, **kwargs)\n",
    "    ax.set_xscale(\"log\")\n",
    "\n",
    "\n",
    "plot_df = (\n",
    "    folds_df.value_counts([\"label\", \"donor_id\", \"cell_id\", \"fold\", \"stage\"])\n",
    "    .to_frame(\"count\")\n",
    "    .reset_index()\n",
    ")\n",
    "\n",
    "fig = sns.FacetGrid(plot_df, col=\"fold\", row=\"stage\", sharey=False, sharex=False)\n",
    "fig.map_dataframe(\n",
    "    logplot,\n",
    "    x=\"count\",\n",
    "    y=\"donor_id\",\n",
    "    hue=\"label\",\n",
    "    hue_order=labels,\n",
    "    palette=sns.husl_palette(nlabels),\n",
    ")\n",
    "fig.add_legend()\n",
    "sns.despine()"
   ]
  },
  {
   "attachments": {},
   "cell_type": "markdown",
   "id": "1bdf093a",
   "metadata": {},
   "source": [
    "## Feature PCA"
   ]
  },
  {
   "cell_type": "code",
   "execution_count": null,
   "id": "2510220a",
   "metadata": {},
   "outputs": [],
   "source": [
    "# downsample to smallest class\n",
    "from imblearn.under_sampling import RandomUnderSampler\n",
    "\n",
    "down_to = (\n",
    "    test_df[\"label\"].value_counts().min()\n",
    "    if test_df[\"label\"].value_counts().min() < 10000\n",
    "    else 10000\n",
    ")\n",
    "sample_dict = {label: down_to for label in labels}\n",
    "df, _ = RandomUnderSampler(sampling_strategy=sample_dict, random_state=42).fit_resample(\n",
    "    test_df, test_df[\"label\"]\n",
    ")"
   ]
  },
  {
   "cell_type": "code",
   "execution_count": null,
   "id": "711b0af3",
   "metadata": {},
   "outputs": [],
   "source": [
    "from sklearn.preprocessing import StandardScaler\n",
    "from sklearn.decomposition import PCA\n",
    "\n",
    "# make input data\n",
    "pca_df = df.drop(\n",
    "    [\"chrom\", \"start\", \"end\", \"donor_id\", \"cell_id\", \"label\", \"build\", \"db\", \"stage\"],\n",
    "    axis=1,\n",
    ")\n",
    "pca_df = StandardScaler().fit_transform(pca_df)\n",
    "\n",
    "# fit PCA\n",
    "pca = PCA(n_components=50, svd_solver=\"arpack\").fit_transform(pca_df)\n",
    "\n",
    "# preprare for plotting\n",
    "plot_df = pd.DataFrame(pca[:, :50])\n",
    "plot_df.columns = [\"PC{}\".format(i) for i in range(1, len(plot_df.columns) + 1)]\n",
    "plot_df[\"label\"] = df[\"label\"].to_numpy()"
   ]
  },
  {
   "cell_type": "code",
   "execution_count": null,
   "id": "d6cf6acc",
   "metadata": {},
   "outputs": [],
   "source": [
    "sns.pairplot(\n",
    "    plot_df[[\"PC1\", \"PC2\", \"PC3\", \"PC4\", \"PC5\", \"label\"]],  # first 5 PCs\n",
    "    hue=\"label\",\n",
    "    hue_order=labels,\n",
    "    plot_kws={\"alpha\": 0.5, \"size\": 2},\n",
    ")"
   ]
  },
  {
   "cell_type": "code",
   "execution_count": null,
   "id": "ddbc4348",
   "metadata": {},
   "outputs": [],
   "source": [
    "# tSNE\n",
    "# TODO: color by donor, other covariates\n",
    "# TODO: try different resolutions\n",
    "from sklearn.manifold import TSNE\n",
    "\n",
    "tsne = TSNE(random_state=42, init=\"random\").fit_transform(plot_df.drop(\"label\", axis=1))\n",
    "\n",
    "tsne_df = pd.DataFrame(tsne)\n",
    "tsne_df.columns = [\"tSNE1\", \"tSNE2\"]\n",
    "tsne_df[\"label\"] = plot_df[\"label\"]"
   ]
  },
  {
   "cell_type": "code",
   "execution_count": null,
   "id": "f9086ef6",
   "metadata": {},
   "outputs": [],
   "source": [
    "sns.scatterplot(\n",
    "    tsne_df, x=\"tSNE1\", y=\"tSNE2\", hue=\"label\", hue_order=labels, alpha=0.5, s=3\n",
    ")"
   ]
  },
  {
   "attachments": {},
   "cell_type": "markdown",
   "id": "a9532fee",
   "metadata": {},
   "source": [
    "## Precision/Recall"
   ]
  },
  {
   "cell_type": "code",
   "execution_count": null,
   "id": "c4c0f338",
   "metadata": {},
   "outputs": [],
   "source": [
    "pr_list = []\n",
    "for i, model_id in enumerate(snakemake.params.model_ids):\n",
    "    with open(snakemake.input.metrics[i], \"rb\") as f:\n",
    "        metrics = pickle.load(f)\n",
    "    for fold in metrics.keys():\n",
    "        for stage in [\"train\", \"test\", \"test_shuffled\"]:\n",
    "            for label in labels:\n",
    "                pr = pd.DataFrame()\n",
    "                pr[\"precision\"] = metrics[fold][stage][label][\"prcurve\"][\"precision\"]\n",
    "                pr[\"recall\"] = metrics[fold][stage][label][\"prcurve\"][\"recall\"]\n",
    "                pr = pr.sample(1000) if len(pr) > 1000 else pr\n",
    "                pr[\"auprc\"] = metrics[fold][stage][label][\"auprc\"]\n",
    "                pr[\"fold\"] = fold\n",
    "                pr[\"stage\"] = stage\n",
    "                pr[\"model_id\"] = model_id\n",
    "                pr[\"label\"] = label\n",
    "                pr_list.append(pr)\n",
    "df = pd.concat(pr_list)"
   ]
  },
  {
   "cell_type": "code",
   "execution_count": null,
   "id": "2a341291",
   "metadata": {},
   "outputs": [],
   "source": [
    "# Plot PR curves\n",
    "sns.set_style(\"ticks\")\n",
    "fig = sns.relplot(\n",
    "    data=df,\n",
    "    x=\"recall\",\n",
    "    y=\"precision\",\n",
    "    hue=\"label\",\n",
    "    style=\"fold\",\n",
    "    col=\"stage\",\n",
    "    row=\"model_id\",\n",
    "    kind=\"line\",\n",
    "    hue_order=labels,\n",
    "    errorbar=None,\n",
    ")\n",
    "sns.despine()"
   ]
  },
  {
   "cell_type": "code",
   "execution_count": null,
   "id": "1587db24",
   "metadata": {},
   "outputs": [],
   "source": [
    "# Plot Area Under PR Curve\n",
    "fig = sns.FacetGrid(\n",
    "    df[[\"label\", \"stage\", \"model_id\", \"fold\", \"auprc\"]].drop_duplicates(),\n",
    "    col=\"model_id\",\n",
    "    col_wrap=3,\n",
    ")\n",
    "fig.map_dataframe(\n",
    "    sns.pointplot,\n",
    "    x=\"stage\",\n",
    "    y=\"auprc\",\n",
    "    hue=\"label\",\n",
    "    hue_order=labels,\n",
    "    palette=sns.husl_palette(nlabels),\n",
    ")\n",
    "fig.add_legend()\n",
    "sns.despine()"
   ]
  },
  {
   "attachments": {},
   "cell_type": "markdown",
   "id": "42bbdfa2",
   "metadata": {},
   "source": [
    "## Confusion Matrix"
   ]
  },
  {
   "cell_type": "code",
   "execution_count": null,
   "id": "1b283acd",
   "metadata": {},
   "outputs": [],
   "source": [
    "from sklearn.metrics import ConfusionMatrixDisplay\n",
    "\n",
    "with open(snakemake.input.label_encoder, \"rb\") as f:\n",
    "    le = pickle.load(f)\n",
    "\n",
    "for i, model_id in enumerate(snakemake.params.model_ids):\n",
    "    with open(snakemake.input.metrics[i], \"rb\") as f:\n",
    "        metrics = pickle.load(f)\n",
    "\n",
    "    fig, ax = plt.subplots(1, 3, sharey=\"row\")\n",
    "    for j, stage in enumerate([\"train\", \"test\", \"test_shuffled\"]):\n",
    "        cm_list = [metrics[fold][stage][\"cm\"] for fold in metrics.keys()]\n",
    "        cm = np.mean(cm_list, axis=0)  # average confusion matrix across folds\n",
    "        disp = ConfusionMatrixDisplay(cm, display_labels=le.classes_)\n",
    "        disp.plot(ax=ax[j], xticks_rotation=45)\n",
    "        disp.im_.colorbar.remove()\n",
    "        disp.ax_.set_title(stage)\n",
    "        disp.ax_.set_xlabel(\"\")\n",
    "        if j > 0:\n",
    "            disp.ax_.set_ylabel(\"\")\n",
    "    fig.text(0.4, 0.75, model_id)\n",
    "    fig.text(0.4, 0.15, \"Predicted label\", ha=\"left\")\n",
    "    plt.show()"
   ]
  },
  {
   "attachments": {},
   "cell_type": "markdown",
   "id": "203924ad",
   "metadata": {},
   "source": [
    "# Feature Importances"
   ]
  },
  {
   "cell_type": "code",
   "execution_count": null,
   "id": "3836f256",
   "metadata": {},
   "outputs": [],
   "source": [
    "from functools import reduce\n",
    "\n",
    "for i, model_id in enumerate(snakemake.params.model_ids):\n",
    "    with open(snakemake.input.metrics[i], \"rb\") as f:\n",
    "        metrics = pickle.load(f)\n",
    "\n",
    "    if \"feature_importances\" not in metrics[0].keys():\n",
    "        print(f\"{model_id} does not have feature importances\")\n",
    "        continue\n",
    "    fi_list = [metrics[fold][\"feature_importances\"] for fold in metrics.keys()]\n",
    "    fi_df = reduce(lambda x, y: pd.merge(x, y, on=\"feature name\"), fi_list)\n",
    "    fi_df[\"mean_importance\"] = fi_df.mean(axis=1)\n",
    "    fi_df.sort_values(\"mean_importance\", ascending=False, inplace=True)\n",
    "    fi_df.reset_index(inplace=True)\n",
    "    plt.figure(figsize=(6, 14))\n",
    "    sns.pointplot(data=fi_df, x=\"mean_importance\", y=\"feature name\", join=False).set(\n",
    "        title=model_id\n",
    "    )"
   ]
  }
 ],
 "metadata": {
  "kernelspec": {
   "display_name": "Python 3",
   "language": "python",
   "name": "python3"
  },
  "language_info": {
   "codemirror_mode": {
    "name": "ipython",
    "version": 3
   },
   "file_extension": ".py",
   "mimetype": "text/x-python",
   "name": "python",
   "nbconvert_exporter": "python",
   "pygments_lexer": "ipython3",
   "version": "3.8.15 | packaged by conda-forge | (default, Nov 22 2022, 08:49:35) \n[GCC 10.4.0]"
  },
  "orig_nbformat": 4,
  "vscode": {
   "interpreter": {
    "hash": "1c30a117ffe5159199ca114ea53bd2e2f03e3adc4e4321070ec981dc450f683e"
   }
  }
 },
 "nbformat": 4,
 "nbformat_minor": 5
}
