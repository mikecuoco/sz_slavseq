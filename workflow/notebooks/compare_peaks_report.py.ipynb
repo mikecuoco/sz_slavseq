{
 "cells": [
  {
   "cell_type": "code",
   "execution_count": null,
   "metadata": {},
   "outputs": [],
   "source": [
    "import pandas as pd\n",
    "import pyranges as pr\n",
    "import seaborn as sns"
   ]
  },
  {
   "attachments": {},
   "cell_type": "markdown",
   "id": "5f26109d",
   "metadata": {},
   "source": [
    "# Read germline insertions"
   ]
  },
  {
   "cell_type": "code",
   "execution_count": null,
   "id": "e3b7fc07",
   "metadata": {},
   "outputs": [],
   "source": [
    "# read the rmsk file\n",
    "rmsk = pd.read_csv(\n",
    "    snakemake.input.rl1[0],\n",
    "    skiprows=3,\n",
    "    delim_whitespace=True,\n",
    "    names=[\"Chromosome\", \"Start\", \"End\", \"Strand\", \"repeat\"],\n",
    "    usecols=[4, 5, 6, 8, 9],\n",
    ")\n",
    "\n",
    "# filter for rep_names\n",
    "rep_names = [\n",
    "    \"L1HS_3end\",\n",
    "    \"L1PA2_3end\",\n",
    "    \"L1PA3_3end\",\n",
    "    \"L1PA4_3end\",\n",
    "    \"L1PA5_3end\",\n",
    "    \"L1PA6_3end\",\n",
    "]\n",
    "rmsk = rmsk[rmsk[\"repeat\"].isin(rep_names)]\n",
    "\n",
    "rmsk[\"Strand\"] = rmsk.apply(\n",
    "    lambda x: \"+\" if x.Strand == \"+\" else \"-\", axis=1\n",
    ")\n",
    "\n",
    "rmsk = pr.PyRanges(rmsk)\n",
    "rmsk.head"
   ]
  },
  {
   "cell_type": "code",
   "execution_count": null,
   "id": "c80cb713",
   "metadata": {},
   "outputs": [],
   "source": [
    "knrgl = pd.read_csv(\n",
    "    snakemake.input.knrgl[0],\n",
    "    sep=\"\\t\",\n",
    "    header=None,\n",
    "    names=[\"Chromosome\", \"Start\", \"End\"],\n",
    "    dtype= {\"Chromosome\": str, \"Start\": int, \"End\": int},\n",
    ")\n",
    "knrgl = pr.PyRanges(knrgl)\n",
    "knrgl.head\n"
   ]
  },
  {
   "attachments": {},
   "cell_type": "markdown",
   "metadata": {},
   "source": [
    "# Compare called peaks using multiple parameters"
   ]
  },
  {
   "cell_type": "code",
   "execution_count": null,
   "id": "00f9c929",
   "metadata": {},
   "outputs": [],
   "source": [
    "summary = []\n",
    "for fn, t in zip(snakemake.input.peaks, snakemake.params.t):\n",
    "\tprint(f\"Reading {fn}...\")\n",
    "\tpeaks = pd.read_csv(\n",
    "    \tfn,\n",
    "    \tsep=\"\\t\",\n",
    "    \theader=None,\n",
    "    \tnames=[\"Chromosome\", \"Start\", \"End\", \"num_reads\"],\n",
    "    \tdtype= {\"Chromosome\": str, \"Start\": int, \"End\": int, \"num_reads\": int},\n",
    "\t)\n",
    "\tpeaks[\"width\"] = peaks.End - peaks.Start\n",
    "\tpeaks = pr.PyRanges(peaks)\n",
    "\tdata = {\n",
    "\t\t\"t\": t,\n",
    "\t\t\"total_peaks\": len(peaks),\n",
    "\t\t\"min_reads / peak\": peaks.num_reads.min(),\n",
    "\t\t\"mean_reads / peak\": int(peaks.num_reads.mean()),\n",
    "\t\t\"max_reads / peak\": peaks.num_reads.max(),\n",
    "\t\t\"min_width / peak\": peaks.width.min(),\n",
    "\t\t\"mean_width / peak\": int(peaks.width.mean()),\n",
    "\t\t\"max_width / peak\": peaks.width.max(),\n",
    "\t\t\"knrgl_covered\": len(knrgl.overlap(peaks)),\n",
    "\t\t\"peaks_in_knrgl\": len(peaks.intersect(knrgl)),\n",
    "\t\t\"rmsk_covered\": len(rmsk.overlap(peaks)),\n",
    "\t\t\"peaks_in_rmsk\": len(peaks.intersect(rmsk)),\n",
    "\t}\n",
    "\tsummary.append(data)\n",
    "\n",
    "summary = pd.DataFrame.from_records(summary)\n",
    "print(summary)"
   ]
  }
 ],
 "metadata": {
  "kernelspec": {
   "display_name": "Python 3",
   "language": "python",
   "name": "python3"
  },
  "language_info": {
   "name": "python",
   "version": "3.6.8 (default, Nov 16 2020, 16:55:22) \n[GCC 4.8.5 20150623 (Red Hat 4.8.5-44)]"
  },
  "orig_nbformat": 4,
  "vscode": {
   "interpreter": {
    "hash": "31f2aee4e71d21fbe5cf8b01ff0e069b9275f58929596ceb00d14d90e3e16cd6"
   }
  }
 },
 "nbformat": 4,
 "nbformat_minor": 5
}
