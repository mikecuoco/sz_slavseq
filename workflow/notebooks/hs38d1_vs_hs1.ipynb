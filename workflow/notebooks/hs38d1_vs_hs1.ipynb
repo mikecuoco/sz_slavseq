{
 "cells": [
  {
   "cell_type": "markdown",
   "id": "10951054-a939-4bc7-8999-f4ba9e3ee538",
   "metadata": {},
   "source": [
    "# Compare SLAV-seq alignment quality against hs38d1 vs hs1 genomes\n",
    "\n",
    "Collect the following features for all read1:\n",
    "\n",
    "1. \\# duplicates\n",
    "2. mapq distribution\n",
    "3. supplementary alignments\n",
    "4. secondary alignments\n",
    "5. \\# unmapped\n"
   ]
  },
  {
   "cell_type": "markdown",
   "id": "f89e0211-2fd5-4e7b-89d8-9008592dc815",
   "metadata": {},
   "source": [
    "## 1. Collect the features"
   ]
  },
  {
   "cell_type": "code",
   "execution_count": 68,
   "id": "c5618681-b311-47be-94e8-2f831a73979e",
   "metadata": {
    "tags": []
   },
   "outputs": [],
   "source": [
    "import glob, tempfile, pysam\n",
    "import pandas as pd\n",
    "import seaborn as sns\n",
    "from pathlib import Path\n",
    "from collections import defaultdict\n",
    "from tqdm import tqdm"
   ]
  },
  {
   "cell_type": "code",
   "execution_count": 52,
   "id": "4b8e5688-6151-4be8-8c32-9a21c49729ba",
   "metadata": {
    "tags": []
   },
   "outputs": [],
   "source": [
    "bams = {\"ref\": [], \"sample\": [], \"file\": []}"
   ]
  },
  {
   "cell_type": "code",
   "execution_count": 53,
   "id": "3f1c0ffd-9481-4df3-8baa-1ac265ca1ab2",
   "metadata": {
    "tags": []
   },
   "outputs": [],
   "source": [
    "for ref in [\"hs1\", \"hs38d1\"]:\n",
    "    for f in glob.glob(f\"../../results/{ref}/align/CommonBrain/*.sorted.bam\"):\n",
    "        bams[\"ref\"].append(ref)\n",
    "        bams[\"file\"].append(f)\n",
    "        bams[\"sample\"].append(Path(f).name.rstrip(\"aln.tagged.sorted.bam\"))\n",
    "bams = pd.DataFrame(bams)"
   ]
  },
  {
   "cell_type": "code",
   "execution_count": 59,
   "id": "5e7ff79b-47dd-4fc5-86a0-05d1950484b4",
   "metadata": {
    "tags": []
   },
   "outputs": [
    {
     "data": {
      "text/html": [
       "<div>\n",
       "<style scoped>\n",
       "    .dataframe tbody tr th:only-of-type {\n",
       "        vertical-align: middle;\n",
       "    }\n",
       "\n",
       "    .dataframe tbody tr th {\n",
       "        vertical-align: top;\n",
       "    }\n",
       "\n",
       "    .dataframe thead th {\n",
       "        text-align: right;\n",
       "    }\n",
       "</style>\n",
       "<table border=\"1\" class=\"dataframe\">\n",
       "  <thead>\n",
       "    <tr style=\"text-align: right;\">\n",
       "      <th></th>\n",
       "      <th>ref</th>\n",
       "      <th>sample</th>\n",
       "      <th>file</th>\n",
       "    </tr>\n",
       "  </thead>\n",
       "  <tbody>\n",
       "    <tr>\n",
       "      <th>0</th>\n",
       "      <td>hs1</td>\n",
       "      <td>plate2_G6_S97</td>\n",
       "      <td>../../results/hs1/align/CommonBrain/plate2_G6_...</td>\n",
       "    </tr>\n",
       "    <tr>\n",
       "      <th>1</th>\n",
       "      <td>hs1</td>\n",
       "      <td>plate2_A5_S83</td>\n",
       "      <td>../../results/hs1/align/CommonBrain/plate2_A5_...</td>\n",
       "    </tr>\n",
       "  </tbody>\n",
       "</table>\n",
       "</div>"
      ],
      "text/plain": [
       "   ref         sample                                               file\n",
       "0  hs1  plate2_G6_S97  ../../results/hs1/align/CommonBrain/plate2_G6_...\n",
       "1  hs1  plate2_A5_S83  ../../results/hs1/align/CommonBrain/plate2_A5_..."
      ]
     },
     "execution_count": 59,
     "metadata": {},
     "output_type": "execute_result"
    }
   ],
   "source": [
    "bams.loc[[0, 1], :]"
   ]
  },
  {
   "cell_type": "code",
   "execution_count": 69,
   "id": "7dc6c43a-19e6-42e3-9ac2-c9b29849a7e8",
   "metadata": {},
   "outputs": [
    {
     "name": "stderr",
     "output_type": "stream",
     "text": [
      "204it [1:15:38, 22.25s/it]"
     ]
    },
    {
     "name": "stdout",
     "output_type": "stream",
     "text": [
      "CPU times: user 1h 12min 49s, sys: 2min 7s, total: 1h 14min 56s\n",
      "Wall time: 1h 15min 38s\n"
     ]
    },
    {
     "name": "stderr",
     "output_type": "stream",
     "text": [
      "\n"
     ]
    }
   ],
   "source": [
    "%%time\n",
    "\n",
    "dfs = []\n",
    "\n",
    "for b in tqdm(bams.itertuples()):\n",
    "\n",
    "    f = defaultdict(list)\n",
    "\n",
    "    with pysam.AlignmentFile(b.file) as bam:\n",
    "\n",
    "        for r in bam.fetch():\n",
    "\n",
    "            if r.is_read2:\n",
    "                continue\n",
    "\n",
    "            if r.is_duplicate:\n",
    "                f[\"is_dup\"].append(True)\n",
    "            else:\n",
    "                f[\"is_dup\"].append(False)\n",
    "\n",
    "            if r.is_unmapped:\n",
    "                f[\"is_unmapped\"].append(True)\n",
    "            else:\n",
    "                f[\"is_unmapped\"].append(False)\n",
    "\n",
    "            if r.is_proper_pair:\n",
    "                f[\"is_proper_pair\"].append(True)\n",
    "            else:\n",
    "                f[\"is_proper_pair\"].append(False)\n",
    "\n",
    "            if r.is_secondary:\n",
    "                f[\"is_primary\"].append(False)\n",
    "            elif r.is_supplementary:\n",
    "                f[\"is_primary\"].append(False)\n",
    "            else:\n",
    "                f[\"is_primary\"].append(True)\n",
    "\n",
    "            f[\"mapq\"].append(r.mapping_quality)\n",
    "\n",
    "    df = pd.DataFrame(f)\n",
    "    df[\"sample\"] = b.sample\n",
    "    df[\"ref\"] = b.ref\n",
    "    dfs.append(df)"
   ]
  },
  {
   "cell_type": "code",
   "execution_count": 70,
   "id": "6a256bf2-9213-4c33-8367-3f8d8f56b066",
   "metadata": {
    "tags": []
   },
   "outputs": [],
   "source": [
    "df = pd.concat(dfs)"
   ]
  },
  {
   "cell_type": "code",
   "execution_count": 92,
   "id": "ed1b1ff1-07e3-46f6-8a39-cea6531fd0e7",
   "metadata": {
    "tags": []
   },
   "outputs": [
    {
     "data": {
      "text/html": [
       "<div>\n",
       "<style scoped>\n",
       "    .dataframe tbody tr th:only-of-type {\n",
       "        vertical-align: middle;\n",
       "    }\n",
       "\n",
       "    .dataframe tbody tr th {\n",
       "        vertical-align: top;\n",
       "    }\n",
       "\n",
       "    .dataframe thead th {\n",
       "        text-align: right;\n",
       "    }\n",
       "</style>\n",
       "<table border=\"1\" class=\"dataframe\">\n",
       "  <thead>\n",
       "    <tr style=\"text-align: right;\">\n",
       "      <th></th>\n",
       "      <th>is_dup</th>\n",
       "      <th>is_unmapped</th>\n",
       "      <th>is_proper_pair</th>\n",
       "      <th>is_primary</th>\n",
       "      <th>mapq</th>\n",
       "      <th>sample</th>\n",
       "      <th>ref</th>\n",
       "    </tr>\n",
       "  </thead>\n",
       "  <tbody>\n",
       "    <tr>\n",
       "      <th>0</th>\n",
       "      <td>False</td>\n",
       "      <td>False</td>\n",
       "      <td>True</td>\n",
       "      <td>True</td>\n",
       "      <td>0</td>\n",
       "      <td>plate2_G6_S97</td>\n",
       "      <td>hs1</td>\n",
       "    </tr>\n",
       "    <tr>\n",
       "      <th>1</th>\n",
       "      <td>False</td>\n",
       "      <td>False</td>\n",
       "      <td>True</td>\n",
       "      <td>True</td>\n",
       "      <td>0</td>\n",
       "      <td>plate2_G6_S97</td>\n",
       "      <td>hs1</td>\n",
       "    </tr>\n",
       "    <tr>\n",
       "      <th>2</th>\n",
       "      <td>False</td>\n",
       "      <td>False</td>\n",
       "      <td>True</td>\n",
       "      <td>True</td>\n",
       "      <td>0</td>\n",
       "      <td>plate2_G6_S97</td>\n",
       "      <td>hs1</td>\n",
       "    </tr>\n",
       "    <tr>\n",
       "      <th>3</th>\n",
       "      <td>False</td>\n",
       "      <td>False</td>\n",
       "      <td>True</td>\n",
       "      <td>False</td>\n",
       "      <td>0</td>\n",
       "      <td>plate2_G6_S97</td>\n",
       "      <td>hs1</td>\n",
       "    </tr>\n",
       "    <tr>\n",
       "      <th>4</th>\n",
       "      <td>False</td>\n",
       "      <td>False</td>\n",
       "      <td>False</td>\n",
       "      <td>True</td>\n",
       "      <td>0</td>\n",
       "      <td>plate2_G6_S97</td>\n",
       "      <td>hs1</td>\n",
       "    </tr>\n",
       "  </tbody>\n",
       "</table>\n",
       "</div>"
      ],
      "text/plain": [
       "   is_dup  is_unmapped  is_proper_pair  is_primary  mapq         sample  ref\n",
       "0   False        False            True        True     0  plate2_G6_S97  hs1\n",
       "1   False        False            True        True     0  plate2_G6_S97  hs1\n",
       "2   False        False            True        True     0  plate2_G6_S97  hs1\n",
       "3   False        False            True       False     0  plate2_G6_S97  hs1\n",
       "4   False        False           False        True     0  plate2_G6_S97  hs1"
      ]
     },
     "execution_count": 92,
     "metadata": {},
     "output_type": "execute_result"
    }
   ],
   "source": [
    "df.head()"
   ]
  },
  {
   "cell_type": "markdown",
   "id": "32930e11-a710-4f94-9cfd-7efc6eb2ce52",
   "metadata": {},
   "source": [
    "## 2. Visualize differences"
   ]
  },
  {
   "cell_type": "code",
   "execution_count": 78,
   "id": "a0735557-0518-421c-ab44-df48b60da827",
   "metadata": {
    "tags": []
   },
   "outputs": [],
   "source": [
    "%%time\n",
    "\n",
    "mean_df = df.groupby([\"ref\", \"sample\"]).mean(\"mapq\")"
   ]
  },
  {
   "cell_type": "code",
   "execution_count": 104,
   "id": "7cb205f7-24d7-4ba1-b55b-c6879bb7781f",
   "metadata": {
    "tags": []
   },
   "outputs": [
    {
     "data": {
      "text/plain": [
       "<Axes: xlabel='diff', ylabel='Count'>"
      ]
     },
     "execution_count": 104,
     "metadata": {},
     "output_type": "execute_result"
    },
    {
     "data": {
      "image/png": "[encoded data removed]",
      "text/plain": [
       "<Figure size 640x480 with 1 Axes>"
      ]
     },
     "metadata": {},
     "output_type": "display_data"
    }
   ],
   "source": [
    "plot_df = mean_df[\"is_dup\"].unstack().transpose()\n",
    "plot_df[\"diff\"] = plot_df[\"hs1\"] - plot_df[\"hs38d1\"]\n",
    "sns.histplot(plot_df, x=\"diff\")"
   ]
  },
  {
   "cell_type": "code",
   "execution_count": 103,
   "id": "5bd06ca8-40f7-4be7-a4ba-9db408fabe92",
   "metadata": {
    "tags": []
   },
   "outputs": [
    {
     "data": {
      "text/plain": [
       "<Axes: xlabel='diff', ylabel='Count'>"
      ]
     },
     "execution_count": 103,
     "metadata": {},
     "output_type": "execute_result"
    },
    {
     "data": {
      "image/png": "[encoded data removed]",
      "text/plain": [
       "<Figure size 640x480 with 1 Axes>"
      ]
     },
     "metadata": {},
     "output_type": "display_data"
    }
   ],
   "source": [
    "plot_df = mean_df[\"mapq\"].unstack().transpose()\n",
    "plot_df[\"diff\"] = plot_df[\"hs1\"] - plot_df[\"hs38d1\"]\n",
    "sns.histplot(plot_df, x=\"diff\")"
   ]
  },
  {
   "cell_type": "markdown",
   "id": "9bc010a3-076d-445b-9bda-27442eef8c44",
   "metadata": {},
   "source": [
    "## 3. Exclude duplicates and re-visualize"
   ]
  },
  {
   "cell_type": "code",
   "execution_count": 107,
   "id": "7223616e-023a-4aa3-8f68-1e9b2e806b15",
   "metadata": {
    "tags": []
   },
   "outputs": [
    {
     "name": "stdout",
     "output_type": "stream",
     "text": [
      "CPU times: user 1min 14s, sys: 31 s, total: 1min 45s\n",
      "Wall time: 1min 45s\n"
     ]
    }
   ],
   "source": [
    "%%time\n",
    "\n",
    "mean_df = df[df[\"is_dup\"] == False].groupby([\"ref\", \"sample\"]).mean(\"mapq\")"
   ]
  },
  {
   "cell_type": "code",
   "execution_count": 108,
   "id": "d5aa2de8-651f-4bf0-bae1-a2737f434347",
   "metadata": {},
   "outputs": [
    {
     "data": {
      "text/plain": [
       "<Axes: xlabel='diff', ylabel='Count'>"
      ]
     },
     "execution_count": 108,
     "metadata": {},
     "output_type": "execute_result"
    },
    {
     "data": {
      "image/png": "[encoded data removed]",
      "text/plain": [
       "<Figure size 640x480 with 1 Axes>"
      ]
     },
     "metadata": {},
     "output_type": "display_data"
    }
   ],
   "source": [
    "plot_df = mean_df[\"mapq\"].unstack().transpose()\n",
    "plot_df[\"diff\"] = plot_df[\"hs1\"] - plot_df[\"hs38d1\"]\n",
    "sns.histplot(plot_df, x=\"diff\")"
   ]
  },
  {
   "cell_type": "markdown",
   "id": "4bb18aa3-6982-4c76-948d-e4821f124498",
   "metadata": {},
   "source": [
    "## Conclusion\n",
    "\n",
    "Move forward with hs1"
   ]
  }
 ],
 "metadata": {
  "kernelspec": {
   "display_name": "Python [conda env:shell] *",
   "language": "python",
   "name": "conda-env-shell-py"
  },
  "language_info": {
   "codemirror_mode": {
    "name": "ipython",
    "version": 3
   },
   "file_extension": ".py",
   "mimetype": "text/x-python",
   "name": "python",
   "nbconvert_exporter": "python",
   "pygments_lexer": "ipython3",
   "version": "3.10.8"
  }
 },
 "nbformat": 4,
 "nbformat_minor": 5
}
