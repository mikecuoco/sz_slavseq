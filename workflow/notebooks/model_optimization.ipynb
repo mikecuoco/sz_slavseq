{
 "cells": [
  {
   "attachments": {},
   "cell_type": "markdown",
   "metadata": {},
   "source": [
    "# Optimize classifier on best dataset from `prefiltering.ipynb`\n",
    "\n",
    "TODO: downweight KNRGL in evaluation?"
   ]
  },
  {
   "cell_type": "code",
   "execution_count": 2,
   "metadata": {},
   "outputs": [],
   "source": [
    "import numpy as np\n",
    "import pandas as pd\n",
    "import seaborn as sns\n",
    "from flaml import AutoML\n",
    "import matplotlib.pyplot as plt\n",
    "from sklearn.ensemble import RandomForestClassifier\n",
    "from sklearn.metrics import PrecisionRecallDisplay, RocCurveDisplay\n",
    "from sklearn.model_selection import StratifiedGroupKFold, GridSearchCV"
   ]
  },
  {
   "cell_type": "code",
   "execution_count": 3,
   "metadata": {},
   "outputs": [],
   "source": [
    "df = pd.read_parquet(\"CommonBrain_prefiltered.pqt\")\n",
    "features = np.loadtxt(\"CommonBrain_prefiltered_features.txt\", dtype=str)"
   ]
  },
  {
   "cell_type": "code",
   "execution_count": 8,
   "metadata": {},
   "outputs": [
    {
     "data": {
      "text/plain": [
       "(1657410, 59)"
      ]
     },
     "execution_count": 8,
     "metadata": {},
     "output_type": "execute_result"
    }
   ],
   "source": [
    "df.shape"
   ]
  },
  {
   "cell_type": "code",
   "execution_count": 5,
   "metadata": {},
   "outputs": [
    {
     "name": "stdout",
     "output_type": "stream",
     "text": [
      "filtering data...\n",
      "label counts: \n",
      "OTHER    1618685\n",
      "KNRGL      38725\n",
      "Name: label, dtype: int64\n",
      "encoding labels as integers...\n",
      "splitting data into train and test sets...\n"
     ]
    }
   ],
   "source": [
    "# filter the data based on dictionary of boolean filters\n",
    "print(\"filtering data...\")\n",
    "min_r1_5 = (df[\"r1_fwd\"] >= 5) | (df[\"r1_rev\"] >= 5)\n",
    "high_ya_low_yg = (df[\"YA_mean\"] > 20) & (df[\"YG_mean\"] < 10)\n",
    "clf_df = df.loc[(min_r1_5) & (high_ya_low_yg)].reset_index(drop=True)\n",
    "clf_df.loc[clf_df[\"label\"] == \"RMSK\", \"label\"] = \"OTHER\"\n",
    "clf_df.loc[clf_df[\"label\"] == \"FLANK\", \"label\"] = \"OTHER\"\n",
    "\n",
    "assert clf_df[\"label\"].nunique() == 2, \"only two labels should be present\"\n",
    "\n",
    "print(\"label counts: \")\n",
    "print(clf_df[\"label\"].value_counts())\n",
    "\n",
    "# encode labels\n",
    "print(\"encoding labels as integers...\")\n",
    "clf_df[\"label_encoded\"] = clf_df[\"label\"].map({\"KNRGL\": 1, \"OTHER\": 0})\n",
    "\n",
    "# split into train and test sets\n",
    "print(\"splitting data into train and test sets...\")\n",
    "sgkf = StratifiedGroupKFold(n_splits=4, shuffle=True, random_state=1)  # take first fold\n",
    "sgkf = sgkf.split(clf_df[features], clf_df[\"label_encoded\"], groups=clf_df[\"cell_id\"])\n",
    "train_inds, test_inds = next(sgkf)\n",
    "train = clf_df.iloc[train_inds]\n",
    "test = clf_df.iloc[test_inds]"
   ]
  },
  {
   "attachments": {},
   "cell_type": "markdown",
   "metadata": {},
   "source": [
    "## Test different sample weights"
   ]
  },
  {
   "cell_type": "code",
   "execution_count": null,
   "metadata": {},
   "outputs": [],
   "source": [
    "# test various sample weights\n",
    "\n",
    "# set up the model\n",
    "clf = RandomForestClassifier(n_estimators=50, oob_score=True, n_jobs=10, random_state=1)\n",
    "\n",
    "# setup folds for grid search\n",
    "sgkf = StratifiedGroupKFold(n_splits=3, shuffle=True, random_state=1)\n",
    "sgkf = sgkf.split(train[features], train[\"label_encoded\"], groups=train[\"cell_id\"])\n",
    "\n",
    "# setup params\n",
    "params = {\n",
    "    \"class_weight\": [\n",
    "        None,\n",
    "        \"balanced\",\n",
    "        \"balanced_subsample\",\n",
    "        {0: 10, 1: 1},\n",
    "        {0: 100, 1: 11},\n",
    "        {0: 1, 1: 10},\n",
    "        {0: 1, 1: 100},\n",
    "    ],\n",
    "}\n",
    "\n",
    "# run grid search\n",
    "searcher = GridSearchCV(clf, param_grid=params, scoring=\"f1\", cv=sgkf, n_jobs=2)\n",
    "searcher = searcher.fit(train[features], train[\"label_encoded\"])\n",
    "\n",
    "# print results\n",
    "pd.DataFrame(searcher.cv_results_)"
   ]
  },
  {
   "attachments": {},
   "cell_type": "markdown",
   "metadata": {},
   "source": [
    "## Optimize a xgboost classifier using `AutoML`"
   ]
  },
  {
   "cell_type": "code",
   "execution_count": 6,
   "metadata": {},
   "outputs": [
    {
     "name": "stdout",
     "output_type": "stream",
     "text": [
      "[flaml.automl.automl: 04-04 17:26:59] {2726} INFO - task = classification\n",
      "[flaml.automl.automl: 04-04 17:26:59] {2728} INFO - Data split method: group\n",
      "[flaml.automl.automl: 04-04 17:26:59] {2731} INFO - Evaluation method: holdout\n",
      "[flaml.automl.automl: 04-04 17:26:59] {2858} INFO - Minimizing error metric: 1-f1\n",
      "[flaml.automl.automl: 04-04 17:26:59] {3004} INFO - List of ML learners in AutoML Run: ['xgboost']\n",
      "[flaml.automl.automl: 04-04 17:26:59] {3334} INFO - iteration 0, current learner xgboost\n"
     ]
    },
    {
     "name": "stderr",
     "output_type": "stream",
     "text": [
      "/raidixshare_log-g/mcuoco/conda/envs/shell/lib/python3.10/site-packages/xgboost/sklearn.py:1395: UserWarning: `use_label_encoder` is deprecated in 1.7.0.\n",
      "  warnings.warn(\"`use_label_encoder` is deprecated in 1.7.0.\")\n"
     ]
    },
    {
     "name": "stdout",
     "output_type": "stream",
     "text": [
      "[flaml.automl.automl: 04-04 17:26:59] {3472} INFO - Estimated sufficient time budget=573309s. Estimated necessary time budget=573s.\n",
      "[flaml.automl.automl: 04-04 17:26:59] {3519} INFO -  at 18.5s,\testimator xgboost's best error=0.8267,\tbest estimator xgboost's best error=0.8267\n",
      "[flaml.automl.automl: 04-04 17:26:59] {3334} INFO - iteration 1, current learner xgboost\n"
     ]
    },
    {
     "name": "stderr",
     "output_type": "stream",
     "text": [
      "/raidixshare_log-g/mcuoco/conda/envs/shell/lib/python3.10/site-packages/xgboost/sklearn.py:1395: UserWarning: `use_label_encoder` is deprecated in 1.7.0.\n",
      "  warnings.warn(\"`use_label_encoder` is deprecated in 1.7.0.\")\n"
     ]
    },
    {
     "name": "stdout",
     "output_type": "stream",
     "text": [
      "[flaml.automl.automl: 04-04 17:26:59] {3519} INFO -  at 18.8s,\testimator xgboost's best error=0.8267,\tbest estimator xgboost's best error=0.8267\n",
      "[flaml.automl.automl: 04-04 17:26:59] {3334} INFO - iteration 2, current learner xgboost\n"
     ]
    },
    {
     "name": "stderr",
     "output_type": "stream",
     "text": [
      "/raidixshare_log-g/mcuoco/conda/envs/shell/lib/python3.10/site-packages/xgboost/sklearn.py:1395: UserWarning: `use_label_encoder` is deprecated in 1.7.0.\n",
      "  warnings.warn(\"`use_label_encoder` is deprecated in 1.7.0.\")\n"
     ]
    },
    {
     "name": "stdout",
     "output_type": "stream",
     "text": [
      "[flaml.automl.automl: 04-04 17:27:00] {3519} INFO -  at 19.0s,\testimator xgboost's best error=0.8267,\tbest estimator xgboost's best error=0.8267\n",
      "[flaml.automl.automl: 04-04 17:27:00] {3334} INFO - iteration 3, current learner xgboost\n"
     ]
    },
    {
     "name": "stderr",
     "output_type": "stream",
     "text": [
      "/raidixshare_log-g/mcuoco/conda/envs/shell/lib/python3.10/site-packages/xgboost/sklearn.py:1395: UserWarning: `use_label_encoder` is deprecated in 1.7.0.\n",
      "  warnings.warn(\"`use_label_encoder` is deprecated in 1.7.0.\")\n"
     ]
    },
    {
     "name": "stdout",
     "output_type": "stream",
     "text": [
      "[flaml.automl.automl: 04-04 17:27:00] {3519} INFO -  at 19.3s,\testimator xgboost's best error=0.8267,\tbest estimator xgboost's best error=0.8267\n",
      "[flaml.automl.automl: 04-04 17:27:00] {3334} INFO - iteration 4, current learner xgboost\n"
     ]
    },
    {
     "name": "stderr",
     "output_type": "stream",
     "text": [
      "/raidixshare_log-g/mcuoco/conda/envs/shell/lib/python3.10/site-packages/xgboost/sklearn.py:1395: UserWarning: `use_label_encoder` is deprecated in 1.7.0.\n",
      "  warnings.warn(\"`use_label_encoder` is deprecated in 1.7.0.\")\n"
     ]
    },
    {
     "name": "stdout",
     "output_type": "stream",
     "text": [
      "[flaml.automl.automl: 04-04 17:27:00] {3519} INFO -  at 19.5s,\testimator xgboost's best error=0.6681,\tbest estimator xgboost's best error=0.6681\n",
      "[flaml.automl.automl: 04-04 17:27:00] {3334} INFO - iteration 5, current learner xgboost\n"
     ]
    },
    {
     "name": "stderr",
     "output_type": "stream",
     "text": [
      "/raidixshare_log-g/mcuoco/conda/envs/shell/lib/python3.10/site-packages/xgboost/sklearn.py:1395: UserWarning: `use_label_encoder` is deprecated in 1.7.0.\n",
      "  warnings.warn(\"`use_label_encoder` is deprecated in 1.7.0.\")\n"
     ]
    },
    {
     "name": "stdout",
     "output_type": "stream",
     "text": [
      "[flaml.automl.automl: 04-04 17:27:00] {3519} INFO -  at 19.8s,\testimator xgboost's best error=0.6681,\tbest estimator xgboost's best error=0.6681\n",
      "[flaml.automl.automl: 04-04 17:27:00] {3334} INFO - iteration 6, current learner xgboost\n"
     ]
    },
    {
     "name": "stderr",
     "output_type": "stream",
     "text": [
      "/raidixshare_log-g/mcuoco/conda/envs/shell/lib/python3.10/site-packages/xgboost/sklearn.py:1395: UserWarning: `use_label_encoder` is deprecated in 1.7.0.\n",
      "  warnings.warn(\"`use_label_encoder` is deprecated in 1.7.0.\")\n"
     ]
    },
    {
     "name": "stdout",
     "output_type": "stream",
     "text": [
      "[flaml.automl.automl: 04-04 17:27:01] {3519} INFO -  at 20.0s,\testimator xgboost's best error=0.6574,\tbest estimator xgboost's best error=0.6574\n",
      "[flaml.automl.automl: 04-04 17:27:01] {3334} INFO - iteration 7, current learner xgboost\n"
     ]
    },
    {
     "name": "stderr",
     "output_type": "stream",
     "text": [
      "/raidixshare_log-g/mcuoco/conda/envs/shell/lib/python3.10/site-packages/xgboost/sklearn.py:1395: UserWarning: `use_label_encoder` is deprecated in 1.7.0.\n",
      "  warnings.warn(\"`use_label_encoder` is deprecated in 1.7.0.\")\n"
     ]
    },
    {
     "name": "stdout",
     "output_type": "stream",
     "text": [
      "[flaml.automl.automl: 04-04 17:27:01] {3519} INFO -  at 20.3s,\testimator xgboost's best error=0.6252,\tbest estimator xgboost's best error=0.6252\n",
      "[flaml.automl.automl: 04-04 17:27:01] {3334} INFO - iteration 8, current learner xgboost\n"
     ]
    },
    {
     "name": "stderr",
     "output_type": "stream",
     "text": [
      "/raidixshare_log-g/mcuoco/conda/envs/shell/lib/python3.10/site-packages/xgboost/sklearn.py:1395: UserWarning: `use_label_encoder` is deprecated in 1.7.0.\n",
      "  warnings.warn(\"`use_label_encoder` is deprecated in 1.7.0.\")\n"
     ]
    },
    {
     "name": "stdout",
     "output_type": "stream",
     "text": [
      "[flaml.automl.automl: 04-04 17:27:01] {3519} INFO -  at 20.6s,\testimator xgboost's best error=0.6252,\tbest estimator xgboost's best error=0.6252\n",
      "[flaml.automl.automl: 04-04 17:27:01] {3334} INFO - iteration 9, current learner xgboost\n"
     ]
    },
    {
     "name": "stderr",
     "output_type": "stream",
     "text": [
      "/raidixshare_log-g/mcuoco/conda/envs/shell/lib/python3.10/site-packages/xgboost/sklearn.py:1395: UserWarning: `use_label_encoder` is deprecated in 1.7.0.\n",
      "  warnings.warn(\"`use_label_encoder` is deprecated in 1.7.0.\")\n"
     ]
    },
    {
     "name": "stdout",
     "output_type": "stream",
     "text": [
      "[flaml.automl.automl: 04-04 17:27:01] {3519} INFO -  at 21.0s,\testimator xgboost's best error=0.5776,\tbest estimator xgboost's best error=0.5776\n",
      "[flaml.automl.automl: 04-04 17:27:01] {3334} INFO - iteration 10, current learner xgboost\n"
     ]
    },
    {
     "name": "stderr",
     "output_type": "stream",
     "text": [
      "/raidixshare_log-g/mcuoco/conda/envs/shell/lib/python3.10/site-packages/xgboost/sklearn.py:1395: UserWarning: `use_label_encoder` is deprecated in 1.7.0.\n",
      "  warnings.warn(\"`use_label_encoder` is deprecated in 1.7.0.\")\n"
     ]
    },
    {
     "name": "stdout",
     "output_type": "stream",
     "text": [
      "[flaml.automl.automl: 04-04 17:27:02] {3519} INFO -  at 21.3s,\testimator xgboost's best error=0.5776,\tbest estimator xgboost's best error=0.5776\n",
      "[flaml.automl.automl: 04-04 17:27:02] {3334} INFO - iteration 11, current learner xgboost\n"
     ]
    },
    {
     "name": "stderr",
     "output_type": "stream",
     "text": [
      "/raidixshare_log-g/mcuoco/conda/envs/shell/lib/python3.10/site-packages/xgboost/sklearn.py:1395: UserWarning: `use_label_encoder` is deprecated in 1.7.0.\n",
      "  warnings.warn(\"`use_label_encoder` is deprecated in 1.7.0.\")\n"
     ]
    },
    {
     "name": "stdout",
     "output_type": "stream",
     "text": [
      "[flaml.automl.automl: 04-04 17:27:02] {3519} INFO -  at 21.5s,\testimator xgboost's best error=0.5776,\tbest estimator xgboost's best error=0.5776\n",
      "[flaml.automl.automl: 04-04 17:27:02] {3334} INFO - iteration 12, current learner xgboost\n"
     ]
    },
    {
     "name": "stderr",
     "output_type": "stream",
     "text": [
      "/raidixshare_log-g/mcuoco/conda/envs/shell/lib/python3.10/site-packages/xgboost/sklearn.py:1395: UserWarning: `use_label_encoder` is deprecated in 1.7.0.\n",
      "  warnings.warn(\"`use_label_encoder` is deprecated in 1.7.0.\")\n"
     ]
    },
    {
     "name": "stdout",
     "output_type": "stream",
     "text": [
      "[flaml.automl.automl: 04-04 17:27:02] {3519} INFO -  at 21.8s,\testimator xgboost's best error=0.5776,\tbest estimator xgboost's best error=0.5776\n",
      "[flaml.automl.automl: 04-04 17:27:02] {3334} INFO - iteration 13, current learner xgboost\n"
     ]
    },
    {
     "name": "stderr",
     "output_type": "stream",
     "text": [
      "/raidixshare_log-g/mcuoco/conda/envs/shell/lib/python3.10/site-packages/xgboost/sklearn.py:1395: UserWarning: `use_label_encoder` is deprecated in 1.7.0.\n",
      "  warnings.warn(\"`use_label_encoder` is deprecated in 1.7.0.\")\n"
     ]
    },
    {
     "name": "stdout",
     "output_type": "stream",
     "text": [
      "[flaml.automl.automl: 04-04 17:27:03] {3519} INFO -  at 22.1s,\testimator xgboost's best error=0.5656,\tbest estimator xgboost's best error=0.5656\n",
      "[flaml.automl.automl: 04-04 17:27:03] {3334} INFO - iteration 14, current learner xgboost\n"
     ]
    },
    {
     "name": "stderr",
     "output_type": "stream",
     "text": [
      "/raidixshare_log-g/mcuoco/conda/envs/shell/lib/python3.10/site-packages/xgboost/sklearn.py:1395: UserWarning: `use_label_encoder` is deprecated in 1.7.0.\n",
      "  warnings.warn(\"`use_label_encoder` is deprecated in 1.7.0.\")\n"
     ]
    },
    {
     "name": "stdout",
     "output_type": "stream",
     "text": [
      "[flaml.automl.automl: 04-04 17:27:03] {3519} INFO -  at 22.4s,\testimator xgboost's best error=0.5656,\tbest estimator xgboost's best error=0.5656\n",
      "[flaml.automl.automl: 04-04 17:27:03] {3334} INFO - iteration 15, current learner xgboost\n"
     ]
    },
    {
     "name": "stderr",
     "output_type": "stream",
     "text": [
      "/raidixshare_log-g/mcuoco/conda/envs/shell/lib/python3.10/site-packages/xgboost/sklearn.py:1395: UserWarning: `use_label_encoder` is deprecated in 1.7.0.\n",
      "  warnings.warn(\"`use_label_encoder` is deprecated in 1.7.0.\")\n"
     ]
    },
    {
     "name": "stdout",
     "output_type": "stream",
     "text": [
      "[flaml.automl.automl: 04-04 17:27:03] {3519} INFO -  at 22.7s,\testimator xgboost's best error=0.5656,\tbest estimator xgboost's best error=0.5656\n",
      "[flaml.automl.automl: 04-04 17:27:03] {3334} INFO - iteration 16, current learner xgboost\n"
     ]
    },
    {
     "name": "stderr",
     "output_type": "stream",
     "text": [
      "/raidixshare_log-g/mcuoco/conda/envs/shell/lib/python3.10/site-packages/xgboost/sklearn.py:1395: UserWarning: `use_label_encoder` is deprecated in 1.7.0.\n",
      "  warnings.warn(\"`use_label_encoder` is deprecated in 1.7.0.\")\n"
     ]
    },
    {
     "name": "stdout",
     "output_type": "stream",
     "text": [
      "[flaml.automl.automl: 04-04 17:27:03] {3519} INFO -  at 23.0s,\testimator xgboost's best error=0.5508,\tbest estimator xgboost's best error=0.5508\n",
      "[flaml.automl.automl: 04-04 17:27:03] {3334} INFO - iteration 17, current learner xgboost\n"
     ]
    },
    {
     "name": "stderr",
     "output_type": "stream",
     "text": [
      "/raidixshare_log-g/mcuoco/conda/envs/shell/lib/python3.10/site-packages/xgboost/sklearn.py:1395: UserWarning: `use_label_encoder` is deprecated in 1.7.0.\n",
      "  warnings.warn(\"`use_label_encoder` is deprecated in 1.7.0.\")\n"
     ]
    },
    {
     "name": "stdout",
     "output_type": "stream",
     "text": [
      "[flaml.automl.automl: 04-04 17:27:04] {3519} INFO -  at 23.3s,\testimator xgboost's best error=0.5508,\tbest estimator xgboost's best error=0.5508\n",
      "[flaml.automl.automl: 04-04 17:27:04] {3334} INFO - iteration 18, current learner xgboost\n"
     ]
    },
    {
     "name": "stderr",
     "output_type": "stream",
     "text": [
      "/raidixshare_log-g/mcuoco/conda/envs/shell/lib/python3.10/site-packages/xgboost/sklearn.py:1395: UserWarning: `use_label_encoder` is deprecated in 1.7.0.\n",
      "  warnings.warn(\"`use_label_encoder` is deprecated in 1.7.0.\")\n"
     ]
    },
    {
     "name": "stdout",
     "output_type": "stream",
     "text": [
      "[flaml.automl.automl: 04-04 17:27:04] {3519} INFO -  at 23.6s,\testimator xgboost's best error=0.5508,\tbest estimator xgboost's best error=0.5508\n",
      "[flaml.automl.automl: 04-04 17:27:04] {3334} INFO - iteration 19, current learner xgboost\n"
     ]
    },
    {
     "name": "stderr",
     "output_type": "stream",
     "text": [
      "/raidixshare_log-g/mcuoco/conda/envs/shell/lib/python3.10/site-packages/xgboost/sklearn.py:1395: UserWarning: `use_label_encoder` is deprecated in 1.7.0.\n",
      "  warnings.warn(\"`use_label_encoder` is deprecated in 1.7.0.\")\n"
     ]
    },
    {
     "name": "stdout",
     "output_type": "stream",
     "text": [
      "[flaml.automl.automl: 04-04 17:27:04] {3519} INFO -  at 23.8s,\testimator xgboost's best error=0.5508,\tbest estimator xgboost's best error=0.5508\n",
      "[flaml.automl.automl: 04-04 17:27:04] {3334} INFO - iteration 20, current learner xgboost\n"
     ]
    },
    {
     "name": "stderr",
     "output_type": "stream",
     "text": [
      "/raidixshare_log-g/mcuoco/conda/envs/shell/lib/python3.10/site-packages/xgboost/sklearn.py:1395: UserWarning: `use_label_encoder` is deprecated in 1.7.0.\n",
      "  warnings.warn(\"`use_label_encoder` is deprecated in 1.7.0.\")\n"
     ]
    },
    {
     "name": "stdout",
     "output_type": "stream",
     "text": [
      "[flaml.automl.automl: 04-04 17:27:05] {3519} INFO -  at 24.1s,\testimator xgboost's best error=0.5508,\tbest estimator xgboost's best error=0.5508\n",
      "[flaml.automl.automl: 04-04 17:27:05] {3334} INFO - iteration 21, current learner xgboost\n"
     ]
    },
    {
     "name": "stderr",
     "output_type": "stream",
     "text": [
      "/raidixshare_log-g/mcuoco/conda/envs/shell/lib/python3.10/site-packages/xgboost/sklearn.py:1395: UserWarning: `use_label_encoder` is deprecated in 1.7.0.\n",
      "  warnings.warn(\"`use_label_encoder` is deprecated in 1.7.0.\")\n"
     ]
    },
    {
     "name": "stdout",
     "output_type": "stream",
     "text": [
      "[flaml.automl.automl: 04-04 17:27:05] {3519} INFO -  at 24.4s,\testimator xgboost's best error=0.5508,\tbest estimator xgboost's best error=0.5508\n",
      "[flaml.automl.automl: 04-04 17:27:05] {3334} INFO - iteration 22, current learner xgboost\n"
     ]
    },
    {
     "name": "stderr",
     "output_type": "stream",
     "text": [
      "/raidixshare_log-g/mcuoco/conda/envs/shell/lib/python3.10/site-packages/xgboost/sklearn.py:1395: UserWarning: `use_label_encoder` is deprecated in 1.7.0.\n",
      "  warnings.warn(\"`use_label_encoder` is deprecated in 1.7.0.\")\n"
     ]
    },
    {
     "name": "stdout",
     "output_type": "stream",
     "text": [
      "[flaml.automl.automl: 04-04 17:27:05] {3519} INFO -  at 24.7s,\testimator xgboost's best error=0.4663,\tbest estimator xgboost's best error=0.4663\n",
      "[flaml.automl.automl: 04-04 17:27:05] {3334} INFO - iteration 23, current learner xgboost\n"
     ]
    },
    {
     "name": "stderr",
     "output_type": "stream",
     "text": [
      "/raidixshare_log-g/mcuoco/conda/envs/shell/lib/python3.10/site-packages/xgboost/sklearn.py:1395: UserWarning: `use_label_encoder` is deprecated in 1.7.0.\n",
      "  warnings.warn(\"`use_label_encoder` is deprecated in 1.7.0.\")\n"
     ]
    },
    {
     "name": "stdout",
     "output_type": "stream",
     "text": [
      "[flaml.automl.automl: 04-04 17:27:06] {3519} INFO -  at 25.0s,\testimator xgboost's best error=0.4663,\tbest estimator xgboost's best error=0.4663\n",
      "[flaml.automl.automl: 04-04 17:27:06] {3334} INFO - iteration 24, current learner xgboost\n"
     ]
    },
    {
     "name": "stderr",
     "output_type": "stream",
     "text": [
      "/raidixshare_log-g/mcuoco/conda/envs/shell/lib/python3.10/site-packages/xgboost/sklearn.py:1395: UserWarning: `use_label_encoder` is deprecated in 1.7.0.\n",
      "  warnings.warn(\"`use_label_encoder` is deprecated in 1.7.0.\")\n"
     ]
    },
    {
     "name": "stdout",
     "output_type": "stream",
     "text": [
      "[flaml.automl.automl: 04-04 17:27:06] {3519} INFO -  at 25.4s,\testimator xgboost's best error=0.4471,\tbest estimator xgboost's best error=0.4471\n",
      "[flaml.automl.automl: 04-04 17:27:06] {3334} INFO - iteration 25, current learner xgboost\n"
     ]
    },
    {
     "name": "stderr",
     "output_type": "stream",
     "text": [
      "/raidixshare_log-g/mcuoco/conda/envs/shell/lib/python3.10/site-packages/xgboost/sklearn.py:1395: UserWarning: `use_label_encoder` is deprecated in 1.7.0.\n",
      "  warnings.warn(\"`use_label_encoder` is deprecated in 1.7.0.\")\n"
     ]
    },
    {
     "name": "stdout",
     "output_type": "stream",
     "text": [
      "[flaml.automl.automl: 04-04 17:27:06] {3519} INFO -  at 25.7s,\testimator xgboost's best error=0.4471,\tbest estimator xgboost's best error=0.4471\n",
      "[flaml.automl.automl: 04-04 17:27:06] {3334} INFO - iteration 26, current learner xgboost\n"
     ]
    },
    {
     "name": "stderr",
     "output_type": "stream",
     "text": [
      "/raidixshare_log-g/mcuoco/conda/envs/shell/lib/python3.10/site-packages/xgboost/sklearn.py:1395: UserWarning: `use_label_encoder` is deprecated in 1.7.0.\n",
      "  warnings.warn(\"`use_label_encoder` is deprecated in 1.7.0.\")\n"
     ]
    },
    {
     "name": "stdout",
     "output_type": "stream",
     "text": [
      "[flaml.automl.automl: 04-04 17:27:07] {3519} INFO -  at 26.3s,\testimator xgboost's best error=0.4471,\tbest estimator xgboost's best error=0.4471\n",
      "[flaml.automl.automl: 04-04 17:27:07] {3334} INFO - iteration 27, current learner xgboost\n"
     ]
    },
    {
     "name": "stderr",
     "output_type": "stream",
     "text": [
      "/raidixshare_log-g/mcuoco/conda/envs/shell/lib/python3.10/site-packages/xgboost/sklearn.py:1395: UserWarning: `use_label_encoder` is deprecated in 1.7.0.\n",
      "  warnings.warn(\"`use_label_encoder` is deprecated in 1.7.0.\")\n"
     ]
    },
    {
     "name": "stdout",
     "output_type": "stream",
     "text": [
      "[flaml.automl.automl: 04-04 17:27:07] {3519} INFO -  at 26.7s,\testimator xgboost's best error=0.4471,\tbest estimator xgboost's best error=0.4471\n",
      "[flaml.automl.automl: 04-04 17:27:07] {3334} INFO - iteration 28, current learner xgboost\n"
     ]
    },
    {
     "name": "stderr",
     "output_type": "stream",
     "text": [
      "/raidixshare_log-g/mcuoco/conda/envs/shell/lib/python3.10/site-packages/xgboost/sklearn.py:1395: UserWarning: `use_label_encoder` is deprecated in 1.7.0.\n",
      "  warnings.warn(\"`use_label_encoder` is deprecated in 1.7.0.\")\n"
     ]
    },
    {
     "name": "stdout",
     "output_type": "stream",
     "text": [
      "[flaml.automl.automl: 04-04 17:27:08] {3519} INFO -  at 27.1s,\testimator xgboost's best error=0.4349,\tbest estimator xgboost's best error=0.4349\n",
      "[flaml.automl.automl: 04-04 17:27:08] {3334} INFO - iteration 29, current learner xgboost\n"
     ]
    },
    {
     "name": "stderr",
     "output_type": "stream",
     "text": [
      "/raidixshare_log-g/mcuoco/conda/envs/shell/lib/python3.10/site-packages/xgboost/sklearn.py:1395: UserWarning: `use_label_encoder` is deprecated in 1.7.0.\n",
      "  warnings.warn(\"`use_label_encoder` is deprecated in 1.7.0.\")\n"
     ]
    },
    {
     "name": "stdout",
     "output_type": "stream",
     "text": [
      "[flaml.automl.automl: 04-04 17:27:08] {3519} INFO -  at 27.4s,\testimator xgboost's best error=0.4349,\tbest estimator xgboost's best error=0.4349\n",
      "[flaml.automl.automl: 04-04 17:27:08] {3334} INFO - iteration 30, current learner xgboost\n"
     ]
    },
    {
     "name": "stderr",
     "output_type": "stream",
     "text": [
      "/raidixshare_log-g/mcuoco/conda/envs/shell/lib/python3.10/site-packages/xgboost/sklearn.py:1395: UserWarning: `use_label_encoder` is deprecated in 1.7.0.\n",
      "  warnings.warn(\"`use_label_encoder` is deprecated in 1.7.0.\")\n"
     ]
    },
    {
     "name": "stdout",
     "output_type": "stream",
     "text": [
      "[flaml.automl.automl: 04-04 17:27:09] {3519} INFO -  at 28.2s,\testimator xgboost's best error=0.4104,\tbest estimator xgboost's best error=0.4104\n",
      "[flaml.automl.automl: 04-04 17:27:09] {3334} INFO - iteration 31, current learner xgboost\n"
     ]
    },
    {
     "name": "stderr",
     "output_type": "stream",
     "text": [
      "/raidixshare_log-g/mcuoco/conda/envs/shell/lib/python3.10/site-packages/xgboost/sklearn.py:1395: UserWarning: `use_label_encoder` is deprecated in 1.7.0.\n",
      "  warnings.warn(\"`use_label_encoder` is deprecated in 1.7.0.\")\n"
     ]
    },
    {
     "name": "stdout",
     "output_type": "stream",
     "text": [
      "[flaml.automl.automl: 04-04 17:27:09] {3519} INFO -  at 28.9s,\testimator xgboost's best error=0.4075,\tbest estimator xgboost's best error=0.4075\n",
      "[flaml.automl.automl: 04-04 17:27:09] {3334} INFO - iteration 32, current learner xgboost\n"
     ]
    },
    {
     "name": "stderr",
     "output_type": "stream",
     "text": [
      "/raidixshare_log-g/mcuoco/conda/envs/shell/lib/python3.10/site-packages/xgboost/sklearn.py:1395: UserWarning: `use_label_encoder` is deprecated in 1.7.0.\n",
      "  warnings.warn(\"`use_label_encoder` is deprecated in 1.7.0.\")\n"
     ]
    },
    {
     "name": "stdout",
     "output_type": "stream",
     "text": [
      "[flaml.automl.automl: 04-04 17:27:10] {3519} INFO -  at 29.6s,\testimator xgboost's best error=0.4075,\tbest estimator xgboost's best error=0.4075\n",
      "[flaml.automl.automl: 04-04 17:27:10] {3334} INFO - iteration 33, current learner xgboost\n"
     ]
    },
    {
     "name": "stderr",
     "output_type": "stream",
     "text": [
      "/raidixshare_log-g/mcuoco/conda/envs/shell/lib/python3.10/site-packages/xgboost/sklearn.py:1395: UserWarning: `use_label_encoder` is deprecated in 1.7.0.\n",
      "  warnings.warn(\"`use_label_encoder` is deprecated in 1.7.0.\")\n"
     ]
    },
    {
     "name": "stdout",
     "output_type": "stream",
     "text": [
      "[flaml.automl.automl: 04-04 17:27:11] {3519} INFO -  at 30.3s,\testimator xgboost's best error=0.4075,\tbest estimator xgboost's best error=0.4075\n",
      "[flaml.automl.automl: 04-04 17:27:11] {3334} INFO - iteration 34, current learner xgboost\n"
     ]
    },
    {
     "name": "stderr",
     "output_type": "stream",
     "text": [
      "/raidixshare_log-g/mcuoco/conda/envs/shell/lib/python3.10/site-packages/xgboost/sklearn.py:1395: UserWarning: `use_label_encoder` is deprecated in 1.7.0.\n",
      "  warnings.warn(\"`use_label_encoder` is deprecated in 1.7.0.\")\n"
     ]
    },
    {
     "name": "stdout",
     "output_type": "stream",
     "text": [
      "[flaml.automl.automl: 04-04 17:27:11] {3519} INFO -  at 30.9s,\testimator xgboost's best error=0.4075,\tbest estimator xgboost's best error=0.4075\n",
      "[flaml.automl.automl: 04-04 17:27:11] {3334} INFO - iteration 35, current learner xgboost\n"
     ]
    },
    {
     "name": "stderr",
     "output_type": "stream",
     "text": [
      "/raidixshare_log-g/mcuoco/conda/envs/shell/lib/python3.10/site-packages/xgboost/sklearn.py:1395: UserWarning: `use_label_encoder` is deprecated in 1.7.0.\n",
      "  warnings.warn(\"`use_label_encoder` is deprecated in 1.7.0.\")\n"
     ]
    },
    {
     "name": "stdout",
     "output_type": "stream",
     "text": [
      "[flaml.automl.automl: 04-04 17:27:12] {3519} INFO -  at 31.5s,\testimator xgboost's best error=0.4075,\tbest estimator xgboost's best error=0.4075\n",
      "[flaml.automl.automl: 04-04 17:27:12] {3334} INFO - iteration 36, current learner xgboost\n"
     ]
    },
    {
     "name": "stderr",
     "output_type": "stream",
     "text": [
      "/raidixshare_log-g/mcuoco/conda/envs/shell/lib/python3.10/site-packages/xgboost/sklearn.py:1395: UserWarning: `use_label_encoder` is deprecated in 1.7.0.\n",
      "  warnings.warn(\"`use_label_encoder` is deprecated in 1.7.0.\")\n"
     ]
    },
    {
     "name": "stdout",
     "output_type": "stream",
     "text": [
      "[flaml.automl.automl: 04-04 17:27:12] {3519} INFO -  at 32.0s,\testimator xgboost's best error=0.4075,\tbest estimator xgboost's best error=0.4075\n",
      "[flaml.automl.automl: 04-04 17:27:12] {3334} INFO - iteration 37, current learner xgboost\n"
     ]
    },
    {
     "name": "stderr",
     "output_type": "stream",
     "text": [
      "/raidixshare_log-g/mcuoco/conda/envs/shell/lib/python3.10/site-packages/xgboost/sklearn.py:1395: UserWarning: `use_label_encoder` is deprecated in 1.7.0.\n",
      "  warnings.warn(\"`use_label_encoder` is deprecated in 1.7.0.\")\n"
     ]
    },
    {
     "name": "stdout",
     "output_type": "stream",
     "text": [
      "[flaml.automl.automl: 04-04 17:27:14] {3519} INFO -  at 33.9s,\testimator xgboost's best error=0.2590,\tbest estimator xgboost's best error=0.2590\n",
      "[flaml.automl.automl: 04-04 17:27:14] {3334} INFO - iteration 38, current learner xgboost\n"
     ]
    },
    {
     "name": "stderr",
     "output_type": "stream",
     "text": [
      "/raidixshare_log-g/mcuoco/conda/envs/shell/lib/python3.10/site-packages/xgboost/sklearn.py:1395: UserWarning: `use_label_encoder` is deprecated in 1.7.0.\n",
      "  warnings.warn(\"`use_label_encoder` is deprecated in 1.7.0.\")\n"
     ]
    },
    {
     "name": "stdout",
     "output_type": "stream",
     "text": [
      "[flaml.automl.automl: 04-04 17:27:16] {3519} INFO -  at 35.4s,\testimator xgboost's best error=0.2590,\tbest estimator xgboost's best error=0.2590\n",
      "[flaml.automl.automl: 04-04 17:27:16] {3334} INFO - iteration 39, current learner xgboost\n"
     ]
    },
    {
     "name": "stderr",
     "output_type": "stream",
     "text": [
      "/raidixshare_log-g/mcuoco/conda/envs/shell/lib/python3.10/site-packages/xgboost/sklearn.py:1395: UserWarning: `use_label_encoder` is deprecated in 1.7.0.\n",
      "  warnings.warn(\"`use_label_encoder` is deprecated in 1.7.0.\")\n"
     ]
    },
    {
     "name": "stdout",
     "output_type": "stream",
     "text": [
      "[flaml.automl.automl: 04-04 17:27:18] {3519} INFO -  at 37.1s,\testimator xgboost's best error=0.2590,\tbest estimator xgboost's best error=0.2590\n",
      "[flaml.automl.automl: 04-04 17:27:18] {3334} INFO - iteration 40, current learner xgboost\n"
     ]
    },
    {
     "name": "stderr",
     "output_type": "stream",
     "text": [
      "/raidixshare_log-g/mcuoco/conda/envs/shell/lib/python3.10/site-packages/xgboost/sklearn.py:1395: UserWarning: `use_label_encoder` is deprecated in 1.7.0.\n",
      "  warnings.warn(\"`use_label_encoder` is deprecated in 1.7.0.\")\n"
     ]
    },
    {
     "name": "stdout",
     "output_type": "stream",
     "text": [
      "[flaml.automl.automl: 04-04 17:27:19] {3519} INFO -  at 38.5s,\testimator xgboost's best error=0.2590,\tbest estimator xgboost's best error=0.2590\n",
      "[flaml.automl.automl: 04-04 17:27:19] {3334} INFO - iteration 41, current learner xgboost\n"
     ]
    },
    {
     "name": "stderr",
     "output_type": "stream",
     "text": [
      "/raidixshare_log-g/mcuoco/conda/envs/shell/lib/python3.10/site-packages/xgboost/sklearn.py:1395: UserWarning: `use_label_encoder` is deprecated in 1.7.0.\n",
      "  warnings.warn(\"`use_label_encoder` is deprecated in 1.7.0.\")\n"
     ]
    },
    {
     "name": "stdout",
     "output_type": "stream",
     "text": [
      "[flaml.automl.automl: 04-04 17:27:20] {3519} INFO -  at 39.7s,\testimator xgboost's best error=0.2590,\tbest estimator xgboost's best error=0.2590\n",
      "[flaml.automl.automl: 04-04 17:27:20] {3334} INFO - iteration 42, current learner xgboost\n"
     ]
    },
    {
     "name": "stderr",
     "output_type": "stream",
     "text": [
      "/raidixshare_log-g/mcuoco/conda/envs/shell/lib/python3.10/site-packages/xgboost/sklearn.py:1395: UserWarning: `use_label_encoder` is deprecated in 1.7.0.\n",
      "  warnings.warn(\"`use_label_encoder` is deprecated in 1.7.0.\")\n"
     ]
    },
    {
     "name": "stdout",
     "output_type": "stream",
     "text": [
      "[flaml.automl.automl: 04-04 17:27:21] {3519} INFO -  at 40.8s,\testimator xgboost's best error=0.2590,\tbest estimator xgboost's best error=0.2590\n",
      "[flaml.automl.automl: 04-04 17:27:21] {3334} INFO - iteration 43, current learner xgboost\n"
     ]
    },
    {
     "name": "stderr",
     "output_type": "stream",
     "text": [
      "/raidixshare_log-g/mcuoco/conda/envs/shell/lib/python3.10/site-packages/xgboost/sklearn.py:1395: UserWarning: `use_label_encoder` is deprecated in 1.7.0.\n",
      "  warnings.warn(\"`use_label_encoder` is deprecated in 1.7.0.\")\n"
     ]
    },
    {
     "name": "stdout",
     "output_type": "stream",
     "text": [
      "[flaml.automl.automl: 04-04 17:27:23] {3519} INFO -  at 42.0s,\testimator xgboost's best error=0.2590,\tbest estimator xgboost's best error=0.2590\n",
      "[flaml.automl.automl: 04-04 17:27:23] {3334} INFO - iteration 44, current learner xgboost\n"
     ]
    },
    {
     "name": "stderr",
     "output_type": "stream",
     "text": [
      "/raidixshare_log-g/mcuoco/conda/envs/shell/lib/python3.10/site-packages/xgboost/sklearn.py:1395: UserWarning: `use_label_encoder` is deprecated in 1.7.0.\n",
      "  warnings.warn(\"`use_label_encoder` is deprecated in 1.7.0.\")\n"
     ]
    },
    {
     "name": "stdout",
     "output_type": "stream",
     "text": [
      "[flaml.automl.automl: 04-04 17:27:35] {3519} INFO -  at 54.7s,\testimator xgboost's best error=0.1387,\tbest estimator xgboost's best error=0.1387\n",
      "[flaml.automl.automl: 04-04 17:27:35] {3635} INFO - selected model: XGBClassifier(base_score=None, booster=None, callbacks=[],\n",
      "              colsample_bylevel=0.8679735144738119, colsample_bynode=None,\n",
      "              colsample_bytree=0.7751815494318067, early_stopping_rounds=None,\n",
      "              enable_categorical=False, eval_metric=None, feature_types=None,\n",
      "              gamma=None, gpu_id=None, grow_policy='lossguide',\n",
      "              importance_type=None, interaction_constraints=None,\n",
      "              learning_rate=0.3717662125523864, max_bin=None,\n",
      "              max_cat_threshold=None, max_cat_to_onehot=None,\n",
      "              max_delta_step=None, max_depth=0, max_leaves=238,\n",
      "              min_child_weight=4.307689578212624, missing=nan,\n",
      "              monotone_constraints=None, n_estimators=174, n_jobs=10,\n",
      "              num_parallel_tree=None, predictor=None, random_state=None, ...)\n",
      "[flaml.automl.automl: 04-04 17:27:35] {3034} INFO - fit succeeded\n",
      "[flaml.automl.automl: 04-04 17:27:35] {3035} INFO - Time taken to find the best model: 54.684521436691284\n",
      "[flaml.automl.automl: 04-04 17:27:35] {3047} WARNING - Time taken to find the best model is 91% of the provided time budget and not all estimators' hyperparameter search converged. Consider increasing the time budget.\n"
     ]
    },
    {
     "data": {
      "text/plain": [
       "<sklearn.metrics._plot.roc_curve.RocCurveDisplay at 0x7f6c346e5a50>"
      ]
     },
     "execution_count": 6,
     "metadata": {},
     "output_type": "execute_result"
    },
    {
     "data": {
      "image/png": "[encoded data removed]",
      "text/plain": [
       "<Figure size 640x480 with 1 Axes>"
      ]
     },
     "metadata": {},
     "output_type": "display_data"
    },
    {
     "data": {
      "image/png": "[encoded data removed]",
      "text/plain": [
       "<Figure size 640x480 with 1 Axes>"
      ]
     },
     "metadata": {},
     "output_type": "display_data"
    }
   ],
   "source": [
    "automl = AutoML()\n",
    "automl.fit(\n",
    "    X_train=train[features],\n",
    "    y_train=train[\"label_encoded\"],\n",
    "    X_val=test[features],\n",
    "    y_val=test[\"label_encoded\"],\n",
    "    task=\"classification\",\n",
    "    metric=\"f1\",\n",
    "    n_jobs=10,\n",
    "    n_splits=3,\n",
    "    estimator_list=[\"xgboost\"],\n",
    "    groups=train[\"cell_id\"],\n",
    "    groups_val=test[\"cell_id\"],\n",
    "    early_stop=True,\n",
    "    time_budget=60,\n",
    ")\n",
    "PrecisionRecallDisplay.from_estimator(\n",
    "    automl.model.estimator, test[features], test[\"label_encoded\"]\n",
    ")\n",
    "RocCurveDisplay.from_estimator(\n",
    "    automl.model.estimator, test[features], test[\"label_encoded\"]\n",
    ")"
   ]
  }
 ],
 "metadata": {
  "kernelspec": {
   "display_name": "shell",
   "language": "python",
   "name": "python3"
  },
  "language_info": {
   "codemirror_mode": {
    "name": "ipython",
    "version": 3
   },
   "file_extension": ".py",
   "mimetype": "text/x-python",
   "name": "python",
   "nbconvert_exporter": "python",
   "pygments_lexer": "ipython3",
   "version": "3.10.8"
  },
  "orig_nbformat": 4
 },
 "nbformat": 4,
 "nbformat_minor": 2
}
