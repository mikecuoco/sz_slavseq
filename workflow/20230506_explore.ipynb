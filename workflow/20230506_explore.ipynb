{
 "cells": [
  {
   "attachments": {},
   "cell_type": "markdown",
   "metadata": {},
   "source": [
    "# Explore features of reads that overlap KNRGL"
   ]
  },
  {
   "cell_type": "code",
   "execution_count": null,
   "metadata": {
    "vscode": {
     "languageId": "shellscript"
    }
   },
   "outputs": [],
   "source": [
    "%%bash \n",
    "\n",
    "# TODO: rewrite this cell in python\n",
    "# get first two columns \n",
    "awk -v OFS='\\t' '{print $1,$2}' /iblm/netapp/data4/mcuoco/sz_slavseq/resources/hs38d1.fa.fai > /iblm/netapp/data4/mcuoco/sz_slavseq/resources/hs38d1.chrom.sizes\n",
    "\n",
    "# add 1000 to 3' end of l1\n",
    "\n",
    "# move column 4 to column 6\n",
    "awk -v OFS='\\t' '{print $1,$2,$3,$5,$6,$4}' /iblm/netapp/data4/mcuoco/sz_slavseq/resources/CommonBrain_insertions.bed | \\\n",
    "   bedtools slop -i - -g /iblm/netapp/data4/mcuoco/sz_slavseq/resources/hs38d1.chrom.sizes -s -l 0 -r 1000 > CommonBrain_insertions_1kbslop.bed\n",
    "\n",
    "# get reads from knrgl region\n",
    "samtools view --regions-file CommonBrain_insertions_1kbslop.bed /iblm/logglun02/mcuoco/workflows/sz_slavseq/results/align/CommonBrain/plate1_A4_S22.aln.tagged.sorted.bam"
   ]
  }
 ],
 "metadata": {
  "language_info": {
   "name": "python"
  },
  "orig_nbformat": 4
 },
 "nbformat": 4,
 "nbformat_minor": 2
}
