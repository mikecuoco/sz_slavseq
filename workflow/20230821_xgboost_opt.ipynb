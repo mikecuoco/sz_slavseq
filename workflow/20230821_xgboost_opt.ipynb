{
 "cells": [
  {
   "cell_type": "code",
   "execution_count": null,
   "metadata": {},
   "outputs": [
    {
     "name": "stderr",
     "output_type": "stream",
     "text": [
      "\u001b[2m\u001b[33m(raylet)\u001b[0m [2023-08-21 22:34:59,889 E 27728 27751] (raylet) file_system_monitor.cc:111: /iblm/netapp/data4/mcuoco/tmp/ray/session_2023-08-21_17-59-51_808372_27477 is over 95% full, available space: 3934035574784; capacity: 89830100500480. Object creation will fail if spilling is required.\n",
      "\u001b[2m\u001b[33m(raylet)\u001b[0m [2023-08-21 22:35:09,952 E 27728 27751] (raylet) file_system_monitor.cc:111: /iblm/netapp/data4/mcuoco/tmp/ray/session_2023-08-21_17-59-51_808372_27477 is over 95% full, available space: 3933501128704; capacity: 89830100500480. Object creation will fail if spilling is required.\n",
      "\u001b[2m\u001b[33m(raylet)\u001b[0m [2023-08-21 22:35:20,017 E 27728 27751] (raylet) file_system_monitor.cc:111: /iblm/netapp/data4/mcuoco/tmp/ray/session_2023-08-21_17-59-51_808372_27477 is over 95% full, available space: 3933136879616; capacity: 89830100500480. Object creation will fail if spilling is required.\n",
      "\u001b[2m\u001b[33m(raylet)\u001b[0m [2023-08-21 22:35:30,084 E 27728 27751] (raylet) file_system_monitor.cc:111: /iblm/netapp/data4/mcuoco/tmp/ray/session_2023-08-21_17-59-51_808372_27477 is over 95% full, available space: 3932525363200; capacity: 89830100500480. Object creation will fail if spilling is required.\n",
      "\u001b[2m\u001b[33m(raylet)\u001b[0m [2023-08-21 22:35:40,147 E 27728 27751] (raylet) file_system_monitor.cc:111: /iblm/netapp/data4/mcuoco/tmp/ray/session_2023-08-21_17-59-51_808372_27477 is over 95% full, available space: 3932311781376; capacity: 89830100500480. Object creation will fail if spilling is required.\n",
      "\u001b[2m\u001b[33m(raylet)\u001b[0m [2023-08-21 22:35:50,211 E 27728 27751] (raylet) file_system_monitor.cc:111: /iblm/netapp/data4/mcuoco/tmp/ray/session_2023-08-21_17-59-51_808372_27477 is over 95% full, available space: 3931997011968; capacity: 89830100500480. Object creation will fail if spilling is required.\n",
      "\u001b[2m\u001b[33m(raylet)\u001b[0m [2023-08-21 22:36:00,273 E 27728 27751] (raylet) file_system_monitor.cc:111: /iblm/netapp/data4/mcuoco/tmp/ray/session_2023-08-21_17-59-51_808372_27477 is over 95% full, available space: 3931651702784; capacity: 89830100500480. Object creation will fail if spilling is required.\n",
      "\u001b[2m\u001b[33m(raylet)\u001b[0m [2023-08-21 22:36:10,341 E 27728 27751] (raylet) file_system_monitor.cc:111: /iblm/netapp/data4/mcuoco/tmp/ray/session_2023-08-21_17-59-51_808372_27477 is over 95% full, available space: 3930986905600; capacity: 89830100500480. Object creation will fail if spilling is required.\n",
      "\u001b[2m\u001b[33m(raylet)\u001b[0m [2023-08-21 22:36:20,405 E 27728 27751] (raylet) file_system_monitor.cc:111: /iblm/netapp/data4/mcuoco/tmp/ray/session_2023-08-21_17-59-51_808372_27477 is over 95% full, available space: 3930569834496; capacity: 89830100500480. Object creation will fail if spilling is required.\n",
      "\u001b[2m\u001b[33m(raylet)\u001b[0m [2023-08-21 22:36:30,473 E 27728 27751] (raylet) file_system_monitor.cc:111: /iblm/netapp/data4/mcuoco/tmp/ray/session_2023-08-21_17-59-51_808372_27477 is over 95% full, available space: 3930161414144; capacity: 89830100500480. Object creation will fail if spilling is required.\n",
      "\u001b[2m\u001b[33m(raylet)\u001b[0m [2023-08-21 22:36:40,535 E 27728 27751] (raylet) file_system_monitor.cc:111: /iblm/netapp/data4/mcuoco/tmp/ray/session_2023-08-21_17-59-51_808372_27477 is over 95% full, available space: 3929732743168; capacity: 89830100500480. Object creation will fail if spilling is required.\n",
      "\u001b[2m\u001b[33m(raylet)\u001b[0m [2023-08-21 22:36:50,598 E 27728 27751] (raylet) file_system_monitor.cc:111: /iblm/netapp/data4/mcuoco/tmp/ray/session_2023-08-21_17-59-51_808372_27477 is over 95% full, available space: 3929207603200; capacity: 89830100500480. Object creation will fail if spilling is required.\n",
      "\u001b[2m\u001b[33m(raylet)\u001b[0m [2023-08-21 22:37:00,662 E 27728 27751] (raylet) file_system_monitor.cc:111: /iblm/netapp/data4/mcuoco/tmp/ray/session_2023-08-21_17-59-51_808372_27477 is over 95% full, available space: 3928859869184; capacity: 89830100500480. Object creation will fail if spilling is required.\n",
      "\u001b[2m\u001b[33m(raylet)\u001b[0m [2023-08-21 22:37:10,727 E 27728 27751] (raylet) file_system_monitor.cc:111: /iblm/netapp/data4/mcuoco/tmp/ray/session_2023-08-21_17-59-51_808372_27477 is over 95% full, available space: 3928490573824; capacity: 89830100500480. Object creation will fail if spilling is required.\n",
      "\u001b[2m\u001b[33m(raylet)\u001b[0m [2023-08-21 22:37:20,791 E 27728 27751] (raylet) file_system_monitor.cc:111: /iblm/netapp/data4/mcuoco/tmp/ray/session_2023-08-21_17-59-51_808372_27477 is over 95% full, available space: 3927997415424; capacity: 89830100500480. Object creation will fail if spilling is required.\n",
      "\u001b[2m\u001b[33m(raylet)\u001b[0m [2023-08-21 22:37:30,859 E 27728 27751] (raylet) file_system_monitor.cc:111: /iblm/netapp/data4/mcuoco/tmp/ray/session_2023-08-21_17-59-51_808372_27477 is over 95% full, available space: 3927645224960; capacity: 89830100500480. Object creation will fail if spilling is required.\n",
      "\u001b[2m\u001b[33m(raylet)\u001b[0m [2023-08-21 22:37:40,923 E 27728 27751] (raylet) file_system_monitor.cc:111: /iblm/netapp/data4/mcuoco/tmp/ray/session_2023-08-21_17-59-51_808372_27477 is over 95% full, available space: 3927323115520; capacity: 89830100500480. Object creation will fail if spilling is required.\n",
      "\u001b[2m\u001b[33m(raylet)\u001b[0m [2023-08-21 22:37:50,987 E 27728 27751] (raylet) file_system_monitor.cc:111: /iblm/netapp/data4/mcuoco/tmp/ray/session_2023-08-21_17-59-51_808372_27477 is over 95% full, available space: 3926663036928; capacity: 89830100500480. Object creation will fail if spilling is required.\n",
      "\u001b[2m\u001b[33m(raylet)\u001b[0m [2023-08-21 22:38:01,055 E 27728 27751] (raylet) file_system_monitor.cc:111: /iblm/netapp/data4/mcuoco/tmp/ray/session_2023-08-21_17-59-51_808372_27477 is over 95% full, available space: 3926144974848; capacity: 89830100500480. Object creation will fail if spilling is required.\n",
      "\u001b[2m\u001b[33m(raylet)\u001b[0m [2023-08-21 22:38:11,123 E 27728 27751] (raylet) file_system_monitor.cc:111: /iblm/netapp/data4/mcuoco/tmp/ray/session_2023-08-21_17-59-51_808372_27477 is over 95% full, available space: 3925982969856; capacity: 89830100500480. Object creation will fail if spilling is required.\n",
      "\u001b[2m\u001b[33m(raylet)\u001b[0m [2023-08-21 22:38:21,188 E 27728 27751] (raylet) file_system_monitor.cc:111: /iblm/netapp/data4/mcuoco/tmp/ray/session_2023-08-21_17-59-51_808372_27477 is over 95% full, available space: 3925593882624; capacity: 89830100500480. Object creation will fail if spilling is required.\n",
      "\u001b[2m\u001b[33m(raylet)\u001b[0m [2023-08-21 22:38:31,255 E 27728 27751] (raylet) file_system_monitor.cc:111: /iblm/netapp/data4/mcuoco/tmp/ray/session_2023-08-21_17-59-51_808372_27477 is over 95% full, available space: 3925192409088; capacity: 89830100500480. Object creation will fail if spilling is required.\n",
      "\u001b[2m\u001b[33m(raylet)\u001b[0m [2023-08-21 22:38:41,321 E 27728 27751] (raylet) file_system_monitor.cc:111: /iblm/netapp/data4/mcuoco/tmp/ray/session_2023-08-21_17-59-51_808372_27477 is over 95% full, available space: 3924443136000; capacity: 89830100500480. Object creation will fail if spilling is required.\n",
      "\u001b[2m\u001b[33m(raylet)\u001b[0m [2023-08-21 22:38:51,389 E 27728 27751] (raylet) file_system_monitor.cc:111: /iblm/netapp/data4/mcuoco/tmp/ray/session_2023-08-21_17-59-51_808372_27477 is over 95% full, available space: 3924320124928; capacity: 89830100500480. Object creation will fail if spilling is required.\n",
      "\u001b[2m\u001b[33m(raylet)\u001b[0m [2023-08-21 22:39:01,455 E 27728 27751] (raylet) file_system_monitor.cc:111: /iblm/netapp/data4/mcuoco/tmp/ray/session_2023-08-21_17-59-51_808372_27477 is over 95% full, available space: 3923899383808; capacity: 89830100500480. Object creation will fail if spilling is required.\n",
      "\u001b[2m\u001b[33m(raylet)\u001b[0m [2023-08-21 22:39:11,523 E 27728 27751] (raylet) file_system_monitor.cc:111: /iblm/netapp/data4/mcuoco/tmp/ray/session_2023-08-21_17-59-51_808372_27477 is over 95% full, available space: 3923411861504; capacity: 89830100500480. Object creation will fail if spilling is required.\n",
      "\u001b[2m\u001b[33m(raylet)\u001b[0m [2023-08-21 22:39:21,589 E 27728 27751] (raylet) file_system_monitor.cc:111: /iblm/netapp/data4/mcuoco/tmp/ray/session_2023-08-21_17-59-51_808372_27477 is over 95% full, available space: 3922963136512; capacity: 89830100500480. Object creation will fail if spilling is required.\n",
      "\u001b[2m\u001b[33m(raylet)\u001b[0m [2023-08-21 22:39:31,656 E 27728 27751] (raylet) file_system_monitor.cc:111: /iblm/netapp/data4/mcuoco/tmp/ray/session_2023-08-21_17-59-51_808372_27477 is over 95% full, available space: 3922189221888; capacity: 89830039814144. Object creation will fail if spilling is required.\n",
      "\u001b[2m\u001b[33m(raylet)\u001b[0m [2023-08-21 22:39:41,723 E 27728 27751] (raylet) file_system_monitor.cc:111: /iblm/netapp/data4/mcuoco/tmp/ray/session_2023-08-21_17-59-51_808372_27477 is over 95% full, available space: 3921968496640; capacity: 89830100500480. Object creation will fail if spilling is required.\n",
      "\u001b[2m\u001b[33m(raylet)\u001b[0m [2023-08-21 22:39:51,789 E 27728 27751] (raylet) file_system_monitor.cc:111: /iblm/netapp/data4/mcuoco/tmp/ray/session_2023-08-21_17-59-51_808372_27477 is over 95% full, available space: 3921619189760; capacity: 89830100500480. Object creation will fail if spilling is required.\n",
      "\u001b[2m\u001b[33m(raylet)\u001b[0m [2023-08-21 22:40:01,857 E 27728 27751] (raylet) file_system_monitor.cc:111: /iblm/netapp/data4/mcuoco/tmp/ray/session_2023-08-21_17-59-51_808372_27477 is over 95% full, available space: 3921098768384; capacity: 89830100500480. Object creation will fail if spilling is required.\n",
      "\u001b[2m\u001b[33m(raylet)\u001b[0m [2023-08-21 22:40:11,926 E 27728 27751] (raylet) file_system_monitor.cc:111: /iblm/netapp/data4/mcuoco/tmp/ray/session_2023-08-21_17-59-51_808372_27477 is over 95% full, available space: 3920225042432; capacity: 89829994004480. Object creation will fail if spilling is required.\n",
      "\u001b[2m\u001b[33m(raylet)\u001b[0m [2023-08-21 22:40:21,992 E 27728 27751] (raylet) file_system_monitor.cc:111: /iblm/netapp/data4/mcuoco/tmp/ray/session_2023-08-21_17-59-51_808372_27477 is over 95% full, available space: 3919941730304; capacity: 89830100500480. Object creation will fail if spilling is required.\n",
      "\u001b[2m\u001b[33m(raylet)\u001b[0m [2023-08-21 22:40:32,057 E 27728 27751] (raylet) file_system_monitor.cc:111: /iblm/netapp/data4/mcuoco/tmp/ray/session_2023-08-21_17-59-51_808372_27477 is over 95% full, available space: 3919798927360; capacity: 89830100500480. Object creation will fail if spilling is required.\n",
      "\u001b[2m\u001b[33m(raylet)\u001b[0m [2023-08-21 22:40:42,126 E 27728 27751] (raylet) file_system_monitor.cc:111: /iblm/netapp/data4/mcuoco/tmp/ray/session_2023-08-21_17-59-51_808372_27477 is over 95% full, available space: 3919448244224; capacity: 89830100500480. Object creation will fail if spilling is required.\n",
      "\u001b[2m\u001b[33m(raylet)\u001b[0m [2023-08-21 22:40:52,191 E 27728 27751] (raylet) file_system_monitor.cc:111: /iblm/netapp/data4/mcuoco/tmp/ray/session_2023-08-21_17-59-51_808372_27477 is over 95% full, available space: 3918810447872; capacity: 89830100500480. Object creation will fail if spilling is required.\n",
      "\u001b[2m\u001b[33m(raylet)\u001b[0m [2023-08-21 22:41:02,257 E 27728 27751] (raylet) file_system_monitor.cc:111: /iblm/netapp/data4/mcuoco/tmp/ray/session_2023-08-21_17-59-51_808372_27477 is over 95% full, available space: 3918581137408; capacity: 89830100500480. Object creation will fail if spilling is required.\n",
      "\u001b[2m\u001b[33m(raylet)\u001b[0m [2023-08-21 22:41:12,326 E 27728 27751] (raylet) file_system_monitor.cc:111: /iblm/netapp/data4/mcuoco/tmp/ray/session_2023-08-21_17-59-51_808372_27477 is over 95% full, available space: 3917906903040; capacity: 89830100500480. Object creation will fail if spilling is required.\n",
      "\u001b[2m\u001b[33m(raylet)\u001b[0m [2023-08-21 22:41:22,391 E 27728 27751] (raylet) file_system_monitor.cc:111: /iblm/netapp/data4/mcuoco/tmp/ray/session_2023-08-21_17-59-51_808372_27477 is over 95% full, available space: 3917565853696; capacity: 89830100500480. Object creation will fail if spilling is required.\n",
      "\u001b[2m\u001b[33m(raylet)\u001b[0m [2023-08-21 22:41:32,456 E 27728 27751] (raylet) file_system_monitor.cc:111: /iblm/netapp/data4/mcuoco/tmp/ray/session_2023-08-21_17-59-51_808372_27477 is over 95% full, available space: 3917199769600; capacity: 89830100500480. Object creation will fail if spilling is required.\n",
      "\u001b[2m\u001b[33m(raylet)\u001b[0m [2023-08-21 22:41:42,522 E 27728 27751] (raylet) file_system_monitor.cc:111: /iblm/netapp/data4/mcuoco/tmp/ray/session_2023-08-21_17-59-51_808372_27477 is over 95% full, available space: 3916706676736; capacity: 89830100500480. Object creation will fail if spilling is required.\n",
      "\u001b[2m\u001b[33m(raylet)\u001b[0m [2023-08-21 22:41:52,590 E 27728 27751] (raylet) file_system_monitor.cc:111: /iblm/netapp/data4/mcuoco/tmp/ray/session_2023-08-21_17-59-51_808372_27477 is over 95% full, available space: 3916420481024; capacity: 89830100500480. Object creation will fail if spilling is required.\n",
      "\u001b[2m\u001b[33m(raylet)\u001b[0m [2023-08-21 22:42:02,657 E 27728 27751] (raylet) file_system_monitor.cc:111: /iblm/netapp/data4/mcuoco/tmp/ray/session_2023-08-21_17-59-51_808372_27477 is over 95% full, available space: 3915759484928; capacity: 89830100500480. Object creation will fail if spilling is required.\n",
      "\u001b[2m\u001b[33m(raylet)\u001b[0m [2023-08-21 22:42:12,726 E 27728 27751] (raylet) file_system_monitor.cc:111: /iblm/netapp/data4/mcuoco/tmp/ray/session_2023-08-21_17-59-51_808372_27477 is over 95% full, available space: 3915550818304; capacity: 89830100500480. Object creation will fail if spilling is required.\n",
      "\u001b[2m\u001b[33m(raylet)\u001b[0m [2023-08-21 22:42:22,790 E 27728 27751] (raylet) file_system_monitor.cc:111: /iblm/netapp/data4/mcuoco/tmp/ray/session_2023-08-21_17-59-51_808372_27477 is over 95% full, available space: 3915219664896; capacity: 89830100500480. Object creation will fail if spilling is required.\n",
      "\u001b[2m\u001b[33m(raylet)\u001b[0m [2023-08-21 22:42:32,856 E 27728 27751] (raylet) file_system_monitor.cc:111: /iblm/netapp/data4/mcuoco/tmp/ray/session_2023-08-21_17-59-51_808372_27477 is over 95% full, available space: 3914523082752; capacity: 89830100500480. Object creation will fail if spilling is required.\n",
      "\u001b[2m\u001b[33m(raylet)\u001b[0m [2023-08-21 22:42:42,922 E 27728 27751] (raylet) file_system_monitor.cc:111: /iblm/netapp/data4/mcuoco/tmp/ray/session_2023-08-21_17-59-51_808372_27477 is over 95% full, available space: 3914116104192; capacity: 89830100500480. Object creation will fail if spilling is required.\n",
      "\u001b[2m\u001b[33m(raylet)\u001b[0m [2023-08-21 22:42:52,987 E 27728 27751] (raylet) file_system_monitor.cc:111: /iblm/netapp/data4/mcuoco/tmp/ray/session_2023-08-21_17-59-51_808372_27477 is over 95% full, available space: 3913804742656; capacity: 89830100500480. Object creation will fail if spilling is required.\n",
      "\u001b[2m\u001b[33m(raylet)\u001b[0m [2023-08-21 22:43:03,055 E 27728 27751] (raylet) file_system_monitor.cc:111: /iblm/netapp/data4/mcuoco/tmp/ray/session_2023-08-21_17-59-51_808372_27477 is over 95% full, available space: 3913453273088; capacity: 89830100500480. Object creation will fail if spilling is required.\n",
      "\u001b[2m\u001b[33m(raylet)\u001b[0m [2023-08-21 22:43:13,120 E 27728 27751] (raylet) file_system_monitor.cc:111: /iblm/netapp/data4/mcuoco/tmp/ray/session_2023-08-21_17-59-51_808372_27477 is over 95% full, available space: 3912609169408; capacity: 89829977227264. Object creation will fail if spilling is required.\n",
      "\u001b[2m\u001b[33m(raylet)\u001b[0m [2023-08-21 22:43:23,188 E 27728 27751] (raylet) file_system_monitor.cc:111: /iblm/netapp/data4/mcuoco/tmp/ray/session_2023-08-21_17-59-51_808372_27477 is over 95% full, available space: 3912510406656; capacity: 89830100500480. Object creation will fail if spilling is required.\n",
      "\u001b[2m\u001b[33m(raylet)\u001b[0m [2023-08-21 22:43:33,258 E 27728 27751] (raylet) file_system_monitor.cc:111: /iblm/netapp/data4/mcuoco/tmp/ray/session_2023-08-21_17-59-51_808372_27477 is over 95% full, available space: 3911990771712; capacity: 89830100500480. Object creation will fail if spilling is required.\n",
      "\u001b[2m\u001b[33m(raylet)\u001b[0m [2023-08-21 22:43:43,323 E 27728 27751] (raylet) file_system_monitor.cc:111: /iblm/netapp/data4/mcuoco/tmp/ray/session_2023-08-21_17-59-51_808372_27477 is over 95% full, available space: 3911574880256; capacity: 89830100500480. Object creation will fail if spilling is required.\n",
      "\u001b[2m\u001b[33m(raylet)\u001b[0m [2023-08-21 22:43:53,390 E 27728 27751] (raylet) file_system_monitor.cc:111: /iblm/netapp/data4/mcuoco/tmp/ray/session_2023-08-21_17-59-51_808372_27477 is over 95% full, available space: 3911159054336; capacity: 89830100500480. Object creation will fail if spilling is required.\n",
      "\u001b[2m\u001b[33m(raylet)\u001b[0m [2023-08-21 22:44:03,458 E 27728 27751] (raylet) file_system_monitor.cc:111: /iblm/netapp/data4/mcuoco/tmp/ray/session_2023-08-21_17-59-51_808372_27477 is over 95% full, available space: 3910875873280; capacity: 89830100500480. Object creation will fail if spilling is required.\n",
      "\u001b[2m\u001b[33m(raylet)\u001b[0m [2023-08-21 22:44:13,523 E 27728 27751] (raylet) file_system_monitor.cc:111: /iblm/netapp/data4/mcuoco/tmp/ray/session_2023-08-21_17-59-51_808372_27477 is over 95% full, available space: 3910181912576; capacity: 89830100500480. Object creation will fail if spilling is required.\n",
      "\u001b[2m\u001b[33m(raylet)\u001b[0m [2023-08-21 22:44:23,590 E 27728 27751] (raylet) file_system_monitor.cc:111: /iblm/netapp/data4/mcuoco/tmp/ray/session_2023-08-21_17-59-51_808372_27477 is over 95% full, available space: 3909781291008; capacity: 89830100500480. Object creation will fail if spilling is required.\n",
      "\u001b[2m\u001b[33m(raylet)\u001b[0m [2023-08-21 22:44:33,659 E 27728 27751] (raylet) file_system_monitor.cc:111: /iblm/netapp/data4/mcuoco/tmp/ray/session_2023-08-21_17-59-51_808372_27477 is over 95% full, available space: 3909396398080; capacity: 89830100500480. Object creation will fail if spilling is required.\n",
      "\u001b[2m\u001b[33m(raylet)\u001b[0m [2023-08-21 22:44:43,724 E 27728 27751] (raylet) file_system_monitor.cc:111: /iblm/netapp/data4/mcuoco/tmp/ray/session_2023-08-21_17-59-51_808372_27477 is over 95% full, available space: 3909002919936; capacity: 89830100500480. Object creation will fail if spilling is required.\n",
      "\u001b[2m\u001b[33m(raylet)\u001b[0m [2023-08-21 22:44:53,791 E 27728 27751] (raylet) file_system_monitor.cc:111: /iblm/netapp/data4/mcuoco/tmp/ray/session_2023-08-21_17-59-51_808372_27477 is over 95% full, available space: 3908530143232; capacity: 89830100500480. Object creation will fail if spilling is required.\n",
      "\u001b[2m\u001b[33m(raylet)\u001b[0m [2023-08-21 22:45:03,858 E 27728 27751] (raylet) file_system_monitor.cc:111: /iblm/netapp/data4/mcuoco/tmp/ray/session_2023-08-21_17-59-51_808372_27477 is over 95% full, available space: 3908002054144; capacity: 89830100500480. Object creation will fail if spilling is required.\n",
      "\u001b[2m\u001b[33m(raylet)\u001b[0m [2023-08-21 22:45:13,923 E 27728 27751] (raylet) file_system_monitor.cc:111: /iblm/netapp/data4/mcuoco/tmp/ray/session_2023-08-21_17-59-51_808372_27477 is over 95% full, available space: 3907753345024; capacity: 89830100500480. Object creation will fail if spilling is required.\n",
      "\u001b[2m\u001b[33m(raylet)\u001b[0m [2023-08-21 22:45:23,984 E 27728 27751] (raylet) file_system_monitor.cc:111: /iblm/netapp/data4/mcuoco/tmp/ray/session_2023-08-21_17-59-51_808372_27477 is over 95% full, available space: 3907202973696; capacity: 89830100500480. Object creation will fail if spilling is required.\n",
      "\u001b[2m\u001b[33m(raylet)\u001b[0m [2023-08-21 22:45:34,050 E 27728 27751] (raylet) file_system_monitor.cc:111: /iblm/netapp/data4/mcuoco/tmp/ray/session_2023-08-21_17-59-51_808372_27477 is over 95% full, available space: 3906831122432; capacity: 89830100500480. Object creation will fail if spilling is required.\n",
      "\u001b[2m\u001b[33m(raylet)\u001b[0m [2023-08-21 22:45:44,119 E 27728 27751] (raylet) file_system_monitor.cc:111: /iblm/netapp/data4/mcuoco/tmp/ray/session_2023-08-21_17-59-51_808372_27477 is over 95% full, available space: 3906436988928; capacity: 89830100500480. Object creation will fail if spilling is required.\n",
      "\u001b[2m\u001b[33m(raylet)\u001b[0m [2023-08-21 22:45:54,185 E 27728 27751] (raylet) file_system_monitor.cc:111: /iblm/netapp/data4/mcuoco/tmp/ray/session_2023-08-21_17-59-51_808372_27477 is over 95% full, available space: 3905870168064; capacity: 89830100500480. Object creation will fail if spilling is required.\n",
      "\u001b[2m\u001b[33m(raylet)\u001b[0m [2023-08-21 22:46:04,256 E 27728 27751] (raylet) file_system_monitor.cc:111: /iblm/netapp/data4/mcuoco/tmp/ray/session_2023-08-21_17-59-51_808372_27477 is over 95% full, available space: 3905424719872; capacity: 89830100500480. Object creation will fail if spilling is required.\n",
      "\u001b[2m\u001b[33m(raylet)\u001b[0m [2023-08-21 22:46:14,322 E 27728 27751] (raylet) file_system_monitor.cc:111: /iblm/netapp/data4/mcuoco/tmp/ray/session_2023-08-21_17-59-51_808372_27477 is over 95% full, available space: 3905058308096; capacity: 89830100500480. Object creation will fail if spilling is required.\n",
      "\u001b[2m\u001b[33m(raylet)\u001b[0m [2023-08-21 22:46:24,387 E 27728 27751] (raylet) file_system_monitor.cc:111: /iblm/netapp/data4/mcuoco/tmp/ray/session_2023-08-21_17-59-51_808372_27477 is over 95% full, available space: 3904745635840; capacity: 89830176456704. Object creation will fail if spilling is required.\n",
      "\u001b[2m\u001b[33m(raylet)\u001b[0m [2023-08-21 22:46:34,454 E 27728 27751] (raylet) file_system_monitor.cc:111: /iblm/netapp/data4/mcuoco/tmp/ray/session_2023-08-21_17-59-51_808372_27477 is over 95% full, available space: 3904128417792; capacity: 89830100500480. Object creation will fail if spilling is required.\n",
      "\u001b[2m\u001b[33m(raylet)\u001b[0m [2023-08-21 22:46:44,522 E 27728 27751] (raylet) file_system_monitor.cc:111: /iblm/netapp/data4/mcuoco/tmp/ray/session_2023-08-21_17-59-51_808372_27477 is over 95% full, available space: 3903843794944; capacity: 89830100500480. Object creation will fail if spilling is required.\n",
      "\u001b[2m\u001b[33m(raylet)\u001b[0m [2023-08-21 22:46:54,587 E 27728 27751] (raylet) file_system_monitor.cc:111: /iblm/netapp/data4/mcuoco/tmp/ray/session_2023-08-21_17-59-51_808372_27477 is over 95% full, available space: 3903291064320; capacity: 89830100500480. Object creation will fail if spilling is required.\n",
      "\u001b[2m\u001b[33m(raylet)\u001b[0m [2023-08-21 22:47:04,657 E 27728 27751] (raylet) file_system_monitor.cc:111: /iblm/netapp/data4/mcuoco/tmp/ray/session_2023-08-21_17-59-51_808372_27477 is over 95% full, available space: 3902711529472; capacity: 89830100500480. Object creation will fail if spilling is required.\n",
      "\u001b[2m\u001b[33m(raylet)\u001b[0m [2023-08-21 22:47:14,725 E 27728 27751] (raylet) file_system_monitor.cc:111: /iblm/netapp/data4/mcuoco/tmp/ray/session_2023-08-21_17-59-51_808372_27477 is over 95% full, available space: 3902279122944; capacity: 89830020612096. Object creation will fail if spilling is required.\n",
      "\u001b[2m\u001b[33m(raylet)\u001b[0m [2023-08-21 22:47:24,787 E 27728 27751] (raylet) file_system_monitor.cc:111: /iblm/netapp/data4/mcuoco/tmp/ray/session_2023-08-21_17-59-51_808372_27477 is over 95% full, available space: 3901969793024; capacity: 89830100500480. Object creation will fail if spilling is required.\n",
      "\u001b[2m\u001b[33m(raylet)\u001b[0m [2023-08-21 22:47:34,854 E 27728 27751] (raylet) file_system_monitor.cc:111: /iblm/netapp/data4/mcuoco/tmp/ray/session_2023-08-21_17-59-51_808372_27477 is over 95% full, available space: 3901763420160; capacity: 89830100500480. Object creation will fail if spilling is required.\n",
      "\u001b[2m\u001b[33m(raylet)\u001b[0m [2023-08-21 22:47:44,921 E 27728 27751] (raylet) file_system_monitor.cc:111: /iblm/netapp/data4/mcuoco/tmp/ray/session_2023-08-21_17-59-51_808372_27477 is over 95% full, available space: 3901112057856; capacity: 89830100500480. Object creation will fail if spilling is required.\n",
      "\u001b[2m\u001b[33m(raylet)\u001b[0m [2023-08-21 22:47:54,986 E 27728 27751] (raylet) file_system_monitor.cc:111: /iblm/netapp/data4/mcuoco/tmp/ray/session_2023-08-21_17-59-51_808372_27477 is over 95% full, available space: 3900583772160; capacity: 89830100500480. Object creation will fail if spilling is required.\n",
      "\u001b[2m\u001b[33m(raylet)\u001b[0m [2023-08-21 22:48:05,050 E 27728 27751] (raylet) file_system_monitor.cc:111: /iblm/netapp/data4/mcuoco/tmp/ray/session_2023-08-21_17-59-51_808372_27477 is over 95% full, available space: 3900419801088; capacity: 89830100500480. Object creation will fail if spilling is required.\n",
      "\u001b[2m\u001b[33m(raylet)\u001b[0m [2023-08-21 22:48:15,118 E 27728 27751] (raylet) file_system_monitor.cc:111: /iblm/netapp/data4/mcuoco/tmp/ray/session_2023-08-21_17-59-51_808372_27477 is over 95% full, available space: 3899706900480; capacity: 89830100500480. Object creation will fail if spilling is required.\n",
      "\u001b[2m\u001b[33m(raylet)\u001b[0m [2023-08-21 22:48:25,184 E 27728 27751] (raylet) file_system_monitor.cc:111: /iblm/netapp/data4/mcuoco/tmp/ray/session_2023-08-21_17-59-51_808372_27477 is over 95% full, available space: 3899262500864; capacity: 89830100500480. Object creation will fail if spilling is required.\n",
      "\u001b[2m\u001b[33m(raylet)\u001b[0m [2023-08-21 22:48:35,249 E 27728 27751] (raylet) file_system_monitor.cc:111: /iblm/netapp/data4/mcuoco/tmp/ray/session_2023-08-21_17-59-51_808372_27477 is over 95% full, available space: 3898966999040; capacity: 89830100500480. Object creation will fail if spilling is required.\n",
      "\u001b[2m\u001b[33m(raylet)\u001b[0m [2023-08-21 22:48:45,315 E 27728 27751] (raylet) file_system_monitor.cc:111: /iblm/netapp/data4/mcuoco/tmp/ray/session_2023-08-21_17-59-51_808372_27477 is over 95% full, available space: 3898564411392; capacity: 89830100500480. Object creation will fail if spilling is required.\n",
      "\u001b[2m\u001b[33m(raylet)\u001b[0m [2023-08-21 22:48:55,382 E 27728 27751] (raylet) file_system_monitor.cc:111: /iblm/netapp/data4/mcuoco/tmp/ray/session_2023-08-21_17-59-51_808372_27477 is over 95% full, available space: 3897837486080; capacity: 89830100500480. Object creation will fail if spilling is required.\n",
      "\u001b[2m\u001b[33m(raylet)\u001b[0m [2023-08-21 22:49:05,450 E 27728 27751] (raylet) file_system_monitor.cc:111: /iblm/netapp/data4/mcuoco/tmp/ray/session_2023-08-21_17-59-51_808372_27477 is over 95% full, available space: 3897586286592; capacity: 89830100500480. Object creation will fail if spilling is required.\n",
      "\u001b[2m\u001b[33m(raylet)\u001b[0m [2023-08-21 22:49:15,515 E 27728 27751] (raylet) file_system_monitor.cc:111: /iblm/netapp/data4/mcuoco/tmp/ray/session_2023-08-21_17-59-51_808372_27477 is over 95% full, available space: 3897239273472; capacity: 89830100500480. Object creation will fail if spilling is required.\n",
      "\u001b[2m\u001b[33m(raylet)\u001b[0m [2023-08-21 22:49:25,583 E 27728 27751] (raylet) file_system_monitor.cc:111: /iblm/netapp/data4/mcuoco/tmp/ray/session_2023-08-21_17-59-51_808372_27477 is over 95% full, available space: 3896478400512; capacity: 89830100500480. Object creation will fail if spilling is required.\n",
      "\u001b[2m\u001b[33m(raylet)\u001b[0m [2023-08-21 22:49:35,649 E 27728 27751] (raylet) file_system_monitor.cc:111: /iblm/netapp/data4/mcuoco/tmp/ray/session_2023-08-21_17-59-51_808372_27477 is over 95% full, available space: 3896213176320; capacity: 89830100500480. Object creation will fail if spilling is required.\n",
      "\u001b[2m\u001b[33m(raylet)\u001b[0m [2023-08-21 22:49:45,715 E 27728 27751] (raylet) file_system_monitor.cc:111: /iblm/netapp/data4/mcuoco/tmp/ray/session_2023-08-21_17-59-51_808372_27477 is over 95% full, available space: 3896232574976; capacity: 89830176915456. Object creation will fail if spilling is required.\n",
      "\u001b[2m\u001b[33m(raylet)\u001b[0m [2023-08-21 22:49:55,785 E 27728 27751] (raylet) file_system_monitor.cc:111: /iblm/netapp/data4/mcuoco/tmp/ray/session_2023-08-21_17-59-51_808372_27477 is over 95% full, available space: 3895502503936; capacity: 89830100500480. Object creation will fail if spilling is required.\n",
      "\u001b[2m\u001b[33m(raylet)\u001b[0m [2023-08-21 22:50:05,850 E 27728 27751] (raylet) file_system_monitor.cc:111: /iblm/netapp/data4/mcuoco/tmp/ray/session_2023-08-21_17-59-51_808372_27477 is over 95% full, available space: 3895151624192; capacity: 89830240354304. Object creation will fail if spilling is required.\n",
      "\u001b[2m\u001b[33m(raylet)\u001b[0m [2023-08-21 22:50:15,914 E 27728 27751] (raylet) file_system_monitor.cc:111: /iblm/netapp/data4/mcuoco/tmp/ray/session_2023-08-21_17-59-51_808372_27477 is over 95% full, available space: 3894630023168; capacity: 89830100500480. Object creation will fail if spilling is required.\n"
     ]
    }
   ],
   "source": [
    "import pandas as pd\n",
    "from flaml import AutoML\n",
    "\n",
    "# sklearn\n",
    "from sklearn.model_selection import StratifiedGroupKFold\n",
    "\n",
    "# my own modules\n",
    "from scripts.pyslavseq.model_selection import SampleChrSplitter, Model, parse_log"
   ]
  },
  {
   "cell_type": "code",
   "execution_count": null,
   "metadata": {},
   "outputs": [],
   "source": [
    "# read data\n",
    "data = pd.read_pickle(\"data.pkl\")\n",
    "assert data.donor_id.nunique() == 38, \"Wrong number of donors\""
   ]
  },
  {
   "cell_type": "markdown",
   "metadata": {},
   "source": [
    "# Testing"
   ]
  },
  {
   "cell_type": "markdown",
   "metadata": {},
   "source": [
    "## Test 1: CommonBrain"
   ]
  },
  {
   "cell_type": "code",
   "execution_count": null,
   "metadata": {},
   "outputs": [],
   "source": [
    "# define features\n",
    "features = []\n",
    "keys = [\"_mean\", \"frac\", \"gini\", \"bias\"]\n",
    "for c in data.columns:\n",
    "    if (\"_score\" in c) or (\"_length\" in c):\n",
    "        if \"_normed\" not in c:\n",
    "            continue\n",
    "    for k in keys:\n",
    "        if k in c:\n",
    "            features.append(c)\n",
    "features.append(\"rpm\")\n",
    "print(\"Features:\", features)"
   ]
  },
  {
   "cell_type": "code",
   "execution_count": null,
   "metadata": {},
   "outputs": [],
   "source": [
    "# define the classifier\n",
    "clf = AutoML(\n",
    "    task=\"classification\",\n",
    "    estimator_list=[\"xgboost\"],\n",
    "    early_stop=True,\n",
    "    eval_method=\"cv\",\n",
    "    time_budget=120,  # time budget in seconds\n",
    "    metric=\"ap\",\n",
    "    verbose=4,\n",
    "    use_ray=True,\n",
    "    split_type=StratifiedGroupKFold(n_splits=5),\n",
    ")"
   ]
  },
  {
   "cell_type": "code",
   "execution_count": null,
   "metadata": {},
   "outputs": [],
   "source": [
    "# fit\n",
    "clf.fit(\n",
    "    data[data.donor_id == \"CommonBrain\"][features],\n",
    "    data[data.donor_id == \"CommonBrain\"][\"xtea_1kb_3end\"],\n",
    "    groups=data[data.donor_id == \"CommonBrain\"][\"Chromosome\"],\n",
    ")"
   ]
  },
  {
   "cell_type": "code",
   "execution_count": null,
   "metadata": {},
   "outputs": [],
   "source": [
    "ddata = data[data.donor_id == \"CommonBrain\"]\n",
    "mdl = Model(\n",
    "    clf=clf,\n",
    "    data=ddata,\n",
    "    features=features,\n",
    "    label_col=\"xtea_1kb_3end\",\n",
    "    rpm_filter=5,\n",
    "    outfile=f\"model_logs/CommonBrain_long.log\",\n",
    ")\n",
    "mdl.cv(n_splits=5)"
   ]
  },
  {
   "cell_type": "code",
   "execution_count": null,
   "metadata": {},
   "outputs": [],
   "source": []
  },
  {
   "cell_type": "code",
   "execution_count": null,
   "metadata": {},
   "outputs": [],
   "source": []
  }
 ],
 "metadata": {
  "kernelspec": {
   "display_name": "ml",
   "language": "python",
   "name": "python3"
  },
  "language_info": {
   "codemirror_mode": {
    "name": "ipython",
    "version": 3
   },
   "file_extension": ".py",
   "mimetype": "text/x-python",
   "name": "python",
   "nbconvert_exporter": "python",
   "pygments_lexer": "ipython3",
   "version": "3.10.12"
  },
  "orig_nbformat": 4
 },
 "nbformat": 4,
 "nbformat_minor": 2
}
