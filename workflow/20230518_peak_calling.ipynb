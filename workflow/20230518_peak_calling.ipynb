{
 "cells": [
  {
   "attachments": {},
   "cell_type": "markdown",
   "metadata": {},
   "source": [
    "# Peak calling testing: try peakcalling of Read1 only\n",
    "\n",
    "05/18/23"
   ]
  },
  {
   "cell_type": "code",
   "execution_count": 1,
   "metadata": {},
   "outputs": [],
   "source": [
    "from subprocess import Popen, PIPE, DEVNULL\n",
    "from tempfile import TemporaryDirectory\n",
    "from itertools import product\n",
    "from pathlib import Path\n",
    "from io import StringIO\n",
    "from scripts.get_labels import read_knrgl, read_rmsk, label_windows\n",
    "import pandas as pd\n",
    "import pyranges as pr\n",
    "import seaborn as sns\n",
    "import matplotlib.pyplot as plt"
   ]
  },
  {
   "cell_type": "code",
   "execution_count": 2,
   "metadata": {},
   "outputs": [],
   "source": [
    "# define inputs\n",
    "bam = \"/iblm/netapp/data4/mcuoco/sz_slavseq/results/align/8/gDNA_usd8.tagged.sorted.bam\"\n",
    "knrgl = read_knrgl(\"/iblm/netapp/data4/mcuoco/sz_slavseq/resources/8_insertions.bed\")\n",
    "rmsk = read_rmsk(\"/iblm/netapp/data4/mcuoco/sz_slavseq/resources/hs38d1.fa.out\")\n",
    "\n",
    "# create play directory\n",
    "Path(\"peak_calling\").mkdir(exist_ok=True)\n",
    "\n",
    "# write as bed files\n",
    "pr.PyRanges(knrgl).to_bed(\"peak_calling/8_insertions.bed\")\n",
    "\n",
    "# remove rmsk records with negative start or end\n",
    "rmsk = rmsk[(rmsk.Start >= 0) & (rmsk.End >= 0)].drop([\"repeat\"], axis=1)\n",
    "pr.PyRanges(rmsk).to_bed(\"peak_calling/hs38d1_rmsk.bed\")\n",
    "\n",
    "# define test inputs\n",
    "# bam = \"/iblm/logglun02/mcuoco/workflows/sz_slavseq/.test/results/align/1/A.tagged.sorted.bam\""
   ]
  },
  {
   "cell_type": "code",
   "execution_count": 3,
   "metadata": {},
   "outputs": [],
   "source": [
    "# define helper functions\n",
    "def bedtools_intersect(bam, bed):\n",
    "    cmd = f\"bedtools intersect -abam {bam} -b {bed} -bed -wa -wb -S\"\n",
    "    p = Popen(cmd, shell=True, stdout=PIPE, stderr=DEVNULL)\n",
    "    names = [\n",
    "        \"Chromosome\",\n",
    "        \"Start\",\n",
    "        \"End\",\n",
    "        \"read_id\",\n",
    "        \"mapq\",\n",
    "        \"Strand\",\n",
    "        \"intersect_start\",\n",
    "        \"intersect_end\",\n",
    "        \"x\",\n",
    "        \"y\",\n",
    "        \"flag\",\n",
    "        \"z\",\n",
    "        \"ChromosomeB\",\n",
    "        \"StartB\",\n",
    "        \"EndB\",\n",
    "        \"NameB\",\n",
    "        \"ScoreB\",\n",
    "        \"StrandB\",\n",
    "    ]\n",
    "\n",
    "    with StringIO(p.stdout.read().decode()) as bed:\n",
    "        df = pd.read_csv(bed, sep=\"\\t\", header=None, names=names)\n",
    "        df.drop([\"x\", \"y\", \"z\"], axis=1, inplace=True)\n",
    "\n",
    "    return df\n",
    "\n",
    "\n",
    "def overlap(a, b):\n",
    "    a = pr.PyRanges(a)\n",
    "    b = pr.PyRanges(b)\n",
    "    return b.overlap(a).df\n",
    "\n",
    "\n",
    "def intersect(a, b):\n",
    "    a = pr.PyRanges(a)\n",
    "    b = pr.PyRanges(b)\n",
    "    return b.intersect(a).df"
   ]
  },
  {
   "attachments": {},
   "cell_type": "markdown",
   "metadata": {},
   "source": [
    "### How many known insertions are covered? By how many reads?"
   ]
  },
  {
   "cell_type": "code",
   "execution_count": 4,
   "metadata": {},
   "outputs": [],
   "source": [
    "knrgl_reads = bedtools_intersect(bam, \"peak_calling/8_insertions.bed\")\n",
    "knrgl_reads[\"label\"] = \"KNRGL\"\n",
    "rmsk_reads = bedtools_intersect(bam, \"peak_calling/hs38d1_rmsk.bed\")\n",
    "rmsk_reads[\"label\"] = \"RMSK\"\n",
    "df = (\n",
    "    pd.concat([knrgl_reads, rmsk_reads])\n",
    "    .groupby([\"ChromosomeB\", \"StartB\", \"EndB\", \"label\"])\n",
    "    .size()\n",
    "    .reset_index(name=\"reads\")\n",
    ")"
   ]
  },
  {
   "cell_type": "code",
   "execution_count": 5,
   "metadata": {},
   "outputs": [
    {
     "data": {
      "image/png": "[encoded data removed]",
      "text/plain": [
       "<Figure size 500x500 with 1 Axes>"
      ]
     },
     "metadata": {},
     "output_type": "display_data"
    }
   ],
   "source": [
    "g = sns.catplot(x=\"label\", y=\"reads\", data=df, kind=\"boxen\")\n",
    "\n",
    "# add number on top of each violin\n",
    "for tick, label in enumerate(g.ax.get_xticklabels()):\n",
    "    n = len(df[df[\"label\"] == label.get_text()])\n",
    "    g.ax.text(\n",
    "        tick, max(df[\"reads\"]) + 300, \"n = \" + str(n), horizontalalignment=\"center\"\n",
    "    )\n",
    "\n",
    "# log scale y axis\n",
    "g.ax.set_yscale(\"log\")"
   ]
  },
  {
   "attachments": {},
   "cell_type": "markdown",
   "metadata": {},
   "source": [
    "### Call peaks with MACS2"
   ]
  },
  {
   "cell_type": "code",
   "execution_count": 8,
   "metadata": {},
   "outputs": [],
   "source": [
    "def macs2(\n",
    "    bam: str,\n",
    "    bandwidth: int = 200,\n",
    "    extsize: int = 200,\n",
    "    slocal: int = 1000,\n",
    "    llocal: int = 10000,\n",
    "):\n",
    "\n",
    "    header = [\n",
    "        \"Chromosome\",\n",
    "        \"Start\",\n",
    "        \"End\",\n",
    "        \"Name\",\n",
    "        \"Score\",\n",
    "        \"Strand\",\n",
    "        \"FoldChange\",\n",
    "        \"-log10pvalue\",\n",
    "        \"-log10qvalue\",\n",
    "        \"summit\",\n",
    "    ]\n",
    "    with TemporaryDirectory() as tmpdir:\n",
    "        macs2_cmd = f\"macs2 callpeak -t {bam} -f BAM -g hs --nomodel --extsize {extsize} --bw {bandwidth} --outdir {tmpdir} --name macs2 --slocal {slocal} --llocal {llocal}\"\n",
    "\n",
    "        # narrow peaks\n",
    "        Popen(macs2_cmd, shell=True, stdout=DEVNULL, stderr=DEVNULL).communicate()\n",
    "        narrowpeaks = pd.read_csv(\n",
    "            f\"{tmpdir}/macs2_peaks.narrowPeak\", sep=\"\\t\", header=None, names=header\n",
    "        )\n",
    "\n",
    "        # broad peaks\n",
    "        Popen(\n",
    "            macs2_cmd + \" --broad\", shell=True, stdout=DEVNULL, stderr=DEVNULL\n",
    "        ).communicate()\n",
    "        broadpeaks = pd.read_csv(\n",
    "            f\"{tmpdir}/macs2_peaks.broadPeak\", sep=\"\\t\", header=None, names=header[:-1]\n",
    "        )\n",
    "\n",
    "    return narrowpeaks, broadpeaks\n",
    "\n",
    "\n",
    "def metrics(peaks: pd.DataFrame, knrgl: pd.DataFrame, rmsk: pd.DataFrame):\n",
    "\n",
    "    peaks[\"width\"] = peaks[\"End\"] - peaks[\"Start\"]\n",
    "    peaks = label_windows(peaks, knrgl, \"knrgl\")\n",
    "    peaks = label_windows(peaks, rmsk, \"rmsk\")\n",
    "\n",
    "    label = []\n",
    "    for row in peaks.itertuples():\n",
    "        if row.rmsk:\n",
    "            label.append(\"RMSK\")\n",
    "        elif row.knrgl:\n",
    "            label.append(\"KNRGL\")\n",
    "        else:\n",
    "            label.append(\"OTHER\")\n",
    "\n",
    "    peaks.drop([\"knrgl\", \"rmsk\"], axis=1, inplace=True)\n",
    "    peaks[\"label\"] = label\n",
    "\n",
    "    return peaks"
   ]
  },
  {
   "cell_type": "code",
   "execution_count": 9,
   "metadata": {},
   "outputs": [],
   "source": [
    "params = {\n",
    "    \"bandwidth\": [200, 500],\n",
    "    \"extsize\": [200, 500],\n",
    "    \"local\": [\n",
    "        (1000, 10000),\n",
    "        (2000, 10000),\n",
    "        (3000, 10000),\n",
    "        (4000, 10000),\n",
    "        (5000, 10000),\n",
    "    ],\n",
    "}\n",
    "\n",
    "res = []\n",
    "for bandwidth, extsize, local in product(*params.values()):\n",
    "    slocal, llocal = local\n",
    "    narrowpeaks, broadpeaks = macs2(\n",
    "        bam, bandwidth=bandwidth, extsize=extsize, slocal=slocal, llocal=llocal\n",
    "    )\n",
    "\n",
    "    narrowpeaks = metrics(narrowpeaks, knrgl, rmsk)\n",
    "    narrowpeaks[\"type\"] = \"narrow\"\n",
    "    narrowpeaks[\"bandwidth\"] = bandwidth\n",
    "    narrowpeaks[\"extsize\"] = extsize\n",
    "    narrowpeaks[\"slocal\"] = slocal\n",
    "    narrowpeaks[\"llocal\"] = llocal\n",
    "    res.append(narrowpeaks)\n",
    "\n",
    "    broadpeaks = metrics(broadpeaks, knrgl, rmsk)\n",
    "    broadpeaks[\"type\"] = \"broad\"\n",
    "    broadpeaks[\"bandwidth\"] = bandwidth\n",
    "    broadpeaks[\"extsize\"] = extsize\n",
    "    broadpeaks[\"slocal\"] = slocal\n",
    "    broadpeaks[\"llocal\"] = llocal\n",
    "\n",
    "    res.append(broadpeaks)\n",
    "\n",
    "res = pd.concat(res)"
   ]
  },
  {
   "cell_type": "code",
   "execution_count": null,
   "metadata": {},
   "outputs": [],
   "source": [
    "res"
   ]
  }
 ],
 "metadata": {
  "kernelspec": {
   "display_name": "shell",
   "language": "python",
   "name": "python3"
  },
  "language_info": {
   "codemirror_mode": {
    "name": "ipython",
    "version": 3
   },
   "file_extension": ".py",
   "mimetype": "text/x-python",
   "name": "python",
   "nbconvert_exporter": "python",
   "pygments_lexer": "ipython3",
   "version": "3.10.8"
  },
  "orig_nbformat": 4
 },
 "nbformat": 4,
 "nbformat_minor": 2
}
