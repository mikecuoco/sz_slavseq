{
 "cells": [
  {
   "cell_type": "code",
   "execution_count": 61,
   "metadata": {},
   "outputs": [],
   "source": [
    "from datetime import datetime\n",
    "from pathlib import Path\n",
    "import pandas as pd"
   ]
  },
  {
   "cell_type": "markdown",
   "metadata": {},
   "source": [
    "## Which cells/tissues were sequenced together vs separately?\n",
    "\n",
    "does this contribute to differences in SLAV model performance?"
   ]
  },
  {
   "cell_type": "code",
   "execution_count": 85,
   "metadata": {},
   "outputs": [
    {
     "name": "stderr",
     "output_type": "stream",
     "text": [
      "/iblm/netapp/data2/mcuoco/conda/envs/shell/lib/python3.10/site-packages/openpyxl/worksheet/_read_only.py:79: UserWarning: Unknown extension is not supported and will be removed\n",
      "  for idx, row in parser.parse():\n",
      "/iblm/netapp/data2/mcuoco/conda/envs/shell/lib/python3.10/site-packages/openpyxl/worksheet/_read_only.py:79: UserWarning: Unknown extension is not supported and will be removed\n",
      "  for idx, row in parser.parse():\n",
      "/iblm/netapp/data2/mcuoco/conda/envs/shell/lib/python3.10/site-packages/openpyxl/worksheet/_read_only.py:79: UserWarning: Unknown extension is not supported and will be removed\n",
      "  for idx, row in parser.parse():\n",
      "/iblm/netapp/data2/mcuoco/conda/envs/shell/lib/python3.10/site-packages/openpyxl/worksheet/_read_only.py:79: UserWarning: Unknown extension is not supported and will be removed\n",
      "  for idx, row in parser.parse():\n"
     ]
    },
    {
     "name": "stdout",
     "output_type": "stream",
     "text": [
      "Stored 20 files\n"
     ]
    }
   ],
   "source": [
    "# read in excel files from seq submissions and extract cell ids and sequencing dates\n",
    "data = []\n",
    "for f in Path(\"../resources/seq_submissions\").rglob(\"*xls*\"):\n",
    "    # extract date from filename\n",
    "    date = f.stem.split(\"_\")[0]\n",
    "    if len(date) == 8:\n",
    "        date = datetime.strptime(date, \"%m%d%Y\")\n",
    "    elif len(date) == 6:\n",
    "        date = datetime.strptime(date, \"%y%m%d\")\n",
    "    else:\n",
    "        raise ValueError(f\"Unknown date format: {date}\")\n",
    "\n",
    "    # read in excel file\n",
    "    df = pd.read_excel(f, sheet_name=\"Pooled_libraries\", skiprows=18, usecols=[1])\n",
    "    df = df.rename(columns={df.columns[0]: \"cell_id\"})\n",
    "    df[\"batch\"] = date\n",
    "    df = df.loc[~df.cell_id.isna(), :]\n",
    "    data.append(df)\n",
    "\n",
    "print(f\"Stored {len(data)} files\")\n",
    "data = pd.concat(data).drop_duplicates().reset_index(drop=True)\n",
    "data[\"duplicated\"] = data.duplicated(subset=[\"cell_id\"], keep=False)"
   ]
  },
  {
   "cell_type": "code",
   "execution_count": 87,
   "metadata": {},
   "outputs": [],
   "source": [
    "data[data[\"duplicated\"]].sort_values(\"cell_id\").to_csv(\n",
    "    \"duplicated_cells.csv\", index=False\n",
    ")"
   ]
  },
  {
   "cell_type": "code",
   "execution_count": 89,
   "metadata": {},
   "outputs": [
    {
     "data": {
      "text/plain": [
       "batch\n",
       "2019-01-04    479\n",
       "2019-01-07    424\n",
       "2019-02-05    279\n",
       "2019-01-11    236\n",
       "2019-05-28     44\n",
       "2019-11-04     37\n",
       "2020-03-02     37\n",
       "Name: count, dtype: int64"
      ]
     },
     "execution_count": 89,
     "metadata": {},
     "output_type": "execute_result"
    }
   ],
   "source": [
    "data[data[\"duplicated\"]].batch.value_counts()"
   ]
  }
 ],
 "metadata": {
  "kernelspec": {
   "display_name": "shell",
   "language": "python",
   "name": "python3"
  },
  "language_info": {
   "codemirror_mode": {
    "name": "ipython",
    "version": 3
   },
   "file_extension": ".py",
   "mimetype": "text/x-python",
   "name": "python",
   "nbconvert_exporter": "python",
   "pygments_lexer": "ipython3",
   "version": "3.10.8"
  },
  "orig_nbformat": 4
 },
 "nbformat": 4,
 "nbformat_minor": 2
}
