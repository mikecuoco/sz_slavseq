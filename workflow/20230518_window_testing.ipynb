{
 "cells": [
  {
   "cell_type": "code",
   "execution_count": 4,
   "metadata": {},
   "outputs": [],
   "source": [
    "from scripts.get_features import BamWindows\n",
    "from scripts.get_labels import read_knrgl, read_rmsk\n",
    "import pandas as pd\n",
    "import pyranges as pr\n",
    "import seaborn as sns"
   ]
  },
  {
   "cell_type": "code",
   "execution_count": 5,
   "metadata": {},
   "outputs": [],
   "source": [
    "# read in the annotations\n",
    "knrgl = read_knrgl(\n",
    "    \"/iblm/netapp/data4/mcuoco/sz_slavseq/resources/CommonBrain_insertions.bed\"\n",
    ")\n",
    "rmsk = read_rmsk(\"/iblm/netapp/data4/mcuoco/sz_slavseq/resources/hs38d1.fa.out\")"
   ]
  },
  {
   "cell_type": "code",
   "execution_count": 6,
   "metadata": {},
   "outputs": [],
   "source": [
    "f = \"/iblm/logglun02/mcuoco/workflows/sz_slavseq/results/align/CommonBrain/plate1_A4_S22.tagged.sorted.bam\"\n",
    "res = BamWindows(f, 750, 250).bam_windows()"
   ]
  },
  {
   "cell_type": "code",
   "execution_count": 7,
   "metadata": {},
   "outputs": [],
   "source": [
    "def covered(windows, annotation):\n",
    "\n",
    "    windows = pr.PyRanges(windows)\n",
    "    annotation = pr.PyRanges(annotation)\n",
    "\n",
    "    return len(windows.overlap(annotation)), len(annotation.overlap(windows))\n",
    "\n",
    "\n",
    "def label_windows(df: pd.DataFrame, other_df: pd.DataFrame, label: str):\n",
    "    assert type(df) == pd.DataFrame, \"df must be a pandas DataFrame\"\n",
    "    assert type(other_df) == pd.DataFrame, \"other_df must be a pandas DataFrame\"\n",
    "    assert label not in df.columns, f\"{label} already in df.columns\"\n",
    "\n",
    "    # convert to pyranges\n",
    "    pr_df = pr.PyRanges(df)\n",
    "    pr_other_df = pr.PyRanges(other_df)\n",
    "\n",
    "    # get the windows that overlap with the other_df\n",
    "    overlapping = pr_df.overlap(pr_other_df, strandedness=\"opposite\").df\n",
    "\n",
    "    # set the index to the chromosome, start, and end\n",
    "    # TODO: check if reads are in same orientation as repeats\n",
    "    df.set_index([\"Chromosome\", \"Start\", \"End\"], inplace=True)\n",
    "    overlapping.set_index([\"Chromosome\", \"Start\", \"End\"], inplace=True)\n",
    "\n",
    "    # label the windows that overlap\n",
    "    df[label] = df.index.isin(overlapping.index)\n",
    "\n",
    "    # reset the index\n",
    "    df.reset_index(inplace=True)\n",
    "\n",
    "    return df"
   ]
  },
  {
   "cell_type": "code",
   "execution_count": 11,
   "metadata": {},
   "outputs": [],
   "source": [
    "res[\"Strand\"] = res.apply(lambda x: \"+\" if x[\"frac_fwd\"] > 0.5 else \"-\", axis=1)"
   ]
  },
  {
   "cell_type": "code",
   "execution_count": 10,
   "metadata": {},
   "outputs": [
    {
     "data": {
      "text/plain": [
       "Index(['fwd', 'rev', 'nreads', 'frac_fwd', 'orientation_bias', 'starts_gini',\n",
       "       'mean_template_length', 'sd_template_length', 'ML_mean', 'MG_mean',\n",
       "       'MS_mean', 'MA_mean', 'Chromosome', 'Start', 'End', 'fwd_bg', 'rev_bg',\n",
       "       'nreads_bg', 'frac_fwd_bg', 'orientation_bias_bg', 'starts_gini_bg',\n",
       "       'mean_template_length_bg', 'sd_template_length_bg', 'ML_mean_bg',\n",
       "       'MG_mean_bg', 'MS_mean_bg', 'MA_mean_bg', 'strand'],\n",
       "      dtype='object')"
      ]
     },
     "execution_count": 10,
     "metadata": {},
     "output_type": "execute_result"
    }
   ],
   "source": [
    "res.columns"
   ]
  },
  {
   "cell_type": "code",
   "execution_count": null,
   "metadata": {},
   "outputs": [],
   "source": []
  }
 ],
 "metadata": {
  "kernelspec": {
   "display_name": "shell",
   "language": "python",
   "name": "python3"
  },
  "language_info": {
   "codemirror_mode": {
    "name": "ipython",
    "version": 3
   },
   "file_extension": ".py",
   "mimetype": "text/x-python",
   "name": "python",
   "nbconvert_exporter": "python",
   "pygments_lexer": "ipython3",
   "version": "3.10.8"
  },
  "orig_nbformat": 4
 },
 "nbformat": 4,
 "nbformat_minor": 2
}
