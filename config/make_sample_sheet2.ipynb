{
 "cells": [
  {
   "cell_type": "markdown",
   "metadata": {},
   "source": [
    "# Fix samples that share reads\n",
    "\n",
    "1. Run `fix_mix_index_samples.sh`\n",
    "2. Load output file `indices.txt` into the notebook"
   ]
  },
  {
   "cell_type": "code",
   "execution_count": 73,
   "metadata": {},
   "outputs": [],
   "source": [
    "import numpy as np\n",
    "import pandas as pd\n",
    "from pathlib import Path\n",
    "from collections import defaultdict\n",
    "import gzip, re, sys, ipynb, requests\n",
    "from joblib import Parallel, delayed\n",
    "from tqdm.notebook import tqdm\n",
    "from ftplib import FTP\n",
    "from bs4 import BeautifulSoup\n",
    "from ipynb.fs.defs.make_sample_sheet import find_logg_files, fields"
   ]
  },
  {
   "attachments": {},
   "cell_type": "markdown",
   "metadata": {},
   "source": [
    "## find fastq files on the server"
   ]
  },
  {
   "cell_type": "code",
   "execution_count": 74,
   "metadata": {},
   "outputs": [
    {
     "data": {
      "application/vnd.jupyter.widget-view+json": {
       "model_id": "54d887becf8c41c9a1edebd1ec0f3232",
       "version_major": 2,
       "version_minor": 0
      },
      "text/plain": [
       "  0%|          | 0/14098 [00:00<?, ?it/s]"
      ]
     },
     "metadata": {},
     "output_type": "display_data"
    },
    {
     "name": "stdout",
     "output_type": "stream",
     "text": [
      "found 14098 files\n",
      "extracting first read from each file\n",
      "\n",
      "\t\t14098 files\n",
      "\t\t8886 unique files based on first read\n",
      "\t\t\n",
      "Found 4438 unique samples with both R1 and R2 reads\n"
     ]
    }
   ],
   "source": [
    "logg_files = find_logg_files()\n",
    "logg_cells = set(logg_files[\"sample_id\"].str.upper())"
   ]
  },
  {
   "cell_type": "markdown",
   "metadata": {},
   "source": [
    "##  Get names of bad files Meiyan, and Eran"
   ]
  },
  {
   "cell_type": "code",
   "execution_count": 75,
   "metadata": {},
   "outputs": [
    {
     "name": "stdout",
     "output_type": "stream",
     "text": [
      "Loaded 99 potential mixed cells from Eran's analysis\n"
     ]
    }
   ],
   "source": [
    "# from Eran\n",
    "with open(\"../resources/potential_mixed_cells_Eran.txt\", \"r\") as f:\n",
    "    eran_cells = set([line.strip().upper() for line in f.readlines()])\n",
    "print(f\"Loaded {len(eran_cells)} potential mixed cells from Eran's analysis\")"
   ]
  },
  {
   "cell_type": "code",
   "execution_count": 76,
   "metadata": {},
   "outputs": [
    {
     "name": "stdout",
     "output_type": "stream",
     "text": [
      "Loaded 331 potential mixed cells from Meiyan's analysis\n"
     ]
    }
   ],
   "source": [
    "# from Meiyan\n",
    "def get_cells_igc(url):\n",
    "    response = requests.get(url)\n",
    "    soup = BeautifulSoup(response.text, \"html.parser\")\n",
    "    links = soup.find_all(\"a\")\n",
    "    return set(\n",
    "        [\n",
    "            re.sub(\"_R1_001.fastq.gz$\", \"\", link.get(\"href\")).upper()\n",
    "            for link in links\n",
    "            if \"_R1_001.fastq.gz\" in link.get(\"href\")\n",
    "        ]\n",
    "    )\n",
    "\n",
    "\n",
    "meiyan_cells = get_cells_igc(\n",
    "    \"http://igc2.salk.edu/illumina/runs/190604_PE125A/Gage_Meiyan/\"\n",
    ")  # corrected?\n",
    "print(f\"Loaded {len(meiyan_cells)} potential mixed cells from Meiyan's analysis\")\n",
    "\n",
    "# write to file\n",
    "with open(\"../resources/potential_mixed_cells_Meiyan.txt\", \"w\") as f:\n",
    "    for cell in meiyan_cells:\n",
    "        f.write(cell + \"\\n\")"
   ]
  },
  {
   "cell_type": "code",
   "execution_count": 77,
   "metadata": {},
   "outputs": [
    {
     "name": "stdout",
     "output_type": "stream",
     "text": [
      "Found 2 potential mixed cells in both analyses\n",
      "{'USH25_D2_S12', 'USH25_F2_S14'}\n"
     ]
    }
   ],
   "source": [
    "# intersect\n",
    "mixed_cells = eran_cells.intersection(meiyan_cells)\n",
    "print(f\"Found {len(mixed_cells)} potential mixed cells in both analyses\")\n",
    "print(mixed_cells)"
   ]
  },
  {
   "cell_type": "markdown",
   "metadata": {},
   "source": [
    "## inspect duplicated flowcell_index across fastqs\n",
    "\n",
    "/>1 files have the same flowcell_index\n",
    "\n"
   ]
  },
  {
   "cell_type": "code",
   "execution_count": 78,
   "metadata": {},
   "outputs": [
    {
     "name": "stdout",
     "output_type": "stream",
     "text": [
      "Loaded flowcell index for 8526 files from 4263 cells\n",
      "All files have unique cell_id!\n"
     ]
    }
   ],
   "source": [
    "# inspect duplicated reads across files\n",
    "pd.set_option(\"display.max_colwidth\", None)\n",
    "\n",
    "# load unique flowcell indices by fastq file\n",
    "df = pd.read_csv(\"indices.txt\", sep=\"\\t\", names=[\"filename\", \"flowcell_index\"])\n",
    "df[\"Read\"] = df[\"filename\"].str.extract(r\"_(R[12])\")\n",
    "df = pd.DataFrame.from_records([dict(fields(x)) for x in df[\"filename\"]]).merge(\n",
    "    df, on=\"filename\"\n",
    ")\n",
    "# df = df[df[\"individual\"] != \"CommonBrain\"]\n",
    "df[\"cell_id\"] = df[\"pair_id\"].str.upper()\n",
    "df[\"flowcell_index\"] = df[\"flowcell_index\"].apply(\n",
    "    lambda x: tuple(x.rstrip(\",\").split(\",\"))\n",
    ")\n",
    "# df = df[~df[\"cell_id\"].str.contains(\"GDNA\")]\n",
    "\n",
    "df = (\n",
    "    df[~df[[\"cell_id\", \"flowcell_index\"]].duplicated(keep=\"first\")]\n",
    "    .explode(\"flowcell_index\")\n",
    "    .reset_index(drop=True)\n",
    ")\n",
    "\n",
    "with open(\"../resources/bad_cells.txt\") as f:\n",
    "    bad_cells = set([line.strip().upper() for line in f.readlines()])\n",
    "\n",
    "# remove bad_cells\n",
    "df = df[~df[\"cell_id\"].isin(bad_cells)]\n",
    "df = (\n",
    "    df[[\"filename\", \"cell_id\", \"flowcell_index\", \"Read\"]]\n",
    "    .sort_values(\"cell_id\")\n",
    "    .reset_index(drop=True)\n",
    ")\n",
    "\n",
    "print(\n",
    "    f\"Loaded flowcell index for {df.filename.nunique()} files from {df.cell_id.nunique()} cells\"\n",
    ")\n",
    "if df.filename.nunique() != (2 * df.cell_id.nunique()):\n",
    "    print(\"Warning: not all files have unique cell_id\")\n",
    "else:\n",
    "    print(\"All files have unique cell_id!\")"
   ]
  },
  {
   "cell_type": "code",
   "execution_count": 79,
   "metadata": {},
   "outputs": [
    {
     "name": "stdout",
     "output_type": "stream",
     "text": [
      "Found 25 potential mixed cells from Eran's analysis\n",
      "Found 61 potential mixed cells from Meiyan's analysis\n"
     ]
    }
   ],
   "source": [
    "eran_cells = set(df[\"cell_id\"]).intersection(eran_cells)\n",
    "print(f\"Found {len(eran_cells)} potential mixed cells from Eran's analysis\")\n",
    "meiyan_cells = set(df[\"cell_id\"]).intersection(meiyan_cells)\n",
    "print(f\"Found {len(meiyan_cells)} potential mixed cells from Meiyan's analysis\")"
   ]
  },
  {
   "cell_type": "code",
   "execution_count": 80,
   "metadata": {},
   "outputs": [
    {
     "name": "stdout",
     "output_type": "stream",
     "text": [
      "n_files unique to n_flowcells:\n",
      "filename\n",
      "1    9914\n",
      "2      68\n",
      "Name: count, dtype: int64\n",
      "Found 136 files from 68 cells with shared flowcell indices\n"
     ]
    }
   ],
   "source": [
    "# flag cells if they share flowcell indices\n",
    "# find flowcells that have 1 or more files\n",
    "flowcells = df.groupby(\"flowcell_index\")[\"filename\"].nunique()\n",
    "print(\"n_files unique to n_flowcells:\")\n",
    "print(flowcells.value_counts().sort_index())\n",
    "flagged_flowcells = flowcells[flowcells > 1].index.tolist()\n",
    "\n",
    "flagged_files = (\n",
    "    df.groupby([\"filename\", \"cell_id\"])[\"flowcell_index\"]\n",
    "    .apply(lambda x: len(set(x).intersection(flagged_flowcells)))\n",
    "    .reset_index(name=\"n_shared_flowcells\")\n",
    "    .query(\"n_shared_flowcells > 0\")\n",
    ")\n",
    "\n",
    "print(\n",
    "    f\"Found {flagged_files.filename.nunique()} files from {flagged_files.cell_id.nunique()} cells with shared flowcell indices\"\n",
    ")"
   ]
  },
  {
   "cell_type": "code",
   "execution_count": 81,
   "metadata": {},
   "outputs": [
    {
     "name": "stdout",
     "output_type": "stream",
     "text": [
      "Found 17 potential mixed cells from Eran's analysis with shared flowcell indices\n",
      "Found 8 potential mixed cells from Eran's analysis without shared flowcell indices\n",
      "Found 51 potential mixed cells from my analysis not in Eran's analysis\n",
      "Found 3 potential mixed cells from Meiyan's analysis with shared flowcell indices\n",
      "Found 2 potential mixed cells in both analyses with shared flowcell indices\n"
     ]
    }
   ],
   "source": [
    "my_cells = set(flagged_files[\"cell_id\"])\n",
    "\n",
    "inter = my_cells.intersection(eran_cells)\n",
    "print(\n",
    "    f\"Found {len(inter)} potential mixed cells from Eran's analysis with shared flowcell indices\"\n",
    ")\n",
    "\n",
    "diff = eran_cells.difference(my_cells)\n",
    "print(\n",
    "    f\"Found {len(diff)} potential mixed cells from Eran's analysis without shared flowcell indices\"\n",
    ")\n",
    "\n",
    "diff = my_cells.difference(eran_cells)\n",
    "print(\n",
    "    f\"Found {len(diff)} potential mixed cells from my analysis not in Eran's analysis\"\n",
    ")\n",
    "\n",
    "inter = my_cells.intersection(meiyan_cells)\n",
    "print(\n",
    "    f\"Found {len(inter)} potential mixed cells from Meiyan's analysis with shared flowcell indices\"\n",
    ")\n",
    "\n",
    "inter = my_cells.intersection(meiyan_cells).intersection(eran_cells)\n",
    "print(\n",
    "    f\"Found {len(inter)} potential mixed cells in both analyses with shared flowcell indices\"\n",
    ")"
   ]
  },
  {
   "cell_type": "code",
   "execution_count": 82,
   "metadata": {},
   "outputs": [
    {
     "data": {
      "text/plain": [
       "flowcell_index\n",
       "1    5\n",
       "2    3\n",
       "Name: count, dtype: int64"
      ]
     },
     "execution_count": 82,
     "metadata": {},
     "output_type": "execute_result"
    }
   ],
   "source": [
    "my_df = (\n",
    "    df[df[\"cell_id\"].isin(eran_cells.difference(my_cells)) & (df[\"Read\"] == \"R1\")]\n",
    "    .groupby(\"flowcell_index\")[\"cell_id\"]\n",
    "    .nunique()\n",
    ")\n",
    "my_df.value_counts().sort_index()\n",
    "\n",
    "my_df = (\n",
    "    df[df[\"cell_id\"].isin(eran_cells.difference(my_cells)) & (df[\"Read\"] == \"R1\")]\n",
    "    .groupby(\"cell_id\")[\"flowcell_index\"]\n",
    "    .nunique()\n",
    ")\n",
    "my_df.value_counts().sort_index()"
   ]
  },
  {
   "cell_type": "code",
   "execution_count": 83,
   "metadata": {},
   "outputs": [
    {
     "name": "stdout",
     "output_type": "stream",
     "text": [
      "Found 8390 files with 9876 unique flowcell indices across 4195 cells\n"
     ]
    }
   ],
   "source": [
    "# how many files have a unique flowcell index?\n",
    "good_files = df[~df[\"filename\"].isin(flagged_files[\"filename\"])]\n",
    "print(\n",
    "    f\"Found {good_files.filename.nunique()} files with {good_files.flowcell_index.nunique()} unique flowcell indices across {good_files.cell_id.nunique()} cells\"\n",
    ")"
   ]
  },
  {
   "cell_type": "code",
   "execution_count": 84,
   "metadata": {},
   "outputs": [],
   "source": [
    "# how many files have a duplicated flowcell index?\n",
    "bad_files = df[df[\"filename\"].isin(flagged_files[\"filename\"])].copy()\n",
    "bad_files[\"bad_flowcell_index\"] = bad_files[\"flowcell_index\"].apply(\n",
    "    lambda x: x in flagged_flowcells\n",
    ")"
   ]
  },
  {
   "cell_type": "code",
   "execution_count": 85,
   "metadata": {},
   "outputs": [
    {
     "name": "stdout",
     "output_type": "stream",
     "text": [
      "Found 68 potential mixed cells in logg files\n"
     ]
    },
    {
     "data": {
      "text/html": [
       "<div>\n",
       "<style scoped>\n",
       "    .dataframe tbody tr th:only-of-type {\n",
       "        vertical-align: middle;\n",
       "    }\n",
       "\n",
       "    .dataframe tbody tr th {\n",
       "        vertical-align: top;\n",
       "    }\n",
       "\n",
       "    .dataframe thead th {\n",
       "        text-align: right;\n",
       "    }\n",
       "</style>\n",
       "<table border=\"1\" class=\"dataframe\">\n",
       "  <thead>\n",
       "    <tr style=\"text-align: right;\">\n",
       "      <th></th>\n",
       "      <th>filename</th>\n",
       "      <th>cell_id</th>\n",
       "      <th>flowcell_indices</th>\n",
       "      <th>flowcell_indices_to_remove</th>\n",
       "      <th>flowcell_indices_to_keep</th>\n",
       "      <th>outfile</th>\n",
       "    </tr>\n",
       "  </thead>\n",
       "  <tbody>\n",
       "    <tr>\n",
       "      <th>0</th>\n",
       "      <td>/iblm/logglun01/fqiu/AWS/for-ndar/SLAV-Seq/USD30/USD30_A3_S104_R1_001.fastq.gz</td>\n",
       "      <td>USD30_A3_S104</td>\n",
       "      <td>[@D00220 cdmmtanxx 4 1:N:0:CAGGCG, @D00220 cdmmtanxx 3 1:N:0:CGATGT]</td>\n",
       "      <td>@D00220 cdmmtanxx 4 1:N:0:CAGGCG</td>\n",
       "      <td>@D00220 cdmmtanxx 3 1:N:0:CGATGT</td>\n",
       "      <td>/iblm/netapp/data3/mcuoco/sz_slavseq/data/USD30_A3_S104_R1_001.fastq.gz</td>\n",
       "    </tr>\n",
       "    <tr>\n",
       "      <th>1</th>\n",
       "      <td>/iblm/logglun01/fqiu/AWS/for-ndar/SLAV-Seq/USD30/USD30_A3_S104_R2_001.fastq.gz</td>\n",
       "      <td>USD30_A3_S104</td>\n",
       "      <td>[@D00220 cdmmtanxx 4 2:N:0:CAGGCG, @D00220 cdmmtanxx 3 2:N:0:CGATGT]</td>\n",
       "      <td>@D00220 cdmmtanxx 4 2:N:0:CAGGCG</td>\n",
       "      <td>@D00220 cdmmtanxx 3 2:N:0:CGATGT</td>\n",
       "      <td>/iblm/netapp/data3/mcuoco/sz_slavseq/data/USD30_A3_S104_R2_001.fastq.gz</td>\n",
       "    </tr>\n",
       "    <tr>\n",
       "      <th>2</th>\n",
       "      <td>/iblm/logglun01/fqiu/AWS/for-ndar/SLAV-Seq/USD30/USD30_A4_S112_R2_001.fastq.gz</td>\n",
       "      <td>USD30_A4_S112</td>\n",
       "      <td>[@D00220 cdmmtanxx 4 2:N:0:GCGCTA, @D00220 cdmmtanxx 3 2:N:0:ACTTGA]</td>\n",
       "      <td>@D00220 cdmmtanxx 4 2:N:0:GCGCTA</td>\n",
       "      <td>@D00220 cdmmtanxx 3 2:N:0:ACTTGA</td>\n",
       "      <td>/iblm/netapp/data3/mcuoco/sz_slavseq/data/USD30_A4_S112_R2_001.fastq.gz</td>\n",
       "    </tr>\n",
       "    <tr>\n",
       "      <th>3</th>\n",
       "      <td>/iblm/logglun01/fqiu/AWS/for-ndar/SLAV-Seq/USD30/USD30_A4_S112_R1_001.fastq.gz</td>\n",
       "      <td>USD30_A4_S112</td>\n",
       "      <td>[@D00220 cdmmtanxx 3 1:N:0:ACTTGA, @D00220 cdmmtanxx 4 1:N:0:GCGCTA]</td>\n",
       "      <td>@D00220 cdmmtanxx 4 1:N:0:GCGCTA</td>\n",
       "      <td>@D00220 cdmmtanxx 3 1:N:0:ACTTGA</td>\n",
       "      <td>/iblm/netapp/data3/mcuoco/sz_slavseq/data/USD30_A4_S112_R1_001.fastq.gz</td>\n",
       "    </tr>\n",
       "    <tr>\n",
       "      <th>4</th>\n",
       "      <td>/iblm/logglun01/fqiu/AWS/for-ndar/SLAV-Seq/USD30/USD30_B4_S113_R2_001.fastq.gz</td>\n",
       "      <td>USD30_B4_S113</td>\n",
       "      <td>[@D00220 cdmmtanxx 3 2:N:0:GATCAG, @D00220 cdmmtanxx 4 2:N:0:TAATCG]</td>\n",
       "      <td>@D00220 cdmmtanxx 4 2:N:0:TAATCG</td>\n",
       "      <td>@D00220 cdmmtanxx 3 2:N:0:GATCAG</td>\n",
       "      <td>/iblm/netapp/data3/mcuoco/sz_slavseq/data/USD30_B4_S113_R2_001.fastq.gz</td>\n",
       "    </tr>\n",
       "  </tbody>\n",
       "</table>\n",
       "</div>"
      ],
      "text/plain": [
       "                                                                         filename  \\\n",
       "0  /iblm/logglun01/fqiu/AWS/for-ndar/SLAV-Seq/USD30/USD30_A3_S104_R1_001.fastq.gz   \n",
       "1  /iblm/logglun01/fqiu/AWS/for-ndar/SLAV-Seq/USD30/USD30_A3_S104_R2_001.fastq.gz   \n",
       "2  /iblm/logglun01/fqiu/AWS/for-ndar/SLAV-Seq/USD30/USD30_A4_S112_R2_001.fastq.gz   \n",
       "3  /iblm/logglun01/fqiu/AWS/for-ndar/SLAV-Seq/USD30/USD30_A4_S112_R1_001.fastq.gz   \n",
       "4  /iblm/logglun01/fqiu/AWS/for-ndar/SLAV-Seq/USD30/USD30_B4_S113_R2_001.fastq.gz   \n",
       "\n",
       "         cell_id  \\\n",
       "0  USD30_A3_S104   \n",
       "1  USD30_A3_S104   \n",
       "2  USD30_A4_S112   \n",
       "3  USD30_A4_S112   \n",
       "4  USD30_B4_S113   \n",
       "\n",
       "                                                       flowcell_indices  \\\n",
       "0  [@D00220 cdmmtanxx 4 1:N:0:CAGGCG, @D00220 cdmmtanxx 3 1:N:0:CGATGT]   \n",
       "1  [@D00220 cdmmtanxx 4 2:N:0:CAGGCG, @D00220 cdmmtanxx 3 2:N:0:CGATGT]   \n",
       "2  [@D00220 cdmmtanxx 4 2:N:0:GCGCTA, @D00220 cdmmtanxx 3 2:N:0:ACTTGA]   \n",
       "3  [@D00220 cdmmtanxx 3 1:N:0:ACTTGA, @D00220 cdmmtanxx 4 1:N:0:GCGCTA]   \n",
       "4  [@D00220 cdmmtanxx 3 2:N:0:GATCAG, @D00220 cdmmtanxx 4 2:N:0:TAATCG]   \n",
       "\n",
       "         flowcell_indices_to_remove          flowcell_indices_to_keep  \\\n",
       "0  @D00220 cdmmtanxx 4 1:N:0:CAGGCG  @D00220 cdmmtanxx 3 1:N:0:CGATGT   \n",
       "1  @D00220 cdmmtanxx 4 2:N:0:CAGGCG  @D00220 cdmmtanxx 3 2:N:0:CGATGT   \n",
       "2  @D00220 cdmmtanxx 4 2:N:0:GCGCTA  @D00220 cdmmtanxx 3 2:N:0:ACTTGA   \n",
       "3  @D00220 cdmmtanxx 4 1:N:0:GCGCTA  @D00220 cdmmtanxx 3 1:N:0:ACTTGA   \n",
       "4  @D00220 cdmmtanxx 4 2:N:0:TAATCG  @D00220 cdmmtanxx 3 2:N:0:GATCAG   \n",
       "\n",
       "                                                                   outfile  \n",
       "0  /iblm/netapp/data3/mcuoco/sz_slavseq/data/USD30_A3_S104_R1_001.fastq.gz  \n",
       "1  /iblm/netapp/data3/mcuoco/sz_slavseq/data/USD30_A3_S104_R2_001.fastq.gz  \n",
       "2  /iblm/netapp/data3/mcuoco/sz_slavseq/data/USD30_A4_S112_R2_001.fastq.gz  \n",
       "3  /iblm/netapp/data3/mcuoco/sz_slavseq/data/USD30_A4_S112_R1_001.fastq.gz  \n",
       "4  /iblm/netapp/data3/mcuoco/sz_slavseq/data/USD30_B4_S113_R2_001.fastq.gz  "
      ]
     },
     "execution_count": 85,
     "metadata": {},
     "output_type": "execute_result"
    }
   ],
   "source": [
    "res = []\n",
    "before = []\n",
    "\n",
    "for f in bad_files[bad_files[\"bad_flowcell_index\"]][\"flowcell_index\"].unique():\n",
    "    files = bad_files.query(\"flowcell_index == @f\")[\"filename\"].unique()\n",
    "    my_df = bad_files.query(\"filename in @files\")\n",
    "    # print(f\"Flowcell {f} was found across {my_df.shape[0]} files\")\n",
    "    # print(f\"{my_df.shape[0]} files with flowcell {f} have {my_df.flowcell_index.nunique()} unique flowcells\")\n",
    "    if my_df.flowcell_index.nunique() == 1:\n",
    "        res.append(\n",
    "            {\n",
    "                \"filename\": my_df.filename.values[0],\n",
    "                \"cell_id\": my_df.cell_id.values[0],\n",
    "                \"flowcell_indices\": f,\n",
    "                \"flowcell_indices_to_remove\": None,\n",
    "                \"flowcell_indices_to_keep\": f,\n",
    "                \"outfile\": \"../data/\" + Path(my_df.filename.values[0]).name,\n",
    "            }\n",
    "        )\n",
    "    else:\n",
    "        assert my_df.shape[0] == 3, f\"flowcell {f} has {my_df.shape[0]} rows\"\n",
    "        my_df_files = my_df.groupby(\"filename\").size()\n",
    "        file_with_multiple = my_df_files[my_df_files > 1].index.tolist()[0]\n",
    "        file_with_one = my_df_files[my_df_files == 1].index.tolist()[0]\n",
    "        flowcell_all = my_df.query(\"filename == @file_with_multiple\")[\n",
    "            \"flowcell_index\"\n",
    "        ].values\n",
    "        flowcell_to_remove = my_df.query(\"filename == @file_with_one\")[\n",
    "            \"flowcell_index\"\n",
    "        ].values[0]\n",
    "        res.append(\n",
    "            {\n",
    "                \"filename\": file_with_multiple,\n",
    "                \"cell_id\": my_df.query(\"filename == @file_with_multiple\")[\n",
    "                    \"cell_id\"\n",
    "                ].values[0],\n",
    "                \"flowcell_indices\": flowcell_all,\n",
    "                \"flowcell_indices_to_remove\": flowcell_to_remove,\n",
    "                \"flowcell_indices_to_keep\": list(\n",
    "                    set(flowcell_all) - set([flowcell_to_remove])\n",
    "                )[0],\n",
    "                \"outfile\": \"../data/\" + Path(file_with_multiple).name,\n",
    "            }\n",
    "        )\n",
    "    before.append(my_df)\n",
    "res = pd.DataFrame.from_records(res)\n",
    "res[\"outfile\"] = res.outfile.apply(lambda x: str(Path(x).resolve()))\n",
    "before = pd.concat(before)\n",
    "my_cells = set(before.cell_id)\n",
    "print(f\"Found {len(my_cells)} potential mixed cells in logg files\")\n",
    "res.head()"
   ]
  },
  {
   "cell_type": "code",
   "execution_count": 86,
   "metadata": {},
   "outputs": [
    {
     "data": {
      "text/plain": [
       "<matplotlib_venn._common.VennDiagram at 0x7f636e108440>"
      ]
     },
     "execution_count": 86,
     "metadata": {},
     "output_type": "execute_result"
    },
    {
     "data": {
      "image/png": "[encoded data removed]",
      "text/plain": [
       "<Figure size 640x480 with 1 Axes>"
      ]
     },
     "metadata": {},
     "output_type": "display_data"
    }
   ],
   "source": [
    "# make venn diagram with eran and meiyan cells\n",
    "import matplotlib.pyplot as plt\n",
    "from matplotlib_venn import venn3\n",
    "\n",
    "venn3([eran_cells, meiyan_cells, my_cells], set_labels=(\"Eran\", \"Meiyan\", \"Mike\"))"
   ]
  },
  {
   "cell_type": "code",
   "execution_count": 87,
   "metadata": {},
   "outputs": [
    {
     "name": "stdout",
     "output_type": "stream",
     "text": [
      "skipping /iblm/netapp/data3/mcuoco/sz_slavseq/data/USD30_A3_S104_R1_001.fastq.gz\n",
      "skipping /iblm/netapp/data3/mcuoco/sz_slavseq/data/USD30_A3_S104_R2_001.fastq.gz\n",
      "skipping /iblm/netapp/data3/mcuoco/sz_slavseq/data/USD30_A4_S112_R2_001.fastq.gz\n",
      "skipping /iblm/netapp/data3/mcuoco/sz_slavseq/data/USD30_A4_S112_R1_001.fastq.gz\n",
      "skipping /iblm/netapp/data3/mcuoco/sz_slavseq/data/USD30_B4_S113_R2_001.fastq.gz\n",
      "skipping /iblm/netapp/data3/mcuoco/sz_slavseq/data/USD30_B4_S113_R1_001.fastq.gz\n",
      "skipping /iblm/netapp/data3/mcuoco/sz_slavseq/data/USD30_C4_S114_R2_001.fastq.gz\n",
      "skipping /iblm/netapp/data3/mcuoco/sz_slavseq/data/USD30_C4_S114_R1_001.fastq.gz\n",
      "skipping /iblm/netapp/data3/mcuoco/sz_slavseq/data/USD30_F4_S117_R2_001.fastq.gz\n",
      "skipping /iblm/netapp/data3/mcuoco/sz_slavseq/data/USD30_F4_S117_R1_001.fastq.gz\n",
      "skipping /iblm/netapp/data3/mcuoco/sz_slavseq/data/USH11_A5_S75_R1_001.fastq.gz\n",
      "skipping /iblm/netapp/data3/mcuoco/sz_slavseq/data/USH11_A5_S75_R2_001.fastq.gz\n",
      "skipping /iblm/netapp/data3/mcuoco/sz_slavseq/data/USH11_A6_S82_R2_001.fastq.gz\n",
      "skipping /iblm/netapp/data3/mcuoco/sz_slavseq/data/USH11_A6_S82_R1_001.fastq.gz\n",
      "skipping /iblm/netapp/data3/mcuoco/sz_slavseq/data/USH11_B5_S76_R1_001.fastq.gz\n",
      "skipping /iblm/netapp/data3/mcuoco/sz_slavseq/data/USH11_B5_S76_R2_001.fastq.gz\n",
      "skipping /iblm/netapp/data3/mcuoco/sz_slavseq/data/USH11_B6_S83_R1_001.fastq.gz\n",
      "skipping /iblm/netapp/data3/mcuoco/sz_slavseq/data/USH11_B6_S83_R2_001.fastq.gz\n",
      "skipping /iblm/netapp/data3/mcuoco/sz_slavseq/data/USH11_C6_S84_R1_001.fastq.gz\n",
      "skipping /iblm/netapp/data3/mcuoco/sz_slavseq/data/USH11_C6_S84_R2_001.fastq.gz\n",
      "skipping /iblm/netapp/data3/mcuoco/sz_slavseq/data/USH11_D5_S78_R2_001.fastq.gz\n",
      "skipping /iblm/netapp/data3/mcuoco/sz_slavseq/data/USH11_D5_S78_R1_001.fastq.gz\n",
      "skipping /iblm/netapp/data3/mcuoco/sz_slavseq/data/USH11_D6_S85_R1_001.fastq.gz\n",
      "skipping /iblm/netapp/data3/mcuoco/sz_slavseq/data/USH11_D6_S85_R2_001.fastq.gz\n",
      "skipping /iblm/netapp/data3/mcuoco/sz_slavseq/data/USH11_E6_S86_R2_001.fastq.gz\n",
      "skipping /iblm/netapp/data3/mcuoco/sz_slavseq/data/USH11_E6_S86_R1_001.fastq.gz\n",
      "skipping /iblm/netapp/data3/mcuoco/sz_slavseq/data/USH11_F6_S87_R1_001.fastq.gz\n",
      "skipping /iblm/netapp/data3/mcuoco/sz_slavseq/data/USH11_F6_S87_R2_001.fastq.gz\n",
      "skipping /iblm/netapp/data3/mcuoco/sz_slavseq/data/USH11_G5_S80_R2_001.fastq.gz\n",
      "skipping /iblm/netapp/data3/mcuoco/sz_slavseq/data/USH11_G5_S80_R1_001.fastq.gz\n",
      "skipping /iblm/netapp/data3/mcuoco/sz_slavseq/data/USH11_G6_S88_R1_001.fastq.gz\n",
      "skipping /iblm/netapp/data3/mcuoco/sz_slavseq/data/USH11_G6_S88_R2_001.fastq.gz\n",
      "skipping /iblm/netapp/data3/mcuoco/sz_slavseq/data/ush24_A7_S227_R2_001.fastq.gz\n",
      "skipping /iblm/netapp/data3/mcuoco/sz_slavseq/data/ush24_A7_S227_R1_001.fastq.gz\n",
      "skipping /iblm/netapp/data3/mcuoco/sz_slavseq/data/ush24_A8_S234_R1_001.fastq.gz\n",
      "skipping /iblm/netapp/data3/mcuoco/sz_slavseq/data/ush24_A8_S234_R2_001.fastq.gz\n",
      "skipping /iblm/netapp/data3/mcuoco/sz_slavseq/data/ush24_C7_S228_R1_001.fastq.gz\n",
      "skipping /iblm/netapp/data3/mcuoco/sz_slavseq/data/ush24_C7_S228_R2_001.fastq.gz\n",
      "skipping /iblm/netapp/data3/mcuoco/sz_slavseq/data/ush24_C8_S235_R2_001.fastq.gz\n",
      "skipping /iblm/netapp/data3/mcuoco/sz_slavseq/data/ush24_C8_S235_R1_001.fastq.gz\n",
      "skipping /iblm/netapp/data3/mcuoco/sz_slavseq/data/ush24_D7_S229_R2_001.fastq.gz\n",
      "skipping /iblm/netapp/data3/mcuoco/sz_slavseq/data/ush24_D7_S229_R1_001.fastq.gz\n",
      "skipping /iblm/netapp/data3/mcuoco/sz_slavseq/data/ush24_D8_S236_R2_001.fastq.gz\n",
      "skipping /iblm/netapp/data3/mcuoco/sz_slavseq/data/ush24_D8_S236_R1_001.fastq.gz\n",
      "skipping /iblm/netapp/data3/mcuoco/sz_slavseq/data/ush24_E7_S230_R1_001.fastq.gz\n",
      "skipping /iblm/netapp/data3/mcuoco/sz_slavseq/data/ush24_E7_S230_R2_001.fastq.gz\n",
      "skipping /iblm/netapp/data3/mcuoco/sz_slavseq/data/ush24_E8_S237_R2_001.fastq.gz\n",
      "skipping /iblm/netapp/data3/mcuoco/sz_slavseq/data/ush24_E8_S237_R1_001.fastq.gz\n",
      "skipping /iblm/netapp/data3/mcuoco/sz_slavseq/data/ush24_F7_S231_R2_001.fastq.gz\n",
      "skipping /iblm/netapp/data3/mcuoco/sz_slavseq/data/ush24_F7_S231_R1_001.fastq.gz\n",
      "skipping /iblm/netapp/data3/mcuoco/sz_slavseq/data/ush24_F8_S238_R2_001.fastq.gz\n",
      "skipping /iblm/netapp/data3/mcuoco/sz_slavseq/data/ush24_F8_S238_R1_001.fastq.gz\n",
      "skipping /iblm/netapp/data3/mcuoco/sz_slavseq/data/ush24_G7_S232_R1_001.fastq.gz\n",
      "skipping /iblm/netapp/data3/mcuoco/sz_slavseq/data/ush24_G7_S232_R2_001.fastq.gz\n",
      "skipping /iblm/netapp/data3/mcuoco/sz_slavseq/data/ush24_G8_S239_R1_001.fastq.gz\n",
      "skipping /iblm/netapp/data3/mcuoco/sz_slavseq/data/ush24_G8_S239_R2_001.fastq.gz\n",
      "skipping /iblm/netapp/data3/mcuoco/sz_slavseq/data/ush24_H7_S233_R1_001.fastq.gz\n",
      "skipping /iblm/netapp/data3/mcuoco/sz_slavseq/data/ush24_H7_S233_R2_001.fastq.gz\n",
      "skipping /iblm/netapp/data3/mcuoco/sz_slavseq/data/ush24_H8_S240_R1_001.fastq.gz\n",
      "skipping /iblm/netapp/data3/mcuoco/sz_slavseq/data/ush24_H8_S240_R2_001.fastq.gz\n",
      "skipping /iblm/netapp/data3/mcuoco/sz_slavseq/data/USH25_D2_S12_R1_001.fastq.gz\n",
      "skipping /iblm/netapp/data3/mcuoco/sz_slavseq/data/USH25_D2_S12_R2_001.fastq.gz\n",
      "skipping /iblm/netapp/data3/mcuoco/sz_slavseq/data/USH25_F2_S14_R2_001.fastq.gz\n",
      "skipping /iblm/netapp/data3/mcuoco/sz_slavseq/data/USH25_F2_S14_R1_001.fastq.gz\n",
      "skipping /iblm/netapp/data3/mcuoco/sz_slavseq/data/USH25_G2_S15_R1_001.fastq.gz\n",
      "skipping /iblm/netapp/data3/mcuoco/sz_slavseq/data/USH25_G2_S15_R2_001.fastq.gz\n",
      "skipping /iblm/netapp/data3/mcuoco/sz_slavseq/data/USH25_H2_S131_R1_001.fastq.gz\n",
      "skipping /iblm/netapp/data3/mcuoco/sz_slavseq/data/USH25_H2_S131_R2_001.fastq.gz\n"
     ]
    }
   ],
   "source": [
    "# fix the files\n",
    "for row in res.itertuples():\n",
    "    if Path(row.outfile).exists():\n",
    "        print(f\"skipping {row.outfile}\")\n",
    "        continue\n",
    "    cmd = f\"zcat {row.filename} | grep -A 3 '{row.flowcell_indices_to_keep.split(' ')[-1]}' | gzip -c > {row.outfile}\"\n",
    "    print(f\"running: {cmd}\")\n",
    "    !{cmd}"
   ]
  },
  {
   "cell_type": "code",
   "execution_count": 88,
   "metadata": {},
   "outputs": [],
   "source": [
    "# save new samplesheet\n",
    "meta = pd.read_csv(\"slavseq_metadata.tsv\", sep=\"\\t\").drop(\n",
    "    [\"MDA_PERFORMED\", \"BULK_PERFORMED\"], axis=1\n",
    ")\n",
    "meta.columns = meta.columns.str.lower()\n",
    "meta.set_index(\"tissue_id\", inplace=True)\n",
    "meta.loc[\"CommonBrain\", \"libd_id\"] = \"CommonBrain\"\n",
    "\n",
    "\n",
    "out = (\n",
    "    good_files.drop(columns=[\"Read\", \"flowcell_index\"])\n",
    "    .drop_duplicates()\n",
    "    .to_dict(orient=\"records\")\n",
    ")\n",
    "for r in res.itertuples():\n",
    "    out.append({\"filename\": r.outfile, \"cell_id\": r.cell_id})\n",
    "\n",
    "out = pd.DataFrame.from_records(out)\n",
    "out = pd.DataFrame.from_records([dict(fields(x)) for x in out[\"filename\"]]).merge(\n",
    "    out, on=\"filename\"\n",
    ")\n",
    "# unstack read1 and read2\n",
    "out = (\n",
    "    out.pivot(\n",
    "        columns=\"read\",\n",
    "        values=\"filename\",\n",
    "        index=[\"pair_id\", \"individual\", \"dna_type\", \"tissue_id\"],\n",
    "    )\n",
    "    .reset_index()\n",
    "    .rename(columns={\"pair_id\": \"sample_id\", \"individual\": \"donor_id\"})\n",
    "    .dropna(subset=[\"R1\", \"R2\"])\n",
    ")\n",
    "\n",
    "# switch gdna 13 and 14 to fix sample swap issue\n",
    "out.loc[out[\"sample_id\"] == \"gDNA_usd13\", \"donor_id\"] = \"14\"\n",
    "out.loc[out[\"sample_id\"] == \"gDNA_usd13\", \"tissue_id\"] = \"USD14\"\n",
    "out.loc[out[\"sample_id\"] == \"gDNA_usd14\", \"donor_id\"] = \"13\"\n",
    "out.loc[out[\"sample_id\"] == \"gDNA_usd14\", \"tissue_id\"] = \"USD13\"\n",
    "out.loc[\n",
    "    (out[\"dna_type\"] == \"bulk\") & (out[\"tissue_id\"] == \"USD14\"), \"sample_id\"\n",
    "] = \"gDNA_usd14\"\n",
    "out.loc[\n",
    "    (out[\"dna_type\"] == \"bulk\") & (out[\"tissue_id\"] == \"USD13\"), \"sample_id\"\n",
    "] = \"gDNA_usd13\"\n",
    "\n",
    "out.join(meta, on=\"tissue_id\").to_csv(\"all_samples.tsv\", sep=\"\\t\", index=False)"
   ]
  }
 ],
 "metadata": {
  "kernelspec": {
   "display_name": "base",
   "language": "python",
   "name": "python3"
  },
  "language_info": {
   "codemirror_mode": {
    "name": "ipython",
    "version": 3
   },
   "file_extension": ".py",
   "mimetype": "text/x-python",
   "name": "python",
   "nbconvert_exporter": "python",
   "pygments_lexer": "ipython3",
   "version": "3.12.4"
  },
  "orig_nbformat": 4
 },
 "nbformat": 4,
 "nbformat_minor": 2
}
