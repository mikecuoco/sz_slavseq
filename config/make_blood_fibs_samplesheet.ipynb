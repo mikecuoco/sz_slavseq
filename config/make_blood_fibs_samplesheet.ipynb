{
 "cells": [
  {
   "cell_type": "code",
   "execution_count": 34,
   "metadata": {},
   "outputs": [],
   "source": [
    "import pandas as pd\n",
    "\n",
    "df = pd.read_excel(\n",
    "    \"U01_LIBD_21pairs_42brains_fastq-filenames_08072019.xlsx\", skiprows=4, usecols=\"B:T\"\n",
    ")\n",
    "df.rename(columns={\"Unnamed: 2\": \"libd_id\"}, inplace=True)\n",
    "donors = pd.read_csv(\"all_donors.tsv\", sep=\"\\t\")\n",
    "df[df[\"libd_id\"].isin(donors[\"libd_id\"])].to_excel(\n",
    "    \"donors_with_blood_fibs.xlsx\", index=False\n",
    ")"
   ]
  }
 ],
 "metadata": {
  "kernelspec": {
   "display_name": "Python 3",
   "language": "python",
   "name": "python3"
  },
  "language_info": {
   "codemirror_mode": {
    "name": "ipython",
    "version": 3
   },
   "file_extension": ".py",
   "mimetype": "text/x-python",
   "name": "python",
   "nbconvert_exporter": "python",
   "pygments_lexer": "ipython3",
   "version": "3.12.4"
  }
 },
 "nbformat": 4,
 "nbformat_minor": 2
}
